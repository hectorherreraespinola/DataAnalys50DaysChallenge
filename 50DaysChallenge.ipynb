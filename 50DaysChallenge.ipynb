{
 "cells": [
  {
   "metadata": {
    "ExecuteTime": {
     "end_time": "2025-05-01T10:28:16.536874Z",
     "start_time": "2025-05-01T10:28:16.534418Z"
    }
   },
   "cell_type": "code",
   "source": [
    "from datetime import datetime\n",
    "\n",
    "import pandas as pd\n",
    "import numpy as np\n",
    "import pandas as pd\n",
    "import matplotlib.pyplot as plt\n",
    "import seaborn as sns\n",
    "import openpyxl"
   ],
   "id": "446b7e786c9dd872",
   "outputs": [],
   "execution_count": 1661
  },
  {
   "metadata": {},
   "cell_type": "markdown",
   "source": [
    "### Day 1\n",
    "Essentials of NumPy, Pandas,\n",
    "and Matplotlib"
   ],
   "id": "40946faa01a9a54"
  },
  {
   "metadata": {},
   "cell_type": "markdown",
   "source": [
    "### Day 2\n",
    "Creating and Manipulating Arrays"
   ],
   "id": "ef8b2ac556a009be"
  },
  {
   "metadata": {
    "ExecuteTime": {
     "end_time": "2025-05-01T10:28:16.555241Z",
     "start_time": "2025-05-01T10:28:16.553436Z"
    }
   },
   "cell_type": "code",
   "source": [
    "#Write code to import NumPy into your script. Check the version of NumPy installed.\n",
    "print(\"The version of numpy is\" , np.__version__)"
   ],
   "id": "6c5b4230730863eb",
   "outputs": [
    {
     "name": "stdout",
     "output_type": "stream",
     "text": [
      "The version of numpy is 2.0.2\n"
     ]
    }
   ],
   "execution_count": 1662
  },
  {
   "metadata": {
    "ExecuteTime": {
     "end_time": "2025-05-01T10:28:16.583652Z",
     "start_time": "2025-05-01T10:28:16.581695Z"
    }
   },
   "cell_type": "code",
   "source": [
    "#Here is a list below:\n",
    "list1 = [2, 3, 4, 6]\n",
    "#Create a one-dimensional array from the list above. Write another line of code to check the shape and size of your array.\n",
    "list1 = np.array(list1)\n",
    "list1.shape\n"
   ],
   "id": "19168a7848474281",
   "outputs": [
    {
     "data": {
      "text/plain": [
       "(4,)"
      ]
     },
     "execution_count": 1663,
     "metadata": {},
     "output_type": "execute_result"
    }
   ],
   "execution_count": 1663
  },
  {
   "metadata": {
    "ExecuteTime": {
     "end_time": "2025-05-01T10:28:16.605552Z",
     "start_time": "2025-05-01T10:28:16.603719Z"
    }
   },
   "cell_type": "code",
   "source": [
    "#Write a function that takes this array and returns a new array with all the values in the original array reversed.\n",
    "def reversed_array(list1):\n",
    "    new_array  = np.flip(list1)\n",
    "    print(new_array)\n",
    "\n",
    "reversed_array(list1)"
   ],
   "id": "c1a41eb3bc8dbe90",
   "outputs": [
    {
     "name": "stdout",
     "output_type": "stream",
     "text": [
      "[6 4 3 2]\n"
     ]
    }
   ],
   "execution_count": 1664
  },
  {
   "metadata": {
    "ExecuteTime": {
     "end_time": "2025-05-01T10:28:16.622826Z",
     "start_time": "2025-05-01T10:28:16.621132Z"
    }
   },
   "cell_type": "code",
   "source": [
    "#Create an array from the two lists above. Then write code to check the shape, dimensions, and data type of the array.\n",
    "list1 = [2, 3, 4, 6]\n",
    "list2 = [8, 10, 12, 14]\n",
    "\n",
    "new_array = np.array([list1,list2])\n",
    "\n",
    "print(\"Shape of the array:\", new_array.shape)\n",
    "print(\"Number of dimensions:\", new_array.ndim)\n",
    "print(\"Data type of the array:\", new_array.dtype)"
   ],
   "id": "50bb6156fa3ac02",
   "outputs": [
    {
     "name": "stdout",
     "output_type": "stream",
     "text": [
      "Shape of the array: (2, 4)\n",
      "Number of dimensions: 2\n",
      "Data type of the array: int64\n"
     ]
    }
   ],
   "execution_count": 1665
  },
  {
   "metadata": {
    "ExecuteTime": {
     "end_time": "2025-05-01T10:28:16.650061Z",
     "start_time": "2025-05-01T10:28:16.648236Z"
    }
   },
   "cell_type": "code",
   "source": [
    "#Create an array from the three (3) lists above. Take note that some of the lists contain floats. Create an array that will have an int64 data type.\n",
    "\n",
    "list1 = [2, 3, 4, 6]\n",
    "list2 = [8, 10.1, 12, 14]\n",
    "list3 = [16, 18, 20, 22.1]\n",
    "\n",
    "\n",
    "new_array = np.array([list1, list2, list3], dtype=np.int64)\n",
    "\n",
    "print(\"Array with int64 data type:\\n\", new_array)\n",
    "print(\"Data type of the array:\", new_array.dtype)"
   ],
   "id": "80c44ab72d3dcaec",
   "outputs": [
    {
     "name": "stdout",
     "output_type": "stream",
     "text": [
      "Array with int64 data type:\n",
      " [[ 2  3  4  6]\n",
      " [ 8 10 12 14]\n",
      " [16 18 20 22]]\n",
      "Data type of the array: int64\n"
     ]
    }
   ],
   "execution_count": 1666
  },
  {
   "metadata": {},
   "cell_type": "markdown",
   "source": [
    "Is it possible to create an array of both floats and integers?\n",
    "\n",
    "No, numpy just can take one data type per array"
   ],
   "id": "ef6b1f45ad4443f2"
  },
  {
   "metadata": {},
   "cell_type": "markdown",
   "source": [
    "### Day 3\n",
    "Generating Random Arrays.\n",
    "\n",
    "In this challenge, you are going to generate an array with\n",
    "some random numbers using NumPy, and create some\n",
    "visualizations using Matplotlib."
   ],
   "id": "999916d301dc5a51"
  },
  {
   "metadata": {
    "ExecuteTime": {
     "end_time": "2025-05-01T10:28:16.677121Z",
     "start_time": "2025-05-01T10:28:16.675034Z"
    }
   },
   "cell_type": "code",
   "source": [
    "#Using NumPy create an array of random numbers between 0 and 1. The shape of the array must be (3, 4). Use seed to ensure that the results are reproducible.\n",
    "\n",
    "np.random.seed(10\n",
    "               )\n",
    "array = np.random.rand(3,4)\n",
    "array"
   ],
   "id": "b9699541431364fe",
   "outputs": [
    {
     "data": {
      "text/plain": [
       "array([[0.77132064, 0.02075195, 0.63364823, 0.74880388],\n",
       "       [0.49850701, 0.22479665, 0.19806286, 0.76053071],\n",
       "       [0.16911084, 0.08833981, 0.68535982, 0.95339335]])"
      ]
     },
     "execution_count": 1667,
     "metadata": {},
     "output_type": "execute_result"
    }
   ],
   "execution_count": 1667
  },
  {
   "metadata": {
    "ExecuteTime": {
     "end_time": "2025-05-01T10:28:16.710744Z",
     "start_time": "2025-05-01T10:28:16.708713Z"
    }
   },
   "cell_type": "code",
   "source": [
    "#Create an array of random integers between 0 and 10. The shape of the array must be (3, 4).\n",
    "np.random.seed(1)\n",
    "array = np.random.randint(1,10, size = (3,4))\n",
    "array"
   ],
   "id": "90fce8ced68cc2ca",
   "outputs": [
    {
     "data": {
      "text/plain": [
       "array([[6, 9, 6, 1],\n",
       "       [1, 2, 8, 7],\n",
       "       [3, 5, 6, 3]])"
      ]
     },
     "execution_count": 1668,
     "metadata": {},
     "output_type": "execute_result"
    }
   ],
   "execution_count": 1668
  },
  {
   "metadata": {
    "ExecuteTime": {
     "end_time": "2025-05-01T10:28:16.783211Z",
     "start_time": "2025-05-01T10:28:16.753642Z"
    }
   },
   "cell_type": "code",
   "source": [
    "# Using NumPy, generate an array of 1000 random numbers from a standard normal distribution with a mean of 0 and a variance of 1. Create a histogram with this array. Use the seed parameter to ensure the results are reproducible.\n",
    "\n",
    "np.random.seed(2)\n",
    "array = np.random.randn(1000)\n",
    "array\n",
    "\n",
    "plt.hist(array)\n",
    "plt.show()\n"
   ],
   "id": "a7623088acc8651e",
   "outputs": [
    {
     "data": {
      "text/plain": [
       "<Figure size 200x200 with 1 Axes>"
      ],
      "image/png": "[encoded data removed]"
     },
     "metadata": {},
     "output_type": "display_data"
    }
   ],
   "execution_count": 1669
  },
  {
   "metadata": {
    "ExecuteTime": {
     "end_time": "2025-05-01T10:28:16.844848Z",
     "start_time": "2025-05-01T10:28:16.842579Z"
    }
   },
   "cell_type": "code",
   "source": [
    "# Using random.choice() from NumPy, generate an array fom the list above. The shape of the array must be (3, 4).\n",
    "arr = [ \"Orange\", \"Apple\", \"Pear\"]\n",
    "\n",
    "array = np.random.choice(arr, size=(3,4))\n",
    "array"
   ],
   "id": "5108b986b7c7b8f3",
   "outputs": [
    {
     "data": {
      "text/plain": [
       "array([['Apple', 'Orange', 'Orange', 'Apple'],\n",
       "       ['Orange', 'Apple', 'Orange', 'Pear'],\n",
       "       ['Apple', 'Pear', 'Pear', 'Pear']], dtype='<U6')"
      ]
     },
     "execution_count": 1670,
     "metadata": {},
     "output_type": "execute_result"
    }
   ],
   "execution_count": 1670
  },
  {
   "metadata": {},
   "cell_type": "markdown",
   "source": [
    "### Day 4\n",
    "\n",
    "NumPy Arrays and Vector Operations\n",
    "\n",
    "In this challenge, you will create arrays and perform vector operations with them. These operations are an important feature of NumPy that makes it popular for scientific and\n",
    "numerical computing."
   ],
   "id": "31697b2a23360d95"
  },
  {
   "metadata": {
    "ExecuteTime": {
     "end_time": "2025-05-01T10:28:16.886075Z",
     "start_time": "2025-05-01T10:28:16.884306Z"
    }
   },
   "cell_type": "code",
   "source": [
    "#Create two arrays of random integers between 10 and 20. The shape of the array must be (2, 3) for the first array and (1, 3) for the second array. Check the shape of the arrays. Ensure that the results are reproducible.\n",
    "np.random.seed(4)\n",
    "array1 = np.random.randint(10,20,size=(2,3))\n",
    "array2 = np.random.randint(10,20, size = (1,3))\n",
    "print(\"Shape Array1: \", array1.shape)\n",
    "print(\"Shape Array2: \",array2.shape)"
   ],
   "id": "1a6178ff02cc48dc",
   "outputs": [
    {
     "name": "stdout",
     "output_type": "stream",
     "text": [
      "Shape Array1:  (2, 3)\n",
      "Shape Array2:  (1, 3)\n"
     ]
    }
   ],
   "execution_count": 1671
  },
  {
   "metadata": {
    "ExecuteTime": {
     "end_time": "2025-05-01T10:28:16.944551Z",
     "start_time": "2025-05-01T10:28:16.942797Z"
    }
   },
   "cell_type": "code",
   "source": [
    "#Write a code to add the two arrays you just created in question 1. Check the shape of the resulting array. Explain why the resulting shape is that of the bigger array from the two arrays created in question 1.\n",
    "array3 = np.add(array1,array2)\n",
    "print(array3.shape)\n",
    "\n",
    "print(\"The resulting shape is that of the bigger array (array1) because of NumPy's broadcasting rules. Under the broadcasting rule, the smaller array is expanded to match the shape of the larger array.\")"
   ],
   "id": "bed2e68e4df2b25c",
   "outputs": [
    {
     "name": "stdout",
     "output_type": "stream",
     "text": [
      "(2, 3)\n",
      "The resulting shape is that of the bigger array (array1) because of NumPy's broadcasting rules. Under the broadcasting rule, the smaller array is expanded to match the shape of the larger array.\n"
     ]
    }
   ],
   "execution_count": 1672
  },
  {
   "metadata": {
    "ExecuteTime": {
     "end_time": "2025-05-01T10:28:16.985712Z",
     "start_time": "2025-05-01T10:28:16.983742Z"
    }
   },
   "cell_type": "code",
   "source": [
    "# Write another code to perform a dot operation on the arrays.\n",
    "dot_product = np.dot(array1,array2.T)\n",
    "dot_product\n"
   ],
   "id": "98f285c4350891d4",
   "outputs": [
    {
     "data": {
      "text/plain": [
       "array([[676],\n",
       "       [845]])"
      ]
     },
     "execution_count": 1673,
     "metadata": {},
     "output_type": "execute_result"
    }
   ],
   "execution_count": 1673
  },
  {
   "metadata": {},
   "cell_type": "markdown",
   "source": [
    "In the context of performing a dot product operation between array1 and array2, you need to transpose array2 to ensure that the inner dimensions match.  The dot product operation requires that the number of columns in the first array matches the number of rows in the second array. Given the shapes of array1 and array2:\n",
    "array1 has a shape of (2, 3)\n",
    "array2 has a shape of (1, 3)\n",
    "To perform the dot product, you need to transpose array2 so that its shape becomes (3, 1). This way, the inner dimensions (3) match, and the resulting array will have a shape of (2, 1)."
   ],
   "id": "1be2aa74837b5451"
  },
  {
   "metadata": {
    "ExecuteTime": {
     "end_time": "2025-05-01T10:28:17.053353Z",
     "start_time": "2025-05-01T10:28:17.025377Z"
    }
   },
   "cell_type": "code",
   "source": [
    "#Using NumPy, create a 1-dimensional array of 100 random integers from 0 to 10. Use the array to create a histogram of the data and calculate the median and mode. Ensure that the results are reproducible.\n",
    "\n",
    "from scipy import stats\n",
    "\n",
    "np.random.seed(4)\n",
    "array_4 = np.random.randint(0,10, 1000)\n",
    "\n",
    "print(f\"The median is: {np.median(array_4)}\")\n",
    "print(f\"The mode is: {stats.mode(array_4)}\")\n",
    "plt.hist(array_4)\n",
    "plt.show()\n"
   ],
   "id": "2e0261a570f9f173",
   "outputs": [
    {
     "name": "stdout",
     "output_type": "stream",
     "text": [
      "The median is: 5.0\n",
      "The mode is: ModeResult(mode=np.int64(7), count=np.int64(120))\n"
     ]
    },
    {
     "data": {
      "text/plain": [
       "<Figure size 200x200 with 1 Axes>"
      ],
      "image/png": "[encoded data removed]"
     },
     "metadata": {},
     "output_type": "display_data"
    }
   ],
   "execution_count": 1674
  },
  {
   "metadata": {
    "ExecuteTime": {
     "end_time": "2025-05-01T10:28:17.109293Z",
     "start_time": "2025-05-01T10:28:17.083422Z"
    }
   },
   "cell_type": "code",
   "source": [
    "#Using NumPy, create a 3-dimensional array of 100 random floats between 0 and 1. Use the array to create a 3D scatter plot of the data. Ensure that your results are reproducible.\n",
    "from mpl_toolkits.mplot3d import Axes3D\n",
    "\n",
    "np.random.seed(4)\n",
    "array_5 = np.random.rand(100,3)\n",
    "array_5\n",
    "\n",
    "# Create a 3D scatter plot\n",
    "fig = plt.figure()\n",
    "ax = fig.add_subplot(111, projection='3d')\n",
    "ax.scatter(array_5[:, 0], array_5[:, 1], array_5[:, 2])\n",
    "\n",
    "plt.show()"
   ],
   "id": "7df8b12321b6205f",
   "outputs": [
    {
     "data": {
      "text/plain": [
       "<Figure size 200x200 with 1 Axes>"
      ],
      "image/png": "[encoded data removed]"
     },
     "metadata": {},
     "output_type": "display_data"
    }
   ],
   "execution_count": 1675
  },
  {
   "metadata": {
    "ExecuteTime": {
     "end_time": "2025-05-01T10:28:17.137451Z",
     "start_time": "2025-05-01T10:28:17.135551Z"
    }
   },
   "cell_type": "code",
   "source": [
    "#Write code to flatten the list and return all non-zero numbers from the list.l\n",
    "lst = [[0, 1, 3, 0, 4], [8, 9, 0, 9, 6]]\n",
    "\n",
    "# Flatten the list and filter out non-zero numbers\n",
    "flattened_non_zero = [num for sublist in lst for num in sublist if num != 0]\n",
    "\n",
    "print(flattened_non_zero)"
   ],
   "id": "3f8f7f05aaa07953",
   "outputs": [
    {
     "name": "stdout",
     "output_type": "stream",
     "text": [
      "[1, 3, 4, 8, 9, 9, 6]\n"
     ]
    }
   ],
   "execution_count": 1676
  },
  {
   "metadata": {},
   "cell_type": "markdown",
   "source": [
    "### Day 5\n",
    "Array Creation and Vector Operations\n",
    "\n",
    "In this challenge, you will create a 2-dimensional array, analyze and perform vector operations on the array, and slice numbers from the array."
   ],
   "id": "de9863bfc78af440"
  },
  {
   "metadata": {
    "ExecuteTime": {
     "end_time": "2025-05-01T10:28:17.164177Z",
     "start_time": "2025-05-01T10:28:17.161908Z"
    }
   },
   "cell_type": "code",
   "source": [
    "list_numbers = [[12, 23, -45], [18, -77, -44]]\n",
    "#Using NumPy, create an array from the list. Write a code to return all the negative numbers in the list.\n",
    "array5 = np.array(list_numbers)\n",
    "array5_negatives = array5[array5<0]\n",
    "array5_negatives\n"
   ],
   "id": "49feb823eb29b0a1",
   "outputs": [
    {
     "data": {
      "text/plain": [
       "array([-45, -77, -44])"
      ]
     },
     "execution_count": 1677,
     "metadata": {},
     "output_type": "execute_result"
    }
   ],
   "execution_count": 1677
  },
  {
   "metadata": {
    "ExecuteTime": {
     "end_time": "2025-05-01T10:28:17.197995Z",
     "start_time": "2025-05-01T10:28:17.195843Z"
    }
   },
   "cell_type": "code",
   "source": [
    "#Using NumPy, write code to multiply each element in the array you created in question 1 by 2. Create a new variable for this array.\n",
    "array5_negatives_x_2 = array5_negatives*2\n",
    "array5_negatives_x_2"
   ],
   "id": "b4613ffd6c2495f0",
   "outputs": [
    {
     "data": {
      "text/plain": [
       "array([ -90, -154,  -88])"
      ]
     },
     "execution_count": 1678,
     "metadata": {},
     "output_type": "execute_result"
    }
   ],
   "execution_count": 1678
  },
  {
   "metadata": {
    "ExecuteTime": {
     "end_time": "2025-05-01T10:28:17.235537Z",
     "start_time": "2025-05-01T10:28:17.233807Z"
    }
   },
   "cell_type": "code",
   "source": [
    "# Write code to calculate the sum of the numbers on axis-1 of the array you created in question 2.\n",
    "sum_axis_1 = np.sum(array5_negatives_x_2, axis=-1)\n",
    "print(sum_axis_1)"
   ],
   "id": "234daf3f62b71b95",
   "outputs": [
    {
     "name": "stdout",
     "output_type": "stream",
     "text": [
      "-332\n"
     ]
    }
   ],
   "execution_count": 1679
  },
  {
   "metadata": {
    "ExecuteTime": {
     "end_time": "2025-05-01T10:28:17.268798Z",
     "start_time": "2025-05-01T10:28:17.267136Z"
    }
   },
   "cell_type": "code",
   "source": [
    "#Write code to calculate the sum of numbers on axis-0 of the array you created in question 2.\n",
    "sum_axis_0 = np.sum(array5_negatives_x_2,axis = 0)\n",
    "print(sum_axis_0)"
   ],
   "id": "cba07d5d13b4643",
   "outputs": [
    {
     "name": "stdout",
     "output_type": "stream",
     "text": [
      "-332\n"
     ]
    }
   ],
   "execution_count": 1680
  },
  {
   "metadata": {
    "ExecuteTime": {
     "end_time": "2025-05-01T10:28:17.301602Z",
     "start_time": "2025-05-01T10:28:17.299564Z"
    }
   },
   "cell_type": "code",
   "source": [
    "#Using the NumPy arange() function, create a NumPy array of numbers from 0 to 99. The shape of the array must be (2, 5, 10).\n",
    "array_5 = np.arange(100)\n",
    "reshaped_array = array_5.reshape(2,5,10)\n",
    "\n",
    "reshaped_array"
   ],
   "id": "26762801b7a9b248",
   "outputs": [
    {
     "data": {
      "text/plain": [
       "array([[[ 0,  1,  2,  3,  4,  5,  6,  7,  8,  9],\n",
       "        [10, 11, 12, 13, 14, 15, 16, 17, 18, 19],\n",
       "        [20, 21, 22, 23, 24, 25, 26, 27, 28, 29],\n",
       "        [30, 31, 32, 33, 34, 35, 36, 37, 38, 39],\n",
       "        [40, 41, 42, 43, 44, 45, 46, 47, 48, 49]],\n",
       "\n",
       "       [[50, 51, 52, 53, 54, 55, 56, 57, 58, 59],\n",
       "        [60, 61, 62, 63, 64, 65, 66, 67, 68, 69],\n",
       "        [70, 71, 72, 73, 74, 75, 76, 77, 78, 79],\n",
       "        [80, 81, 82, 83, 84, 85, 86, 87, 88, 89],\n",
       "        [90, 91, 92, 93, 94, 95, 96, 97, 98, 99]]])"
      ]
     },
     "execution_count": 1681,
     "metadata": {},
     "output_type": "execute_result"
    }
   ],
   "execution_count": 1681
  },
  {
   "metadata": {
    "ExecuteTime": {
     "end_time": "2025-05-01T10:28:17.320306Z",
     "start_time": "2025-05-01T10:28:17.318446Z"
    }
   },
   "cell_type": "code",
   "source": [
    "#Write code to slice row [50, 51, 52, 53, 54, 55, 56, 57, 58, 59] from the array above (question 5).\n",
    "reshaped_array[1,0,:]"
   ],
   "id": "14b16e73e1cffbf3",
   "outputs": [
    {
     "data": {
      "text/plain": [
       "array([50, 51, 52, 53, 54, 55, 56, 57, 58, 59])"
      ]
     },
     "execution_count": 1682,
     "metadata": {},
     "output_type": "execute_result"
    }
   ],
   "execution_count": 1682
  },
  {
   "metadata": {
    "ExecuteTime": {
     "end_time": "2025-05-01T10:28:17.337785Z",
     "start_time": "2025-05-01T10:28:17.336087Z"
    }
   },
   "cell_type": "code",
   "source": [
    "#Let’s analyze the array you created in question 1 further. How many numbers in row 1 are greater than the numbers in row 2?\n",
    "# Compare elements in row 1 with elements in row 2\n",
    "comparison = array5[0] > array5[1]\n",
    "\n",
    "# Count how many elements in row 1 are greater than in row 2\n",
    "count_greater = np.sum(comparison)\n",
    "print(count_greater)"
   ],
   "id": "1c2b7c4bed9442f7",
   "outputs": [
    {
     "name": "stdout",
     "output_type": "stream",
     "text": [
      "1\n"
     ]
    }
   ],
   "execution_count": 1683
  },
  {
   "metadata": {},
   "cell_type": "markdown",
   "source": [
    "### Day 6\n",
    "Array Manipulation and Vector Operations\n",
    "\n",
    "In this challenge, your task is to create a NumPy array from\n",
    "a list of strings. This particular challenge aims to assess\n",
    "your proficiency in generating arrays and manipulating\n",
    "array data types as a means of enhancing data processing\n",
    "flexibility."
   ],
   "id": "5e26f39598870c54"
  },
  {
   "metadata": {
    "ExecuteTime": {
     "end_time": "2025-05-01T10:28:17.357421Z",
     "start_time": "2025-05-01T10:28:17.355924Z"
    }
   },
   "cell_type": "code",
   "source": "list_str = [\"23\", \"12\", \"90\", \"28\", \"30\"]",
   "id": "19067b81719e8230",
   "outputs": [],
   "execution_count": 1684
  },
  {
   "metadata": {
    "ExecuteTime": {
     "end_time": "2025-05-01T10:28:17.389177Z",
     "start_time": "2025-05-01T10:28:17.387598Z"
    }
   },
   "cell_type": "code",
   "source": [
    "#Create a NumPy array with the list above. Calculate the standard deviation of the array. Write a code to change the data type of the array .\n",
    "array6 = np.array(list_str, dtype=int)\n",
    "\n",
    "print(np.std(array6))"
   ],
   "id": "5b3523e104c24525",
   "outputs": [
    {
     "name": "stdout",
     "output_type": "stream",
     "text": [
      "27.419700946582186\n"
     ]
    }
   ],
   "execution_count": 1685
  },
  {
   "metadata": {
    "ExecuteTime": {
     "end_time": "2025-05-01T10:28:17.395861Z",
     "start_time": "2025-05-01T10:28:17.393980Z"
    }
   },
   "cell_type": "code",
   "source": [
    "#Write a code to return the sum of values [90.0, 28.0, 30.0] from the array you just created in question (3).\n",
    "array6_filtered = array6[2:]\n",
    "array6_filtered"
   ],
   "id": "3b5b1a930fb8c528",
   "outputs": [
    {
     "data": {
      "text/plain": [
       "array([90, 28, 30])"
      ]
     },
     "execution_count": 1686,
     "metadata": {},
     "output_type": "execute_result"
    }
   ],
   "execution_count": 1686
  },
  {
   "metadata": {
    "ExecuteTime": {
     "end_time": "2025-05-01T10:28:17.413209Z",
     "start_time": "2025-05-01T10:28:17.411525Z"
    }
   },
   "cell_type": "code",
   "source": [
    "#Create a 2-dimensional array of random integers from 0 to 100 with the shape (5, 5). Use the array to find the minimum and maximum values, as well as the mean and standard deviation. Ensure that the results are reproducible.\n",
    "np.random.seed(6)\n",
    "array6_random = np.random.randint(0,100, size=(5,5))\n",
    "print(f\"Minimum:  {np.min(array6_random)}\")\n",
    "print(f\"Maximum: {np.max(array6_random)}\")"
   ],
   "id": "21f9abbb7e666f65",
   "outputs": [
    {
     "name": "stdout",
     "output_type": "stream",
     "text": [
      "Minimum:  1\n",
      "Maximum: 99\n"
     ]
    }
   ],
   "execution_count": 1687
  },
  {
   "metadata": {
    "ExecuteTime": {
     "end_time": "2025-05-01T10:28:17.436831Z",
     "start_time": "2025-05-01T10:28:17.435156Z"
    }
   },
   "cell_type": "code",
   "source": [
    "#Using NumPy’s char.join() function, create two arrays by joining the first name with the last name. Your first array should be: array(['John', 'Smith'], dtype='U6'). Your second array should be: array(['Kenny', 'Sakula'], dtype='U6').\n",
    "first_names = [\"John\", \" Kenny\"]\n",
    "last_names = [\"Smith\", \" Sakula\"]\n",
    "\n",
    "joined_names = np.char.add(first_names, \" \")  # Add a space between first and last names\n",
    "joined_names = np.char.add(joined_names, last_names)\n",
    "\n",
    "print(joined_names)"
   ],
   "id": "619a5953a9de56d0",
   "outputs": [
    {
     "name": "stdout",
     "output_type": "stream",
     "text": [
      "['John Smith' ' Kenny  Sakula']\n"
     ]
    }
   ],
   "execution_count": 1688
  },
  {
   "metadata": {},
   "cell_type": "markdown",
   "source": [
    "### Day 7\n",
    "Transpose and Swap Arrays\n",
    "\n",
    "The ability to transpose and swap arrays is important for\n",
    "manipulating and analyzing data, performing matrix\n",
    "operations, cleaning and sorting data, and visualizing data.\n",
    "By mastering these skills, you can improve your data\n",
    "manipulation and analysis capabilities and work more\n",
    "efficiently with arrays.\n"
   ],
   "id": "ad814aa4b43ea8a7"
  },
  {
   "metadata": {
    "ExecuteTime": {
     "end_time": "2025-05-01T10:28:17.466533Z",
     "start_time": "2025-05-01T10:28:17.464538Z"
    }
   },
   "cell_type": "code",
   "source": [
    "#Using the arange() function, create an array of numbers from 0 and 10. The shape of the array must be (2, 5).\n",
    "array7 = np.arange(0,10)\n",
    "array7.reshape(2,5)"
   ],
   "id": "642c6d5170508ffe",
   "outputs": [
    {
     "data": {
      "text/plain": [
       "array([[0, 1, 2, 3, 4],\n",
       "       [5, 6, 7, 8, 9]])"
      ]
     },
     "execution_count": 1689,
     "metadata": {},
     "output_type": "execute_result"
    }
   ],
   "execution_count": 1689
  },
  {
   "metadata": {
    "ExecuteTime": {
     "end_time": "2025-05-01T10:28:17.497572Z",
     "start_time": "2025-05-01T10:28:17.495474Z"
    }
   },
   "cell_type": "code",
   "source": [
    "#Write a code to change the shape of the array (question 1) to (5, 2). Create a new variable for this array. Now, add this array to the original array in question 1. The resulting array should have shapes (2, 5). Save this as a variable.\n",
    "new_array7 = array7.reshape(5,2)\n",
    "reshaped_back = new_array7.T\n",
    "resulting_array = array7.reshape(2, 5) + reshaped_back\n",
    "resulting_array"
   ],
   "id": "4f81503c9e2e15d3",
   "outputs": [
    {
     "data": {
      "text/plain": [
       "array([[ 0,  3,  6,  9, 12],\n",
       "       [ 6,  9, 12, 15, 18]])"
      ]
     },
     "execution_count": 1690,
     "metadata": {},
     "output_type": "execute_result"
    }
   ],
   "execution_count": 1690
  },
  {
   "metadata": {
    "ExecuteTime": {
     "end_time": "2025-05-01T10:28:17.546048Z",
     "start_time": "2025-05-01T10:28:17.544105Z"
    }
   },
   "cell_type": "code",
   "source": [
    "#Swap the indexes of the array (question 2) using the swapaxis() method. Create a new variable for the swapped array.\n",
    "\n",
    "swapped_array = resulting_array.swapaxes(0,1)\n",
    "swapped_array"
   ],
   "id": "50e04e9436d88915",
   "outputs": [
    {
     "data": {
      "text/plain": [
       "array([[ 0,  6],\n",
       "       [ 3,  9],\n",
       "       [ 6, 12],\n",
       "       [ 9, 15],\n",
       "       [12, 18]])"
      ]
     },
     "execution_count": 1691,
     "metadata": {},
     "output_type": "execute_result"
    }
   ],
   "execution_count": 1691
  },
  {
   "metadata": {
    "ExecuteTime": {
     "end_time": "2025-05-01T10:28:17.614157Z",
     "start_time": "2025-05-01T10:28:17.612462Z"
    }
   },
   "cell_type": "code",
   "source": [
    "#Write a code to slice row 1 from the swapped array in question 3.\n",
    "row_1 = swapped_array[1, :]\n",
    "print(row_1)"
   ],
   "id": "2382d6e5278ca84b",
   "outputs": [
    {
     "name": "stdout",
     "output_type": "stream",
     "text": [
      "[3 9]\n"
     ]
    }
   ],
   "execution_count": 1692
  },
  {
   "metadata": {
    "ExecuteTime": {
     "end_time": "2025-05-01T10:28:17.745969Z",
     "start_time": "2025-05-01T10:28:17.668067Z"
    }
   },
   "cell_type": "code",
   "source": [
    "players = [\"Robin\", \"Leo\", \"Pogba\", \"Diego\", \"Ronaldo\"]\n",
    "teams = [\"Man UTD\", \"Barca\", \"Arsenal\", \"Liverpool\", \"Madrid\"]\n",
    "goals = np.array([\n",
    "    [12, 15, 16, 15, 13],  # Robin\n",
    "    [26, 30, 31, 25, 24],  # Leo\n",
    "    [8, 10, 12, 9, 11],    # Pogba\n",
    "    [14, 18, 20, 19, 17],  # Diego\n",
    "    [30, 28, 27, 29, 31]   # Ronaldo\n",
    "])\n",
    "\n",
    "plt.figure(figsize=(10, 6))\n",
    "sns.heatmap(goals, annot=True, fmt=\"d\", cmap=\"coolwarm\", xticklabels=players, yticklabels=teams)\n",
    "\n",
    "# Add labels and title\n",
    "plt.xlabel(\"Players\")\n",
    "plt.ylabel(\"Teams\")\n",
    "plt.title(\"Heatmap of Goals Scored by Players in the Last 5 Seasons\")\n",
    "\n",
    "# Show the plot\n",
    "plt.show()"
   ],
   "id": "58e2905054541462",
   "outputs": [
    {
     "data": {
      "text/plain": [
       "<Figure size 1000x600 with 2 Axes>"
      ],
      "image/png": "[encoded data removed]"
     },
     "metadata": {},
     "output_type": "display_data"
    }
   ],
   "execution_count": 1693
  },
  {
   "metadata": {},
   "cell_type": "markdown",
   "source": [
    "### Day 8\n",
    "Slicing NumPy Arrays\n",
    "\n",
    "This challenge will test your abilities to create and slice\n",
    "NumPy arrays. Learning to slice NumPy arrays is an\n",
    "important skill to have for anyone working with data\n",
    "because it allows you to extract and manipulate specific\n",
    "portions of an array. This is especially useful when working\n",
    "with large datasets, as it allows you to perform operations\n",
    "on a subset of the data rather than the entire array. This is\n",
    "what is called \"dimensionality reduction."
   ],
   "id": "ca1cf67f7a8057f0"
  },
  {
   "metadata": {
    "ExecuteTime": {
     "end_time": "2025-05-01T10:28:17.751647Z",
     "start_time": "2025-05-01T10:28:17.749547Z"
    }
   },
   "cell_type": "code",
   "source": [
    "#Create a one-dimensional array with random integers between 0 and 20. The size of the array is 10. Ensure that the results are reproducible.\n",
    "np.random.seed(8)\n",
    "array8 = np.random.randint(0,20,size=10)\n",
    "array8"
   ],
   "id": "c523f242d0824eab",
   "outputs": [
    {
     "data": {
      "text/plain": [
       "array([ 3, 17,  9,  5,  8, 19,  8, 16, 13, 17])"
      ]
     },
     "execution_count": 1694,
     "metadata": {},
     "output_type": "execute_result"
    }
   ],
   "execution_count": 1694
  },
  {
   "metadata": {
    "ExecuteTime": {
     "end_time": "2025-05-01T10:28:17.779571Z",
     "start_time": "2025-05-01T10:28:17.777661Z"
    }
   },
   "cell_type": "code",
   "source": [
    "# Using slicing, create a subset array of 3 integers from the array you created in question 1. The first integer is at index 2, the second integer is at index 4, and the third index is at index 7.\n",
    "#We pass slice instead of index like this: [start:end].\n",
    "array8_sliced = array8[[2,4,7]]\n",
    "array8_sliced\n",
    "#We can also define the step, like this: [start:end:step]."
   ],
   "id": "d8a381c44fac2ed5",
   "outputs": [
    {
     "data": {
      "text/plain": [
       "array([ 9,  8, 16])"
      ]
     },
     "execution_count": 1695,
     "metadata": {},
     "output_type": "execute_result"
    }
   ],
   "execution_count": 1695
  },
  {
   "metadata": {
    "ExecuteTime": {
     "end_time": "2025-05-01T10:28:17.803675Z",
     "start_time": "2025-05-01T10:28:17.801976Z"
    }
   },
   "cell_type": "code",
   "source": [
    "#Create a two-dimensional array from the list below. Check the dimensions and shape of your array.\n",
    "My_list = [[1, 2, 3, 4, 5], [6, 7, 8, 9, 10],[11, 12, 13, 14, 15]]\n",
    "new_array8 = np.array(My_list)\n",
    "\n",
    "print(new_array8.shape)\n",
    "print(new_array8.ndim)"
   ],
   "id": "aaa1d9422f4263aa",
   "outputs": [
    {
     "name": "stdout",
     "output_type": "stream",
     "text": [
      "(3, 5)\n",
      "2\n"
     ]
    }
   ],
   "execution_count": 1696
  },
  {
   "metadata": {
    "ExecuteTime": {
     "end_time": "2025-05-01T10:28:17.823189Z",
     "start_time": "2025-05-01T10:28:17.821238Z"
    }
   },
   "cell_type": "code",
   "source": [
    "#sing slicing, write a code to access the numbers 3, 8, and 13.Your code should return [3, 8, 13].\n",
    "new_array8_sliced =new_array8[:,2]\n",
    "new_array8_sliced"
   ],
   "id": "9f2fa9cf2795bf2a",
   "outputs": [
    {
     "data": {
      "text/plain": [
       "array([ 3,  8, 13])"
      ]
     },
     "execution_count": 1697,
     "metadata": {},
     "output_type": "execute_result"
    }
   ],
   "execution_count": 1697
  },
  {
   "metadata": {
    "ExecuteTime": {
     "end_time": "2025-05-01T10:28:17.844909Z",
     "start_time": "2025-05-01T10:28:17.843187Z"
    }
   },
   "cell_type": "code",
   "source": [
    "# Create a three-dimensional array from the nested list\n",
    "lis1 = [[[1, 2, 3, 4, 5], [6, 7, 8, 9, 10], [11, 12, 13, 14, 15]]]\n",
    "new_array8 = np.array(lis1)\n",
    "\n",
    "\n",
    "# Extract the numbers 4, 8, and 15\n",
    "sublist = [int(new_array8[0, 0, 3]), int(new_array8[0, 1, 2]), int(new_array8[0, 2, 4])]\n",
    "print(sublist)"
   ],
   "id": "463dddd2dc2461c6",
   "outputs": [
    {
     "name": "stdout",
     "output_type": "stream",
     "text": [
      "[4, 8, 15]\n"
     ]
    }
   ],
   "execution_count": 1698
  },
  {
   "metadata": {},
   "cell_type": "markdown",
   "source": [
    "### Day 9\n",
    "\n",
    "Analyze a One-Dimensional Array\n",
    "\n",
    "In this challenge, you are going to create an array from a\n",
    "list. Why should you use an array instead of a Python list?\n",
    "The NumPy Series provides better performance, easier\n",
    "manipulation and indexing, and better interoperability\n",
    "with other scientific libraries, making them a preferred\n",
    "choice for scientific and data analysis applications. They\n",
    "also have better memory management than Python lists"
   ],
   "id": "be28177367ded0e0"
  },
  {
   "metadata": {
    "ExecuteTime": {
     "end_time": "2025-05-01T10:28:17.862005Z",
     "start_time": "2025-05-01T10:28:17.860516Z"
    }
   },
   "cell_type": "code",
   "source": [
    "nums = [12,4,6,7,9,19,21,67,8]\n",
    "# Create a NumPy one-dimensional array with the list above\n",
    "\n",
    "array9 = np.array(nums)"
   ],
   "id": "8d5280999fc62309",
   "outputs": [],
   "execution_count": 1699
  },
  {
   "metadata": {
    "ExecuteTime": {
     "end_time": "2025-05-01T10:28:17.879943Z",
     "start_time": "2025-05-01T10:28:17.878479Z"
    }
   },
   "cell_type": "code",
   "source": [
    "#Using NumPy, write code that returns the minimum number in the array.\n",
    "print(np.min(array9))"
   ],
   "id": "c57f7fbb119bd299",
   "outputs": [
    {
     "name": "stdout",
     "output_type": "stream",
     "text": [
      "4\n"
     ]
    }
   ],
   "execution_count": 1700
  },
  {
   "metadata": {
    "ExecuteTime": {
     "end_time": "2025-05-01T10:28:17.904007Z",
     "start_time": "2025-05-01T10:28:17.902568Z"
    }
   },
   "cell_type": "code",
   "source": [
    "#Write a code that returns the index of the largest number in the array.\n",
    "print(np.argmax(array9))"
   ],
   "id": "bf3fb337e8ac8e17",
   "outputs": [
    {
     "name": "stdout",
     "output_type": "stream",
     "text": [
      "7\n"
     ]
    }
   ],
   "execution_count": 1701
  },
  {
   "metadata": {
    "ExecuteTime": {
     "end_time": "2025-05-01T10:28:17.936456Z",
     "start_time": "2025-05-01T10:28:17.934870Z"
    }
   },
   "cell_type": "code",
   "source": [
    "#Using NumPy, calculate the average of the biggest and smallest numbers in the array.\n",
    "largest = np.max(array9)\n",
    "smallest = np.min(array9)\n",
    "average = (largest + smallest) / 2\n",
    "\n",
    "print(\"Average of the biggest and smallest numbers:\", average)"
   ],
   "id": "2218e786ca827e31",
   "outputs": [
    {
     "name": "stdout",
     "output_type": "stream",
     "text": [
      "Average of the biggest and smallest numbers: 35.5\n"
     ]
    }
   ],
   "execution_count": 1702
  },
  {
   "metadata": {
    "ExecuteTime": {
     "end_time": "2025-05-01T10:28:17.960537Z",
     "start_time": "2025-05-01T10:28:17.958705Z"
    }
   },
   "cell_type": "code",
   "source": [
    "#Write a code to find the mean, median, and standard deviation of the array.\n",
    "print(f\"The mean of the Array is: {np.mean(array9)}\")\n",
    "print(f\"The median of the Array is : {np.median(array9)}\")\n",
    "print(f\"The std deviation of the Array is: {np.std(array9)}\")"
   ],
   "id": "c7382b6e482a55de",
   "outputs": [
    {
     "name": "stdout",
     "output_type": "stream",
     "text": [
      "The mean of the Array is: 17.0\n",
      "The median of the Array is : 9.0\n",
      "The std deviation of the Array is: 18.499249234015476\n"
     ]
    }
   ],
   "execution_count": 1703
  },
  {
   "metadata": {
    "ExecuteTime": {
     "end_time": "2025-05-01T10:28:17.997969Z",
     "start_time": "2025-05-01T10:28:17.995383Z"
    }
   },
   "cell_type": "code",
   "source": [
    "# Write code to find the outlier in the array above.\n",
    "nums = [12, 4, 6, 7, 9, 19, 21, 67, 8]\n",
    "\n",
    "def find_outliers_iqr(data):\n",
    "    data = np.array(data)\n",
    "\n",
    "    # Calcular Q1 y Q3\n",
    "    q1 = np.percentile(data, 25)\n",
    "    q3 = np.percentile(data, 75)\n",
    "\n",
    "    # Calcular IQR\n",
    "    iqr = q3 - q1\n",
    "\n",
    "    # Calcular límites\n",
    "    lower_bound = q1 - 1.5 * iqr\n",
    "    upper_bound = q3 + 1.5 * iqr\n",
    "\n",
    "    # Encontrar outliers\n",
    "    outliers = data[(data < lower_bound) | (data > upper_bound)]\n",
    "\n",
    "    return {\n",
    "        'Q1': q1,\n",
    "        'Q3': q3,\n",
    "        'IQR': iqr,\n",
    "        'Lower Bound': lower_bound,\n",
    "        'Upper Bound': upper_bound,\n",
    "        'Outliers': outliers.tolist()\n",
    "    }\n",
    "\n",
    "\n",
    "result = find_outliers_iqr(nums)\n",
    "\n",
    "print(\"Resultados del análisis IQR:\")\n",
    "for key, value in result.items():\n",
    "    print(f\"{key}: {value}\")"
   ],
   "id": "56d5a113c7db8fa8",
   "outputs": [
    {
     "name": "stdout",
     "output_type": "stream",
     "text": [
      "Resultados del análisis IQR:\n",
      "Q1: 7.0\n",
      "Q3: 19.0\n",
      "IQR: 12.0\n",
      "Lower Bound: -11.0\n",
      "Upper Bound: 37.0\n",
      "Outliers: [67]\n"
     ]
    }
   ],
   "execution_count": 1704
  },
  {
   "metadata": {},
   "cell_type": "markdown",
   "source": [
    "### Day 10\n",
    "The arange Function and Boolean Indexing\n",
    "\n",
    "In this challenge, you will use the NumPy arange() function.\n",
    "It is similar to the built-in range() function in Python, but\n",
    "it returns a NumPy array. Boolean indexing, on the other\n",
    "hand, is a way of indexing NumPy arrays based on a set of\n",
    "Boolean conditions. It allows you to select elements from\n",
    "an array that meet certain criteria."
   ],
   "id": "56a2ef60e399b029"
  },
  {
   "metadata": {
    "ExecuteTime": {
     "end_time": "2025-05-01T10:28:18.028995Z",
     "start_time": "2025-05-01T10:28:18.027468Z"
    }
   },
   "cell_type": "code",
   "source": "num = 50",
   "id": "aa039c6c7bf971eb",
   "outputs": [],
   "execution_count": 1705
  },
  {
   "metadata": {
    "ExecuteTime": {
     "end_time": "2025-05-01T10:28:18.060702Z",
     "start_time": "2025-05-01T10:28:18.058521Z"
    }
   },
   "cell_type": "code",
   "source": [
    "#Create an array from the number above using the arange() function of NumPy. Your array should start at 0 with a step of 5.\n",
    "\n",
    "array10 = np.arange(0,num,5)\n",
    "array10"
   ],
   "id": "4a9deafc6b19725e",
   "outputs": [
    {
     "data": {
      "text/plain": [
       "array([ 0,  5, 10, 15, 20, 25, 30, 35, 40, 45])"
      ]
     },
     "execution_count": 1706,
     "metadata": {},
     "output_type": "execute_result"
    }
   ],
   "execution_count": 1706
  },
  {
   "metadata": {
    "ExecuteTime": {
     "end_time": "2025-05-01T10:28:18.093672Z",
     "start_time": "2025-05-01T10:28:18.091749Z"
    }
   },
   "cell_type": "code",
   "source": [
    "#Using NumPy, write a code that returns all the numbers in the array that are greater than 25.\n",
    "array10_filtered = array10[array10 >25]\n",
    "array10_filtered"
   ],
   "id": "e1b79572c58b3554",
   "outputs": [
    {
     "data": {
      "text/plain": [
       "array([30, 35, 40, 45])"
      ]
     },
     "execution_count": 1707,
     "metadata": {},
     "output_type": "execute_result"
    }
   ],
   "execution_count": 1707
  },
  {
   "metadata": {
    "ExecuteTime": {
     "end_time": "2025-05-01T10:28:18.115356Z",
     "start_time": "2025-05-01T10:28:18.112985Z"
    }
   },
   "cell_type": "code",
   "source": [
    "days = [\"mon\", \"tue\", \"wed\", \"thu\", \"Fri\"]\n",
    "hours_worked = [ 8, 8, 10, 11, 7]\n",
    "# Using Boolean indexing of NumPy arrays, return the days of the week where hours worked were 8.\n",
    "\n",
    "days = np.array([\"mon\", \"tue\", \"wed\", \"thu\", \"Fri\"])\n",
    "hours_worked = np.array([8, 8, 10, 11, 7])\n",
    "\n",
    "# Boolean indexing to filter days where hours worked were 8\n",
    "days_with_8_hours = days[hours_worked == 8]\n",
    "\n",
    "days_with_8_hours"
   ],
   "id": "932e84bd22d46b75",
   "outputs": [
    {
     "data": {
      "text/plain": [
       "array(['mon', 'tue'], dtype='<U3')"
      ]
     },
     "execution_count": 1708,
     "metadata": {},
     "output_type": "execute_result"
    }
   ],
   "execution_count": 1708
  },
  {
   "metadata": {
    "ExecuteTime": {
     "end_time": "2025-05-01T10:28:18.137994Z",
     "start_time": "2025-05-01T10:28:18.136431Z"
    }
   },
   "cell_type": "code",
   "source": [
    "\n",
    "#Here is the code to find the day of the week with the highest number of hours worked using Boolean indexing:\n",
    "max_hours = np.max(hours_worked)\n",
    "day_with_max_hours = days[hours_worked == max_hours]\n",
    "\n",
    "print(\"Day with the highest number of hours worked:\", day_with_max_hours[0])"
   ],
   "id": "4f00d7bf46dfd1b6",
   "outputs": [
    {
     "name": "stdout",
     "output_type": "stream",
     "text": [
      "Day with the highest number of hours worked: thu\n"
     ]
    }
   ],
   "execution_count": 1709
  },
  {
   "metadata": {
    "ExecuteTime": {
     "end_time": "2025-05-01T10:28:18.161817Z",
     "start_time": "2025-05-01T10:28:18.160307Z"
    }
   },
   "cell_type": "code",
   "source": [
    "#Write another code to return all the days of the week where  over 9 hours of work were achieved.\n",
    "days_over_9_hours = days[hours_worked > 9]\n",
    "\n",
    "print(\"Days with over 9 hours worked:\", days_over_9_hours)"
   ],
   "id": "d1d620febb594c0a",
   "outputs": [
    {
     "name": "stdout",
     "output_type": "stream",
     "text": [
      "Days with over 9 hours worked: ['wed' 'thu']\n"
     ]
    }
   ],
   "execution_count": 1710
  },
  {
   "metadata": {},
   "cell_type": "markdown",
   "source": [
    "### Day 11\n",
    "Preprocessing, Analysis and Visualization\n",
    "\n",
    "As part of data preprocessing, you have to identify different\n",
    "types in the array. You may be required to create subarrays\n",
    "of a specific data type in order to carry out, for example,\n",
    "mathematical operations and visualization."
   ],
   "id": "a1ca3e9423d84cb4"
  },
  {
   "metadata": {
    "ExecuteTime": {
     "end_time": "2025-05-01T10:28:18.183989Z",
     "start_time": "2025-05-01T10:28:18.182631Z"
    }
   },
   "cell_type": "code",
   "source": "list1 = [\"34\", \"name\", \"45\", \"is\", \"100\"]",
   "id": "7a99d579d1388270",
   "outputs": [],
   "execution_count": 1711
  },
  {
   "metadata": {
    "ExecuteTime": {
     "end_time": "2025-05-01T10:28:18.202287Z",
     "start_time": "2025-05-01T10:28:18.200232Z"
    }
   },
   "cell_type": "code",
   "source": [
    "#Using NumPy, create an array using the list above. Write a code to check how many non-numeric elements are in the list.\n",
    "array11 = np.array(list1)\n",
    "\n",
    "non_numeric_count  = np.sum(~np.char.isnumeric(array11))\n",
    "non_numeric_count"
   ],
   "id": "a5c6704aa6145739",
   "outputs": [
    {
     "data": {
      "text/plain": [
       "np.int64(2)"
      ]
     },
     "execution_count": 1712,
     "metadata": {},
     "output_type": "execute_result"
    }
   ],
   "execution_count": 1712
  },
  {
   "metadata": {
    "ExecuteTime": {
     "end_time": "2025-05-01T10:28:18.222523Z",
     "start_time": "2025-05-01T10:28:18.220540Z"
    }
   },
   "cell_type": "code",
   "source": [
    "#Using NumPy, write code to sum all the numeric elements in the list.\n",
    "numeric_sum  = np.sum(array11[np.char.isnumeric(array11)].astype(int))\n",
    "numeric_sum"
   ],
   "id": "6fb7c5641996e071",
   "outputs": [
    {
     "data": {
      "text/plain": [
       "np.int64(179)"
      ]
     },
     "execution_count": 1713,
     "metadata": {},
     "output_type": "execute_result"
    }
   ],
   "execution_count": 1713
  },
  {
   "metadata": {
    "ExecuteTime": {
     "end_time": "2025-05-01T10:28:18.241264Z",
     "start_time": "2025-05-01T10:28:18.239349Z"
    }
   },
   "cell_type": "code",
   "source": [
    "#Using NumPy, write code to square all the numeric elements in the array you created in question 1. Return an array of squared elements.\n",
    "squared_elements = np.char.isnumeric(array11)\n",
    "squared_array = np.square(array11[squared_elements].astype(int))\n",
    "squared_array"
   ],
   "id": "d122e17df5173f75",
   "outputs": [
    {
     "data": {
      "text/plain": [
       "array([ 1156,  2025, 10000])"
      ]
     },
     "execution_count": 1714,
     "metadata": {},
     "output_type": "execute_result"
    }
   ],
   "execution_count": 1714
  },
  {
   "metadata": {
    "ExecuteTime": {
     "end_time": "2025-05-01T10:28:18.300818Z",
     "start_time": "2025-05-01T10:28:18.262931Z"
    }
   },
   "cell_type": "code",
   "source": [
    "#Using NumPy, create an array using the lists above. Each list must be a row in the array. Your array must have 3 rows and 10 columns. To visualize the correlation between attendance and the final_exam_score, create a scatter plot using Matplotlib. Set the final exam score the x-axis and attendance as the y-axis of your scatter plot. Use the NumPy array you just created as the source of your data for the plot.b. By visualizing your scatter plot (question 4a), what final score was the outlier of the data?\n",
    "\n",
    "attendance = [90, 85, 88, 92, 70, 95, 100, 85, 60, 80]\n",
    "final_exam_score = [85, 80, 78, 90, 50, 88, 95, 82, 40, 75]\n",
    "other_metric = [10, 20, 15, 25, 5, 30, 35, 20, 10, 15]\n",
    "\n",
    "data = np.array([attendance, final_exam_score, other_metric])\n",
    "\n",
    "# Scatter plot\n",
    "plt.scatter(data[1], data[0], color='blue', label='Attendance vs Final Exam Score')\n",
    "plt.xlabel(\"Final Exam Score\")\n",
    "plt.ylabel(\"Attendance\")\n",
    "plt.title(\"Scatter Plot: Attendance vs Final Exam Score\")\n",
    "plt.legend()\n",
    "plt.grid(True)\n",
    "plt.show()"
   ],
   "id": "98db328f4c23989",
   "outputs": [
    {
     "data": {
      "text/plain": [
       "<Figure size 200x200 with 1 Axes>"
      ],
      "image/png": "[encoded data removed]"
     },
     "metadata": {},
     "output_type": "display_data"
    }
   ],
   "execution_count": 1715
  },
  {
   "metadata": {},
   "cell_type": "markdown",
   "source": [
    "### Day 12\n",
    " Array Sorting and Filtering\n",
    "\n",
    "The skill to sort arrays in ascending or descending order\n",
    "and filter arrays to include only elements that meet certain\n",
    "criteria is a useful skill for organizing data or identifying\n",
    "patterns in the data. These skills will be tested with the\n",
    "challenges below:"
   ],
   "id": "a11d326de135ebe7"
  },
  {
   "metadata": {
    "ExecuteTime": {
     "end_time": "2025-05-01T10:28:18.318565Z",
     "start_time": "2025-05-01T10:28:18.317180Z"
    }
   },
   "cell_type": "code",
   "source": "list1 = [[12, 34, 56], [12, 13, 8,], [6, 5, 10]]",
   "id": "249f8929018f3b11",
   "outputs": [],
   "execution_count": 1716
  },
  {
   "metadata": {
    "ExecuteTime": {
     "end_time": "2025-05-01T10:28:18.337900Z",
     "start_time": "2025-05-01T10:28:18.335815Z"
    }
   },
   "cell_type": "code",
   "source": [
    "#Create an array using the list above. Write code to sort the array in ascending order: first sort by columns, then by rows. Create a new variable for each of the sorted arrays.\n",
    "\n",
    "array12 = np.array(list1)\n",
    "array12"
   ],
   "id": "2f92ba32f70d4a52",
   "outputs": [
    {
     "data": {
      "text/plain": [
       "array([[12, 34, 56],\n",
       "       [12, 13,  8],\n",
       "       [ 6,  5, 10]])"
      ]
     },
     "execution_count": 1717,
     "metadata": {},
     "output_type": "execute_result"
    }
   ],
   "execution_count": 1717
  },
  {
   "metadata": {
    "ExecuteTime": {
     "end_time": "2025-05-01T10:28:18.368582Z",
     "start_time": "2025-05-01T10:28:18.366561Z"
    }
   },
   "cell_type": "code",
   "source": [
    "sorted_array12_columns = np.sort(array12, axis=0) #By columns\n",
    "sorted_array12_columns\n"
   ],
   "id": "f5bf44a7b822ac57",
   "outputs": [
    {
     "data": {
      "text/plain": [
       "array([[ 6,  5,  8],\n",
       "       [12, 13, 10],\n",
       "       [12, 34, 56]])"
      ]
     },
     "execution_count": 1718,
     "metadata": {},
     "output_type": "execute_result"
    }
   ],
   "execution_count": 1718
  },
  {
   "metadata": {
    "ExecuteTime": {
     "end_time": "2025-05-01T10:28:18.620644Z",
     "start_time": "2025-05-01T10:28:18.618501Z"
    }
   },
   "cell_type": "code",
   "source": [
    "sorted_array12_rows = np.sort(array12, axis=1) #By columns\n",
    "sorted_array12_rows"
   ],
   "id": "43cf8df94e7502ca",
   "outputs": [
    {
     "data": {
      "text/plain": [
       "array([[12, 34, 56],\n",
       "       [ 8, 12, 13],\n",
       "       [ 5,  6, 10]])"
      ]
     },
     "execution_count": 1719,
     "metadata": {},
     "output_type": "execute_result"
    }
   ],
   "execution_count": 1719
  },
  {
   "metadata": {
    "ExecuteTime": {
     "end_time": "2025-05-01T10:28:18.667045Z",
     "start_time": "2025-05-01T10:28:18.665070Z"
    }
   },
   "cell_type": "code",
   "source": [
    "#Using NumPy slicing, write a code that slices these numbers in this order [8, 12, 56] from the array sorted by columns (question 1). Create a new variable.\n",
    "\n",
    "sliced_numbers = [sorted_array12_columns[0, 2], sorted_array12_columns[1, 0], sorted_array12_columns[2, 2]]\n",
    "sliced_numbers\n",
    "\n",
    "\n"
   ],
   "id": "bb53644397c9e560",
   "outputs": [
    {
     "data": {
      "text/plain": [
       "[np.int64(8), np.int64(12), np.int64(56)]"
      ]
     },
     "execution_count": 1720,
     "metadata": {},
     "output_type": "execute_result"
    }
   ],
   "execution_count": 1720
  },
  {
   "metadata": {
    "ExecuteTime": {
     "end_time": "2025-05-01T10:28:18.723922Z",
     "start_time": "2025-05-01T10:28:18.721731Z"
    }
   },
   "cell_type": "code",
   "source": [
    "\n",
    "#  Create a 2-dimensional array of random integers between 100 and -100 in the shape (3, 3). Use the np.where()function to replace all negative values in the array with 0. Use a seed to save the random numbers generated.\n",
    "\n",
    "np.random.seed(12)\n",
    "\n",
    "array12 = np.random.randint(-100, 100, size=(3, 3))\n",
    "\n",
    "array12 = np.where(array12 < 0, 0, array12)\n",
    "\n",
    "array12\n"
   ],
   "id": "d8ee3ca4b97a2116",
   "outputs": [
    {
     "data": {
      "text/plain": [
       "array([[ 0, 55, 34],\n",
       "       [30,  0, 95],\n",
       "       [ 0, 76,  0]])"
      ]
     },
     "execution_count": 1721,
     "metadata": {},
     "output_type": "execute_result"
    }
   ],
   "execution_count": 1721
  },
  {
   "metadata": {
    "ExecuteTime": {
     "end_time": "2025-05-01T10:28:18.760959Z",
     "start_time": "2025-05-01T10:28:18.758686Z"
    }
   },
   "cell_type": "code",
   "source": [
    "# Create an array from the list above. Using the np.unique() function, return the unique elements in the array and the counts of each unique element (how many times each element appears in the list).\n",
    "\n",
    "list1 = [[12, 23, 34, 34], [13, 13, 20, 21]]\n",
    "array = np.array(list1)\n",
    "\n",
    "# Get unique elements and their counts\n",
    "unique_elements, counts = np.unique(array, return_counts=True)\n",
    "unique_elements"
   ],
   "id": "158b6d6224d00127",
   "outputs": [
    {
     "data": {
      "text/plain": [
       "array([12, 13, 20, 21, 23, 34])"
      ]
     },
     "execution_count": 1722,
     "metadata": {},
     "output_type": "execute_result"
    }
   ],
   "execution_count": 1722
  },
  {
   "metadata": {
    "ExecuteTime": {
     "end_time": "2025-05-01T10:28:18.812168Z",
     "start_time": "2025-05-01T10:28:18.810458Z"
    }
   },
   "cell_type": "code",
   "source": [
    "#Using the np.flatten() function to flatten the nested array you created in question 4.\n",
    "\n",
    "flattened_array = new_array8.flatten()\n",
    "\n",
    "print(\"Flattened Array:\", flattened_array)"
   ],
   "id": "dd5ace6a86591983",
   "outputs": [
    {
     "name": "stdout",
     "output_type": "stream",
     "text": [
      "Flattened Array: [ 1  2  3  4  5  6  7  8  9 10 11 12 13 14 15]\n"
     ]
    }
   ],
   "execution_count": 1723
  },
  {
   "metadata": {},
   "cell_type": "markdown",
   "source": [
    "### Day 13 Slicing and Analyzing Arrays\n",
    "\n",
    "In this challenge, your objective is to demonstrate your\n",
    "proficiency in creating arrays from lists and extracting\n",
    "specific information from those arrays. You have the\n",
    "following data:\n",
    "\n"
   ],
   "id": "4af7f39aea1efaa3"
  },
  {
   "metadata": {
    "ExecuteTime": {
     "end_time": "2025-05-01T10:28:18.839682Z",
     "start_time": "2025-05-01T10:28:18.837422Z"
    }
   },
   "cell_type": "code",
   "source": [
    "#Using the data above, create an array and transpose it. Thecreation of an array and transposition should be combined  into one code. The code should return a transposed array.\n",
    "names = [\"John\",\"Kelly\",\"Jos\",\"Peter\",\"Robert\",\"Piper\"]\n",
    "age = [21,21,56,44,56,96]\n",
    "gender = [\"m\",\"f\",\"m\",\"m\",\"m\",\"f\"]\n",
    "\n",
    "array13 = np.array([names,age,gender]).T\n",
    "array13"
   ],
   "id": "ea269b95055cc6d0",
   "outputs": [
    {
     "data": {
      "text/plain": [
       "array([['John', '21', 'm'],\n",
       "       ['Kelly', '21', 'f'],\n",
       "       ['Jos', '56', 'm'],\n",
       "       ['Peter', '44', 'm'],\n",
       "       ['Robert', '56', 'm'],\n",
       "       ['Piper', '96', 'f']], dtype='<U21')"
      ]
     },
     "execution_count": 1724,
     "metadata": {},
     "output_type": "execute_result"
    }
   ],
   "execution_count": 1724
  },
  {
   "metadata": {
    "ExecuteTime": {
     "end_time": "2025-05-01T10:28:18.881350Z",
     "start_time": "2025-05-01T10:28:18.879273Z"
    }
   },
   "cell_type": "code",
   "source": [
    "#Using slicing or indexing, write code to return the last row of the transposed array\n",
    "array13[5]"
   ],
   "id": "92b7f897660e096b",
   "outputs": [
    {
     "data": {
      "text/plain": [
       "array(['Piper', '96', 'f'], dtype='<U21')"
      ]
     },
     "execution_count": 1725,
     "metadata": {},
     "output_type": "execute_result"
    }
   ],
   "execution_count": 1725
  },
  {
   "metadata": {
    "ExecuteTime": {
     "end_time": "2025-05-01T10:28:18.932929Z",
     "start_time": "2025-05-01T10:28:18.930816Z"
    }
   },
   "cell_type": "code",
   "source": [
    "#Using slicing or indexing, write code to return the first two rows of the transposed array\n",
    "int(array13[3,1]) # Row 3 (Peter), Column 1 (Age)"
   ],
   "id": "2f55cdf965bc2175",
   "outputs": [
    {
     "data": {
      "text/plain": [
       "44"
      ]
     },
     "execution_count": 1726,
     "metadata": {},
     "output_type": "execute_result"
    }
   ],
   "execution_count": 1726
  },
  {
   "metadata": {
    "ExecuteTime": {
     "end_time": "2025-05-01T10:28:18.979442Z",
     "start_time": "2025-05-01T10:28:18.976883Z"
    }
   },
   "cell_type": "code",
   "source": [
    "#Write code to return an array of Kelly's age and gender using slicing\n",
    "array13[1,1:]"
   ],
   "id": "1931beb00ba5c612",
   "outputs": [
    {
     "data": {
      "text/plain": [
       "array(['21', 'f'], dtype='<U21')"
      ]
     },
     "execution_count": 1727,
     "metadata": {},
     "output_type": "execute_result"
    }
   ],
   "execution_count": 1727
  },
  {
   "metadata": {
    "ExecuteTime": {
     "end_time": "2025-05-01T10:28:19.043678Z",
     "start_time": "2025-05-01T10:28:19.012235Z"
    }
   },
   "cell_type": "code",
   "source": [
    "#One of the uses of slicing is for data visualization. Slicing is often used in data visualization to extract specific portions of a dataset for plotting. Write code to create a subarray of the ages (only ages) in the transposed array using slicing. Using Matplotlib, plot a histogram of the age array. Your graph should have an xlabel, an ylabel, and a title.\n",
    "\n",
    "# Slice the ages (column 1)\n",
    "ages = array13[:, 1].astype(int)\n",
    "\n",
    "# Plot the histogram\n",
    "plt.hist(ages, bins=5, color='skyblue', edgecolor='black')\n",
    "plt.xlabel(\"Age\")\n",
    "plt.ylabel(\"Frequency\")\n",
    "plt.title(\"Histogram of Ages\")\n",
    "plt.show()"
   ],
   "id": "cfc1202859b997fe",
   "outputs": [
    {
     "data": {
      "text/plain": [
       "<Figure size 200x200 with 1 Axes>"
      ],
      "image/png": "[encoded data removed]"
     },
     "metadata": {},
     "output_type": "display_data"
    }
   ],
   "execution_count": 1728
  },
  {
   "metadata": {},
   "cell_type": "markdown",
   "source": [
    "### Day 14:\n",
    "\n",
    "Analyze Data with NumPy Part - 1\n",
    "\n",
    "You are given the following data, which is in list format:\n",
    "Your task is to analyze and obtain insights from this data\n",
    "using NumPy (do not use pandas). Your first task is to\n",
    "create one array from the three (3) lists. You will use this\n",
    "array to answer the questions that follow."
   ],
   "id": "46f40aede47178be"
  },
  {
   "metadata": {
    "ExecuteTime": {
     "end_time": "2025-05-01T10:28:19.069004Z",
     "start_time": "2025-05-01T10:28:19.066370Z"
    }
   },
   "cell_type": "code",
   "source": [
    "names = [\"Kelly\",\"Ben\",\"Jack\",\"Muhammad\",\"Jose\",\"Liz\"]\n",
    "grades = [45,65,75,35,85,40]\n",
    "clasess = [\"a\",\"c\",\"e\",\"g\",\"e\",\"f\"]"
   ],
   "id": "9cdafb5c500b82ca",
   "outputs": [],
   "execution_count": 1729
  },
  {
   "metadata": {
    "ExecuteTime": {
     "end_time": "2025-05-01T10:28:19.101255Z",
     "start_time": "2025-05-01T10:28:19.099069Z"
    }
   },
   "cell_type": "code",
   "source": [
    "#Using NumPy, write code that returns all the names and the number of students from class \"e\" who got over 50 marks.\n",
    "names = np.array([\"Kelly\", \"Ben\", \"Jack\", \"Muhammad\", \"Jose\", \"Liz\"])\n",
    "grades = np.array([45, 65, 75, 35, 85, 40])\n",
    "clasess = np.array([\"a\", \"c\", \"e\", \"g\", \"e\", \"f\"])\n",
    "\n",
    "# Boolean indexing to filter students from class \"e\" with grades > 50\n",
    "filter_condition = (clasess == \"e\") & (grades > 50)\n",
    "filtered_names = names[filter_condition]\n",
    "number_of_students = np.sum(filter_condition)\n",
    "\n",
    "print(\"Nombres de los estudiantes:\", filtered_names)\n",
    "print(\"Número de estudiantes:\", number_of_students)"
   ],
   "id": "8c6f22b87eaf211f",
   "outputs": [
    {
     "name": "stdout",
     "output_type": "stream",
     "text": [
      "Nombres de los estudiantes: ['Jack' 'Jose']\n",
      "Número de estudiantes: 2\n"
     ]
    }
   ],
   "execution_count": 1730
  },
  {
   "metadata": {
    "ExecuteTime": {
     "end_time": "2025-05-01T10:28:19.136801Z",
     "start_time": "2025-05-01T10:28:19.133141Z"
    }
   },
   "cell_type": "code",
   "source": [
    "#Your next task is to write a code that returns all the students who got less than 75 marks.\n",
    "filter_student = grades<75\n",
    "filter_names = names[filter_student]\n",
    "filter_names"
   ],
   "id": "24f6f8143ca1895e",
   "outputs": [
    {
     "data": {
      "text/plain": [
       "array(['Kelly', 'Ben', 'Muhammad', 'Liz'], dtype='<U8')"
      ]
     },
     "execution_count": 1731,
     "metadata": {},
     "output_type": "execute_result"
    }
   ],
   "execution_count": 1731
  },
  {
   "metadata": {
    "ExecuteTime": {
     "end_time": "2025-05-01T10:28:19.176479Z",
     "start_time": "2025-05-01T10:28:19.174644Z"
    }
   },
   "cell_type": "code",
   "source": [
    "#Write code that returns how many marks a student named Liz got\n",
    "# Find the index of the student named Liz\n",
    "liz_index = np.where(names == \"Liz\")[0][0]\n",
    "\n",
    "# Get the marks of Liz using the index\n",
    "liz_marks = grades[liz_index]\n",
    "\n",
    "print(\"Marks obtained by Liz:\", liz_marks)"
   ],
   "id": "cef5377e48a20941",
   "outputs": [
    {
     "name": "stdout",
     "output_type": "stream",
     "text": [
      "Marks obtained by Liz: 40\n"
     ]
    }
   ],
   "execution_count": 1732
  },
  {
   "metadata": {
    "ExecuteTime": {
     "end_time": "2025-05-01T10:28:19.209665Z",
     "start_time": "2025-05-01T10:28:19.207915Z"
    }
   },
   "cell_type": "code",
   "source": [
    "#Which student got the highest marks?\n",
    "highest_marks_index=np.argmax(grades)\n",
    "\n",
    "student_with_highest_marks = names[highest_marks_index]\n",
    "\n",
    "print(\"Student with the highest marks:\", student_with_highest_marks)"
   ],
   "id": "9caa99506101d4ec",
   "outputs": [
    {
     "name": "stdout",
     "output_type": "stream",
     "text": [
      "Student with the highest marks: Jose\n"
     ]
    }
   ],
   "execution_count": 1733
  },
  {
   "metadata": {
    "ExecuteTime": {
     "end_time": "2025-05-01T10:28:19.244098Z",
     "start_time": "2025-05-01T10:28:19.242257Z"
    }
   },
   "cell_type": "code",
   "source": [
    "#What is the longest name in the array, and what is its index?\n",
    "longest_name = max(names, key=len)\n",
    "longest_name_index = np.where(names == longest_name)[0][0]\n",
    "\n",
    "print(\"Longest name:\", longest_name)\n",
    "print(\"Index of the longest name:\", longest_name_index)"
   ],
   "id": "2933a13f7241c16e",
   "outputs": [
    {
     "name": "stdout",
     "output_type": "stream",
     "text": [
      "Longest name: Muhammad\n",
      "Index of the longest name: 3\n"
     ]
    }
   ],
   "execution_count": 1734
  },
  {
   "metadata": {},
   "cell_type": "markdown",
   "source": [
    "### Day 15\n",
    "Analyse Data with NumPy Part - 2\n",
    "\n",
    "For this challenge, you are going to work with the data\n",
    "below. You are going to use NumPy functionality to answer\n",
    "questions using this data. This challenge will test your\n",
    "ability to use slicing to extract specific columns or rows of\n",
    "the data and perform operations on them. You will import\n",
    "a CSV file called names_age_sex_data."
   ],
   "id": "bc624c1fa5e3a2e8"
  },
  {
   "metadata": {
    "ExecuteTime": {
     "end_time": "2025-05-01T10:28:19.277534Z",
     "start_time": "2025-05-01T10:28:19.275426Z"
    }
   },
   "cell_type": "code",
   "source": [
    "array15 = np.array([\n",
    "    ['Name', 'Sex', 'Age'],\n",
    "    ['Grace', 'Male', '18'],\n",
    "    ['Charlie', 'Female', '60'],\n",
    "    ['Olivia', 'Female', '27'],\n",
    "    ['Frank', 'Male', '55']\n",
    "])\n",
    "array15"
   ],
   "id": "7e63f244569367f8",
   "outputs": [
    {
     "data": {
      "text/plain": [
       "array([['Name', 'Sex', 'Age'],\n",
       "       ['Grace', 'Male', '18'],\n",
       "       ['Charlie', 'Female', '60'],\n",
       "       ['Olivia', 'Female', '27'],\n",
       "       ['Frank', 'Male', '55']], dtype='<U7')"
      ]
     },
     "execution_count": 1735,
     "metadata": {},
     "output_type": "execute_result"
    }
   ],
   "execution_count": 1735
  },
  {
   "metadata": {
    "ExecuteTime": {
     "end_time": "2025-05-01T10:28:19.309844Z",
     "start_time": "2025-05-01T10:28:19.308025Z"
    }
   },
   "cell_type": "code",
   "source": [
    "array15_transpose = array15.T\n",
    "array15_transpose"
   ],
   "id": "23d32bc87f71d2cd",
   "outputs": [
    {
     "data": {
      "text/plain": [
       "array([['Name', 'Grace', 'Charlie', 'Olivia', 'Frank'],\n",
       "       ['Sex', 'Male', 'Female', 'Female', 'Male'],\n",
       "       ['Age', '18', '60', '27', '55']], dtype='<U7')"
      ]
     },
     "execution_count": 1736,
     "metadata": {},
     "output_type": "execute_result"
    }
   ],
   "execution_count": 1736
  },
  {
   "metadata": {
    "ExecuteTime": {
     "end_time": "2025-05-01T10:28:19.361962Z",
     "start_time": "2025-05-01T10:28:19.360187Z"
    }
   },
   "cell_type": "code",
   "source": [
    "#Using slicing, create three arrays: an array of all the names in the column, an array of the age column,and an array of the gender (sex) column\n",
    "\n",
    "names = array15[1:, 0]  # All rows except the header, column 0\n",
    "ages = array15[1:, 2]   # All rows except the header, column 2\n",
    "genders = array15[1:, 1]  # All rows except the header, column 1\n",
    "\n",
    "print(\"Names:\", names)\n",
    "print(\"Ages:\", ages)\n",
    "print(\"Genders:\", genders)"
   ],
   "id": "a5e9497cb5959a3a",
   "outputs": [
    {
     "name": "stdout",
     "output_type": "stream",
     "text": [
      "Names: ['Grace' 'Charlie' 'Olivia' 'Frank']\n",
      "Ages: ['18' '60' '27' '55']\n",
      "Genders: ['Male' 'Female' 'Female' 'Male']\n"
     ]
    }
   ],
   "execution_count": 1737
  },
  {
   "metadata": {
    "ExecuteTime": {
     "end_time": "2025-05-01T10:28:19.428479Z",
     "start_time": "2025-05-01T10:28:19.426756Z"
    }
   },
   "cell_type": "code",
   "source": [
    "#Using NumPy, write code that returns all the names of people who are 56 years old.\n",
    "age_filter = array15[1:, 2] == '56'\n",
    "names_56_years_old = array15[1:, 0][age_filter]\n",
    "\n",
    "print(\"Names of people who are 56 years old:\", names_56_years_old)"
   ],
   "id": "1c34436c37585f1b",
   "outputs": [
    {
     "name": "stdout",
     "output_type": "stream",
     "text": [
      "Names of people who are 56 years old: []\n"
     ]
    }
   ],
   "execution_count": 1738
  },
  {
   "metadata": {
    "ExecuteTime": {
     "end_time": "2025-05-01T10:28:19.468341Z",
     "start_time": "2025-05-01T10:28:19.466555Z"
    }
   },
   "cell_type": "code",
   "source": [
    "# How many people are aged 44 or under?\n",
    "ages = array15[1:, 2].astype(int)\n",
    "\n",
    "# Filter ages 44 or under and count them\n",
    "count_44_or_under = np.sum(ages <= 44)\n",
    "\n",
    "print(\"Number of people aged 44 or under:\", count_44_or_under)"
   ],
   "id": "f9853ae93cd1bb10",
   "outputs": [
    {
     "name": "stdout",
     "output_type": "stream",
     "text": [
      "Number of people aged 44 or under: 2\n"
     ]
    }
   ],
   "execution_count": 1739
  },
  {
   "metadata": {
    "ExecuteTime": {
     "end_time": "2025-05-01T10:28:19.500611Z",
     "start_time": "2025-05-01T10:28:19.498866Z"
    }
   },
   "cell_type": "code",
   "source": [
    "# Write another code snippet to return an array of all the males in the dataset. How many males are in the dataset?\n",
    "male_filter = array15[1:, 1] == 'Male'\n",
    "males = array15[1:, 0][male_filter]\n",
    "\n",
    "# Count the number of males\n",
    "male_count = np.sum(male_filter)\n",
    "\n",
    "print(\"Array of all males:\", males)\n",
    "print(\"Number of males in the dataset:\", male_count)"
   ],
   "id": "d1b51949eff1b150",
   "outputs": [
    {
     "name": "stdout",
     "output_type": "stream",
     "text": [
      "Array of all males: ['Grace' 'Frank']\n",
      "Number of males in the dataset: 2\n"
     ]
    }
   ],
   "execution_count": 1740
  },
  {
   "metadata": {
    "ExecuteTime": {
     "end_time": "2025-05-01T10:28:19.540518Z",
     "start_time": "2025-05-01T10:28:19.538654Z"
    }
   },
   "cell_type": "code",
   "source": [
    "#Calculate the average age of all the females in the table.\n",
    "female_filter = array15[1:, 1] == 'Female'\n",
    "female_ages = array15[1:, 2][female_filter].astype(int)\n",
    "\n",
    "# Calculate the average age\n",
    "average_female_age = np.mean(female_ages)\n",
    "\n",
    "print(\"Average age of all females:\", average_female_age)"
   ],
   "id": "2286d21fc1e1f8fe",
   "outputs": [
    {
     "name": "stdout",
     "output_type": "stream",
     "text": [
      "Average age of all females: 43.5\n"
     ]
    }
   ],
   "execution_count": 1741
  },
  {
   "metadata": {
    "ExecuteTime": {
     "end_time": "2025-05-01T10:28:19.566722Z",
     "start_time": "2025-05-01T10:28:19.564836Z"
    }
   },
   "cell_type": "code",
   "source": [
    "# Calculate the average age of people named Olivia and Kate\n",
    "name_filter = np.isin(array15[1:, 0], ['Olivia', 'Kate'])\n",
    "filtered_ages = array15[1:, 2][name_filter].astype(int)\n",
    "\n",
    "# Calculate the average age\n",
    "if filtered_ages.size > 0:\n",
    "    average_age = np.mean(filtered_ages)\n",
    "    print(\"Average age of people named Olivia and Kate:\", average_age)\n",
    "else:\n",
    "    print(\"No data available for people named Olivia and Kate.\")"
   ],
   "id": "d185e434a9e0d9d1",
   "outputs": [
    {
     "name": "stdout",
     "output_type": "stream",
     "text": [
      "Average age of people named Olivia and Kate: 27.0\n"
     ]
    }
   ],
   "execution_count": 1742
  },
  {
   "metadata": {},
   "cell_type": "markdown",
   "source": [
    "### Day 16  Pandas Series Analysis\n",
    "\n",
    "In the challenges below, you will create and analyze a\n",
    "pandas Serie and create a DataFrame from a pandas Series.\n",
    "You will use the data below to answer the challenges."
   ],
   "id": "b9807d23c478cebd"
  },
  {
   "metadata": {
    "ExecuteTime": {
     "end_time": "2025-05-01T10:28:19.586157Z",
     "start_time": "2025-05-01T10:28:19.584103Z"
    }
   },
   "cell_type": "code",
   "source": [
    "list1 = [\"wood\",\"red\",\"red\",\"white\",\"blue\",\"red\"]\n",
    "\n",
    "#Using pandas, create a pandas Series from the list above. Write a code to find how many times each item appears in the list\n",
    "\n",
    "serie16 = pd.Series(list1,name=\"color\")\n",
    "serie16.value_counts()"
   ],
   "id": "fa9ad10471d081f8",
   "outputs": [
    {
     "data": {
      "text/plain": [
       "color\n",
       "red      3\n",
       "wood     1\n",
       "white    1\n",
       "blue     1\n",
       "Name: count, dtype: int64"
      ]
     },
     "execution_count": 1743,
     "metadata": {},
     "output_type": "execute_result"
    }
   ],
   "execution_count": 1743
  },
  {
   "metadata": {
    "ExecuteTime": {
     "end_time": "2025-05-01T10:28:19.614045Z",
     "start_time": "2025-05-01T10:28:19.612369Z"
    }
   },
   "cell_type": "code",
   "source": [
    "#Using pandas, write code to check if red, white, or black are in the Series\n",
    "presence = {color: color in  serie16.values for color in [\"red\",\"white\",\"black\"]}\n",
    "print(presence)"
   ],
   "id": "8029f3180ac07a81",
   "outputs": [
    {
     "name": "stdout",
     "output_type": "stream",
     "text": [
      "{'red': True, 'white': True, 'black': False}\n"
     ]
    }
   ],
   "execution_count": 1744
  },
  {
   "metadata": {
    "ExecuteTime": {
     "end_time": "2025-05-01T10:28:19.664725Z",
     "start_time": "2025-05-01T10:28:19.662748Z"
    }
   },
   "cell_type": "code",
   "source": [
    "#Using pandas, write code to return all unique values from the Series\n",
    "serie16.unique()"
   ],
   "id": "a9d52eaf9c2cdf97",
   "outputs": [
    {
     "data": {
      "text/plain": [
       "array(['wood', 'red', 'white', 'blue'], dtype=object)"
      ]
     },
     "execution_count": 1745,
     "metadata": {},
     "output_type": "execute_result"
    }
   ],
   "execution_count": 1745
  },
  {
   "metadata": {
    "ExecuteTime": {
     "end_time": "2025-05-01T10:28:19.697632Z",
     "start_time": "2025-05-01T10:28:19.694895Z"
    }
   },
   "cell_type": "code",
   "source": [
    "# Using the pandas update() method, write code to update the Series you created in question 1. Add green and orange to the series. The color green will be at index 0, and orange will be at index 2.\n",
    "serie16.update(pd.Series([\"green\",\"orange\"], index = [0,2]))\n",
    "serie16"
   ],
   "id": "404df356c5616065",
   "outputs": [
    {
     "data": {
      "text/plain": [
       "0     green\n",
       "1       red\n",
       "2    orange\n",
       "3     white\n",
       "4      blue\n",
       "5       red\n",
       "Name: color, dtype: object"
      ]
     },
     "execution_count": 1746,
     "metadata": {},
     "output_type": "execute_result"
    }
   ],
   "execution_count": 1746
  },
  {
   "metadata": {
    "ExecuteTime": {
     "end_time": "2025-05-01T10:28:19.730931Z",
     "start_time": "2025-05-01T10:28:19.728973Z"
    }
   },
   "cell_type": "code",
   "source": [
    "#Write code to check the number of dimensions of your updated Series (question 4).\n",
    "serie16.shape"
   ],
   "id": "4044f94fc9d76f97",
   "outputs": [
    {
     "data": {
      "text/plain": [
       "(6,)"
      ]
     },
     "execution_count": 1747,
     "metadata": {},
     "output_type": "execute_result"
    }
   ],
   "execution_count": 1747
  },
  {
   "metadata": {
    "ExecuteTime": {
     "end_time": "2025-05-01T10:28:19.776869Z",
     "start_time": "2025-05-01T10:28:19.774748Z"
    }
   },
   "cell_type": "code",
   "source": [
    "#Write another line of code to convert the Series into a DataFrame. Your DataFrame should have one column of colors. Check the shape and number of dimensions of your DataFrame. Your DataFrame must have a shape of (6, 1).\n",
    "color_df = serie16.to_frame()\n",
    "color_df.shape"
   ],
   "id": "52d7c68a3240f496",
   "outputs": [
    {
     "data": {
      "text/plain": [
       "(6, 1)"
      ]
     },
     "execution_count": 1748,
     "metadata": {},
     "output_type": "execute_result"
    }
   ],
   "execution_count": 1748
  },
  {
   "metadata": {},
   "cell_type": "markdown",
   "source": [
    "### Day 17 Creating and Modifying DataFrames\n",
    "\n",
    "Creating and modifying DataFrame is an essential skill for\n",
    "data analysts because it allows them to efficiently clean,\n",
    "transform, analyze, and report on data. It is a foundational\n",
    "skill that is used in many data-related tasks and workflows.\n",
    "In the challenges below, you will create and modify\n",
    "DataFrames."
   ],
   "id": "92825128f62c23e"
  },
  {
   "metadata": {
    "ExecuteTime": {
     "end_time": "2025-05-01T10:28:19.807419Z",
     "start_time": "2025-05-01T10:28:19.805718Z"
    }
   },
   "cell_type": "code",
   "source": "list1 = [[1, 2, 3], [4, 5, 6], [7, 8, 9]]",
   "id": "3370658a9828ab3",
   "outputs": [],
   "execution_count": 1749
  },
  {
   "metadata": {
    "ExecuteTime": {
     "end_time": "2025-05-01T10:28:19.845855Z",
     "start_time": "2025-05-01T10:28:19.843292Z"
    }
   },
   "cell_type": "code",
   "source": [
    "#Create a DataFrame from the list above with three columns [A, B, C].\n",
    "df17 = pd.DataFrame(list1, columns=[\"A\",\"B\",\"C\"])\n",
    "df17"
   ],
   "id": "33cb7c7d17dd43d",
   "outputs": [
    {
     "data": {
      "text/plain": [
       "   A  B  C\n",
       "0  1  2  3\n",
       "1  4  5  6\n",
       "2  7  8  9"
      ],
      "text/html": [
       "<div>\n",
       "<style scoped>\n",
       "    .dataframe tbody tr th:only-of-type {\n",
       "        vertical-align: middle;\n",
       "    }\n",
       "\n",
       "    .dataframe tbody tr th {\n",
       "        vertical-align: top;\n",
       "    }\n",
       "\n",
       "    .dataframe thead th {\n",
       "        text-align: right;\n",
       "    }\n",
       "</style>\n",
       "<table border=\"1\" class=\"dataframe\">\n",
       "  <thead>\n",
       "    <tr style=\"text-align: right;\">\n",
       "      <th></th>\n",
       "      <th>A</th>\n",
       "      <th>B</th>\n",
       "      <th>C</th>\n",
       "    </tr>\n",
       "  </thead>\n",
       "  <tbody>\n",
       "    <tr>\n",
       "      <th>0</th>\n",
       "      <td>1</td>\n",
       "      <td>2</td>\n",
       "      <td>3</td>\n",
       "    </tr>\n",
       "    <tr>\n",
       "      <th>1</th>\n",
       "      <td>4</td>\n",
       "      <td>5</td>\n",
       "      <td>6</td>\n",
       "    </tr>\n",
       "    <tr>\n",
       "      <th>2</th>\n",
       "      <td>7</td>\n",
       "      <td>8</td>\n",
       "      <td>9</td>\n",
       "    </tr>\n",
       "  </tbody>\n",
       "</table>\n",
       "</div>"
      ]
     },
     "execution_count": 1750,
     "metadata": {},
     "output_type": "execute_result"
    }
   ],
   "execution_count": 1750
  },
  {
   "metadata": {
    "ExecuteTime": {
     "end_time": "2025-05-01T10:28:19.884080Z",
     "start_time": "2025-05-01T10:28:19.882281Z"
    }
   },
   "cell_type": "code",
   "source": [
    "#Using the pandas .at attribute access the number 9 from your DataFrame.\n",
    "print(df17.at[2,\"C\"]) #Set value at specified row/column pair"
   ],
   "id": "f0f366c17bc38098",
   "outputs": [
    {
     "name": "stdout",
     "output_type": "stream",
     "text": [
      "9\n"
     ]
    }
   ],
   "execution_count": 1751
  },
  {
   "metadata": {
    "ExecuteTime": {
     "end_time": "2025-05-01T10:28:19.932601Z",
     "start_time": "2025-05-01T10:28:19.930536Z"
    }
   },
   "cell_type": "code",
   "source": [
    "\n",
    "##Write another code using the .at attribute to change the number 9 to 10.\n",
    "df17.at[2, 'C'] = 10\n",
    "df17.at[2,\"C\"]"
   ],
   "id": "8c6f25baa5032b62",
   "outputs": [
    {
     "data": {
      "text/plain": [
       "np.int64(10)"
      ]
     },
     "execution_count": 1752,
     "metadata": {},
     "output_type": "execute_result"
    }
   ],
   "execution_count": 1752
  },
  {
   "metadata": {
    "ExecuteTime": {
     "end_time": "2025-05-01T10:28:19.980477Z",
     "start_time": "2025-05-01T10:28:19.977565Z"
    }
   },
   "cell_type": "code",
   "source": [
    "# Create a DataFrame using the data below\n",
    "names = [\"John\",\"Mary\",\"Peter\"]\n",
    "age = [27,34,47]\n",
    "sex = [\"male\",\"female\",\"female\"]\n",
    "\n",
    "data = {\"Name\": names,\n",
    "        \"Age\":age,\n",
    "        \"Sex\": sex}\n",
    "#Creating the DF\n",
    "new_df17  = pd.DataFrame(data)\n",
    "new_df17\n",
    "\n",
    "\n"
   ],
   "id": "3eecbc504bd29c9d",
   "outputs": [
    {
     "data": {
      "text/plain": [
       "    Name  Age     Sex\n",
       "0   John   27    male\n",
       "1   Mary   34  female\n",
       "2  Peter   47  female"
      ],
      "text/html": [
       "<div>\n",
       "<style scoped>\n",
       "    .dataframe tbody tr th:only-of-type {\n",
       "        vertical-align: middle;\n",
       "    }\n",
       "\n",
       "    .dataframe tbody tr th {\n",
       "        vertical-align: top;\n",
       "    }\n",
       "\n",
       "    .dataframe thead th {\n",
       "        text-align: right;\n",
       "    }\n",
       "</style>\n",
       "<table border=\"1\" class=\"dataframe\">\n",
       "  <thead>\n",
       "    <tr style=\"text-align: right;\">\n",
       "      <th></th>\n",
       "      <th>Name</th>\n",
       "      <th>Age</th>\n",
       "      <th>Sex</th>\n",
       "    </tr>\n",
       "  </thead>\n",
       "  <tbody>\n",
       "    <tr>\n",
       "      <th>0</th>\n",
       "      <td>John</td>\n",
       "      <td>27</td>\n",
       "      <td>male</td>\n",
       "    </tr>\n",
       "    <tr>\n",
       "      <th>1</th>\n",
       "      <td>Mary</td>\n",
       "      <td>34</td>\n",
       "      <td>female</td>\n",
       "    </tr>\n",
       "    <tr>\n",
       "      <th>2</th>\n",
       "      <td>Peter</td>\n",
       "      <td>47</td>\n",
       "      <td>female</td>\n",
       "    </tr>\n",
       "  </tbody>\n",
       "</table>\n",
       "</div>"
      ]
     },
     "execution_count": 1753,
     "metadata": {},
     "output_type": "execute_result"
    }
   ],
   "execution_count": 1753
  },
  {
   "metadata": {
    "ExecuteTime": {
     "end_time": "2025-05-01T10:28:20.017861Z",
     "start_time": "2025-05-01T10:28:20.015428Z"
    }
   },
   "cell_type": "code",
   "source": [
    "# Using the .loc attribute, access the age of John from the DF (loc is based on a label) by row or column\n",
    "\n",
    "new_df17.loc[0,[\"Age\"]]"
   ],
   "id": "23dcc18a4ac120e5",
   "outputs": [
    {
     "data": {
      "text/plain": [
       "Age    27\n",
       "Name: 0, dtype: object"
      ]
     },
     "execution_count": 1754,
     "metadata": {},
     "output_type": "execute_result"
    }
   ],
   "execution_count": 1754
  },
  {
   "metadata": {
    "ExecuteTime": {
     "end_time": "2025-05-01T10:28:20.073081Z",
     "start_time": "2025-05-01T10:28:20.070252Z"
    }
   },
   "cell_type": "code",
   "source": [
    "#Using the .loc attribute change the gender of Peter from \"female\" to \"male.\n",
    "new_df17.loc[2,\"Sex\"] = \"male\"\n",
    "new_df17"
   ],
   "id": "e66151c1f091d975",
   "outputs": [
    {
     "data": {
      "text/plain": [
       "    Name  Age     Sex\n",
       "0   John   27    male\n",
       "1   Mary   34  female\n",
       "2  Peter   47    male"
      ],
      "text/html": [
       "<div>\n",
       "<style scoped>\n",
       "    .dataframe tbody tr th:only-of-type {\n",
       "        vertical-align: middle;\n",
       "    }\n",
       "\n",
       "    .dataframe tbody tr th {\n",
       "        vertical-align: top;\n",
       "    }\n",
       "\n",
       "    .dataframe thead th {\n",
       "        text-align: right;\n",
       "    }\n",
       "</style>\n",
       "<table border=\"1\" class=\"dataframe\">\n",
       "  <thead>\n",
       "    <tr style=\"text-align: right;\">\n",
       "      <th></th>\n",
       "      <th>Name</th>\n",
       "      <th>Age</th>\n",
       "      <th>Sex</th>\n",
       "    </tr>\n",
       "  </thead>\n",
       "  <tbody>\n",
       "    <tr>\n",
       "      <th>0</th>\n",
       "      <td>John</td>\n",
       "      <td>27</td>\n",
       "      <td>male</td>\n",
       "    </tr>\n",
       "    <tr>\n",
       "      <th>1</th>\n",
       "      <td>Mary</td>\n",
       "      <td>34</td>\n",
       "      <td>female</td>\n",
       "    </tr>\n",
       "    <tr>\n",
       "      <th>2</th>\n",
       "      <td>Peter</td>\n",
       "      <td>47</td>\n",
       "      <td>male</td>\n",
       "    </tr>\n",
       "  </tbody>\n",
       "</table>\n",
       "</div>"
      ]
     },
     "execution_count": 1755,
     "metadata": {},
     "output_type": "execute_result"
    }
   ],
   "execution_count": 1755
  },
  {
   "metadata": {
    "ExecuteTime": {
     "end_time": "2025-05-01T10:28:20.144708Z",
     "start_time": "2025-05-01T10:28:20.141813Z"
    }
   },
   "cell_type": "code",
   "source": [
    "#Write code to extract a subset of the DataFrame containing only male individuals. Write another code to retrieve the name and age of the oldest male from the modified DataFrame\n",
    "filtered_df17= new_df17[new_df17[\"Sex\"]==\"male\"]\n",
    "filtered_df17"
   ],
   "id": "63351cb6773378fc",
   "outputs": [
    {
     "data": {
      "text/plain": [
       "    Name  Age   Sex\n",
       "0   John   27  male\n",
       "2  Peter   47  male"
      ],
      "text/html": [
       "<div>\n",
       "<style scoped>\n",
       "    .dataframe tbody tr th:only-of-type {\n",
       "        vertical-align: middle;\n",
       "    }\n",
       "\n",
       "    .dataframe tbody tr th {\n",
       "        vertical-align: top;\n",
       "    }\n",
       "\n",
       "    .dataframe thead th {\n",
       "        text-align: right;\n",
       "    }\n",
       "</style>\n",
       "<table border=\"1\" class=\"dataframe\">\n",
       "  <thead>\n",
       "    <tr style=\"text-align: right;\">\n",
       "      <th></th>\n",
       "      <th>Name</th>\n",
       "      <th>Age</th>\n",
       "      <th>Sex</th>\n",
       "    </tr>\n",
       "  </thead>\n",
       "  <tbody>\n",
       "    <tr>\n",
       "      <th>0</th>\n",
       "      <td>John</td>\n",
       "      <td>27</td>\n",
       "      <td>male</td>\n",
       "    </tr>\n",
       "    <tr>\n",
       "      <th>2</th>\n",
       "      <td>Peter</td>\n",
       "      <td>47</td>\n",
       "      <td>male</td>\n",
       "    </tr>\n",
       "  </tbody>\n",
       "</table>\n",
       "</div>"
      ]
     },
     "execution_count": 1756,
     "metadata": {},
     "output_type": "execute_result"
    }
   ],
   "execution_count": 1756
  },
  {
   "metadata": {
    "ExecuteTime": {
     "end_time": "2025-05-01T10:28:20.200844Z",
     "start_time": "2025-05-01T10:28:20.198322Z"
    }
   },
   "cell_type": "code",
   "source": [
    "#Write another code to retrieve the name and age of the oldest male from the modified DataFrame\n",
    "oldest_male = filtered_df17.loc[filtered_df17['Age'].idxmax(), ['Name', 'Age']]\n",
    "\n",
    "oldest_male\n"
   ],
   "id": "c1be09dc9793b9bb",
   "outputs": [
    {
     "data": {
      "text/plain": [
       "Name    Peter\n",
       "Age        47\n",
       "Name: 2, dtype: object"
      ]
     },
     "execution_count": 1757,
     "metadata": {},
     "output_type": "execute_result"
    }
   ],
   "execution_count": 1757
  },
  {
   "metadata": {},
   "cell_type": "markdown",
   "source": [
    "### Day 18: Runners Data Analysis –Part 1\n",
    "\n",
    "In this challenge, you will import the \"running_data\" dataset, which is a CSV file."
   ],
   "id": "4409b95e4454db2a"
  },
  {
   "metadata": {
    "ExecuteTime": {
     "end_time": "2025-05-01T10:28:20.276314Z",
     "start_time": "2025-05-01T10:28:20.272367Z"
    }
   },
   "cell_type": "code",
   "source": [
    "# Import the running_data dataset above.\n",
    "running_data = pd.read_csv(\"Data/running_data.csv\")\n",
    "running_data.head()"
   ],
   "id": "8691bb6c41be4d0d",
   "outputs": [
    {
     "data": {
      "text/plain": [
       "    Name  Distance (km)  Time (hours)\n",
       "0  Wendy           9.10          4.24\n",
       "1   Yara           8.61          4.16\n",
       "2  Grace           7.17          2.94\n",
       "3  Grace           6.36          2.78\n",
       "4  David           7.96          3.46"
      ],
      "text/html": [
       "<div>\n",
       "<style scoped>\n",
       "    .dataframe tbody tr th:only-of-type {\n",
       "        vertical-align: middle;\n",
       "    }\n",
       "\n",
       "    .dataframe tbody tr th {\n",
       "        vertical-align: top;\n",
       "    }\n",
       "\n",
       "    .dataframe thead th {\n",
       "        text-align: right;\n",
       "    }\n",
       "</style>\n",
       "<table border=\"1\" class=\"dataframe\">\n",
       "  <thead>\n",
       "    <tr style=\"text-align: right;\">\n",
       "      <th></th>\n",
       "      <th>Name</th>\n",
       "      <th>Distance (km)</th>\n",
       "      <th>Time (hours)</th>\n",
       "    </tr>\n",
       "  </thead>\n",
       "  <tbody>\n",
       "    <tr>\n",
       "      <th>0</th>\n",
       "      <td>Wendy</td>\n",
       "      <td>9.10</td>\n",
       "      <td>4.24</td>\n",
       "    </tr>\n",
       "    <tr>\n",
       "      <th>1</th>\n",
       "      <td>Yara</td>\n",
       "      <td>8.61</td>\n",
       "      <td>4.16</td>\n",
       "    </tr>\n",
       "    <tr>\n",
       "      <th>2</th>\n",
       "      <td>Grace</td>\n",
       "      <td>7.17</td>\n",
       "      <td>2.94</td>\n",
       "    </tr>\n",
       "    <tr>\n",
       "      <th>3</th>\n",
       "      <td>Grace</td>\n",
       "      <td>6.36</td>\n",
       "      <td>2.78</td>\n",
       "    </tr>\n",
       "    <tr>\n",
       "      <th>4</th>\n",
       "      <td>David</td>\n",
       "      <td>7.96</td>\n",
       "      <td>3.46</td>\n",
       "    </tr>\n",
       "  </tbody>\n",
       "</table>\n",
       "</div>"
      ]
     },
     "execution_count": 1758,
     "metadata": {},
     "output_type": "execute_result"
    }
   ],
   "execution_count": 1758
  },
  {
   "metadata": {
    "ExecuteTime": {
     "end_time": "2025-05-01T10:28:20.348001Z",
     "start_time": "2025-05-01T10:28:20.344336Z"
    }
   },
   "cell_type": "code",
   "source": [
    "#Create a copy of the DataFrame. Add another column to the DataFrame that will convert the kilometers run into miles.\n",
    "copy_running_data = running_data\n",
    "copy_running_data[\"Distance (miles)\"] = copy_running_data[\"Distance (km)\"] /1.62\n",
    "copy_running_data.head()"
   ],
   "id": "571965d9b65aeddb",
   "outputs": [
    {
     "data": {
      "text/plain": [
       "    Name  Distance (km)  Time (hours)  Distance (miles)\n",
       "0  Wendy           9.10          4.24          5.617284\n",
       "1   Yara           8.61          4.16          5.314815\n",
       "2  Grace           7.17          2.94          4.425926\n",
       "3  Grace           6.36          2.78          3.925926\n",
       "4  David           7.96          3.46          4.913580"
      ],
      "text/html": [
       "<div>\n",
       "<style scoped>\n",
       "    .dataframe tbody tr th:only-of-type {\n",
       "        vertical-align: middle;\n",
       "    }\n",
       "\n",
       "    .dataframe tbody tr th {\n",
       "        vertical-align: top;\n",
       "    }\n",
       "\n",
       "    .dataframe thead th {\n",
       "        text-align: right;\n",
       "    }\n",
       "</style>\n",
       "<table border=\"1\" class=\"dataframe\">\n",
       "  <thead>\n",
       "    <tr style=\"text-align: right;\">\n",
       "      <th></th>\n",
       "      <th>Name</th>\n",
       "      <th>Distance (km)</th>\n",
       "      <th>Time (hours)</th>\n",
       "      <th>Distance (miles)</th>\n",
       "    </tr>\n",
       "  </thead>\n",
       "  <tbody>\n",
       "    <tr>\n",
       "      <th>0</th>\n",
       "      <td>Wendy</td>\n",
       "      <td>9.10</td>\n",
       "      <td>4.24</td>\n",
       "      <td>5.617284</td>\n",
       "    </tr>\n",
       "    <tr>\n",
       "      <th>1</th>\n",
       "      <td>Yara</td>\n",
       "      <td>8.61</td>\n",
       "      <td>4.16</td>\n",
       "      <td>5.314815</td>\n",
       "    </tr>\n",
       "    <tr>\n",
       "      <th>2</th>\n",
       "      <td>Grace</td>\n",
       "      <td>7.17</td>\n",
       "      <td>2.94</td>\n",
       "      <td>4.425926</td>\n",
       "    </tr>\n",
       "    <tr>\n",
       "      <th>3</th>\n",
       "      <td>Grace</td>\n",
       "      <td>6.36</td>\n",
       "      <td>2.78</td>\n",
       "      <td>3.925926</td>\n",
       "    </tr>\n",
       "    <tr>\n",
       "      <th>4</th>\n",
       "      <td>David</td>\n",
       "      <td>7.96</td>\n",
       "      <td>3.46</td>\n",
       "      <td>4.913580</td>\n",
       "    </tr>\n",
       "  </tbody>\n",
       "</table>\n",
       "</div>"
      ]
     },
     "execution_count": 1759,
     "metadata": {},
     "output_type": "execute_result"
    }
   ],
   "execution_count": 1759
  },
  {
   "metadata": {
    "ExecuteTime": {
     "end_time": "2025-05-01T10:28:20.406703Z",
     "start_time": "2025-05-01T10:28:20.403727Z"
    }
   },
   "cell_type": "code",
   "source": [
    "#Add another column to the DataFrame to calculate the speed per hour in kilometer\n",
    "copy_running_data[\"Speed (km/hour)\"] = copy_running_data[\"Distance (km)\"] / copy_running_data[\"Time (hours)\"]\n",
    "copy_running_data.head()"
   ],
   "id": "790c7425b9afe508",
   "outputs": [
    {
     "data": {
      "text/plain": [
       "    Name  Distance (km)  Time (hours)  Distance (miles)  Speed (km/hour)\n",
       "0  Wendy           9.10          4.24          5.617284         2.146226\n",
       "1   Yara           8.61          4.16          5.314815         2.069712\n",
       "2  Grace           7.17          2.94          4.425926         2.438776\n",
       "3  Grace           6.36          2.78          3.925926         2.287770\n",
       "4  David           7.96          3.46          4.913580         2.300578"
      ],
      "text/html": [
       "<div>\n",
       "<style scoped>\n",
       "    .dataframe tbody tr th:only-of-type {\n",
       "        vertical-align: middle;\n",
       "    }\n",
       "\n",
       "    .dataframe tbody tr th {\n",
       "        vertical-align: top;\n",
       "    }\n",
       "\n",
       "    .dataframe thead th {\n",
       "        text-align: right;\n",
       "    }\n",
       "</style>\n",
       "<table border=\"1\" class=\"dataframe\">\n",
       "  <thead>\n",
       "    <tr style=\"text-align: right;\">\n",
       "      <th></th>\n",
       "      <th>Name</th>\n",
       "      <th>Distance (km)</th>\n",
       "      <th>Time (hours)</th>\n",
       "      <th>Distance (miles)</th>\n",
       "      <th>Speed (km/hour)</th>\n",
       "    </tr>\n",
       "  </thead>\n",
       "  <tbody>\n",
       "    <tr>\n",
       "      <th>0</th>\n",
       "      <td>Wendy</td>\n",
       "      <td>9.10</td>\n",
       "      <td>4.24</td>\n",
       "      <td>5.617284</td>\n",
       "      <td>2.146226</td>\n",
       "    </tr>\n",
       "    <tr>\n",
       "      <th>1</th>\n",
       "      <td>Yara</td>\n",
       "      <td>8.61</td>\n",
       "      <td>4.16</td>\n",
       "      <td>5.314815</td>\n",
       "      <td>2.069712</td>\n",
       "    </tr>\n",
       "    <tr>\n",
       "      <th>2</th>\n",
       "      <td>Grace</td>\n",
       "      <td>7.17</td>\n",
       "      <td>2.94</td>\n",
       "      <td>4.425926</td>\n",
       "      <td>2.438776</td>\n",
       "    </tr>\n",
       "    <tr>\n",
       "      <th>3</th>\n",
       "      <td>Grace</td>\n",
       "      <td>6.36</td>\n",
       "      <td>2.78</td>\n",
       "      <td>3.925926</td>\n",
       "      <td>2.287770</td>\n",
       "    </tr>\n",
       "    <tr>\n",
       "      <th>4</th>\n",
       "      <td>David</td>\n",
       "      <td>7.96</td>\n",
       "      <td>3.46</td>\n",
       "      <td>4.913580</td>\n",
       "      <td>2.300578</td>\n",
       "    </tr>\n",
       "  </tbody>\n",
       "</table>\n",
       "</div>"
      ]
     },
     "execution_count": 1760,
     "metadata": {},
     "output_type": "execute_result"
    }
   ],
   "execution_count": 1760
  },
  {
   "metadata": {
    "ExecuteTime": {
     "end_time": "2025-05-01T10:28:20.469336Z",
     "start_time": "2025-05-01T10:28:20.466065Z"
    }
   },
   "cell_type": "code",
   "source": [
    "runner_test = pd.read_csv(\"Data/runner_rest.csv\")\n",
    "runner_test.head()\n"
   ],
   "id": "d36061ec0f584651",
   "outputs": [
    {
     "data": {
      "text/plain": [
       "  Runners  Rest Time (Mins)\n",
       "0   Grace                45\n",
       "1   Chris                25\n",
       "2   Frank                58\n",
       "3   Alice                47\n",
       "4    Noah               105"
      ],
      "text/html": [
       "<div>\n",
       "<style scoped>\n",
       "    .dataframe tbody tr th:only-of-type {\n",
       "        vertical-align: middle;\n",
       "    }\n",
       "\n",
       "    .dataframe tbody tr th {\n",
       "        vertical-align: top;\n",
       "    }\n",
       "\n",
       "    .dataframe thead th {\n",
       "        text-align: right;\n",
       "    }\n",
       "</style>\n",
       "<table border=\"1\" class=\"dataframe\">\n",
       "  <thead>\n",
       "    <tr style=\"text-align: right;\">\n",
       "      <th></th>\n",
       "      <th>Runners</th>\n",
       "      <th>Rest Time (Mins)</th>\n",
       "    </tr>\n",
       "  </thead>\n",
       "  <tbody>\n",
       "    <tr>\n",
       "      <th>0</th>\n",
       "      <td>Grace</td>\n",
       "      <td>45</td>\n",
       "    </tr>\n",
       "    <tr>\n",
       "      <th>1</th>\n",
       "      <td>Chris</td>\n",
       "      <td>25</td>\n",
       "    </tr>\n",
       "    <tr>\n",
       "      <th>2</th>\n",
       "      <td>Frank</td>\n",
       "      <td>58</td>\n",
       "    </tr>\n",
       "    <tr>\n",
       "      <th>3</th>\n",
       "      <td>Alice</td>\n",
       "      <td>47</td>\n",
       "    </tr>\n",
       "    <tr>\n",
       "      <th>4</th>\n",
       "      <td>Noah</td>\n",
       "      <td>105</td>\n",
       "    </tr>\n",
       "  </tbody>\n",
       "</table>\n",
       "</div>"
      ]
     },
     "execution_count": 1761,
     "metadata": {},
     "output_type": "execute_result"
    }
   ],
   "execution_count": 1761
  },
  {
   "metadata": {
    "ExecuteTime": {
     "end_time": "2025-05-01T10:28:20.528839Z",
     "start_time": "2025-05-01T10:28:20.524699Z"
    }
   },
   "cell_type": "code",
   "source": [
    "#Merge this dataset into your DataFrame above. Use the pandas merge() method. Ensure to drop the \"Runners\" column since you already have the \"Names\" column.\n",
    "copy_running_data =copy_running_data.merge(runner_test,left_on=\"Name\", right_on=\"Runners\", how=\"left\")\n",
    "copy_running_data.drop(columns=[\"Runners\"])\n",
    "copy_running_data.head()"
   ],
   "id": "9997aee921ec665c",
   "outputs": [
    {
     "data": {
      "text/plain": [
       "    Name  Distance (km)  Time (hours)  Distance (miles)  Speed (km/hour)  \\\n",
       "0  Wendy           9.10          4.24          5.617284         2.146226   \n",
       "1   Yara           8.61          4.16          5.314815         2.069712   \n",
       "2  Grace           7.17          2.94          4.425926         2.438776   \n",
       "3  Grace           6.36          2.78          3.925926         2.287770   \n",
       "4  David           7.96          3.46          4.913580         2.300578   \n",
       "\n",
       "  Runners  Rest Time (Mins)  \n",
       "0   Wendy              38.0  \n",
       "1     NaN               NaN  \n",
       "2   Grace              45.0  \n",
       "3   Grace              45.0  \n",
       "4     NaN               NaN  "
      ],
      "text/html": [
       "<div>\n",
       "<style scoped>\n",
       "    .dataframe tbody tr th:only-of-type {\n",
       "        vertical-align: middle;\n",
       "    }\n",
       "\n",
       "    .dataframe tbody tr th {\n",
       "        vertical-align: top;\n",
       "    }\n",
       "\n",
       "    .dataframe thead th {\n",
       "        text-align: right;\n",
       "    }\n",
       "</style>\n",
       "<table border=\"1\" class=\"dataframe\">\n",
       "  <thead>\n",
       "    <tr style=\"text-align: right;\">\n",
       "      <th></th>\n",
       "      <th>Name</th>\n",
       "      <th>Distance (km)</th>\n",
       "      <th>Time (hours)</th>\n",
       "      <th>Distance (miles)</th>\n",
       "      <th>Speed (km/hour)</th>\n",
       "      <th>Runners</th>\n",
       "      <th>Rest Time (Mins)</th>\n",
       "    </tr>\n",
       "  </thead>\n",
       "  <tbody>\n",
       "    <tr>\n",
       "      <th>0</th>\n",
       "      <td>Wendy</td>\n",
       "      <td>9.10</td>\n",
       "      <td>4.24</td>\n",
       "      <td>5.617284</td>\n",
       "      <td>2.146226</td>\n",
       "      <td>Wendy</td>\n",
       "      <td>38.0</td>\n",
       "    </tr>\n",
       "    <tr>\n",
       "      <th>1</th>\n",
       "      <td>Yara</td>\n",
       "      <td>8.61</td>\n",
       "      <td>4.16</td>\n",
       "      <td>5.314815</td>\n",
       "      <td>2.069712</td>\n",
       "      <td>NaN</td>\n",
       "      <td>NaN</td>\n",
       "    </tr>\n",
       "    <tr>\n",
       "      <th>2</th>\n",
       "      <td>Grace</td>\n",
       "      <td>7.17</td>\n",
       "      <td>2.94</td>\n",
       "      <td>4.425926</td>\n",
       "      <td>2.438776</td>\n",
       "      <td>Grace</td>\n",
       "      <td>45.0</td>\n",
       "    </tr>\n",
       "    <tr>\n",
       "      <th>3</th>\n",
       "      <td>Grace</td>\n",
       "      <td>6.36</td>\n",
       "      <td>2.78</td>\n",
       "      <td>3.925926</td>\n",
       "      <td>2.287770</td>\n",
       "      <td>Grace</td>\n",
       "      <td>45.0</td>\n",
       "    </tr>\n",
       "    <tr>\n",
       "      <th>4</th>\n",
       "      <td>David</td>\n",
       "      <td>7.96</td>\n",
       "      <td>3.46</td>\n",
       "      <td>4.913580</td>\n",
       "      <td>2.300578</td>\n",
       "      <td>NaN</td>\n",
       "      <td>NaN</td>\n",
       "    </tr>\n",
       "  </tbody>\n",
       "</table>\n",
       "</div>"
      ]
     },
     "execution_count": 1762,
     "metadata": {},
     "output_type": "execute_result"
    }
   ],
   "execution_count": 1762
  },
  {
   "metadata": {
    "ExecuteTime": {
     "end_time": "2025-05-01T10:28:20.585800Z",
     "start_time": "2025-05-01T10:28:20.580921Z"
    }
   },
   "cell_type": "code",
   "source": [
    "#Now we are going to use the pandas apply() method to convert the \"Rest Time (Mins)\" column into hours.\n",
    "\n",
    "copy_running_data [\"Rest Time (Mins)\"] = copy_running_data[\"Rest Time (Mins)\"].apply(lambda  x: x/60 if x is not None else None)\n",
    "copy_running_data"
   ],
   "id": "4898edd50fcf84a3",
   "outputs": [
    {
     "data": {
      "text/plain": [
       "      Name  Distance (km)  Time (hours)  Distance (miles)  Speed (km/hour)  \\\n",
       "0    Wendy           9.10          4.24          5.617284         2.146226   \n",
       "1     Yara           8.61          4.16          5.314815         2.069712   \n",
       "2    Grace           7.17          2.94          4.425926         2.438776   \n",
       "3    Grace           6.36          2.78          3.925926         2.287770   \n",
       "4    David           7.96          3.46          4.913580         2.300578   \n",
       "5     Noah           8.95          3.51          5.524691         2.549858   \n",
       "6    Quinn           7.35          4.29          4.537037         1.713287   \n",
       "7      Uma           8.12          3.15          5.012346         2.577778   \n",
       "8    Wendy           7.74          4.08          4.777778         1.897059   \n",
       "9   Xander           9.36          2.71          5.777778         3.453875   \n",
       "10    Yara           5.46          3.27          3.370370         1.669725   \n",
       "11     Bob           7.55          3.51          4.660494         2.150997   \n",
       "12   Diana           5.46          2.05          3.370370         2.663415   \n",
       "13    Kate           5.66          4.39          3.493827         1.289294   \n",
       "14    Jack           4.18          2.61          2.580247         1.601533   \n",
       "15     Uma           9.38          4.27          5.790123         2.196721   \n",
       "16    Yara           7.60          3.70          4.691358         2.054054   \n",
       "17   Alice           8.41          4.49          5.191358         1.873051   \n",
       "18   Alice           8.41          4.49          5.191358         1.873051   \n",
       "19   Frank           6.25          1.11          3.858025         5.630631   \n",
       "20     Bob          10.33          4.95          6.376543         2.086869   \n",
       "21  Samuel           2.59          1.24          1.598765         2.088710   \n",
       "22  Olivia           8.63          2.37          5.327160         3.641350   \n",
       "23    Jack           4.32          2.50          2.666667         1.728000   \n",
       "24     Eve           5.84          1.60          3.604938         3.650000   \n",
       "25    Alex           7.47          1.83          4.611111         4.081967   \n",
       "26     Uma           6.17          2.64          3.808642         2.337121   \n",
       "27     Eve           8.51          1.35          5.253086         6.303704   \n",
       "28  Victor           5.89          1.20          3.635802         4.908333   \n",
       "29   Grace           6.04          3.18          3.728395         1.899371   \n",
       "30    Jack           8.54          2.77          5.271605         3.083032   \n",
       "\n",
       "   Runners  Rest Time (Mins)  \n",
       "0    Wendy          0.633333  \n",
       "1      NaN               NaN  \n",
       "2    Grace          0.750000  \n",
       "3    Grace          0.750000  \n",
       "4      NaN               NaN  \n",
       "5     Noah          1.750000  \n",
       "6      NaN               NaN  \n",
       "7      NaN               NaN  \n",
       "8    Wendy          0.633333  \n",
       "9      NaN               NaN  \n",
       "10     NaN               NaN  \n",
       "11     Bob          1.000000  \n",
       "12     NaN               NaN  \n",
       "13     NaN               NaN  \n",
       "14     NaN               NaN  \n",
       "15     NaN               NaN  \n",
       "16     NaN               NaN  \n",
       "17   Alice          0.783333  \n",
       "18   Alice          0.333333  \n",
       "19   Frank          0.966667  \n",
       "20     Bob          1.000000  \n",
       "21     NaN               NaN  \n",
       "22     NaN               NaN  \n",
       "23     NaN               NaN  \n",
       "24     NaN               NaN  \n",
       "25     NaN               NaN  \n",
       "26     NaN               NaN  \n",
       "27     NaN               NaN  \n",
       "28  Victor          0.916667  \n",
       "29   Grace          0.750000  \n",
       "30     NaN               NaN  "
      ],
      "text/html": [
       "<div>\n",
       "<style scoped>\n",
       "    .dataframe tbody tr th:only-of-type {\n",
       "        vertical-align: middle;\n",
       "    }\n",
       "\n",
       "    .dataframe tbody tr th {\n",
       "        vertical-align: top;\n",
       "    }\n",
       "\n",
       "    .dataframe thead th {\n",
       "        text-align: right;\n",
       "    }\n",
       "</style>\n",
       "<table border=\"1\" class=\"dataframe\">\n",
       "  <thead>\n",
       "    <tr style=\"text-align: right;\">\n",
       "      <th></th>\n",
       "      <th>Name</th>\n",
       "      <th>Distance (km)</th>\n",
       "      <th>Time (hours)</th>\n",
       "      <th>Distance (miles)</th>\n",
       "      <th>Speed (km/hour)</th>\n",
       "      <th>Runners</th>\n",
       "      <th>Rest Time (Mins)</th>\n",
       "    </tr>\n",
       "  </thead>\n",
       "  <tbody>\n",
       "    <tr>\n",
       "      <th>0</th>\n",
       "      <td>Wendy</td>\n",
       "      <td>9.10</td>\n",
       "      <td>4.24</td>\n",
       "      <td>5.617284</td>\n",
       "      <td>2.146226</td>\n",
       "      <td>Wendy</td>\n",
       "      <td>0.633333</td>\n",
       "    </tr>\n",
       "    <tr>\n",
       "      <th>1</th>\n",
       "      <td>Yara</td>\n",
       "      <td>8.61</td>\n",
       "      <td>4.16</td>\n",
       "      <td>5.314815</td>\n",
       "      <td>2.069712</td>\n",
       "      <td>NaN</td>\n",
       "      <td>NaN</td>\n",
       "    </tr>\n",
       "    <tr>\n",
       "      <th>2</th>\n",
       "      <td>Grace</td>\n",
       "      <td>7.17</td>\n",
       "      <td>2.94</td>\n",
       "      <td>4.425926</td>\n",
       "      <td>2.438776</td>\n",
       "      <td>Grace</td>\n",
       "      <td>0.750000</td>\n",
       "    </tr>\n",
       "    <tr>\n",
       "      <th>3</th>\n",
       "      <td>Grace</td>\n",
       "      <td>6.36</td>\n",
       "      <td>2.78</td>\n",
       "      <td>3.925926</td>\n",
       "      <td>2.287770</td>\n",
       "      <td>Grace</td>\n",
       "      <td>0.750000</td>\n",
       "    </tr>\n",
       "    <tr>\n",
       "      <th>4</th>\n",
       "      <td>David</td>\n",
       "      <td>7.96</td>\n",
       "      <td>3.46</td>\n",
       "      <td>4.913580</td>\n",
       "      <td>2.300578</td>\n",
       "      <td>NaN</td>\n",
       "      <td>NaN</td>\n",
       "    </tr>\n",
       "    <tr>\n",
       "      <th>5</th>\n",
       "      <td>Noah</td>\n",
       "      <td>8.95</td>\n",
       "      <td>3.51</td>\n",
       "      <td>5.524691</td>\n",
       "      <td>2.549858</td>\n",
       "      <td>Noah</td>\n",
       "      <td>1.750000</td>\n",
       "    </tr>\n",
       "    <tr>\n",
       "      <th>6</th>\n",
       "      <td>Quinn</td>\n",
       "      <td>7.35</td>\n",
       "      <td>4.29</td>\n",
       "      <td>4.537037</td>\n",
       "      <td>1.713287</td>\n",
       "      <td>NaN</td>\n",
       "      <td>NaN</td>\n",
       "    </tr>\n",
       "    <tr>\n",
       "      <th>7</th>\n",
       "      <td>Uma</td>\n",
       "      <td>8.12</td>\n",
       "      <td>3.15</td>\n",
       "      <td>5.012346</td>\n",
       "      <td>2.577778</td>\n",
       "      <td>NaN</td>\n",
       "      <td>NaN</td>\n",
       "    </tr>\n",
       "    <tr>\n",
       "      <th>8</th>\n",
       "      <td>Wendy</td>\n",
       "      <td>7.74</td>\n",
       "      <td>4.08</td>\n",
       "      <td>4.777778</td>\n",
       "      <td>1.897059</td>\n",
       "      <td>Wendy</td>\n",
       "      <td>0.633333</td>\n",
       "    </tr>\n",
       "    <tr>\n",
       "      <th>9</th>\n",
       "      <td>Xander</td>\n",
       "      <td>9.36</td>\n",
       "      <td>2.71</td>\n",
       "      <td>5.777778</td>\n",
       "      <td>3.453875</td>\n",
       "      <td>NaN</td>\n",
       "      <td>NaN</td>\n",
       "    </tr>\n",
       "    <tr>\n",
       "      <th>10</th>\n",
       "      <td>Yara</td>\n",
       "      <td>5.46</td>\n",
       "      <td>3.27</td>\n",
       "      <td>3.370370</td>\n",
       "      <td>1.669725</td>\n",
       "      <td>NaN</td>\n",
       "      <td>NaN</td>\n",
       "    </tr>\n",
       "    <tr>\n",
       "      <th>11</th>\n",
       "      <td>Bob</td>\n",
       "      <td>7.55</td>\n",
       "      <td>3.51</td>\n",
       "      <td>4.660494</td>\n",
       "      <td>2.150997</td>\n",
       "      <td>Bob</td>\n",
       "      <td>1.000000</td>\n",
       "    </tr>\n",
       "    <tr>\n",
       "      <th>12</th>\n",
       "      <td>Diana</td>\n",
       "      <td>5.46</td>\n",
       "      <td>2.05</td>\n",
       "      <td>3.370370</td>\n",
       "      <td>2.663415</td>\n",
       "      <td>NaN</td>\n",
       "      <td>NaN</td>\n",
       "    </tr>\n",
       "    <tr>\n",
       "      <th>13</th>\n",
       "      <td>Kate</td>\n",
       "      <td>5.66</td>\n",
       "      <td>4.39</td>\n",
       "      <td>3.493827</td>\n",
       "      <td>1.289294</td>\n",
       "      <td>NaN</td>\n",
       "      <td>NaN</td>\n",
       "    </tr>\n",
       "    <tr>\n",
       "      <th>14</th>\n",
       "      <td>Jack</td>\n",
       "      <td>4.18</td>\n",
       "      <td>2.61</td>\n",
       "      <td>2.580247</td>\n",
       "      <td>1.601533</td>\n",
       "      <td>NaN</td>\n",
       "      <td>NaN</td>\n",
       "    </tr>\n",
       "    <tr>\n",
       "      <th>15</th>\n",
       "      <td>Uma</td>\n",
       "      <td>9.38</td>\n",
       "      <td>4.27</td>\n",
       "      <td>5.790123</td>\n",
       "      <td>2.196721</td>\n",
       "      <td>NaN</td>\n",
       "      <td>NaN</td>\n",
       "    </tr>\n",
       "    <tr>\n",
       "      <th>16</th>\n",
       "      <td>Yara</td>\n",
       "      <td>7.60</td>\n",
       "      <td>3.70</td>\n",
       "      <td>4.691358</td>\n",
       "      <td>2.054054</td>\n",
       "      <td>NaN</td>\n",
       "      <td>NaN</td>\n",
       "    </tr>\n",
       "    <tr>\n",
       "      <th>17</th>\n",
       "      <td>Alice</td>\n",
       "      <td>8.41</td>\n",
       "      <td>4.49</td>\n",
       "      <td>5.191358</td>\n",
       "      <td>1.873051</td>\n",
       "      <td>Alice</td>\n",
       "      <td>0.783333</td>\n",
       "    </tr>\n",
       "    <tr>\n",
       "      <th>18</th>\n",
       "      <td>Alice</td>\n",
       "      <td>8.41</td>\n",
       "      <td>4.49</td>\n",
       "      <td>5.191358</td>\n",
       "      <td>1.873051</td>\n",
       "      <td>Alice</td>\n",
       "      <td>0.333333</td>\n",
       "    </tr>\n",
       "    <tr>\n",
       "      <th>19</th>\n",
       "      <td>Frank</td>\n",
       "      <td>6.25</td>\n",
       "      <td>1.11</td>\n",
       "      <td>3.858025</td>\n",
       "      <td>5.630631</td>\n",
       "      <td>Frank</td>\n",
       "      <td>0.966667</td>\n",
       "    </tr>\n",
       "    <tr>\n",
       "      <th>20</th>\n",
       "      <td>Bob</td>\n",
       "      <td>10.33</td>\n",
       "      <td>4.95</td>\n",
       "      <td>6.376543</td>\n",
       "      <td>2.086869</td>\n",
       "      <td>Bob</td>\n",
       "      <td>1.000000</td>\n",
       "    </tr>\n",
       "    <tr>\n",
       "      <th>21</th>\n",
       "      <td>Samuel</td>\n",
       "      <td>2.59</td>\n",
       "      <td>1.24</td>\n",
       "      <td>1.598765</td>\n",
       "      <td>2.088710</td>\n",
       "      <td>NaN</td>\n",
       "      <td>NaN</td>\n",
       "    </tr>\n",
       "    <tr>\n",
       "      <th>22</th>\n",
       "      <td>Olivia</td>\n",
       "      <td>8.63</td>\n",
       "      <td>2.37</td>\n",
       "      <td>5.327160</td>\n",
       "      <td>3.641350</td>\n",
       "      <td>NaN</td>\n",
       "      <td>NaN</td>\n",
       "    </tr>\n",
       "    <tr>\n",
       "      <th>23</th>\n",
       "      <td>Jack</td>\n",
       "      <td>4.32</td>\n",
       "      <td>2.50</td>\n",
       "      <td>2.666667</td>\n",
       "      <td>1.728000</td>\n",
       "      <td>NaN</td>\n",
       "      <td>NaN</td>\n",
       "    </tr>\n",
       "    <tr>\n",
       "      <th>24</th>\n",
       "      <td>Eve</td>\n",
       "      <td>5.84</td>\n",
       "      <td>1.60</td>\n",
       "      <td>3.604938</td>\n",
       "      <td>3.650000</td>\n",
       "      <td>NaN</td>\n",
       "      <td>NaN</td>\n",
       "    </tr>\n",
       "    <tr>\n",
       "      <th>25</th>\n",
       "      <td>Alex</td>\n",
       "      <td>7.47</td>\n",
       "      <td>1.83</td>\n",
       "      <td>4.611111</td>\n",
       "      <td>4.081967</td>\n",
       "      <td>NaN</td>\n",
       "      <td>NaN</td>\n",
       "    </tr>\n",
       "    <tr>\n",
       "      <th>26</th>\n",
       "      <td>Uma</td>\n",
       "      <td>6.17</td>\n",
       "      <td>2.64</td>\n",
       "      <td>3.808642</td>\n",
       "      <td>2.337121</td>\n",
       "      <td>NaN</td>\n",
       "      <td>NaN</td>\n",
       "    </tr>\n",
       "    <tr>\n",
       "      <th>27</th>\n",
       "      <td>Eve</td>\n",
       "      <td>8.51</td>\n",
       "      <td>1.35</td>\n",
       "      <td>5.253086</td>\n",
       "      <td>6.303704</td>\n",
       "      <td>NaN</td>\n",
       "      <td>NaN</td>\n",
       "    </tr>\n",
       "    <tr>\n",
       "      <th>28</th>\n",
       "      <td>Victor</td>\n",
       "      <td>5.89</td>\n",
       "      <td>1.20</td>\n",
       "      <td>3.635802</td>\n",
       "      <td>4.908333</td>\n",
       "      <td>Victor</td>\n",
       "      <td>0.916667</td>\n",
       "    </tr>\n",
       "    <tr>\n",
       "      <th>29</th>\n",
       "      <td>Grace</td>\n",
       "      <td>6.04</td>\n",
       "      <td>3.18</td>\n",
       "      <td>3.728395</td>\n",
       "      <td>1.899371</td>\n",
       "      <td>Grace</td>\n",
       "      <td>0.750000</td>\n",
       "    </tr>\n",
       "    <tr>\n",
       "      <th>30</th>\n",
       "      <td>Jack</td>\n",
       "      <td>8.54</td>\n",
       "      <td>2.77</td>\n",
       "      <td>5.271605</td>\n",
       "      <td>3.083032</td>\n",
       "      <td>NaN</td>\n",
       "      <td>NaN</td>\n",
       "    </tr>\n",
       "  </tbody>\n",
       "</table>\n",
       "</div>"
      ]
     },
     "execution_count": 1763,
     "metadata": {},
     "output_type": "execute_result"
    }
   ],
   "execution_count": 1763
  },
  {
   "metadata": {
    "ExecuteTime": {
     "end_time": "2025-05-01T10:28:20.650237Z",
     "start_time": "2025-05-01T10:28:20.646775Z"
    }
   },
   "cell_type": "code",
   "source": [
    "# extract a subset of the DataFrame containing runners who covered over 5 miles, we can utilize the map() method.\n",
    "over_5_miles_run = copy_running_data[copy_running_data[\"Distance (miles)\"].map(lambda x:x) >5 ].reset_index(drop=True)\n",
    "over_5_miles_run.head()"
   ],
   "id": "8a9757e3d3d04fe",
   "outputs": [
    {
     "data": {
      "text/plain": [
       "     Name  Distance (km)  Time (hours)  Distance (miles)  Speed (km/hour)  \\\n",
       "0   Wendy           9.10          4.24          5.617284         2.146226   \n",
       "1    Yara           8.61          4.16          5.314815         2.069712   \n",
       "2    Noah           8.95          3.51          5.524691         2.549858   \n",
       "3     Uma           8.12          3.15          5.012346         2.577778   \n",
       "4  Xander           9.36          2.71          5.777778         3.453875   \n",
       "\n",
       "  Runners  Rest Time (Mins)  \n",
       "0   Wendy          0.633333  \n",
       "1     NaN               NaN  \n",
       "2    Noah          1.750000  \n",
       "3     NaN               NaN  \n",
       "4     NaN               NaN  "
      ],
      "text/html": [
       "<div>\n",
       "<style scoped>\n",
       "    .dataframe tbody tr th:only-of-type {\n",
       "        vertical-align: middle;\n",
       "    }\n",
       "\n",
       "    .dataframe tbody tr th {\n",
       "        vertical-align: top;\n",
       "    }\n",
       "\n",
       "    .dataframe thead th {\n",
       "        text-align: right;\n",
       "    }\n",
       "</style>\n",
       "<table border=\"1\" class=\"dataframe\">\n",
       "  <thead>\n",
       "    <tr style=\"text-align: right;\">\n",
       "      <th></th>\n",
       "      <th>Name</th>\n",
       "      <th>Distance (km)</th>\n",
       "      <th>Time (hours)</th>\n",
       "      <th>Distance (miles)</th>\n",
       "      <th>Speed (km/hour)</th>\n",
       "      <th>Runners</th>\n",
       "      <th>Rest Time (Mins)</th>\n",
       "    </tr>\n",
       "  </thead>\n",
       "  <tbody>\n",
       "    <tr>\n",
       "      <th>0</th>\n",
       "      <td>Wendy</td>\n",
       "      <td>9.10</td>\n",
       "      <td>4.24</td>\n",
       "      <td>5.617284</td>\n",
       "      <td>2.146226</td>\n",
       "      <td>Wendy</td>\n",
       "      <td>0.633333</td>\n",
       "    </tr>\n",
       "    <tr>\n",
       "      <th>1</th>\n",
       "      <td>Yara</td>\n",
       "      <td>8.61</td>\n",
       "      <td>4.16</td>\n",
       "      <td>5.314815</td>\n",
       "      <td>2.069712</td>\n",
       "      <td>NaN</td>\n",
       "      <td>NaN</td>\n",
       "    </tr>\n",
       "    <tr>\n",
       "      <th>2</th>\n",
       "      <td>Noah</td>\n",
       "      <td>8.95</td>\n",
       "      <td>3.51</td>\n",
       "      <td>5.524691</td>\n",
       "      <td>2.549858</td>\n",
       "      <td>Noah</td>\n",
       "      <td>1.750000</td>\n",
       "    </tr>\n",
       "    <tr>\n",
       "      <th>3</th>\n",
       "      <td>Uma</td>\n",
       "      <td>8.12</td>\n",
       "      <td>3.15</td>\n",
       "      <td>5.012346</td>\n",
       "      <td>2.577778</td>\n",
       "      <td>NaN</td>\n",
       "      <td>NaN</td>\n",
       "    </tr>\n",
       "    <tr>\n",
       "      <th>4</th>\n",
       "      <td>Xander</td>\n",
       "      <td>9.36</td>\n",
       "      <td>2.71</td>\n",
       "      <td>5.777778</td>\n",
       "      <td>3.453875</td>\n",
       "      <td>NaN</td>\n",
       "      <td>NaN</td>\n",
       "    </tr>\n",
       "  </tbody>\n",
       "</table>\n",
       "</div>"
      ]
     },
     "execution_count": 1764,
     "metadata": {},
     "output_type": "execute_result"
    }
   ],
   "execution_count": 1764
  },
  {
   "metadata": {},
   "cell_type": "markdown",
   "source": [
    "### Day 19 Runners Data Analysis – Part 2\n",
    "\n",
    "Shuffling and merging DataFrames are essential skills for\n",
    "data analysts because they enable them to combine and\n",
    "explore data, build predictive models, and communicate\n",
    "insights through data visualization.\n",
    "\n"
   ],
   "id": "39230c4fe32bcbc8"
  },
  {
   "metadata": {
    "ExecuteTime": {
     "end_time": "2025-05-01T10:28:20.711811Z",
     "start_time": "2025-05-01T10:28:20.710523Z"
    }
   },
   "cell_type": "code",
   "source": [
    "names = [\"Joe\",\"Phil\",\"Ken\",\"Jos\",\"Luke\"]\n",
    "miles_run = [120,80,100,90,85]\n",
    "time_in_hrs = [40,38,45,50,50]\n"
   ],
   "id": "cb2b41a8f3524324",
   "outputs": [],
   "execution_count": 1765
  },
  {
   "metadata": {
    "ExecuteTime": {
     "end_time": "2025-05-01T10:28:20.778053Z",
     "start_time": "2025-05-01T10:28:20.775236Z"
    }
   },
   "cell_type": "code",
   "source": [
    "df19 = pd.DataFrame({\"Names\":names,\n",
    "                     \"Miles\":miles_run,\n",
    "                     \"TIme (hrs)\": time_in_hrs})\n",
    "\n",
    "df19"
   ],
   "id": "3d684edcbc0e5f8e",
   "outputs": [
    {
     "data": {
      "text/plain": [
       "  Names  Miles  TIme (hrs)\n",
       "0   Joe    120          40\n",
       "1  Phil     80          38\n",
       "2   Ken    100          45\n",
       "3   Jos     90          50\n",
       "4  Luke     85          50"
      ],
      "text/html": [
       "<div>\n",
       "<style scoped>\n",
       "    .dataframe tbody tr th:only-of-type {\n",
       "        vertical-align: middle;\n",
       "    }\n",
       "\n",
       "    .dataframe tbody tr th {\n",
       "        vertical-align: top;\n",
       "    }\n",
       "\n",
       "    .dataframe thead th {\n",
       "        text-align: right;\n",
       "    }\n",
       "</style>\n",
       "<table border=\"1\" class=\"dataframe\">\n",
       "  <thead>\n",
       "    <tr style=\"text-align: right;\">\n",
       "      <th></th>\n",
       "      <th>Names</th>\n",
       "      <th>Miles</th>\n",
       "      <th>TIme (hrs)</th>\n",
       "    </tr>\n",
       "  </thead>\n",
       "  <tbody>\n",
       "    <tr>\n",
       "      <th>0</th>\n",
       "      <td>Joe</td>\n",
       "      <td>120</td>\n",
       "      <td>40</td>\n",
       "    </tr>\n",
       "    <tr>\n",
       "      <th>1</th>\n",
       "      <td>Phil</td>\n",
       "      <td>80</td>\n",
       "      <td>38</td>\n",
       "    </tr>\n",
       "    <tr>\n",
       "      <th>2</th>\n",
       "      <td>Ken</td>\n",
       "      <td>100</td>\n",
       "      <td>45</td>\n",
       "    </tr>\n",
       "    <tr>\n",
       "      <th>3</th>\n",
       "      <td>Jos</td>\n",
       "      <td>90</td>\n",
       "      <td>50</td>\n",
       "    </tr>\n",
       "    <tr>\n",
       "      <th>4</th>\n",
       "      <td>Luke</td>\n",
       "      <td>85</td>\n",
       "      <td>50</td>\n",
       "    </tr>\n",
       "  </tbody>\n",
       "</table>\n",
       "</div>"
      ]
     },
     "execution_count": 1766,
     "metadata": {},
     "output_type": "execute_result"
    }
   ],
   "execution_count": 1766
  },
  {
   "metadata": {
    "ExecuteTime": {
     "end_time": "2025-05-01T10:28:20.822142Z",
     "start_time": "2025-05-01T10:28:20.819398Z"
    }
   },
   "cell_type": "code",
   "source": [
    "names = [\"Joe\",\"Phil\",\"Ken\",\"Jos\",\"Luke\"]\n",
    "age = [45,28,21,55,62]\n",
    "gender = [\"M\",\"M\",\"F\",\"F\",\"M\"]\n",
    "\n",
    "new_df19 = pd.DataFrame({\"Names\":names,\n",
    "                     \"Age\":age,\n",
    "                     \"Gender\": gender})\n",
    "\n",
    "new_df19.head()\n",
    "\n"
   ],
   "id": "c3382818c2f65a2c",
   "outputs": [
    {
     "data": {
      "text/plain": [
       "  Names  Age Gender\n",
       "0   Joe   45      M\n",
       "1  Phil   28      M\n",
       "2   Ken   21      F\n",
       "3   Jos   55      F\n",
       "4  Luke   62      M"
      ],
      "text/html": [
       "<div>\n",
       "<style scoped>\n",
       "    .dataframe tbody tr th:only-of-type {\n",
       "        vertical-align: middle;\n",
       "    }\n",
       "\n",
       "    .dataframe tbody tr th {\n",
       "        vertical-align: top;\n",
       "    }\n",
       "\n",
       "    .dataframe thead th {\n",
       "        text-align: right;\n",
       "    }\n",
       "</style>\n",
       "<table border=\"1\" class=\"dataframe\">\n",
       "  <thead>\n",
       "    <tr style=\"text-align: right;\">\n",
       "      <th></th>\n",
       "      <th>Names</th>\n",
       "      <th>Age</th>\n",
       "      <th>Gender</th>\n",
       "    </tr>\n",
       "  </thead>\n",
       "  <tbody>\n",
       "    <tr>\n",
       "      <th>0</th>\n",
       "      <td>Joe</td>\n",
       "      <td>45</td>\n",
       "      <td>M</td>\n",
       "    </tr>\n",
       "    <tr>\n",
       "      <th>1</th>\n",
       "      <td>Phil</td>\n",
       "      <td>28</td>\n",
       "      <td>M</td>\n",
       "    </tr>\n",
       "    <tr>\n",
       "      <th>2</th>\n",
       "      <td>Ken</td>\n",
       "      <td>21</td>\n",
       "      <td>F</td>\n",
       "    </tr>\n",
       "    <tr>\n",
       "      <th>3</th>\n",
       "      <td>Jos</td>\n",
       "      <td>55</td>\n",
       "      <td>F</td>\n",
       "    </tr>\n",
       "    <tr>\n",
       "      <th>4</th>\n",
       "      <td>Luke</td>\n",
       "      <td>62</td>\n",
       "      <td>M</td>\n",
       "    </tr>\n",
       "  </tbody>\n",
       "</table>\n",
       "</div>"
      ]
     },
     "execution_count": 1767,
     "metadata": {},
     "output_type": "execute_result"
    }
   ],
   "execution_count": 1767
  },
  {
   "metadata": {
    "ExecuteTime": {
     "end_time": "2025-05-01T10:28:20.883932Z",
     "start_time": "2025-05-01T10:28:20.880972Z"
    }
   },
   "cell_type": "code",
   "source": [
    "merge_df19 = pd.concat([df19,new_df19.drop(columns=\"Names\")], axis=1)\n",
    "merge_df19"
   ],
   "id": "244a59fd96e0dd0a",
   "outputs": [
    {
     "data": {
      "text/plain": [
       "  Names  Miles  TIme (hrs)  Age Gender\n",
       "0   Joe    120          40   45      M\n",
       "1  Phil     80          38   28      M\n",
       "2   Ken    100          45   21      F\n",
       "3   Jos     90          50   55      F\n",
       "4  Luke     85          50   62      M"
      ],
      "text/html": [
       "<div>\n",
       "<style scoped>\n",
       "    .dataframe tbody tr th:only-of-type {\n",
       "        vertical-align: middle;\n",
       "    }\n",
       "\n",
       "    .dataframe tbody tr th {\n",
       "        vertical-align: top;\n",
       "    }\n",
       "\n",
       "    .dataframe thead th {\n",
       "        text-align: right;\n",
       "    }\n",
       "</style>\n",
       "<table border=\"1\" class=\"dataframe\">\n",
       "  <thead>\n",
       "    <tr style=\"text-align: right;\">\n",
       "      <th></th>\n",
       "      <th>Names</th>\n",
       "      <th>Miles</th>\n",
       "      <th>TIme (hrs)</th>\n",
       "      <th>Age</th>\n",
       "      <th>Gender</th>\n",
       "    </tr>\n",
       "  </thead>\n",
       "  <tbody>\n",
       "    <tr>\n",
       "      <th>0</th>\n",
       "      <td>Joe</td>\n",
       "      <td>120</td>\n",
       "      <td>40</td>\n",
       "      <td>45</td>\n",
       "      <td>M</td>\n",
       "    </tr>\n",
       "    <tr>\n",
       "      <th>1</th>\n",
       "      <td>Phil</td>\n",
       "      <td>80</td>\n",
       "      <td>38</td>\n",
       "      <td>28</td>\n",
       "      <td>M</td>\n",
       "    </tr>\n",
       "    <tr>\n",
       "      <th>2</th>\n",
       "      <td>Ken</td>\n",
       "      <td>100</td>\n",
       "      <td>45</td>\n",
       "      <td>21</td>\n",
       "      <td>F</td>\n",
       "    </tr>\n",
       "    <tr>\n",
       "      <th>3</th>\n",
       "      <td>Jos</td>\n",
       "      <td>90</td>\n",
       "      <td>50</td>\n",
       "      <td>55</td>\n",
       "      <td>F</td>\n",
       "    </tr>\n",
       "    <tr>\n",
       "      <th>4</th>\n",
       "      <td>Luke</td>\n",
       "      <td>85</td>\n",
       "      <td>50</td>\n",
       "      <td>62</td>\n",
       "      <td>M</td>\n",
       "    </tr>\n",
       "  </tbody>\n",
       "</table>\n",
       "</div>"
      ]
     },
     "execution_count": 1768,
     "metadata": {},
     "output_type": "execute_result"
    }
   ],
   "execution_count": 1768
  },
  {
   "metadata": {
    "ExecuteTime": {
     "end_time": "2025-05-01T10:28:20.934956Z",
     "start_time": "2025-05-01T10:28:20.931952Z"
    }
   },
   "cell_type": "code",
   "source": [
    "\n",
    "#Shuffling DataFrames can randomize the data. Write codeto reshuffle the index of the DataFrame.\n",
    "\n",
    "shuffled_df = merge_df19.sample(frac=1).reset_index(drop=True)\n",
    "shuffled_df.head()"
   ],
   "id": "a57041bfde41f40f",
   "outputs": [
    {
     "data": {
      "text/plain": [
       "  Names  Miles  TIme (hrs)  Age Gender\n",
       "0   Jos     90          50   55      F\n",
       "1   Ken    100          45   21      F\n",
       "2  Luke     85          50   62      M\n",
       "3   Joe    120          40   45      M\n",
       "4  Phil     80          38   28      M"
      ],
      "text/html": [
       "<div>\n",
       "<style scoped>\n",
       "    .dataframe tbody tr th:only-of-type {\n",
       "        vertical-align: middle;\n",
       "    }\n",
       "\n",
       "    .dataframe tbody tr th {\n",
       "        vertical-align: top;\n",
       "    }\n",
       "\n",
       "    .dataframe thead th {\n",
       "        text-align: right;\n",
       "    }\n",
       "</style>\n",
       "<table border=\"1\" class=\"dataframe\">\n",
       "  <thead>\n",
       "    <tr style=\"text-align: right;\">\n",
       "      <th></th>\n",
       "      <th>Names</th>\n",
       "      <th>Miles</th>\n",
       "      <th>TIme (hrs)</th>\n",
       "      <th>Age</th>\n",
       "      <th>Gender</th>\n",
       "    </tr>\n",
       "  </thead>\n",
       "  <tbody>\n",
       "    <tr>\n",
       "      <th>0</th>\n",
       "      <td>Jos</td>\n",
       "      <td>90</td>\n",
       "      <td>50</td>\n",
       "      <td>55</td>\n",
       "      <td>F</td>\n",
       "    </tr>\n",
       "    <tr>\n",
       "      <th>1</th>\n",
       "      <td>Ken</td>\n",
       "      <td>100</td>\n",
       "      <td>45</td>\n",
       "      <td>21</td>\n",
       "      <td>F</td>\n",
       "    </tr>\n",
       "    <tr>\n",
       "      <th>2</th>\n",
       "      <td>Luke</td>\n",
       "      <td>85</td>\n",
       "      <td>50</td>\n",
       "      <td>62</td>\n",
       "      <td>M</td>\n",
       "    </tr>\n",
       "    <tr>\n",
       "      <th>3</th>\n",
       "      <td>Joe</td>\n",
       "      <td>120</td>\n",
       "      <td>40</td>\n",
       "      <td>45</td>\n",
       "      <td>M</td>\n",
       "    </tr>\n",
       "    <tr>\n",
       "      <th>4</th>\n",
       "      <td>Phil</td>\n",
       "      <td>80</td>\n",
       "      <td>38</td>\n",
       "      <td>28</td>\n",
       "      <td>M</td>\n",
       "    </tr>\n",
       "  </tbody>\n",
       "</table>\n",
       "</div>"
      ]
     },
     "execution_count": 1769,
     "metadata": {},
     "output_type": "execute_result"
    }
   ],
   "execution_count": 1769
  },
  {
   "metadata": {
    "ExecuteTime": {
     "end_time": "2025-05-01T10:28:20.982143Z",
     "start_time": "2025-05-01T10:28:20.980786Z"
    }
   },
   "cell_type": "code",
   "source": "# Explain why it may be important to reshuffle the index of the data for machine learning",
   "id": "50faa42a593e2ded",
   "outputs": [],
   "execution_count": 1770
  },
  {
   "metadata": {},
   "cell_type": "markdown",
   "source": [
    "In machine learning, reshuffling (randomizing) the data — including resetting the index — is very important because:\n",
    "\n",
    "Prevents learning patterns based on order:\n",
    "If your data is sorted (e.g., by date, customer ID, or label), a model might accidentally learn patterns that are not real. Shuffling breaks that order and forces the model to learn from the features, not the sequence.\n",
    "\n",
    "Improves generalization:\n",
    "By training on a randomly ordered dataset, the model becomes better at generalizing to new, unseen data — which is the goal of machine learning.\n",
    "\n",
    "Fairness when splitting data:\n",
    "When you split your data into training and test sets (or cross-validation folds), randomizing ensures that each set is representative of the overall data, not just a particular group.\n",
    "\n",
    "Avoids overfitting to sequence-specific artifacts:\n",
    "Without shuffling, a model might overfit to patterns that only exist because of how the data is ordered, not because of true underlying relationships."
   ],
   "id": "a9970094286939cc"
  },
  {
   "metadata": {
    "ExecuteTime": {
     "end_time": "2025-05-01T10:28:21.033434Z",
     "start_time": "2025-05-01T10:28:21.029842Z"
    }
   },
   "cell_type": "code",
   "source": [
    "#To reshape a DataFrame from a wide format to a long format, we can use the melt() function in pandas.\n",
    "df_set_long = shuffled_df.melt(id_vars=[\"Names\"],\n",
    "                              var_name=\"Variable\",\n",
    "                              value_name=\"Values\")\n",
    "\n",
    "df_set_long"
   ],
   "id": "d4571aecaffc563a",
   "outputs": [
    {
     "data": {
      "text/plain": [
       "   Names    Variable Values\n",
       "0    Jos       Miles     90\n",
       "1    Ken       Miles    100\n",
       "2   Luke       Miles     85\n",
       "3    Joe       Miles    120\n",
       "4   Phil       Miles     80\n",
       "5    Jos  TIme (hrs)     50\n",
       "6    Ken  TIme (hrs)     45\n",
       "7   Luke  TIme (hrs)     50\n",
       "8    Joe  TIme (hrs)     40\n",
       "9   Phil  TIme (hrs)     38\n",
       "10   Jos         Age     55\n",
       "11   Ken         Age     21\n",
       "12  Luke         Age     62\n",
       "13   Joe         Age     45\n",
       "14  Phil         Age     28\n",
       "15   Jos      Gender      F\n",
       "16   Ken      Gender      F\n",
       "17  Luke      Gender      M\n",
       "18   Joe      Gender      M\n",
       "19  Phil      Gender      M"
      ],
      "text/html": [
       "<div>\n",
       "<style scoped>\n",
       "    .dataframe tbody tr th:only-of-type {\n",
       "        vertical-align: middle;\n",
       "    }\n",
       "\n",
       "    .dataframe tbody tr th {\n",
       "        vertical-align: top;\n",
       "    }\n",
       "\n",
       "    .dataframe thead th {\n",
       "        text-align: right;\n",
       "    }\n",
       "</style>\n",
       "<table border=\"1\" class=\"dataframe\">\n",
       "  <thead>\n",
       "    <tr style=\"text-align: right;\">\n",
       "      <th></th>\n",
       "      <th>Names</th>\n",
       "      <th>Variable</th>\n",
       "      <th>Values</th>\n",
       "    </tr>\n",
       "  </thead>\n",
       "  <tbody>\n",
       "    <tr>\n",
       "      <th>0</th>\n",
       "      <td>Jos</td>\n",
       "      <td>Miles</td>\n",
       "      <td>90</td>\n",
       "    </tr>\n",
       "    <tr>\n",
       "      <th>1</th>\n",
       "      <td>Ken</td>\n",
       "      <td>Miles</td>\n",
       "      <td>100</td>\n",
       "    </tr>\n",
       "    <tr>\n",
       "      <th>2</th>\n",
       "      <td>Luke</td>\n",
       "      <td>Miles</td>\n",
       "      <td>85</td>\n",
       "    </tr>\n",
       "    <tr>\n",
       "      <th>3</th>\n",
       "      <td>Joe</td>\n",
       "      <td>Miles</td>\n",
       "      <td>120</td>\n",
       "    </tr>\n",
       "    <tr>\n",
       "      <th>4</th>\n",
       "      <td>Phil</td>\n",
       "      <td>Miles</td>\n",
       "      <td>80</td>\n",
       "    </tr>\n",
       "    <tr>\n",
       "      <th>5</th>\n",
       "      <td>Jos</td>\n",
       "      <td>TIme (hrs)</td>\n",
       "      <td>50</td>\n",
       "    </tr>\n",
       "    <tr>\n",
       "      <th>6</th>\n",
       "      <td>Ken</td>\n",
       "      <td>TIme (hrs)</td>\n",
       "      <td>45</td>\n",
       "    </tr>\n",
       "    <tr>\n",
       "      <th>7</th>\n",
       "      <td>Luke</td>\n",
       "      <td>TIme (hrs)</td>\n",
       "      <td>50</td>\n",
       "    </tr>\n",
       "    <tr>\n",
       "      <th>8</th>\n",
       "      <td>Joe</td>\n",
       "      <td>TIme (hrs)</td>\n",
       "      <td>40</td>\n",
       "    </tr>\n",
       "    <tr>\n",
       "      <th>9</th>\n",
       "      <td>Phil</td>\n",
       "      <td>TIme (hrs)</td>\n",
       "      <td>38</td>\n",
       "    </tr>\n",
       "    <tr>\n",
       "      <th>10</th>\n",
       "      <td>Jos</td>\n",
       "      <td>Age</td>\n",
       "      <td>55</td>\n",
       "    </tr>\n",
       "    <tr>\n",
       "      <th>11</th>\n",
       "      <td>Ken</td>\n",
       "      <td>Age</td>\n",
       "      <td>21</td>\n",
       "    </tr>\n",
       "    <tr>\n",
       "      <th>12</th>\n",
       "      <td>Luke</td>\n",
       "      <td>Age</td>\n",
       "      <td>62</td>\n",
       "    </tr>\n",
       "    <tr>\n",
       "      <th>13</th>\n",
       "      <td>Joe</td>\n",
       "      <td>Age</td>\n",
       "      <td>45</td>\n",
       "    </tr>\n",
       "    <tr>\n",
       "      <th>14</th>\n",
       "      <td>Phil</td>\n",
       "      <td>Age</td>\n",
       "      <td>28</td>\n",
       "    </tr>\n",
       "    <tr>\n",
       "      <th>15</th>\n",
       "      <td>Jos</td>\n",
       "      <td>Gender</td>\n",
       "      <td>F</td>\n",
       "    </tr>\n",
       "    <tr>\n",
       "      <th>16</th>\n",
       "      <td>Ken</td>\n",
       "      <td>Gender</td>\n",
       "      <td>F</td>\n",
       "    </tr>\n",
       "    <tr>\n",
       "      <th>17</th>\n",
       "      <td>Luke</td>\n",
       "      <td>Gender</td>\n",
       "      <td>M</td>\n",
       "    </tr>\n",
       "    <tr>\n",
       "      <th>18</th>\n",
       "      <td>Joe</td>\n",
       "      <td>Gender</td>\n",
       "      <td>M</td>\n",
       "    </tr>\n",
       "    <tr>\n",
       "      <th>19</th>\n",
       "      <td>Phil</td>\n",
       "      <td>Gender</td>\n",
       "      <td>M</td>\n",
       "    </tr>\n",
       "  </tbody>\n",
       "</table>\n",
       "</div>"
      ]
     },
     "execution_count": 1771,
     "metadata": {},
     "output_type": "execute_result"
    }
   ],
   "execution_count": 1771
  },
  {
   "metadata": {},
   "cell_type": "markdown",
   "source": [
    "### Day 20 Explore Data with Pandas and Matplotlib\n",
    "\n",
    "In this challenge, you are going to create a DataFrame that\n",
    "you will analyze with pandas, and generate visualizations\n",
    "using Matplotlib."
   ],
   "id": "41df3fdfbdbc14d5"
  },
  {
   "metadata": {
    "ExecuteTime": {
     "end_time": "2025-05-01T10:28:21.074490Z",
     "start_time": "2025-05-01T10:28:21.072959Z"
    }
   },
   "cell_type": "code",
   "source": [
    "products = [\"Sugar\",\"Salt\",\"Oil\",\"Diapers\",\"Rice\"]\n",
    "costs = [2450,1989,6745,9807,8743]\n",
    "sales = [27908,4508,6734,9976,9000]"
   ],
   "id": "dac8a21ba4e8238b",
   "outputs": [],
   "execution_count": 1772
  },
  {
   "metadata": {
    "ExecuteTime": {
     "end_time": "2025-05-01T10:28:21.112480Z",
     "start_time": "2025-05-01T10:28:21.109400Z"
    }
   },
   "cell_type": "code",
   "source": [
    "#Create a pandas DataFrame from the lists above. Find the most profitable product. Using Matplotlib, create a bar plot to visualize product profitability.\n",
    "df20 = pd.DataFrame({\"Products\":products,\n",
    "                     \"Costs\":costs,\n",
    "                     \"Sales\":sales})\n",
    "\n",
    "df20[\"Profit\"] = df20[\"Sales\"]-df20[\"Costs\"]\n",
    "df20.head()"
   ],
   "id": "12729102c0d880e7",
   "outputs": [
    {
     "data": {
      "text/plain": [
       "  Products  Costs  Sales  Profit\n",
       "0    Sugar   2450  27908   25458\n",
       "1     Salt   1989   4508    2519\n",
       "2      Oil   6745   6734     -11\n",
       "3  Diapers   9807   9976     169\n",
       "4     Rice   8743   9000     257"
      ],
      "text/html": [
       "<div>\n",
       "<style scoped>\n",
       "    .dataframe tbody tr th:only-of-type {\n",
       "        vertical-align: middle;\n",
       "    }\n",
       "\n",
       "    .dataframe tbody tr th {\n",
       "        vertical-align: top;\n",
       "    }\n",
       "\n",
       "    .dataframe thead th {\n",
       "        text-align: right;\n",
       "    }\n",
       "</style>\n",
       "<table border=\"1\" class=\"dataframe\">\n",
       "  <thead>\n",
       "    <tr style=\"text-align: right;\">\n",
       "      <th></th>\n",
       "      <th>Products</th>\n",
       "      <th>Costs</th>\n",
       "      <th>Sales</th>\n",
       "      <th>Profit</th>\n",
       "    </tr>\n",
       "  </thead>\n",
       "  <tbody>\n",
       "    <tr>\n",
       "      <th>0</th>\n",
       "      <td>Sugar</td>\n",
       "      <td>2450</td>\n",
       "      <td>27908</td>\n",
       "      <td>25458</td>\n",
       "    </tr>\n",
       "    <tr>\n",
       "      <th>1</th>\n",
       "      <td>Salt</td>\n",
       "      <td>1989</td>\n",
       "      <td>4508</td>\n",
       "      <td>2519</td>\n",
       "    </tr>\n",
       "    <tr>\n",
       "      <th>2</th>\n",
       "      <td>Oil</td>\n",
       "      <td>6745</td>\n",
       "      <td>6734</td>\n",
       "      <td>-11</td>\n",
       "    </tr>\n",
       "    <tr>\n",
       "      <th>3</th>\n",
       "      <td>Diapers</td>\n",
       "      <td>9807</td>\n",
       "      <td>9976</td>\n",
       "      <td>169</td>\n",
       "    </tr>\n",
       "    <tr>\n",
       "      <th>4</th>\n",
       "      <td>Rice</td>\n",
       "      <td>8743</td>\n",
       "      <td>9000</td>\n",
       "      <td>257</td>\n",
       "    </tr>\n",
       "  </tbody>\n",
       "</table>\n",
       "</div>"
      ]
     },
     "execution_count": 1773,
     "metadata": {},
     "output_type": "execute_result"
    }
   ],
   "execution_count": 1773
  },
  {
   "metadata": {
    "ExecuteTime": {
     "end_time": "2025-05-01T10:28:21.151775Z",
     "start_time": "2025-05-01T10:28:21.149691Z"
    }
   },
   "cell_type": "code",
   "source": [
    "#ifnd the most profitable product\n",
    "df20.loc[df20[\"Profit\"].idxmax(),\"Products\"]\n"
   ],
   "id": "2f776fb3a4f0c511",
   "outputs": [
    {
     "data": {
      "text/plain": [
       "'Sugar'"
      ]
     },
     "execution_count": 1774,
     "metadata": {},
     "output_type": "execute_result"
    }
   ],
   "execution_count": 1774
  },
  {
   "metadata": {
    "ExecuteTime": {
     "end_time": "2025-05-01T10:28:21.224925Z",
     "start_time": "2025-05-01T10:28:21.199260Z"
    }
   },
   "cell_type": "code",
   "source": [
    "#Using Matplotlib, create a bar plot to visualize product profitability\n",
    "plt.bar(df20[\"Products\"],df20[\"Profit\"])\n",
    "plt.show()"
   ],
   "id": "966a27ce530a48f6",
   "outputs": [
    {
     "data": {
      "text/plain": [
       "<Figure size 200x200 with 1 Axes>"
      ],
      "image/png": "[encoded data removed]"
     },
     "metadata": {},
     "output_type": "display_data"
    }
   ],
   "execution_count": 1775
  },
  {
   "metadata": {
    "ExecuteTime": {
     "end_time": "2025-05-01T10:28:21.250879Z",
     "start_time": "2025-05-01T10:28:21.248874Z"
    }
   },
   "cell_type": "code",
   "source": [
    "#Using just pandas, find the least profitable product\n",
    "df20.loc[df20[\"Profit\"].idxmin(),\"Products\"]"
   ],
   "id": "8c1588ad78c16e31",
   "outputs": [
    {
     "data": {
      "text/plain": [
       "'Oil'"
      ]
     },
     "execution_count": 1776,
     "metadata": {},
     "output_type": "execute_result"
    }
   ],
   "execution_count": 1776
  },
  {
   "metadata": {
    "ExecuteTime": {
     "end_time": "2025-05-01T10:28:21.272640Z",
     "start_time": "2025-05-01T10:28:21.270918Z"
    }
   },
   "cell_type": "code",
   "source": [
    "#What is the difference in profit between the most profitable item and the least profitable item?\n",
    "print(df20.loc[df20[\"Profit\"].idxmax(),\"Profit\"] - df20.loc[df20[\"Profit\"].idxmin(),\"Profit\"])\n"
   ],
   "id": "81081a03f5c401e0",
   "outputs": [
    {
     "name": "stdout",
     "output_type": "stream",
     "text": [
      "25469\n"
     ]
    }
   ],
   "execution_count": 1777
  },
  {
   "metadata": {
    "ExecuteTime": {
     "end_time": "2025-05-01T10:28:21.325633Z",
     "start_time": "2025-05-01T10:28:21.290956Z"
    }
   },
   "cell_type": "code",
   "source": [
    "#Using pandas, and Matplotlib, create a line plot of the costs and profits of all products.\n",
    "\n",
    "plt.plot(df20[\"Products\"], df20[\"Profit\"], label=\"Profit\", color=\"Yellow\")\n",
    "\n",
    "plt.plot(df20[\"Products\"], df20[\"Costs\"], label=\"Costs\")\n",
    "\n",
    "plt.legend()"
   ],
   "id": "9921137b2fdc2346",
   "outputs": [
    {
     "data": {
      "text/plain": [
       "<matplotlib.legend.Legend at 0x14bc9aab0>"
      ]
     },
     "execution_count": 1778,
     "metadata": {},
     "output_type": "execute_result"
    },
    {
     "data": {
      "text/plain": [
       "<Figure size 200x200 with 1 Axes>"
      ],
      "image/png": "[encoded data removed]"
     },
     "metadata": {},
     "output_type": "display_data"
    }
   ],
   "execution_count": 1778
  },
  {
   "metadata": {
    "ExecuteTime": {
     "end_time": "2025-05-01T10:28:21.344335Z",
     "start_time": "2025-05-01T10:28:21.342710Z"
    }
   },
   "cell_type": "code",
   "source": [
    "# Average cost\n",
    "print(df20[\"Costs\"].mean())"
   ],
   "id": "37b2fa95653970b1",
   "outputs": [
    {
     "name": "stdout",
     "output_type": "stream",
     "text": [
      "5946.8\n"
     ]
    }
   ],
   "execution_count": 1779
  },
  {
   "metadata": {
    "ExecuteTime": {
     "end_time": "2025-05-01T10:28:21.361212Z",
     "start_time": "2025-05-01T10:28:21.359876Z"
    }
   },
   "cell_type": "code",
   "source": [
    "# Average Profit\n",
    "print(df20[\"Profit\"].mean())"
   ],
   "id": "71dfee9058b9306d",
   "outputs": [
    {
     "name": "stdout",
     "output_type": "stream",
     "text": [
      "5678.4\n"
     ]
    }
   ],
   "execution_count": 1780
  },
  {
   "metadata": {},
   "cell_type": "markdown",
   "source": [
    "### Day 21 Processing Data with Pandas\n",
    "For this challenge, you will import the asset_data_analysis\n",
    "file.\n"
   ],
   "id": "365472101657773e"
  },
  {
   "metadata": {
    "ExecuteTime": {
     "end_time": "2025-05-01T10:28:21.390190Z",
     "start_time": "2025-05-01T10:28:21.386307Z"
    }
   },
   "cell_type": "code",
   "source": [
    "#Import the JSON file using pandas. View the last 5 rows of the DataFrame.\n",
    "df21= pd.read_json(\"Data/asset_data_analysis.json\",orient=\"split\")\n",
    "df21.tail(5)"
   ],
   "id": "2387baf8c22e7790",
   "outputs": [
    {
     "data": {
      "text/plain": [
       "        date products  sales  costs\n",
       "3 2021-11-07     cars  15900  10910\n",
       "4 2021-12-06    boats  12087   7087\n",
       "5 2021-12-09     cars  56897  40447\n",
       "6 2021-11-10     cars  11879   5879\n",
       "7 2021-12-06   houses  19345  13451"
      ],
      "text/html": [
       "<div>\n",
       "<style scoped>\n",
       "    .dataframe tbody tr th:only-of-type {\n",
       "        vertical-align: middle;\n",
       "    }\n",
       "\n",
       "    .dataframe tbody tr th {\n",
       "        vertical-align: top;\n",
       "    }\n",
       "\n",
       "    .dataframe thead th {\n",
       "        text-align: right;\n",
       "    }\n",
       "</style>\n",
       "<table border=\"1\" class=\"dataframe\">\n",
       "  <thead>\n",
       "    <tr style=\"text-align: right;\">\n",
       "      <th></th>\n",
       "      <th>date</th>\n",
       "      <th>products</th>\n",
       "      <th>sales</th>\n",
       "      <th>costs</th>\n",
       "    </tr>\n",
       "  </thead>\n",
       "  <tbody>\n",
       "    <tr>\n",
       "      <th>3</th>\n",
       "      <td>2021-11-07</td>\n",
       "      <td>cars</td>\n",
       "      <td>15900</td>\n",
       "      <td>10910</td>\n",
       "    </tr>\n",
       "    <tr>\n",
       "      <th>4</th>\n",
       "      <td>2021-12-06</td>\n",
       "      <td>boats</td>\n",
       "      <td>12087</td>\n",
       "      <td>7087</td>\n",
       "    </tr>\n",
       "    <tr>\n",
       "      <th>5</th>\n",
       "      <td>2021-12-09</td>\n",
       "      <td>cars</td>\n",
       "      <td>56897</td>\n",
       "      <td>40447</td>\n",
       "    </tr>\n",
       "    <tr>\n",
       "      <th>6</th>\n",
       "      <td>2021-11-10</td>\n",
       "      <td>cars</td>\n",
       "      <td>11879</td>\n",
       "      <td>5879</td>\n",
       "    </tr>\n",
       "    <tr>\n",
       "      <th>7</th>\n",
       "      <td>2021-12-06</td>\n",
       "      <td>houses</td>\n",
       "      <td>19345</td>\n",
       "      <td>13451</td>\n",
       "    </tr>\n",
       "  </tbody>\n",
       "</table>\n",
       "</div>"
      ]
     },
     "execution_count": 1781,
     "metadata": {},
     "output_type": "execute_result"
    }
   ],
   "execution_count": 1781
  },
  {
   "metadata": {
    "ExecuteTime": {
     "end_time": "2025-05-01T10:28:21.418522Z",
     "start_time": "2025-05-01T10:28:21.416510Z"
    }
   },
   "cell_type": "code",
   "source": [
    "#Using pandas, create a copy of the DataFrame and convert the \"date\" column into a pandas datetime format. Set the date as the index of the DataFrame. The \"date\" column should not be deleted when it is set as an index.\n",
    "\n",
    "df21_copy = df21\n",
    "df21_copy[\"date\"] = pd.to_datetime(df21_copy[\"date\"])\n",
    "df21_copy = df21.set_index(\"date\",drop=False)\n",
    "print(df21_copy['date'].dtype)"
   ],
   "id": "e1c28b47ee5f6f09",
   "outputs": [
    {
     "name": "stdout",
     "output_type": "stream",
     "text": [
      "datetime64[ns]\n"
     ]
    }
   ],
   "execution_count": 1782
  },
  {
   "metadata": {
    "ExecuteTime": {
     "end_time": "2025-05-01T10:28:21.572491Z",
     "start_time": "2025-05-01T10:28:21.455065Z"
    }
   },
   "cell_type": "code",
   "source": [
    "#Using Matplotlib, create a line trend plot of sales and date.\n",
    "\n",
    "df21_grouped= df21_copy.groupby(df21_copy.index).sum(numeric_only=True)\n",
    "plt.figure(figsize=(12,8))\n",
    "plt.plot(df21_grouped.index,df21_grouped.sales,color=\"Green\")\n",
    "plt.xlabel(\"date\")\n",
    "plt.ylabel(\"sales\")\n",
    "plt.title(\"Sales Trend\")\n",
    "plt.xticks(rotation=60)\n",
    "\n",
    "plt.show()"
   ],
   "id": "234b8c14483eefa5",
   "outputs": [
    {
     "data": {
      "text/plain": [
       "<Figure size 1200x800 with 1 Axes>"
      ],
      "image/png": "[encoded data removed]"
     },
     "metadata": {},
     "output_type": "display_data"
    }
   ],
   "execution_count": 1783
  },
  {
   "metadata": {
    "ExecuteTime": {
     "end_time": "2025-05-01T10:28:21.590772Z",
     "start_time": "2025-05-01T10:28:21.586084Z"
    }
   },
   "cell_type": "code",
   "source": [
    "#setting a hierarchical index of the \"date\" and \"product\" columns.\n",
    "df21_copy_2 = df21.set_index([\"date\",\"products\"])\n",
    "df21_copy_2"
   ],
   "id": "57c45513189baa68",
   "outputs": [
    {
     "data": {
      "text/plain": [
       "                     sales  costs\n",
       "date       products              \n",
       "2021-11-20 cars      19234  12340\n",
       "2021-12-12 boats     87598  67568\n",
       "2021-12-06 houses    20989  11999\n",
       "2021-11-07 cars      15900  10910\n",
       "2021-12-06 boats     12087   7087\n",
       "2021-12-09 cars      56897  40447\n",
       "2021-11-10 cars      11879   5879\n",
       "2021-12-06 houses    19345  13451"
      ],
      "text/html": [
       "<div>\n",
       "<style scoped>\n",
       "    .dataframe tbody tr th:only-of-type {\n",
       "        vertical-align: middle;\n",
       "    }\n",
       "\n",
       "    .dataframe tbody tr th {\n",
       "        vertical-align: top;\n",
       "    }\n",
       "\n",
       "    .dataframe thead th {\n",
       "        text-align: right;\n",
       "    }\n",
       "</style>\n",
       "<table border=\"1\" class=\"dataframe\">\n",
       "  <thead>\n",
       "    <tr style=\"text-align: right;\">\n",
       "      <th></th>\n",
       "      <th></th>\n",
       "      <th>sales</th>\n",
       "      <th>costs</th>\n",
       "    </tr>\n",
       "    <tr>\n",
       "      <th>date</th>\n",
       "      <th>products</th>\n",
       "      <th></th>\n",
       "      <th></th>\n",
       "    </tr>\n",
       "  </thead>\n",
       "  <tbody>\n",
       "    <tr>\n",
       "      <th>2021-11-20</th>\n",
       "      <th>cars</th>\n",
       "      <td>19234</td>\n",
       "      <td>12340</td>\n",
       "    </tr>\n",
       "    <tr>\n",
       "      <th>2021-12-12</th>\n",
       "      <th>boats</th>\n",
       "      <td>87598</td>\n",
       "      <td>67568</td>\n",
       "    </tr>\n",
       "    <tr>\n",
       "      <th>2021-12-06</th>\n",
       "      <th>houses</th>\n",
       "      <td>20989</td>\n",
       "      <td>11999</td>\n",
       "    </tr>\n",
       "    <tr>\n",
       "      <th>2021-11-07</th>\n",
       "      <th>cars</th>\n",
       "      <td>15900</td>\n",
       "      <td>10910</td>\n",
       "    </tr>\n",
       "    <tr>\n",
       "      <th>2021-12-06</th>\n",
       "      <th>boats</th>\n",
       "      <td>12087</td>\n",
       "      <td>7087</td>\n",
       "    </tr>\n",
       "    <tr>\n",
       "      <th>2021-12-09</th>\n",
       "      <th>cars</th>\n",
       "      <td>56897</td>\n",
       "      <td>40447</td>\n",
       "    </tr>\n",
       "    <tr>\n",
       "      <th>2021-11-10</th>\n",
       "      <th>cars</th>\n",
       "      <td>11879</td>\n",
       "      <td>5879</td>\n",
       "    </tr>\n",
       "    <tr>\n",
       "      <th>2021-12-06</th>\n",
       "      <th>houses</th>\n",
       "      <td>19345</td>\n",
       "      <td>13451</td>\n",
       "    </tr>\n",
       "  </tbody>\n",
       "</table>\n",
       "</div>"
      ]
     },
     "execution_count": 1784,
     "metadata": {},
     "output_type": "execute_result"
    }
   ],
   "execution_count": 1784
  },
  {
   "metadata": {
    "ExecuteTime": {
     "end_time": "2025-05-01T10:28:21.623164Z",
     "start_time": "2025-05-01T10:28:21.619658Z"
    }
   },
   "cell_type": "code",
   "source": [
    "#sing the hierarchical index you set in question 4, calculate the profit of \"Houses\" on December 12, 2021\n",
    "sales_on_12=df21_copy_2.loc[([\"12-06-2021\"],\"houses\"),\"sales\"].sum()\n",
    "\n",
    "costs_on_12 = df21_copy_2.loc[([\"12-06-2021\"],\"houses\"),\"costs\"].sum()\n",
    "\n",
    "profit_on_12 = sales_on_12 - costs_on_12\n",
    "\n",
    "print(profit_on_12)"
   ],
   "id": "c0ef45ec4b1a1bb4",
   "outputs": [
    {
     "name": "stdout",
     "output_type": "stream",
     "text": [
      "14884\n"
     ]
    }
   ],
   "execution_count": 1785
  },
  {
   "metadata": {
    "ExecuteTime": {
     "end_time": "2025-05-01T10:28:21.664281Z",
     "start_time": "2025-05-01T10:28:21.660412Z"
    }
   },
   "cell_type": "code",
   "source": [
    "#Use the apply() method to apply a thousand separators to the \"sales\" and \"cost\" columns (DataFrame from question4)\n",
    "df21[['sales', 'costs']] = df21[['sales', 'costs']].apply(lambda x: x.apply(lambda y: \"{:,}\".format(y)))\n",
    "df21"
   ],
   "id": "9da577b55c897a96",
   "outputs": [
    {
     "data": {
      "text/plain": [
       "        date products   sales   costs\n",
       "0 2021-11-20     cars  19,234  12,340\n",
       "1 2021-12-12    boats  87,598  67,568\n",
       "2 2021-12-06   houses  20,989  11,999\n",
       "3 2021-11-07     cars  15,900  10,910\n",
       "4 2021-12-06    boats  12,087   7,087\n",
       "5 2021-12-09     cars  56,897  40,447\n",
       "6 2021-11-10     cars  11,879   5,879\n",
       "7 2021-12-06   houses  19,345  13,451"
      ],
      "text/html": [
       "<div>\n",
       "<style scoped>\n",
       "    .dataframe tbody tr th:only-of-type {\n",
       "        vertical-align: middle;\n",
       "    }\n",
       "\n",
       "    .dataframe tbody tr th {\n",
       "        vertical-align: top;\n",
       "    }\n",
       "\n",
       "    .dataframe thead th {\n",
       "        text-align: right;\n",
       "    }\n",
       "</style>\n",
       "<table border=\"1\" class=\"dataframe\">\n",
       "  <thead>\n",
       "    <tr style=\"text-align: right;\">\n",
       "      <th></th>\n",
       "      <th>date</th>\n",
       "      <th>products</th>\n",
       "      <th>sales</th>\n",
       "      <th>costs</th>\n",
       "    </tr>\n",
       "  </thead>\n",
       "  <tbody>\n",
       "    <tr>\n",
       "      <th>0</th>\n",
       "      <td>2021-11-20</td>\n",
       "      <td>cars</td>\n",
       "      <td>19,234</td>\n",
       "      <td>12,340</td>\n",
       "    </tr>\n",
       "    <tr>\n",
       "      <th>1</th>\n",
       "      <td>2021-12-12</td>\n",
       "      <td>boats</td>\n",
       "      <td>87,598</td>\n",
       "      <td>67,568</td>\n",
       "    </tr>\n",
       "    <tr>\n",
       "      <th>2</th>\n",
       "      <td>2021-12-06</td>\n",
       "      <td>houses</td>\n",
       "      <td>20,989</td>\n",
       "      <td>11,999</td>\n",
       "    </tr>\n",
       "    <tr>\n",
       "      <th>3</th>\n",
       "      <td>2021-11-07</td>\n",
       "      <td>cars</td>\n",
       "      <td>15,900</td>\n",
       "      <td>10,910</td>\n",
       "    </tr>\n",
       "    <tr>\n",
       "      <th>4</th>\n",
       "      <td>2021-12-06</td>\n",
       "      <td>boats</td>\n",
       "      <td>12,087</td>\n",
       "      <td>7,087</td>\n",
       "    </tr>\n",
       "    <tr>\n",
       "      <th>5</th>\n",
       "      <td>2021-12-09</td>\n",
       "      <td>cars</td>\n",
       "      <td>56,897</td>\n",
       "      <td>40,447</td>\n",
       "    </tr>\n",
       "    <tr>\n",
       "      <th>6</th>\n",
       "      <td>2021-11-10</td>\n",
       "      <td>cars</td>\n",
       "      <td>11,879</td>\n",
       "      <td>5,879</td>\n",
       "    </tr>\n",
       "    <tr>\n",
       "      <th>7</th>\n",
       "      <td>2021-12-06</td>\n",
       "      <td>houses</td>\n",
       "      <td>19,345</td>\n",
       "      <td>13,451</td>\n",
       "    </tr>\n",
       "  </tbody>\n",
       "</table>\n",
       "</div>"
      ]
     },
     "execution_count": 1786,
     "metadata": {},
     "output_type": "execute_result"
    }
   ],
   "execution_count": 1786
  },
  {
   "metadata": {
    "ExecuteTime": {
     "end_time": "2025-05-01T10:28:21.698334Z",
     "start_time": "2025-05-01T10:28:21.696003Z"
    }
   },
   "cell_type": "code",
   "source": "df21[\"products\"].value_counts()",
   "id": "7676810cc0b3fd18",
   "outputs": [
    {
     "data": {
      "text/plain": [
       "products\n",
       "cars      4\n",
       "boats     2\n",
       "houses    2\n",
       "Name: count, dtype: int64"
      ]
     },
     "execution_count": 1787,
     "metadata": {},
     "output_type": "execute_result"
    }
   ],
   "execution_count": 1787
  },
  {
   "metadata": {},
   "cell_type": "markdown",
   "source": [
    "###  Day 22: Data Preprocessing and Analysis\n",
    "\n",
    "Part of data preprocessing involves cleaning, transforming,\n",
    "and organizing data to make it suitable for analysis. It\n",
    "includes tasks such as removing duplicate entries, handling\n",
    "missing values, and transforming data types. The main goal\n",
    "of preprocessing is to improve the quality of the data,\n",
    "reduce noise and inconsistencies, and make it easier to\n",
    "analyze."
   ],
   "id": "67b5863874158d68"
  },
  {
   "metadata": {
    "ExecuteTime": {
     "end_time": "2025-05-01T10:28:21.752144Z",
     "start_time": "2025-05-01T10:28:21.749659Z"
    }
   },
   "cell_type": "code",
   "source": [
    "\n",
    "names = [\"Carol\", \"Kate\", \"Jane\", \"Kuda\", \"Tito\", \"Kuku\"]\n",
    "age = [23,  np.nan,  34,  56,  np.nan,  44]"
   ],
   "id": "ccabe6e723e62197",
   "outputs": [],
   "execution_count": 1788
  },
  {
   "metadata": {
    "ExecuteTime": {
     "end_time": "2025-05-01T10:28:21.806997Z",
     "start_time": "2025-05-01T10:28:21.805069Z"
    }
   },
   "cell_type": "code",
   "source": [
    "#Using pandas create a DataFrame with the two lists above. Write a code that counts how many missing values are in each column\n",
    "\n",
    "df22 = pd.DataFrame({\"Names\":names,\n",
    "                     \"Ages\":age})\n",
    "print(df22.isnull().sum())"
   ],
   "id": "8340a9328921f511",
   "outputs": [
    {
     "name": "stdout",
     "output_type": "stream",
     "text": [
      "Names    0\n",
      "Ages     2\n",
      "dtype: int64\n"
     ]
    }
   ],
   "execution_count": 1789
  },
  {
   "metadata": {
    "ExecuteTime": {
     "end_time": "2025-05-01T10:28:21.853324Z",
     "start_time": "2025-05-01T10:28:21.850059Z"
    }
   },
   "cell_type": "code",
   "source": [
    "# Create a copy of the DataFrame in question 1 and drop all the missing values\n",
    "df22_copy = df22\n",
    "\n",
    "df22.dropna()"
   ],
   "id": "ec543dea70839853",
   "outputs": [
    {
     "data": {
      "text/plain": [
       "   Names  Ages\n",
       "0  Carol  23.0\n",
       "2   Jane  34.0\n",
       "3   Kuda  56.0\n",
       "5   Kuku  44.0"
      ],
      "text/html": [
       "<div>\n",
       "<style scoped>\n",
       "    .dataframe tbody tr th:only-of-type {\n",
       "        vertical-align: middle;\n",
       "    }\n",
       "\n",
       "    .dataframe tbody tr th {\n",
       "        vertical-align: top;\n",
       "    }\n",
       "\n",
       "    .dataframe thead th {\n",
       "        text-align: right;\n",
       "    }\n",
       "</style>\n",
       "<table border=\"1\" class=\"dataframe\">\n",
       "  <thead>\n",
       "    <tr style=\"text-align: right;\">\n",
       "      <th></th>\n",
       "      <th>Names</th>\n",
       "      <th>Ages</th>\n",
       "    </tr>\n",
       "  </thead>\n",
       "  <tbody>\n",
       "    <tr>\n",
       "      <th>0</th>\n",
       "      <td>Carol</td>\n",
       "      <td>23.0</td>\n",
       "    </tr>\n",
       "    <tr>\n",
       "      <th>2</th>\n",
       "      <td>Jane</td>\n",
       "      <td>34.0</td>\n",
       "    </tr>\n",
       "    <tr>\n",
       "      <th>3</th>\n",
       "      <td>Kuda</td>\n",
       "      <td>56.0</td>\n",
       "    </tr>\n",
       "    <tr>\n",
       "      <th>5</th>\n",
       "      <td>Kuku</td>\n",
       "      <td>44.0</td>\n",
       "    </tr>\n",
       "  </tbody>\n",
       "</table>\n",
       "</div>"
      ]
     },
     "execution_count": 1790,
     "metadata": {},
     "output_type": "execute_result"
    }
   ],
   "execution_count": 1790
  },
  {
   "metadata": {
    "ExecuteTime": {
     "end_time": "2025-05-01T10:28:21.885313Z",
     "start_time": "2025-05-01T10:28:21.881880Z"
    }
   },
   "cell_type": "code",
   "source": [
    "#You decided you don’t want to drop the missing numbers, but replace them with the mean of the numbers in the column. Create another copy of the DataFrame (from the original DataFrame in question 1) and fill in the missing values with the mean of the column.\n",
    "df22_copy2 = df22\n",
    "\n",
    "df22_copy2 = df22_copy2.fillna(df22_copy2[\"Ages\"].mean(), inplace = False)\n",
    "df22_copy2"
   ],
   "id": "c3667f5d71879854",
   "outputs": [
    {
     "data": {
      "text/plain": [
       "   Names   Ages\n",
       "0  Carol  23.00\n",
       "1   Kate  39.25\n",
       "2   Jane  34.00\n",
       "3   Kuda  56.00\n",
       "4   Tito  39.25\n",
       "5   Kuku  44.00"
      ],
      "text/html": [
       "<div>\n",
       "<style scoped>\n",
       "    .dataframe tbody tr th:only-of-type {\n",
       "        vertical-align: middle;\n",
       "    }\n",
       "\n",
       "    .dataframe tbody tr th {\n",
       "        vertical-align: top;\n",
       "    }\n",
       "\n",
       "    .dataframe thead th {\n",
       "        text-align: right;\n",
       "    }\n",
       "</style>\n",
       "<table border=\"1\" class=\"dataframe\">\n",
       "  <thead>\n",
       "    <tr style=\"text-align: right;\">\n",
       "      <th></th>\n",
       "      <th>Names</th>\n",
       "      <th>Ages</th>\n",
       "    </tr>\n",
       "  </thead>\n",
       "  <tbody>\n",
       "    <tr>\n",
       "      <th>0</th>\n",
       "      <td>Carol</td>\n",
       "      <td>23.00</td>\n",
       "    </tr>\n",
       "    <tr>\n",
       "      <th>1</th>\n",
       "      <td>Kate</td>\n",
       "      <td>39.25</td>\n",
       "    </tr>\n",
       "    <tr>\n",
       "      <th>2</th>\n",
       "      <td>Jane</td>\n",
       "      <td>34.00</td>\n",
       "    </tr>\n",
       "    <tr>\n",
       "      <th>3</th>\n",
       "      <td>Kuda</td>\n",
       "      <td>56.00</td>\n",
       "    </tr>\n",
       "    <tr>\n",
       "      <th>4</th>\n",
       "      <td>Tito</td>\n",
       "      <td>39.25</td>\n",
       "    </tr>\n",
       "    <tr>\n",
       "      <th>5</th>\n",
       "      <td>Kuku</td>\n",
       "      <td>44.00</td>\n",
       "    </tr>\n",
       "  </tbody>\n",
       "</table>\n",
       "</div>"
      ]
     },
     "execution_count": 1791,
     "metadata": {},
     "output_type": "execute_result"
    }
   ],
   "execution_count": 1791
  },
  {
   "metadata": {
    "ExecuteTime": {
     "end_time": "2025-05-01T10:28:21.933805Z",
     "start_time": "2025-05-01T10:28:21.930514Z"
    }
   },
   "cell_type": "code",
   "source": [
    "gender_values =[\"F\",\"F\", \"F\",\"M\",\"M\", \"M\"]\n",
    "\n",
    "# Add a gender column to the dataframe\n",
    "df22_copy2['Gender'] = gender_values\n",
    "df22_copy2"
   ],
   "id": "c9af29f6747ec02c",
   "outputs": [
    {
     "data": {
      "text/plain": [
       "   Names   Ages Gender\n",
       "0  Carol  23.00      F\n",
       "1   Kate  39.25      F\n",
       "2   Jane  34.00      F\n",
       "3   Kuda  56.00      M\n",
       "4   Tito  39.25      M\n",
       "5   Kuku  44.00      M"
      ],
      "text/html": [
       "<div>\n",
       "<style scoped>\n",
       "    .dataframe tbody tr th:only-of-type {\n",
       "        vertical-align: middle;\n",
       "    }\n",
       "\n",
       "    .dataframe tbody tr th {\n",
       "        vertical-align: top;\n",
       "    }\n",
       "\n",
       "    .dataframe thead th {\n",
       "        text-align: right;\n",
       "    }\n",
       "</style>\n",
       "<table border=\"1\" class=\"dataframe\">\n",
       "  <thead>\n",
       "    <tr style=\"text-align: right;\">\n",
       "      <th></th>\n",
       "      <th>Names</th>\n",
       "      <th>Ages</th>\n",
       "      <th>Gender</th>\n",
       "    </tr>\n",
       "  </thead>\n",
       "  <tbody>\n",
       "    <tr>\n",
       "      <th>0</th>\n",
       "      <td>Carol</td>\n",
       "      <td>23.00</td>\n",
       "      <td>F</td>\n",
       "    </tr>\n",
       "    <tr>\n",
       "      <th>1</th>\n",
       "      <td>Kate</td>\n",
       "      <td>39.25</td>\n",
       "      <td>F</td>\n",
       "    </tr>\n",
       "    <tr>\n",
       "      <th>2</th>\n",
       "      <td>Jane</td>\n",
       "      <td>34.00</td>\n",
       "      <td>F</td>\n",
       "    </tr>\n",
       "    <tr>\n",
       "      <th>3</th>\n",
       "      <td>Kuda</td>\n",
       "      <td>56.00</td>\n",
       "      <td>M</td>\n",
       "    </tr>\n",
       "    <tr>\n",
       "      <th>4</th>\n",
       "      <td>Tito</td>\n",
       "      <td>39.25</td>\n",
       "      <td>M</td>\n",
       "    </tr>\n",
       "    <tr>\n",
       "      <th>5</th>\n",
       "      <td>Kuku</td>\n",
       "      <td>44.00</td>\n",
       "      <td>M</td>\n",
       "    </tr>\n",
       "  </tbody>\n",
       "</table>\n",
       "</div>"
      ]
     },
     "execution_count": 1792,
     "metadata": {},
     "output_type": "execute_result"
    }
   ],
   "execution_count": 1792
  },
  {
   "metadata": {
    "ExecuteTime": {
     "end_time": "2025-05-01T10:28:21.988994Z",
     "start_time": "2025-05-01T10:28:21.985661Z"
    }
   },
   "cell_type": "code",
   "source": [
    "melted_df = df22_copy2.melt(id_vars=[\"Names\"],\n",
    "                                      value_name=\"values\",\n",
    "                                      var_name=\"ages_gender\")\n",
    "melted_df"
   ],
   "id": "beab19d51783b3ca",
   "outputs": [
    {
     "data": {
      "text/plain": [
       "    Names ages_gender values\n",
       "0   Carol        Ages   23.0\n",
       "1    Kate        Ages  39.25\n",
       "2    Jane        Ages   34.0\n",
       "3    Kuda        Ages   56.0\n",
       "4    Tito        Ages  39.25\n",
       "5    Kuku        Ages   44.0\n",
       "6   Carol      Gender      F\n",
       "7    Kate      Gender      F\n",
       "8    Jane      Gender      F\n",
       "9    Kuda      Gender      M\n",
       "10   Tito      Gender      M\n",
       "11   Kuku      Gender      M"
      ],
      "text/html": [
       "<div>\n",
       "<style scoped>\n",
       "    .dataframe tbody tr th:only-of-type {\n",
       "        vertical-align: middle;\n",
       "    }\n",
       "\n",
       "    .dataframe tbody tr th {\n",
       "        vertical-align: top;\n",
       "    }\n",
       "\n",
       "    .dataframe thead th {\n",
       "        text-align: right;\n",
       "    }\n",
       "</style>\n",
       "<table border=\"1\" class=\"dataframe\">\n",
       "  <thead>\n",
       "    <tr style=\"text-align: right;\">\n",
       "      <th></th>\n",
       "      <th>Names</th>\n",
       "      <th>ages_gender</th>\n",
       "      <th>values</th>\n",
       "    </tr>\n",
       "  </thead>\n",
       "  <tbody>\n",
       "    <tr>\n",
       "      <th>0</th>\n",
       "      <td>Carol</td>\n",
       "      <td>Ages</td>\n",
       "      <td>23.0</td>\n",
       "    </tr>\n",
       "    <tr>\n",
       "      <th>1</th>\n",
       "      <td>Kate</td>\n",
       "      <td>Ages</td>\n",
       "      <td>39.25</td>\n",
       "    </tr>\n",
       "    <tr>\n",
       "      <th>2</th>\n",
       "      <td>Jane</td>\n",
       "      <td>Ages</td>\n",
       "      <td>34.0</td>\n",
       "    </tr>\n",
       "    <tr>\n",
       "      <th>3</th>\n",
       "      <td>Kuda</td>\n",
       "      <td>Ages</td>\n",
       "      <td>56.0</td>\n",
       "    </tr>\n",
       "    <tr>\n",
       "      <th>4</th>\n",
       "      <td>Tito</td>\n",
       "      <td>Ages</td>\n",
       "      <td>39.25</td>\n",
       "    </tr>\n",
       "    <tr>\n",
       "      <th>5</th>\n",
       "      <td>Kuku</td>\n",
       "      <td>Ages</td>\n",
       "      <td>44.0</td>\n",
       "    </tr>\n",
       "    <tr>\n",
       "      <th>6</th>\n",
       "      <td>Carol</td>\n",
       "      <td>Gender</td>\n",
       "      <td>F</td>\n",
       "    </tr>\n",
       "    <tr>\n",
       "      <th>7</th>\n",
       "      <td>Kate</td>\n",
       "      <td>Gender</td>\n",
       "      <td>F</td>\n",
       "    </tr>\n",
       "    <tr>\n",
       "      <th>8</th>\n",
       "      <td>Jane</td>\n",
       "      <td>Gender</td>\n",
       "      <td>F</td>\n",
       "    </tr>\n",
       "    <tr>\n",
       "      <th>9</th>\n",
       "      <td>Kuda</td>\n",
       "      <td>Gender</td>\n",
       "      <td>M</td>\n",
       "    </tr>\n",
       "    <tr>\n",
       "      <th>10</th>\n",
       "      <td>Tito</td>\n",
       "      <td>Gender</td>\n",
       "      <td>M</td>\n",
       "    </tr>\n",
       "    <tr>\n",
       "      <th>11</th>\n",
       "      <td>Kuku</td>\n",
       "      <td>Gender</td>\n",
       "      <td>M</td>\n",
       "    </tr>\n",
       "  </tbody>\n",
       "</table>\n",
       "</div>"
      ]
     },
     "execution_count": 1793,
     "metadata": {},
     "output_type": "execute_result"
    }
   ],
   "execution_count": 1793
  },
  {
   "metadata": {
    "ExecuteTime": {
     "end_time": "2025-05-01T10:28:22.057845Z",
     "start_time": "2025-05-01T10:28:22.053877Z"
    }
   },
   "cell_type": "code",
   "source": [
    "#Using the pandas where() function, write a code to return a DataFrame of names and gender values only from the \"melted\" DataFrame (question 4). You DataFrame should not have NaN values. Save this to the new variable.\n",
    "names_gender = melted_df.where(melted_df[\"ages_gender\"]== \"Gender\").dropna()\n",
    "names_gender"
   ],
   "id": "dba0ef20d1051ba0",
   "outputs": [
    {
     "data": {
      "text/plain": [
       "    Names ages_gender values\n",
       "6   Carol      Gender      F\n",
       "7    Kate      Gender      F\n",
       "8    Jane      Gender      F\n",
       "9    Kuda      Gender      M\n",
       "10   Tito      Gender      M\n",
       "11   Kuku      Gender      M"
      ],
      "text/html": [
       "<div>\n",
       "<style scoped>\n",
       "    .dataframe tbody tr th:only-of-type {\n",
       "        vertical-align: middle;\n",
       "    }\n",
       "\n",
       "    .dataframe tbody tr th {\n",
       "        vertical-align: top;\n",
       "    }\n",
       "\n",
       "    .dataframe thead th {\n",
       "        text-align: right;\n",
       "    }\n",
       "</style>\n",
       "<table border=\"1\" class=\"dataframe\">\n",
       "  <thead>\n",
       "    <tr style=\"text-align: right;\">\n",
       "      <th></th>\n",
       "      <th>Names</th>\n",
       "      <th>ages_gender</th>\n",
       "      <th>values</th>\n",
       "    </tr>\n",
       "  </thead>\n",
       "  <tbody>\n",
       "    <tr>\n",
       "      <th>6</th>\n",
       "      <td>Carol</td>\n",
       "      <td>Gender</td>\n",
       "      <td>F</td>\n",
       "    </tr>\n",
       "    <tr>\n",
       "      <th>7</th>\n",
       "      <td>Kate</td>\n",
       "      <td>Gender</td>\n",
       "      <td>F</td>\n",
       "    </tr>\n",
       "    <tr>\n",
       "      <th>8</th>\n",
       "      <td>Jane</td>\n",
       "      <td>Gender</td>\n",
       "      <td>F</td>\n",
       "    </tr>\n",
       "    <tr>\n",
       "      <th>9</th>\n",
       "      <td>Kuda</td>\n",
       "      <td>Gender</td>\n",
       "      <td>M</td>\n",
       "    </tr>\n",
       "    <tr>\n",
       "      <th>10</th>\n",
       "      <td>Tito</td>\n",
       "      <td>Gender</td>\n",
       "      <td>M</td>\n",
       "    </tr>\n",
       "    <tr>\n",
       "      <th>11</th>\n",
       "      <td>Kuku</td>\n",
       "      <td>Gender</td>\n",
       "      <td>M</td>\n",
       "    </tr>\n",
       "  </tbody>\n",
       "</table>\n",
       "</div>"
      ]
     },
     "execution_count": 1794,
     "metadata": {},
     "output_type": "execute_result"
    }
   ],
   "execution_count": 1794
  },
  {
   "metadata": {
    "ExecuteTime": {
     "end_time": "2025-05-01T10:28:22.121425Z",
     "start_time": "2025-05-01T10:28:22.118310Z"
    }
   },
   "cell_type": "code",
   "source": [
    "#Convert the column header of the DataFrame in question 5 to uppercase letters.\n",
    "names_gender.columns = names_gender.columns.str.upper()\n",
    "names_gender"
   ],
   "id": "8a86226ffc24de3b",
   "outputs": [
    {
     "data": {
      "text/plain": [
       "    NAMES AGES_GENDER VALUES\n",
       "6   Carol      Gender      F\n",
       "7    Kate      Gender      F\n",
       "8    Jane      Gender      F\n",
       "9    Kuda      Gender      M\n",
       "10   Tito      Gender      M\n",
       "11   Kuku      Gender      M"
      ],
      "text/html": [
       "<div>\n",
       "<style scoped>\n",
       "    .dataframe tbody tr th:only-of-type {\n",
       "        vertical-align: middle;\n",
       "    }\n",
       "\n",
       "    .dataframe tbody tr th {\n",
       "        vertical-align: top;\n",
       "    }\n",
       "\n",
       "    .dataframe thead th {\n",
       "        text-align: right;\n",
       "    }\n",
       "</style>\n",
       "<table border=\"1\" class=\"dataframe\">\n",
       "  <thead>\n",
       "    <tr style=\"text-align: right;\">\n",
       "      <th></th>\n",
       "      <th>NAMES</th>\n",
       "      <th>AGES_GENDER</th>\n",
       "      <th>VALUES</th>\n",
       "    </tr>\n",
       "  </thead>\n",
       "  <tbody>\n",
       "    <tr>\n",
       "      <th>6</th>\n",
       "      <td>Carol</td>\n",
       "      <td>Gender</td>\n",
       "      <td>F</td>\n",
       "    </tr>\n",
       "    <tr>\n",
       "      <th>7</th>\n",
       "      <td>Kate</td>\n",
       "      <td>Gender</td>\n",
       "      <td>F</td>\n",
       "    </tr>\n",
       "    <tr>\n",
       "      <th>8</th>\n",
       "      <td>Jane</td>\n",
       "      <td>Gender</td>\n",
       "      <td>F</td>\n",
       "    </tr>\n",
       "    <tr>\n",
       "      <th>9</th>\n",
       "      <td>Kuda</td>\n",
       "      <td>Gender</td>\n",
       "      <td>M</td>\n",
       "    </tr>\n",
       "    <tr>\n",
       "      <th>10</th>\n",
       "      <td>Tito</td>\n",
       "      <td>Gender</td>\n",
       "      <td>M</td>\n",
       "    </tr>\n",
       "    <tr>\n",
       "      <th>11</th>\n",
       "      <td>Kuku</td>\n",
       "      <td>Gender</td>\n",
       "      <td>M</td>\n",
       "    </tr>\n",
       "  </tbody>\n",
       "</table>\n",
       "</div>"
      ]
     },
     "execution_count": 1795,
     "metadata": {},
     "output_type": "execute_result"
    }
   ],
   "execution_count": 1795
  },
  {
   "metadata": {},
   "cell_type": "markdown",
   "source": "### Day 23: Preprocessing with Pandas and Matplotlib",
   "id": "b4f5e9786065d45f"
  },
  {
   "metadata": {
    "ExecuteTime": {
     "end_time": "2025-05-01T10:28:22.178157Z",
     "start_time": "2025-05-01T10:28:22.174880Z"
    }
   },
   "cell_type": "code",
   "source": [
    "#Create a pandas DataFrame from the lists above. Write acode to check if there are any missing values in the columns of the DataFrame.\n",
    "names = [\"Kelly\", np.nan, 'Jon', 'Ken', 'Tim', 'Pel']\n",
    "grades = [30, 40, 30, 67, np.nan, 55]\n",
    "age =[15, np.nan, 18, 17, np.nan, 16]\n",
    "\n",
    "df23= pd.DataFrame({'Names': names,'Grades':grades,'Age': age})\n",
    "df23"
   ],
   "id": "adbbfb9c3b030ce3",
   "outputs": [
    {
     "data": {
      "text/plain": [
       "   Names  Grades   Age\n",
       "0  Kelly    30.0  15.0\n",
       "1    NaN    40.0   NaN\n",
       "2    Jon    30.0  18.0\n",
       "3    Ken    67.0  17.0\n",
       "4    Tim     NaN   NaN\n",
       "5    Pel    55.0  16.0"
      ],
      "text/html": [
       "<div>\n",
       "<style scoped>\n",
       "    .dataframe tbody tr th:only-of-type {\n",
       "        vertical-align: middle;\n",
       "    }\n",
       "\n",
       "    .dataframe tbody tr th {\n",
       "        vertical-align: top;\n",
       "    }\n",
       "\n",
       "    .dataframe thead th {\n",
       "        text-align: right;\n",
       "    }\n",
       "</style>\n",
       "<table border=\"1\" class=\"dataframe\">\n",
       "  <thead>\n",
       "    <tr style=\"text-align: right;\">\n",
       "      <th></th>\n",
       "      <th>Names</th>\n",
       "      <th>Grades</th>\n",
       "      <th>Age</th>\n",
       "    </tr>\n",
       "  </thead>\n",
       "  <tbody>\n",
       "    <tr>\n",
       "      <th>0</th>\n",
       "      <td>Kelly</td>\n",
       "      <td>30.0</td>\n",
       "      <td>15.0</td>\n",
       "    </tr>\n",
       "    <tr>\n",
       "      <th>1</th>\n",
       "      <td>NaN</td>\n",
       "      <td>40.0</td>\n",
       "      <td>NaN</td>\n",
       "    </tr>\n",
       "    <tr>\n",
       "      <th>2</th>\n",
       "      <td>Jon</td>\n",
       "      <td>30.0</td>\n",
       "      <td>18.0</td>\n",
       "    </tr>\n",
       "    <tr>\n",
       "      <th>3</th>\n",
       "      <td>Ken</td>\n",
       "      <td>67.0</td>\n",
       "      <td>17.0</td>\n",
       "    </tr>\n",
       "    <tr>\n",
       "      <th>4</th>\n",
       "      <td>Tim</td>\n",
       "      <td>NaN</td>\n",
       "      <td>NaN</td>\n",
       "    </tr>\n",
       "    <tr>\n",
       "      <th>5</th>\n",
       "      <td>Pel</td>\n",
       "      <td>55.0</td>\n",
       "      <td>16.0</td>\n",
       "    </tr>\n",
       "  </tbody>\n",
       "</table>\n",
       "</div>"
      ]
     },
     "execution_count": 1796,
     "metadata": {},
     "output_type": "execute_result"
    }
   ],
   "execution_count": 1796
  },
  {
   "metadata": {
    "ExecuteTime": {
     "end_time": "2025-05-01T10:28:22.235146Z",
     "start_time": "2025-05-01T10:28:22.232942Z"
    }
   },
   "cell_type": "code",
   "source": "df23.isnull().sum()",
   "id": "b4bd4ab89fa0e1d0",
   "outputs": [
    {
     "data": {
      "text/plain": [
       "Names     1\n",
       "Grades    1\n",
       "Age       2\n",
       "dtype: int64"
      ]
     },
     "execution_count": 1797,
     "metadata": {},
     "output_type": "execute_result"
    }
   ],
   "execution_count": 1797
  },
  {
   "metadata": {
    "ExecuteTime": {
     "end_time": "2025-05-01T10:28:22.300300Z",
     "start_time": "2025-05-01T10:28:22.294190Z"
    }
   },
   "cell_type": "code",
   "source": [
    "\n",
    "from sklearn.impute import SimpleImputer\n",
    "\n",
    "#Your supervisor has asked that you show them how to fill in the missing values using the library's Sklearn. Write code to fill in missing values in the DataFrame above using thislibrary. Replace the missing value in the \"Name\" columnwith the name \"Paul.\" Use the mean strategy for the\"Grades\" column and the median strategy for the \"Age\" column. Make a copy of the original DataFrame\n",
    "\n",
    "# Create a copy of the DataFrame\n",
    "df23_copy = df23.copy()\n",
    "\n",
    "# create an instance of SimpleImputer with different strategies for each column\n",
    "imputer_names = SimpleImputer( strategy='constant',fill_value=\"Paul\",)\n",
    "imputer_grades = SimpleImputer(strategy='mean')\n",
    "imputer_age = SimpleImputer(strategy='median')\n",
    "\n",
    "# fit and transform the imputer on selected columns\n",
    "df23_copy[['Names']] = imputer_names.fit_transform(df23_copy[['Names']])\n",
    "df23_copy[['Grades']] = imputer_grades.fit_transform(df23_copy[['Grades']])\n",
    "df23_copy[['Age']] = imputer_age.fit_transform(df23_copy[['Age']])\n",
    "\n",
    "df23_copy"
   ],
   "id": "d7b99fbf5219ae5",
   "outputs": [
    {
     "data": {
      "text/plain": [
       "   Names  Grades   Age\n",
       "0  Kelly    30.0  15.0\n",
       "1   Paul    40.0  16.5\n",
       "2    Jon    30.0  18.0\n",
       "3    Ken    67.0  17.0\n",
       "4    Tim    44.4  16.5\n",
       "5    Pel    55.0  16.0"
      ],
      "text/html": [
       "<div>\n",
       "<style scoped>\n",
       "    .dataframe tbody tr th:only-of-type {\n",
       "        vertical-align: middle;\n",
       "    }\n",
       "\n",
       "    .dataframe tbody tr th {\n",
       "        vertical-align: top;\n",
       "    }\n",
       "\n",
       "    .dataframe thead th {\n",
       "        text-align: right;\n",
       "    }\n",
       "</style>\n",
       "<table border=\"1\" class=\"dataframe\">\n",
       "  <thead>\n",
       "    <tr style=\"text-align: right;\">\n",
       "      <th></th>\n",
       "      <th>Names</th>\n",
       "      <th>Grades</th>\n",
       "      <th>Age</th>\n",
       "    </tr>\n",
       "  </thead>\n",
       "  <tbody>\n",
       "    <tr>\n",
       "      <th>0</th>\n",
       "      <td>Kelly</td>\n",
       "      <td>30.0</td>\n",
       "      <td>15.0</td>\n",
       "    </tr>\n",
       "    <tr>\n",
       "      <th>1</th>\n",
       "      <td>Paul</td>\n",
       "      <td>40.0</td>\n",
       "      <td>16.5</td>\n",
       "    </tr>\n",
       "    <tr>\n",
       "      <th>2</th>\n",
       "      <td>Jon</td>\n",
       "      <td>30.0</td>\n",
       "      <td>18.0</td>\n",
       "    </tr>\n",
       "    <tr>\n",
       "      <th>3</th>\n",
       "      <td>Ken</td>\n",
       "      <td>67.0</td>\n",
       "      <td>17.0</td>\n",
       "    </tr>\n",
       "    <tr>\n",
       "      <th>4</th>\n",
       "      <td>Tim</td>\n",
       "      <td>44.4</td>\n",
       "      <td>16.5</td>\n",
       "    </tr>\n",
       "    <tr>\n",
       "      <th>5</th>\n",
       "      <td>Pel</td>\n",
       "      <td>55.0</td>\n",
       "      <td>16.0</td>\n",
       "    </tr>\n",
       "  </tbody>\n",
       "</table>\n",
       "</div>"
      ]
     },
     "execution_count": 1798,
     "metadata": {},
     "output_type": "execute_result"
    }
   ],
   "execution_count": 1798
  },
  {
   "metadata": {
    "ExecuteTime": {
     "end_time": "2025-05-01T10:28:22.354900Z",
     "start_time": "2025-05-01T10:28:22.351743Z"
    }
   },
   "cell_type": "code",
   "source": [
    "#Using the original DataFrame (question 1) with missing values, identify and drop any columns that have more than 30% missing values. Save this as a new variable\n",
    "\n",
    "# Check percentage of missing values in each column\n",
    "missing_values = df23.isnull().mean()\n",
    "\n",
    "# Select columns that have more than 50% missing values\n",
    "columns_to_drop = missing_values[missing_values > 0.30].index\n",
    "\n",
    "# Drop columns from the dataframe\n",
    "df_cleaned = df23.drop(columns_to_drop, axis=1)\n",
    "\n",
    "df_cleaned"
   ],
   "id": "cf3872d3783d5852",
   "outputs": [
    {
     "data": {
      "text/plain": [
       "   Names  Grades\n",
       "0  Kelly    30.0\n",
       "1    NaN    40.0\n",
       "2    Jon    30.0\n",
       "3    Ken    67.0\n",
       "4    Tim     NaN\n",
       "5    Pel    55.0"
      ],
      "text/html": [
       "<div>\n",
       "<style scoped>\n",
       "    .dataframe tbody tr th:only-of-type {\n",
       "        vertical-align: middle;\n",
       "    }\n",
       "\n",
       "    .dataframe tbody tr th {\n",
       "        vertical-align: top;\n",
       "    }\n",
       "\n",
       "    .dataframe thead th {\n",
       "        text-align: right;\n",
       "    }\n",
       "</style>\n",
       "<table border=\"1\" class=\"dataframe\">\n",
       "  <thead>\n",
       "    <tr style=\"text-align: right;\">\n",
       "      <th></th>\n",
       "      <th>Names</th>\n",
       "      <th>Grades</th>\n",
       "    </tr>\n",
       "  </thead>\n",
       "  <tbody>\n",
       "    <tr>\n",
       "      <th>0</th>\n",
       "      <td>Kelly</td>\n",
       "      <td>30.0</td>\n",
       "    </tr>\n",
       "    <tr>\n",
       "      <th>1</th>\n",
       "      <td>NaN</td>\n",
       "      <td>40.0</td>\n",
       "    </tr>\n",
       "    <tr>\n",
       "      <th>2</th>\n",
       "      <td>Jon</td>\n",
       "      <td>30.0</td>\n",
       "    </tr>\n",
       "    <tr>\n",
       "      <th>3</th>\n",
       "      <td>Ken</td>\n",
       "      <td>67.0</td>\n",
       "    </tr>\n",
       "    <tr>\n",
       "      <th>4</th>\n",
       "      <td>Tim</td>\n",
       "      <td>NaN</td>\n",
       "    </tr>\n",
       "    <tr>\n",
       "      <th>5</th>\n",
       "      <td>Pel</td>\n",
       "      <td>55.0</td>\n",
       "    </tr>\n",
       "  </tbody>\n",
       "</table>\n",
       "</div>"
      ]
     },
     "execution_count": 1799,
     "metadata": {},
     "output_type": "execute_result"
    }
   ],
   "execution_count": 1799
  },
  {
   "metadata": {
    "ExecuteTime": {
     "end_time": "2025-05-01T10:28:22.417017Z",
     "start_time": "2025-05-01T10:28:22.414321Z"
    }
   },
   "cell_type": "code",
   "source": [
    "#Using pandas, check for any duplicate values in the \"Names\" columns of your DataFrame (question 3).\n",
    "df_cleaned.duplicated(\"Names\").sum()\n",
    "\n"
   ],
   "id": "b851c27b790b2d1",
   "outputs": [
    {
     "data": {
      "text/plain": [
       "np.int64(0)"
      ]
     },
     "execution_count": 1800,
     "metadata": {},
     "output_type": "execute_result"
    }
   ],
   "execution_count": 1800
  },
  {
   "metadata": {
    "ExecuteTime": {
     "end_time": "2025-05-01T10:28:22.481757Z",
     "start_time": "2025-05-01T10:28:22.476600Z"
    }
   },
   "cell_type": "code",
   "source": [
    "sch_data_agg = df23.groupby('Names').agg({'Grades': ['mean', 'min', 'max']})\n",
    "sch_data_agg"
   ],
   "id": "68bd7ff1b10d4ca9",
   "outputs": [
    {
     "data": {
      "text/plain": [
       "      Grades            \n",
       "        mean   min   max\n",
       "Names                   \n",
       "Jon     30.0  30.0  30.0\n",
       "Kelly   30.0  30.0  30.0\n",
       "Ken     67.0  67.0  67.0\n",
       "Pel     55.0  55.0  55.0\n",
       "Tim      NaN   NaN   NaN"
      ],
      "text/html": [
       "<div>\n",
       "<style scoped>\n",
       "    .dataframe tbody tr th:only-of-type {\n",
       "        vertical-align: middle;\n",
       "    }\n",
       "\n",
       "    .dataframe tbody tr th {\n",
       "        vertical-align: top;\n",
       "    }\n",
       "\n",
       "    .dataframe thead tr th {\n",
       "        text-align: left;\n",
       "    }\n",
       "\n",
       "    .dataframe thead tr:last-of-type th {\n",
       "        text-align: right;\n",
       "    }\n",
       "</style>\n",
       "<table border=\"1\" class=\"dataframe\">\n",
       "  <thead>\n",
       "    <tr>\n",
       "      <th></th>\n",
       "      <th colspan=\"3\" halign=\"left\">Grades</th>\n",
       "    </tr>\n",
       "    <tr>\n",
       "      <th></th>\n",
       "      <th>mean</th>\n",
       "      <th>min</th>\n",
       "      <th>max</th>\n",
       "    </tr>\n",
       "    <tr>\n",
       "      <th>Names</th>\n",
       "      <th></th>\n",
       "      <th></th>\n",
       "      <th></th>\n",
       "    </tr>\n",
       "  </thead>\n",
       "  <tbody>\n",
       "    <tr>\n",
       "      <th>Jon</th>\n",
       "      <td>30.0</td>\n",
       "      <td>30.0</td>\n",
       "      <td>30.0</td>\n",
       "    </tr>\n",
       "    <tr>\n",
       "      <th>Kelly</th>\n",
       "      <td>30.0</td>\n",
       "      <td>30.0</td>\n",
       "      <td>30.0</td>\n",
       "    </tr>\n",
       "    <tr>\n",
       "      <th>Ken</th>\n",
       "      <td>67.0</td>\n",
       "      <td>67.0</td>\n",
       "      <td>67.0</td>\n",
       "    </tr>\n",
       "    <tr>\n",
       "      <th>Pel</th>\n",
       "      <td>55.0</td>\n",
       "      <td>55.0</td>\n",
       "      <td>55.0</td>\n",
       "    </tr>\n",
       "    <tr>\n",
       "      <th>Tim</th>\n",
       "      <td>NaN</td>\n",
       "      <td>NaN</td>\n",
       "      <td>NaN</td>\n",
       "    </tr>\n",
       "  </tbody>\n",
       "</table>\n",
       "</div>"
      ]
     },
     "execution_count": 1801,
     "metadata": {},
     "output_type": "execute_result"
    }
   ],
   "execution_count": 1801
  },
  {
   "metadata": {},
   "cell_type": "markdown",
   "source": [
    "### Day 24 Business Data Analysis\n",
    "\n",
    "For this challenge, you are going to work with an Excel file\n",
    "called Asset_sales_data."
   ],
   "id": "2a65260771d5ee6"
  },
  {
   "metadata": {
    "ExecuteTime": {
     "end_time": "2025-05-01T10:28:38.695377Z",
     "start_time": "2025-05-01T10:28:38.678478Z"
    }
   },
   "cell_type": "code",
   "source": [
    "#Using pandas import the Excel file above. Write a code to view the first 5 rows of your DataFrame.\n",
    "\n",
    "df24 = pd.read_excel(\"Data/Asset_sales_data.xlsx\")\n",
    "df24.head()"
   ],
   "id": "46176df15c3e3767",
   "outputs": [
    {
     "data": {
      "text/plain": [
       "         date products  sales\n",
       "0  11-20-2021     cars  19234\n",
       "1  12-12-2021    boats  87598\n",
       "2  11-07-2021     cars  15900\n",
       "3  12-06-2021    boats  12087\n",
       "4  12-09-2021     cars  56897"
      ],
      "text/html": [
       "<div>\n",
       "<style scoped>\n",
       "    .dataframe tbody tr th:only-of-type {\n",
       "        vertical-align: middle;\n",
       "    }\n",
       "\n",
       "    .dataframe tbody tr th {\n",
       "        vertical-align: top;\n",
       "    }\n",
       "\n",
       "    .dataframe thead th {\n",
       "        text-align: right;\n",
       "    }\n",
       "</style>\n",
       "<table border=\"1\" class=\"dataframe\">\n",
       "  <thead>\n",
       "    <tr style=\"text-align: right;\">\n",
       "      <th></th>\n",
       "      <th>date</th>\n",
       "      <th>products</th>\n",
       "      <th>sales</th>\n",
       "    </tr>\n",
       "  </thead>\n",
       "  <tbody>\n",
       "    <tr>\n",
       "      <th>0</th>\n",
       "      <td>11-20-2021</td>\n",
       "      <td>cars</td>\n",
       "      <td>19234</td>\n",
       "    </tr>\n",
       "    <tr>\n",
       "      <th>1</th>\n",
       "      <td>12-12-2021</td>\n",
       "      <td>boats</td>\n",
       "      <td>87598</td>\n",
       "    </tr>\n",
       "    <tr>\n",
       "      <th>2</th>\n",
       "      <td>11-07-2021</td>\n",
       "      <td>cars</td>\n",
       "      <td>15900</td>\n",
       "    </tr>\n",
       "    <tr>\n",
       "      <th>3</th>\n",
       "      <td>12-06-2021</td>\n",
       "      <td>boats</td>\n",
       "      <td>12087</td>\n",
       "    </tr>\n",
       "    <tr>\n",
       "      <th>4</th>\n",
       "      <td>12-09-2021</td>\n",
       "      <td>cars</td>\n",
       "      <td>56897</td>\n",
       "    </tr>\n",
       "  </tbody>\n",
       "</table>\n",
       "</div>"
      ]
     },
     "execution_count": 1803,
     "metadata": {},
     "output_type": "execute_result"
    }
   ],
   "execution_count": 1803
  },
  {
   "metadata": {
    "ExecuteTime": {
     "end_time": "2025-05-01T10:29:21.672566Z",
     "start_time": "2025-05-01T10:29:21.670188Z"
    }
   },
   "cell_type": "code",
   "source": [
    "#Write another code that will return the data types of all the columns in the DataFrame.\n",
    "print(df24.dtypes)"
   ],
   "id": "bbb60cf31038c03d",
   "outputs": [
    {
     "name": "stdout",
     "output_type": "stream",
     "text": [
      "date        object\n",
      "products    object\n",
      "sales        int64\n",
      "dtype: object\n"
     ]
    }
   ],
   "execution_count": 1804
  },
  {
   "metadata": {
    "ExecuteTime": {
     "end_time": "2025-05-01T10:30:32.550946Z",
     "start_time": "2025-05-01T10:30:32.535503Z"
    }
   },
   "cell_type": "code",
   "source": [
    "#Write another code that will return the data types of all the columns in the DataFrame.\n",
    "\n",
    "# Convert date to pandas datetime object.\n",
    "df24[\"month\"] = pd.to_datetime(df24['date']).dt.month\n",
    "df24.head()\n",
    "\n",
    "\n",
    "\n",
    "# Use  groupy and idxmax to find month with max sales\n",
    "max_sales_month = df24.groupby(df24['month']).sum(numeric_only=True).idxmax()\n",
    "max_sales_month"
   ],
   "id": "709550525c6ae285",
   "outputs": [
    {
     "data": {
      "text/plain": [
       "sales    12\n",
       "dtype: int32"
      ]
     },
     "execution_count": 1805,
     "metadata": {},
     "output_type": "execute_result"
    }
   ],
   "execution_count": 1805
  },
  {
   "metadata": {
    "ExecuteTime": {
     "end_time": "2025-05-01T10:31:26.910857Z",
     "start_time": "2025-05-01T10:31:26.907717Z"
    }
   },
   "cell_type": "code",
   "source": [
    "# Use  groupy and idxmax to find column with max sales\n",
    "sales_per_month = df24.groupby(df24['month']).sum(numeric_only=True)\n",
    "sales_per_month\n"
   ],
   "id": "7b6c03e30c16c78b",
   "outputs": [
    {
     "data": {
      "text/plain": [
       "        sales\n",
       "month        \n",
       "11     111736\n",
       "12     565688"
      ],
      "text/html": [
       "<div>\n",
       "<style scoped>\n",
       "    .dataframe tbody tr th:only-of-type {\n",
       "        vertical-align: middle;\n",
       "    }\n",
       "\n",
       "    .dataframe tbody tr th {\n",
       "        vertical-align: top;\n",
       "    }\n",
       "\n",
       "    .dataframe thead th {\n",
       "        text-align: right;\n",
       "    }\n",
       "</style>\n",
       "<table border=\"1\" class=\"dataframe\">\n",
       "  <thead>\n",
       "    <tr style=\"text-align: right;\">\n",
       "      <th></th>\n",
       "      <th>sales</th>\n",
       "    </tr>\n",
       "    <tr>\n",
       "      <th>month</th>\n",
       "      <th></th>\n",
       "    </tr>\n",
       "  </thead>\n",
       "  <tbody>\n",
       "    <tr>\n",
       "      <th>11</th>\n",
       "      <td>111736</td>\n",
       "    </tr>\n",
       "    <tr>\n",
       "      <th>12</th>\n",
       "      <td>565688</td>\n",
       "    </tr>\n",
       "  </tbody>\n",
       "</table>\n",
       "</div>"
      ]
     },
     "execution_count": 1806,
     "metadata": {},
     "output_type": "execute_result"
    }
   ],
   "execution_count": 1806
  },
  {
   "metadata": {
    "ExecuteTime": {
     "end_time": "2025-05-01T10:33:11.866410Z",
     "start_time": "2025-05-01T10:33:11.800439Z"
    }
   },
   "cell_type": "code",
   "source": [
    "#Using Matplotlib, create a pie chart of the products and their sales values as percentages. Your chart should have labels and a title.\n",
    "\n",
    "prod_sales = df24.groupby(['products'])['sales'].sum()\n",
    "\n",
    "explode = (0, 0.1, 0)\n",
    "\n",
    "plt.figure(figsize=(12, 8))\n",
    "plt.pie(prod_sales,\n",
    "        explode=explode,\n",
    "        labels=prod_sales.index,\n",
    "        autopct='%1.1f%%',\n",
    "        shadow=True)\n",
    "\n",
    "plt.title(\"Sales Pie Chart\",\n",
    "          fontsize=20)\n",
    "plt.show()\n"
   ],
   "id": "f70e782a3de3e32f",
   "outputs": [
    {
     "data": {
      "text/plain": [
       "<Figure size 1200x800 with 1 Axes>"
      ],
      "image/png": "[encoded data removed]"
     },
     "metadata": {},
     "output_type": "display_data"
    }
   ],
   "execution_count": 1807
  },
  {
   "metadata": {
    "ExecuteTime": {
     "end_time": "2025-05-01T10:34:19.728689Z",
     "start_time": "2025-05-01T10:34:19.654938Z"
    }
   },
   "cell_type": "code",
   "source": [
    "# Use pandas to create a pivot table and calculate the sum of the sales column grouped by the products column. Use pandas and Matplotlib to plot this on a bar plot. Your plot size must be: width = 12, height = 10. Your plot title will be\"Total Sales Per Product. \"\n",
    "\n",
    "\n",
    "sales_per_product = df24.pivot_table(values='sales',\n",
    "                                   index='products',\n",
    "                                   aggfunc='sum')\n",
    "sales_per_product\n",
    "\n",
    "\n",
    "sales_per_product.plot(kind=\"bar\", figsize=(12, 8))\n",
    "plt.title(\"Total Sales Per Product\", fontsize = 20)\n",
    "plt.xticks(rotation = 0)\n",
    "plt.ylabel(\"sales\")\n",
    "plt.show()\n"
   ],
   "id": "2580de316fc0025b",
   "outputs": [
    {
     "data": {
      "text/plain": [
       "<Figure size 1200x800 with 1 Axes>"
      ],
      "image/png": "[encoded data removed]"
     },
     "metadata": {},
     "output_type": "display_data"
    }
   ],
   "execution_count": 1808
  }
 ],
 "metadata": {
  "kernelspec": {
   "display_name": "Python 3",
   "language": "python",
   "name": "python3"
  },
  "language_info": {
   "codemirror_mode": {
    "name": "ipython",
    "version": 2
   },
   "file_extension": ".py",
   "mimetype": "text/x-python",
   "name": "python",
   "nbconvert_exporter": "python",
   "pygments_lexer": "ipython2",
   "version": "2.7.6"
  }
 },
 "nbformat": 4,
 "nbformat_minor": 5
}
