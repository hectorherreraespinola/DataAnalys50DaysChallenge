{
 "cells": [
  {
   "metadata": {
    "ExecuteTime": {
     "end_time": "2025-04-14T06:59:56.766568Z",
     "start_time": "2025-04-14T06:59:56.764832Z"
    }
   },
   "cell_type": "code",
   "source": [
    "import pandas as pd\n",
    "import numpy as np\n",
    "import pandas as pd\n",
    "import matplotlib.pyplot as plt\n",
    "import seaborn as sns\n"
   ],
   "id": "446b7e786c9dd872",
   "outputs": [],
   "execution_count": 1
  },
  {
   "metadata": {},
   "cell_type": "markdown",
   "source": [
    "### Day 1\n",
    "Essentials of NumPy, Pandas,\n",
    "and Matplotlib"
   ],
   "id": "40946faa01a9a54"
  },
  {
   "metadata": {},
   "cell_type": "markdown",
   "source": [
    "### Day 2\n",
    "Creating and Manipulating Arrays"
   ],
   "id": "ef8b2ac556a009be"
  },
  {
   "metadata": {
    "ExecuteTime": {
     "end_time": "2025-04-14T06:59:56.776976Z",
     "start_time": "2025-04-14T06:59:56.775444Z"
    }
   },
   "cell_type": "code",
   "source": [
    "#Write code to import NumPy into your script. Check the version of NumPy installed.\n",
    "print(\"The version of numpy is\" , np.__version__)"
   ],
   "id": "6c5b4230730863eb",
   "outputs": [
    {
     "name": "stdout",
     "output_type": "stream",
     "text": [
      "The version of numpy is 2.0.2\n"
     ]
    }
   ],
   "execution_count": 2
  },
  {
   "metadata": {
    "ExecuteTime": {
     "end_time": "2025-04-14T06:59:56.816345Z",
     "start_time": "2025-04-14T06:59:56.813877Z"
    }
   },
   "cell_type": "code",
   "source": [
    "#Here is a list below:\n",
    "list1 = [2, 3, 4, 6]\n",
    "#Create a one-dimensional array from the list above. Write another line of code to check the shape and size of your array.\n",
    "list1 = np.array(list1)\n",
    "list1.shape\n"
   ],
   "id": "19168a7848474281",
   "outputs": [
    {
     "data": {
      "text/plain": [
       "(4,)"
      ]
     },
     "execution_count": 3,
     "metadata": {},
     "output_type": "execute_result"
    }
   ],
   "execution_count": 3
  },
  {
   "metadata": {
    "ExecuteTime": {
     "end_time": "2025-04-14T06:59:56.823729Z",
     "start_time": "2025-04-14T06:59:56.821882Z"
    }
   },
   "cell_type": "code",
   "source": [
    "#Write a function that takes this array and returns a new array with all the values in the original array reversed.\n",
    "def reversed_array(list1):\n",
    "    new_array  = np.flip(list1)\n",
    "    print(new_array)\n",
    "\n",
    "reversed_array(list1)"
   ],
   "id": "c1a41eb3bc8dbe90",
   "outputs": [
    {
     "name": "stdout",
     "output_type": "stream",
     "text": [
      "[6 4 3 2]\n"
     ]
    }
   ],
   "execution_count": 4
  },
  {
   "metadata": {
    "ExecuteTime": {
     "end_time": "2025-04-14T06:59:56.864240Z",
     "start_time": "2025-04-14T06:59:56.862509Z"
    }
   },
   "cell_type": "code",
   "source": [
    "#Create an array from the two lists above. Then write code to check the shape, dimensions, and data type of the array.\n",
    "list1 = [2, 3, 4, 6]\n",
    "list2 = [8, 10, 12, 14]\n",
    "\n",
    "new_array = np.array([list1,list2])\n",
    "\n",
    "print(\"Shape of the array:\", new_array.shape)\n",
    "print(\"Number of dimensions:\", new_array.ndim)\n",
    "print(\"Data type of the array:\", new_array.dtype)"
   ],
   "id": "50bb6156fa3ac02",
   "outputs": [
    {
     "name": "stdout",
     "output_type": "stream",
     "text": [
      "Shape of the array: (2, 4)\n",
      "Number of dimensions: 2\n",
      "Data type of the array: int64\n"
     ]
    }
   ],
   "execution_count": 5
  },
  {
   "metadata": {
    "ExecuteTime": {
     "end_time": "2025-04-14T06:59:56.880356Z",
     "start_time": "2025-04-14T06:59:56.878394Z"
    }
   },
   "cell_type": "code",
   "source": [
    "#Create an array from the three (3) lists above. Take note that some of the lists contain floats. Create an array that will have an int64 data type.\n",
    "\n",
    "list1 = [2, 3, 4, 6]\n",
    "list2 = [8, 10.1, 12, 14]\n",
    "list3 = [16, 18, 20, 22.1]\n",
    "\n",
    "\n",
    "new_array = np.array([list1, list2, list3], dtype=np.int64)\n",
    "\n",
    "print(\"Array with int64 data type:\\n\", new_array)\n",
    "print(\"Data type of the array:\", new_array.dtype)"
   ],
   "id": "80c44ab72d3dcaec",
   "outputs": [
    {
     "name": "stdout",
     "output_type": "stream",
     "text": [
      "Array with int64 data type:\n",
      " [[ 2  3  4  6]\n",
      " [ 8 10 12 14]\n",
      " [16 18 20 22]]\n",
      "Data type of the array: int64\n"
     ]
    }
   ],
   "execution_count": 6
  },
  {
   "metadata": {},
   "cell_type": "markdown",
   "source": [
    "Is it possible to create an array of both floats and integers?\n",
    "\n",
    "No, numpy just can take one data type per array"
   ],
   "id": "ef6b1f45ad4443f2"
  },
  {
   "metadata": {},
   "cell_type": "markdown",
   "source": [
    "### Day 3\n",
    "Generating Random Arrays.\n",
    "\n",
    "In this challenge, you are going to generate an array with\n",
    "some random numbers using NumPy, and create some\n",
    "visualizations using Matplotlib."
   ],
   "id": "999916d301dc5a51"
  },
  {
   "metadata": {
    "ExecuteTime": {
     "end_time": "2025-04-14T06:59:56.904168Z",
     "start_time": "2025-04-14T06:59:56.901924Z"
    }
   },
   "cell_type": "code",
   "source": [
    "#Using NumPy create an array of random numbers between 0 and 1. The shape of the array must be (3, 4). Use seed to ensure that the results are reproducible.\n",
    "\n",
    "np.random.seed(10\n",
    "               )\n",
    "array = np.random.rand(3,4)\n",
    "array"
   ],
   "id": "b9699541431364fe",
   "outputs": [
    {
     "data": {
      "text/plain": [
       "array([[0.77132064, 0.02075195, 0.63364823, 0.74880388],\n",
       "       [0.49850701, 0.22479665, 0.19806286, 0.76053071],\n",
       "       [0.16911084, 0.08833981, 0.68535982, 0.95339335]])"
      ]
     },
     "execution_count": 7,
     "metadata": {},
     "output_type": "execute_result"
    }
   ],
   "execution_count": 7
  },
  {
   "metadata": {
    "ExecuteTime": {
     "end_time": "2025-04-14T06:59:56.926287Z",
     "start_time": "2025-04-14T06:59:56.923974Z"
    }
   },
   "cell_type": "code",
   "source": [
    "#Create an array of random integers between 0 and 10. The shape of the array must be (3, 4).\n",
    "np.random.seed(1)\n",
    "array = np.random.randint(1,10, size = (3,4))\n",
    "array"
   ],
   "id": "90fce8ced68cc2ca",
   "outputs": [
    {
     "data": {
      "text/plain": [
       "array([[6, 9, 6, 1],\n",
       "       [1, 2, 8, 7],\n",
       "       [3, 5, 6, 3]])"
      ]
     },
     "execution_count": 8,
     "metadata": {},
     "output_type": "execute_result"
    }
   ],
   "execution_count": 8
  },
  {
   "metadata": {
    "ExecuteTime": {
     "end_time": "2025-04-14T06:59:57.041468Z",
     "start_time": "2025-04-14T06:59:56.952693Z"
    }
   },
   "cell_type": "code",
   "source": [
    "# Using NumPy, generate an array of 1000 random numbers from a standard normal distribution with a mean of 0 and a variance of 1. Create a histogram with this array. Use the seed parameter to ensure the results are reproducible.\n",
    "\n",
    "np.random.seed(2)\n",
    "array = np.random.randn(1000)\n",
    "array\n",
    "\n",
    "plt.hist(array)\n",
    "plt.show()\n"
   ],
   "id": "a7623088acc8651e",
   "outputs": [
    {
     "data": {
      "text/plain": [
       "<Figure size 640x480 with 1 Axes>"
      ],
      "image/png": "[encoded data removed]"
     },
     "metadata": {},
     "output_type": "display_data"
    }
   ],
   "execution_count": 9
  },
  {
   "metadata": {
    "ExecuteTime": {
     "end_time": "2025-04-14T06:59:57.168305Z",
     "start_time": "2025-04-14T06:59:57.166302Z"
    }
   },
   "cell_type": "code",
   "source": [
    "# Using random.choice() from NumPy, generate an array fom the list above. The shape of the array must be (3, 4).\n",
    "arr = [ \"Orange\", \"Apple\", \"Pear\"]\n",
    "\n",
    "array = np.random.choice(arr, size=(3,4))\n",
    "array"
   ],
   "id": "5108b986b7c7b8f3",
   "outputs": [
    {
     "data": {
      "text/plain": [
       "array([['Apple', 'Orange', 'Orange', 'Apple'],\n",
       "       ['Orange', 'Apple', 'Orange', 'Pear'],\n",
       "       ['Apple', 'Pear', 'Pear', 'Pear']], dtype='<U6')"
      ]
     },
     "execution_count": 10,
     "metadata": {},
     "output_type": "execute_result"
    }
   ],
   "execution_count": 10
  },
  {
   "metadata": {},
   "cell_type": "markdown",
   "source": [
    "### Day 4\n",
    "\n",
    "NumPy Arrays and Vector Operations\n",
    "\n",
    "In this challenge, you will create arrays and perform vector operations with them. These operations are an important feature of NumPy that makes it popular for scientific and\n",
    "numerical computing."
   ],
   "id": "31697b2a23360d95"
  },
  {
   "metadata": {
    "ExecuteTime": {
     "end_time": "2025-04-14T06:59:57.220090Z",
     "start_time": "2025-04-14T06:59:57.218368Z"
    }
   },
   "cell_type": "code",
   "source": [
    "#Create two arrays of random integers between 10 and 20. The shape of the array must be (2, 3) for the first array and (1, 3) for the second array. Check the shape of the arrays. Ensure that the results are reproducible.\n",
    "np.random.seed(4)\n",
    "array1 = np.random.randint(10,20,size=(2,3))\n",
    "array2 = np.random.randint(10,20, size = (1,3))\n",
    "print(\"Shape Array1: \", array1.shape)\n",
    "print(\"Shape Array2: \",array2.shape)"
   ],
   "id": "1a6178ff02cc48dc",
   "outputs": [
    {
     "name": "stdout",
     "output_type": "stream",
     "text": [
      "Shape Array1:  (2, 3)\n",
      "Shape Array2:  (1, 3)\n"
     ]
    }
   ],
   "execution_count": 11
  },
  {
   "metadata": {
    "ExecuteTime": {
     "end_time": "2025-04-14T06:59:57.273969Z",
     "start_time": "2025-04-14T06:59:57.272393Z"
    }
   },
   "cell_type": "code",
   "source": [
    "#Write a code to add the two arrays you just created in question 1. Check the shape of the resulting array. Explain why the resulting shape is that of the bigger array from the two arrays created in question 1.\n",
    "array3 = np.add(array1,array2)\n",
    "print(array3.shape)\n",
    "\n",
    "print(\"The resulting shape is that of the bigger array (array1) because of NumPy's broadcasting rules. Under the broadcasting rule, the smaller array is expanded to match the shape of the larger array.\")"
   ],
   "id": "bed2e68e4df2b25c",
   "outputs": [
    {
     "name": "stdout",
     "output_type": "stream",
     "text": [
      "(2, 3)\n",
      "The resulting shape is that of the bigger array (array1) because of NumPy's broadcasting rules. Under the broadcasting rule, the smaller array is expanded to match the shape of the larger array.\n"
     ]
    }
   ],
   "execution_count": 12
  },
  {
   "metadata": {
    "ExecuteTime": {
     "end_time": "2025-04-14T06:59:57.303523Z",
     "start_time": "2025-04-14T06:59:57.301669Z"
    }
   },
   "cell_type": "code",
   "source": [
    "# Write another code to perform a dot operation on the arrays.\n",
    "dot_product = np.dot(array1,array2.T)\n",
    "dot_product\n"
   ],
   "id": "98f285c4350891d4",
   "outputs": [
    {
     "data": {
      "text/plain": [
       "array([[676],\n",
       "       [845]])"
      ]
     },
     "execution_count": 13,
     "metadata": {},
     "output_type": "execute_result"
    }
   ],
   "execution_count": 13
  },
  {
   "metadata": {},
   "cell_type": "markdown",
   "source": [
    "In the context of performing a dot product operation between array1 and array2, you need to transpose array2 to ensure that the inner dimensions match.  The dot product operation requires that the number of columns in the first array matches the number of rows in the second array. Given the shapes of array1 and array2:\n",
    "array1 has a shape of (2, 3)\n",
    "array2 has a shape of (1, 3)\n",
    "To perform the dot product, you need to transpose array2 so that its shape becomes (3, 1). This way, the inner dimensions (3) match, and the resulting array will have a shape of (2, 1)."
   ],
   "id": "1be2aa74837b5451"
  },
  {
   "metadata": {
    "ExecuteTime": {
     "end_time": "2025-04-14T06:59:57.405702Z",
     "start_time": "2025-04-14T06:59:57.366255Z"
    }
   },
   "cell_type": "code",
   "source": [
    "#Using NumPy, create a 1-dimensional array of 100 random integers from 0 to 10. Use the array to create a histogram of the data and calculate the median and mode. Ensure that the results are reproducible.\n",
    "\n",
    "from scipy import stats\n",
    "\n",
    "np.random.seed(4)\n",
    "array_4 = np.random.randint(0,10, 1000)\n",
    "\n",
    "print(f\"The median is: {np.median(array_4)}\")\n",
    "print(f\"The mode is: {stats.mode(array_4)}\")\n",
    "plt.hist(array_4)\n",
    "plt.show()\n"
   ],
   "id": "2e0261a570f9f173",
   "outputs": [
    {
     "name": "stdout",
     "output_type": "stream",
     "text": [
      "The median is: 5.0\n",
      "The mode is: ModeResult(mode=np.int64(7), count=np.int64(120))\n"
     ]
    },
    {
     "data": {
      "text/plain": [
       "<Figure size 640x480 with 1 Axes>"
      ],
      "image/png": "[encoded data removed]"
     },
     "metadata": {},
     "output_type": "display_data"
    }
   ],
   "execution_count": 14
  },
  {
   "metadata": {
    "ExecuteTime": {
     "end_time": "2025-04-14T06:59:57.459725Z",
     "start_time": "2025-04-14T06:59:57.419906Z"
    }
   },
   "cell_type": "code",
   "source": [
    "#Using NumPy, create a 3-dimensional array of 100 random floats between 0 and 1. Use the array to create a 3D scatter plot of the data. Ensure that your results are reproducible.\n",
    "from mpl_toolkits.mplot3d import Axes3D\n",
    "\n",
    "np.random.seed(4)\n",
    "array_5 = np.random.rand(100,3)\n",
    "array_5\n",
    "\n",
    "# Create a 3D scatter plot\n",
    "fig = plt.figure()\n",
    "ax = fig.add_subplot(111, projection='3d')\n",
    "ax.scatter(array_5[:, 0], array_5[:, 1], array_5[:, 2])\n",
    "\n",
    "plt.show()"
   ],
   "id": "7df8b12321b6205f",
   "outputs": [
    {
     "data": {
      "text/plain": [
       "<Figure size 640x480 with 1 Axes>"
      ],
      "image/png": "[encoded data removed]"
     },
     "metadata": {},
     "output_type": "display_data"
    }
   ],
   "execution_count": 15
  },
  {
   "metadata": {
    "ExecuteTime": {
     "end_time": "2025-04-14T06:59:57.479671Z",
     "start_time": "2025-04-14T06:59:57.477534Z"
    }
   },
   "cell_type": "code",
   "source": [
    "#Write code to flatten the list and return all non-zero numbers from the list.l\n",
    "lst = [[0, 1, 3, 0, 4], [8, 9, 0, 9, 6]]\n",
    "\n",
    "# Flatten the list and filter out non-zero numbers\n",
    "flattened_non_zero = [num for sublist in lst for num in sublist if num != 0]\n",
    "\n",
    "print(flattened_non_zero)"
   ],
   "id": "3f8f7f05aaa07953",
   "outputs": [
    {
     "name": "stdout",
     "output_type": "stream",
     "text": [
      "[1, 3, 4, 8, 9, 9, 6]\n"
     ]
    }
   ],
   "execution_count": 16
  },
  {
   "metadata": {},
   "cell_type": "markdown",
   "source": [
    "### Day 5\n",
    "Array Creation and Vector Operations\n",
    "\n",
    "In this challenge, you will create a 2-dimensional array, analyze and perform vector operations on the array, and slice numbers from the array."
   ],
   "id": "de9863bfc78af440"
  },
  {
   "metadata": {
    "ExecuteTime": {
     "end_time": "2025-04-14T06:59:57.502518Z",
     "start_time": "2025-04-14T06:59:57.500373Z"
    }
   },
   "cell_type": "code",
   "source": [
    "list_numbers = [[12, 23, -45], [18, -77, -44]]\n",
    "#Using NumPy, create an array from the list. Write a code to return all the negative numbers in the list.\n",
    "array5 = np.array(list_numbers)\n",
    "array5_negatives = array5[array5<0]\n",
    "array5_negatives\n"
   ],
   "id": "49feb823eb29b0a1",
   "outputs": [
    {
     "data": {
      "text/plain": [
       "array([-45, -77, -44])"
      ]
     },
     "execution_count": 17,
     "metadata": {},
     "output_type": "execute_result"
    }
   ],
   "execution_count": 17
  },
  {
   "metadata": {
    "ExecuteTime": {
     "end_time": "2025-04-14T06:59:57.527500Z",
     "start_time": "2025-04-14T06:59:57.525615Z"
    }
   },
   "cell_type": "code",
   "source": [
    "#Using NumPy, write code to multiply each element in the array you created in question 1 by 2. Create a new variable for this array.\n",
    "array5_negatives_x_2 = array5_negatives*2\n",
    "array5_negatives_x_2"
   ],
   "id": "b4613ffd6c2495f0",
   "outputs": [
    {
     "data": {
      "text/plain": [
       "array([ -90, -154,  -88])"
      ]
     },
     "execution_count": 18,
     "metadata": {},
     "output_type": "execute_result"
    }
   ],
   "execution_count": 18
  },
  {
   "metadata": {
    "ExecuteTime": {
     "end_time": "2025-04-14T06:59:57.547657Z",
     "start_time": "2025-04-14T06:59:57.545936Z"
    }
   },
   "cell_type": "code",
   "source": [
    "# Write code to calculate the sum of the numbers on axis-1 of the array you created in question 2.\n",
    "sum_axis_1 = np.sum(array5_negatives_x_2, axis=-1)\n",
    "print(sum_axis_1)"
   ],
   "id": "234daf3f62b71b95",
   "outputs": [
    {
     "name": "stdout",
     "output_type": "stream",
     "text": [
      "-332\n"
     ]
    }
   ],
   "execution_count": 19
  },
  {
   "metadata": {
    "ExecuteTime": {
     "end_time": "2025-04-14T06:59:57.561327Z",
     "start_time": "2025-04-14T06:59:57.559705Z"
    }
   },
   "cell_type": "code",
   "source": [
    "#Write code to calculate the sum of numbers on axis-0 of the array you created in question 2.\n",
    "sum_axis_0 = np.sum(array5_negatives_x_2,axis = 0)\n",
    "print(sum_axis_0)"
   ],
   "id": "cba07d5d13b4643",
   "outputs": [
    {
     "name": "stdout",
     "output_type": "stream",
     "text": [
      "-332\n"
     ]
    }
   ],
   "execution_count": 20
  },
  {
   "metadata": {
    "ExecuteTime": {
     "end_time": "2025-04-14T06:59:57.578924Z",
     "start_time": "2025-04-14T06:59:57.576848Z"
    }
   },
   "cell_type": "code",
   "source": [
    "#Using the NumPy arange() function, create a NumPy array of numbers from 0 to 99. The shape of the array must be (2, 5, 10).\n",
    "array_5 = np.arange(100)\n",
    "reshaped_array = array_5.reshape(2,5,10)\n",
    "\n",
    "reshaped_array"
   ],
   "id": "26762801b7a9b248",
   "outputs": [
    {
     "data": {
      "text/plain": [
       "array([[[ 0,  1,  2,  3,  4,  5,  6,  7,  8,  9],\n",
       "        [10, 11, 12, 13, 14, 15, 16, 17, 18, 19],\n",
       "        [20, 21, 22, 23, 24, 25, 26, 27, 28, 29],\n",
       "        [30, 31, 32, 33, 34, 35, 36, 37, 38, 39],\n",
       "        [40, 41, 42, 43, 44, 45, 46, 47, 48, 49]],\n",
       "\n",
       "       [[50, 51, 52, 53, 54, 55, 56, 57, 58, 59],\n",
       "        [60, 61, 62, 63, 64, 65, 66, 67, 68, 69],\n",
       "        [70, 71, 72, 73, 74, 75, 76, 77, 78, 79],\n",
       "        [80, 81, 82, 83, 84, 85, 86, 87, 88, 89],\n",
       "        [90, 91, 92, 93, 94, 95, 96, 97, 98, 99]]])"
      ]
     },
     "execution_count": 21,
     "metadata": {},
     "output_type": "execute_result"
    }
   ],
   "execution_count": 21
  },
  {
   "metadata": {
    "ExecuteTime": {
     "end_time": "2025-04-14T06:59:57.592499Z",
     "start_time": "2025-04-14T06:59:57.590692Z"
    }
   },
   "cell_type": "code",
   "source": [
    "#Write code to slice row [50, 51, 52, 53, 54, 55, 56, 57, 58, 59] from the array above (question 5).\n",
    "reshaped_array[1,0,:]"
   ],
   "id": "14b16e73e1cffbf3",
   "outputs": [
    {
     "data": {
      "text/plain": [
       "array([50, 51, 52, 53, 54, 55, 56, 57, 58, 59])"
      ]
     },
     "execution_count": 22,
     "metadata": {},
     "output_type": "execute_result"
    }
   ],
   "execution_count": 22
  },
  {
   "metadata": {
    "ExecuteTime": {
     "end_time": "2025-04-14T06:59:57.610364Z",
     "start_time": "2025-04-14T06:59:57.608544Z"
    }
   },
   "cell_type": "code",
   "source": [
    "#Let’s analyze the array you created in question 1 further. How many numbers in row 1 are greater than the numbers in row 2?\n",
    "# Compare elements in row 1 with elements in row 2\n",
    "comparison = array5[0] > array5[1]\n",
    "\n",
    "# Count how many elements in row 1 are greater than in row 2\n",
    "count_greater = np.sum(comparison)\n",
    "print(count_greater)"
   ],
   "id": "1c2b7c4bed9442f7",
   "outputs": [
    {
     "name": "stdout",
     "output_type": "stream",
     "text": [
      "1\n"
     ]
    }
   ],
   "execution_count": 23
  },
  {
   "metadata": {},
   "cell_type": "markdown",
   "source": [
    "### Day 6\n",
    "Array Manipulation and Vector Operations\n",
    "\n",
    "In this challenge, your task is to create a NumPy array from\n",
    "a list of strings. This particular challenge aims to assess\n",
    "your proficiency in generating arrays and manipulating\n",
    "array data types as a means of enhancing data processing\n",
    "flexibility."
   ],
   "id": "5e26f39598870c54"
  },
  {
   "metadata": {
    "ExecuteTime": {
     "end_time": "2025-04-14T06:59:57.622713Z",
     "start_time": "2025-04-14T06:59:57.621247Z"
    }
   },
   "cell_type": "code",
   "source": "list_str = [\"23\", \"12\", \"90\", \"28\", \"30\"]",
   "id": "19067b81719e8230",
   "outputs": [],
   "execution_count": 24
  },
  {
   "metadata": {
    "ExecuteTime": {
     "end_time": "2025-04-14T06:59:57.631259Z",
     "start_time": "2025-04-14T06:59:57.629670Z"
    }
   },
   "cell_type": "code",
   "source": [
    "#Create a NumPy array with the list above. Calculate the standard deviation of the array. Write a code to change the data type of the array .\n",
    "array6 = np.array(list_str, dtype=int)\n",
    "\n",
    "print(np.std(array6))"
   ],
   "id": "5b3523e104c24525",
   "outputs": [
    {
     "name": "stdout",
     "output_type": "stream",
     "text": [
      "27.419700946582186\n"
     ]
    }
   ],
   "execution_count": 25
  },
  {
   "metadata": {
    "ExecuteTime": {
     "end_time": "2025-04-14T06:59:57.643477Z",
     "start_time": "2025-04-14T06:59:57.641553Z"
    }
   },
   "cell_type": "code",
   "source": [
    "#Write a code to return the sum of values [90.0, 28.0, 30.0] from the array you just created in question (3).\n",
    "array6_filtered = array6[2:]\n",
    "array6_filtered"
   ],
   "id": "3b5b1a930fb8c528",
   "outputs": [
    {
     "data": {
      "text/plain": [
       "array([90, 28, 30])"
      ]
     },
     "execution_count": 26,
     "metadata": {},
     "output_type": "execute_result"
    }
   ],
   "execution_count": 26
  },
  {
   "metadata": {
    "ExecuteTime": {
     "end_time": "2025-04-14T06:59:57.656829Z",
     "start_time": "2025-04-14T06:59:57.655156Z"
    }
   },
   "cell_type": "code",
   "source": [
    "#Create a 2-dimensional array of random integers from 0 to 100 with the shape (5, 5). Use the array to find the minimum and maximum values, as well as the mean and standard deviation. Ensure that the results are reproducible.\n",
    "np.random.seed(6)\n",
    "array6_random = np.random.randint(0,100, size=(5,5))\n",
    "print(f\"Minimum:  {np.min(array6_random)}\")\n",
    "print(f\"Maximum: {np.max(array6_random)}\")"
   ],
   "id": "21f9abbb7e666f65",
   "outputs": [
    {
     "name": "stdout",
     "output_type": "stream",
     "text": [
      "Minimum:  1\n",
      "Maximum: 99\n"
     ]
    }
   ],
   "execution_count": 27
  },
  {
   "metadata": {
    "ExecuteTime": {
     "end_time": "2025-04-14T06:59:57.674711Z",
     "start_time": "2025-04-14T06:59:57.672867Z"
    }
   },
   "cell_type": "code",
   "source": [
    "#Using NumPy’s char.join() function, create two arrays by joining the first name with the last name. Your first array should be: array(['John', 'Smith'], dtype='U6'). Your second array should be: array(['Kenny', 'Sakula'], dtype='U6').\n",
    "first_names = [\"John\", \" Kenny\"]\n",
    "last_names = [\"Smith\", \" Sakula\"]\n",
    "\n",
    "joined_names = np.char.add(first_names, \" \")  # Add a space between first and last names\n",
    "joined_names = np.char.add(joined_names, last_names)\n",
    "\n",
    "print(joined_names)"
   ],
   "id": "619a5953a9de56d0",
   "outputs": [
    {
     "name": "stdout",
     "output_type": "stream",
     "text": [
      "['John Smith' ' Kenny  Sakula']\n"
     ]
    }
   ],
   "execution_count": 28
  },
  {
   "metadata": {},
   "cell_type": "markdown",
   "source": [
    "### Day 7\n",
    "Transpose and Swap Arrays\n",
    "\n",
    "The ability to transpose and swap arrays is important for\n",
    "manipulating and analyzing data, performing matrix\n",
    "operations, cleaning and sorting data, and visualizing data.\n",
    "By mastering these skills, you can improve your data\n",
    "manipulation and analysis capabilities and work more\n",
    "efficiently with arrays.\n"
   ],
   "id": "ad814aa4b43ea8a7"
  },
  {
   "metadata": {
    "ExecuteTime": {
     "end_time": "2025-04-14T06:59:57.691609Z",
     "start_time": "2025-04-14T06:59:57.689608Z"
    }
   },
   "cell_type": "code",
   "source": [
    "#Using the arange() function, create an array of numbers from 0 and 10. The shape of the array must be (2, 5).\n",
    "array7 = np.arange(0,10)\n",
    "array7.reshape(2,5)"
   ],
   "id": "642c6d5170508ffe",
   "outputs": [
    {
     "data": {
      "text/plain": [
       "array([[0, 1, 2, 3, 4],\n",
       "       [5, 6, 7, 8, 9]])"
      ]
     },
     "execution_count": 29,
     "metadata": {},
     "output_type": "execute_result"
    }
   ],
   "execution_count": 29
  },
  {
   "metadata": {
    "ExecuteTime": {
     "end_time": "2025-04-14T06:59:57.711234Z",
     "start_time": "2025-04-14T06:59:57.708995Z"
    }
   },
   "cell_type": "code",
   "source": [
    "#Write a code to change the shape of the array (question 1) to (5, 2). Create a new variable for this array. Now, add this array to the original array in question 1. The resulting array should have shapes (2, 5). Save this as a variable.\n",
    "new_array7 = array7.reshape(5,2)\n",
    "reshaped_back = new_array7.T\n",
    "resulting_array = array7.reshape(2, 5) + reshaped_back\n",
    "resulting_array"
   ],
   "id": "4f81503c9e2e15d3",
   "outputs": [
    {
     "data": {
      "text/plain": [
       "array([[ 0,  3,  6,  9, 12],\n",
       "       [ 6,  9, 12, 15, 18]])"
      ]
     },
     "execution_count": 30,
     "metadata": {},
     "output_type": "execute_result"
    }
   ],
   "execution_count": 30
  },
  {
   "metadata": {
    "ExecuteTime": {
     "end_time": "2025-04-14T06:59:57.742919Z",
     "start_time": "2025-04-14T06:59:57.740940Z"
    }
   },
   "cell_type": "code",
   "source": [
    "#Swap the indexes of the array (question 2) using the swapaxis() method. Create a new variable for the swapped array.\n",
    "\n",
    "swapped_array = resulting_array.swapaxes(0,1)\n",
    "swapped_array"
   ],
   "id": "50e04e9436d88915",
   "outputs": [
    {
     "data": {
      "text/plain": [
       "array([[ 0,  6],\n",
       "       [ 3,  9],\n",
       "       [ 6, 12],\n",
       "       [ 9, 15],\n",
       "       [12, 18]])"
      ]
     },
     "execution_count": 31,
     "metadata": {},
     "output_type": "execute_result"
    }
   ],
   "execution_count": 31
  },
  {
   "metadata": {
    "ExecuteTime": {
     "end_time": "2025-04-14T06:59:57.800180Z",
     "start_time": "2025-04-14T06:59:57.798503Z"
    }
   },
   "cell_type": "code",
   "source": [
    "#Write a code to slice row 1 from the swapped array in question 3.\n",
    "row_1 = swapped_array[1, :]\n",
    "print(row_1)"
   ],
   "id": "2382d6e5278ca84b",
   "outputs": [
    {
     "name": "stdout",
     "output_type": "stream",
     "text": [
      "[3 9]\n"
     ]
    }
   ],
   "execution_count": 32
  },
  {
   "metadata": {
    "ExecuteTime": {
     "end_time": "2025-04-14T06:59:57.937949Z",
     "start_time": "2025-04-14T06:59:57.859689Z"
    }
   },
   "cell_type": "code",
   "source": [
    "players = [\"Robin\", \"Leo\", \"Pogba\", \"Diego\", \"Ronaldo\"]\n",
    "teams = [\"Man UTD\", \"Barca\", \"Arsenal\", \"Liverpool\", \"Madrid\"]\n",
    "goals = np.array([\n",
    "    [12, 15, 16, 15, 13],  # Robin\n",
    "    [26, 30, 31, 25, 24],  # Leo\n",
    "    [8, 10, 12, 9, 11],    # Pogba\n",
    "    [14, 18, 20, 19, 17],  # Diego\n",
    "    [30, 28, 27, 29, 31]   # Ronaldo\n",
    "])\n",
    "\n",
    "plt.figure(figsize=(10, 6))\n",
    "sns.heatmap(goals, annot=True, fmt=\"d\", cmap=\"coolwarm\", xticklabels=players, yticklabels=teams)\n",
    "\n",
    "# Add labels and title\n",
    "plt.xlabel(\"Players\")\n",
    "plt.ylabel(\"Teams\")\n",
    "plt.title(\"Heatmap of Goals Scored by Players in the Last 5 Seasons\")\n",
    "\n",
    "# Show the plot\n",
    "plt.show()"
   ],
   "id": "58e2905054541462",
   "outputs": [
    {
     "data": {
      "text/plain": [
       "<Figure size 1000x600 with 2 Axes>"
      ],
      "image/png": "[encoded data removed]"
     },
     "metadata": {},
     "output_type": "display_data"
    }
   ],
   "execution_count": 33
  },
  {
   "metadata": {},
   "cell_type": "markdown",
   "source": [
    "### Day 8\n",
    "Slicing NumPy Arrays\n",
    "\n",
    "This challenge will test your abilities to create and slice\n",
    "NumPy arrays. Learning to slice NumPy arrays is an\n",
    "important skill to have for anyone working with data\n",
    "because it allows you to extract and manipulate specific\n",
    "portions of an array. This is especially useful when working\n",
    "with large datasets, as it allows you to perform operations\n",
    "on a subset of the data rather than the entire array. This is\n",
    "what is called \"dimensionality reduction."
   ],
   "id": "ca1cf67f7a8057f0"
  },
  {
   "metadata": {
    "ExecuteTime": {
     "end_time": "2025-04-14T06:59:57.946909Z",
     "start_time": "2025-04-14T06:59:57.944163Z"
    }
   },
   "cell_type": "code",
   "source": [
    "#Create a one-dimensional array with random integers between 0 and 20. The size of the array is 10. Ensure that the results are reproducible.\n",
    "np.random.seed(8)\n",
    "array8 = np.random.randint(0,20,size=10)\n",
    "array8"
   ],
   "id": "c523f242d0824eab",
   "outputs": [
    {
     "data": {
      "text/plain": [
       "array([ 3, 17,  9,  5,  8, 19,  8, 16, 13, 17])"
      ]
     },
     "execution_count": 34,
     "metadata": {},
     "output_type": "execute_result"
    }
   ],
   "execution_count": 34
  },
  {
   "metadata": {
    "ExecuteTime": {
     "end_time": "2025-04-14T06:59:57.973052Z",
     "start_time": "2025-04-14T06:59:57.970231Z"
    }
   },
   "cell_type": "code",
   "source": [
    "# Using slicing, create a subset array of 3 integers from the array you created in question 1. The first integer is at index 2, the second integer is at index 4, and the third index is at index 7.\n",
    "#We pass slice instead of index like this: [start:end].\n",
    "array8_sliced = array8[[2,4,7]]\n",
    "array8_sliced\n",
    "#We can also define the step, like this: [start:end:step]."
   ],
   "id": "d8a381c44fac2ed5",
   "outputs": [
    {
     "data": {
      "text/plain": [
       "array([ 9,  8, 16])"
      ]
     },
     "execution_count": 35,
     "metadata": {},
     "output_type": "execute_result"
    }
   ],
   "execution_count": 35
  },
  {
   "metadata": {
    "ExecuteTime": {
     "end_time": "2025-04-14T06:59:57.991506Z",
     "start_time": "2025-04-14T06:59:57.989754Z"
    }
   },
   "cell_type": "code",
   "source": [
    "#Create a two-dimensional array from the list below. Check the dimensions and shape of your array.\n",
    "My_list = [[1, 2, 3, 4, 5], [6, 7, 8, 9, 10],[11, 12, 13, 14, 15]]\n",
    "new_array8 = np.array(My_list)\n",
    "\n",
    "print(new_array8.shape)\n",
    "print(new_array8.ndim)"
   ],
   "id": "aaa1d9422f4263aa",
   "outputs": [
    {
     "name": "stdout",
     "output_type": "stream",
     "text": [
      "(3, 5)\n",
      "2\n"
     ]
    }
   ],
   "execution_count": 36
  },
  {
   "metadata": {
    "ExecuteTime": {
     "end_time": "2025-04-14T06:59:58.070378Z",
     "start_time": "2025-04-14T06:59:58.068295Z"
    }
   },
   "cell_type": "code",
   "source": [
    "#sing slicing, write a code to access the numbers 3, 8, and 13.Your code should return [3, 8, 13].\n",
    "new_array8_sliced =new_array8[:,2]\n",
    "new_array8_sliced"
   ],
   "id": "9f2fa9cf2795bf2a",
   "outputs": [
    {
     "data": {
      "text/plain": [
       "array([ 3,  8, 13])"
      ]
     },
     "execution_count": 37,
     "metadata": {},
     "output_type": "execute_result"
    }
   ],
   "execution_count": 37
  },
  {
   "metadata": {
    "ExecuteTime": {
     "end_time": "2025-04-14T06:59:58.154827Z",
     "start_time": "2025-04-14T06:59:58.152815Z"
    }
   },
   "cell_type": "code",
   "source": [
    "# Create a three-dimensional array from the nested list\n",
    "lis1 = [[[1, 2, 3, 4, 5], [6, 7, 8, 9, 10], [11, 12, 13, 14, 15]]]\n",
    "new_array8 = np.array(lis1)\n",
    "\n",
    "\n",
    "# Extract the numbers 4, 8, and 15\n",
    "sublist = [int(new_array8[0, 0, 3]), int(new_array8[0, 1, 2]), int(new_array8[0, 2, 4])]\n",
    "print(sublist)"
   ],
   "id": "463dddd2dc2461c6",
   "outputs": [
    {
     "name": "stdout",
     "output_type": "stream",
     "text": [
      "[4, 8, 15]\n"
     ]
    }
   ],
   "execution_count": 38
  },
  {
   "metadata": {},
   "cell_type": "markdown",
   "source": [
    "### Day 9\n",
    "\n",
    "Analyze a One-Dimensional Array\n",
    "\n",
    "In this challenge, you are going to create an array from a\n",
    "list. Why should you use an array instead of a Python list?\n",
    "The NumPy Series provides better performance, easier\n",
    "manipulation and indexing, and better interoperability\n",
    "with other scientific libraries, making them a preferred\n",
    "choice for scientific and data analysis applications. They\n",
    "also have better memory management than Python lists"
   ],
   "id": "be28177367ded0e0"
  },
  {
   "metadata": {
    "ExecuteTime": {
     "end_time": "2025-04-14T07:00:11.470841Z",
     "start_time": "2025-04-14T07:00:11.468549Z"
    }
   },
   "cell_type": "code",
   "source": [
    "nums = [12,4,6,7,9,19,21,67,8]\n",
    "# Create a NumPy one-dimensional array with the list above\n",
    "\n",
    "array9 = np.array(nums)"
   ],
   "id": "8d5280999fc62309",
   "outputs": [],
   "execution_count": 40
  },
  {
   "metadata": {
    "ExecuteTime": {
     "end_time": "2025-04-14T07:00:41.398956Z",
     "start_time": "2025-04-14T07:00:41.397144Z"
    }
   },
   "cell_type": "code",
   "source": [
    "#Using NumPy, write code that returns the minimum number in the array.\n",
    "print(np.min(array9))"
   ],
   "id": "c57f7fbb119bd299",
   "outputs": [
    {
     "name": "stdout",
     "output_type": "stream",
     "text": [
      "4\n"
     ]
    }
   ],
   "execution_count": 41
  },
  {
   "metadata": {
    "ExecuteTime": {
     "end_time": "2025-04-14T07:02:09.491784Z",
     "start_time": "2025-04-14T07:02:09.489799Z"
    }
   },
   "cell_type": "code",
   "source": [
    "#Write a code that returns the index of the largest number in the array.\n",
    "print(np.argmax(array9))"
   ],
   "id": "bf3fb337e8ac8e17",
   "outputs": [
    {
     "name": "stdout",
     "output_type": "stream",
     "text": [
      "7\n"
     ]
    }
   ],
   "execution_count": 42
  },
  {
   "metadata": {
    "ExecuteTime": {
     "end_time": "2025-04-14T07:08:10.518032Z",
     "start_time": "2025-04-14T07:08:10.515628Z"
    }
   },
   "cell_type": "code",
   "source": [
    "#Using NumPy, calculate the average of the biggest and smallest numbers in the array.\n",
    "largest = np.max(array9)\n",
    "smallest = np.min(array9)\n",
    "average = (largest + smallest) / 2\n",
    "\n",
    "print(\"Average of the biggest and smallest numbers:\", average)"
   ],
   "id": "2218e786ca827e31",
   "outputs": [
    {
     "name": "stdout",
     "output_type": "stream",
     "text": [
      "Average of the biggest and smallest numbers: 35.5\n"
     ]
    }
   ],
   "execution_count": 43
  },
  {
   "metadata": {
    "ExecuteTime": {
     "end_time": "2025-04-14T07:11:16.739578Z",
     "start_time": "2025-04-14T07:11:16.737477Z"
    }
   },
   "cell_type": "code",
   "source": [
    "#Write a code to find the mean, median, and standard deviation of the array.\n",
    "print(f\"The mean of the Array is: {np.mean(array9)}\")\n",
    "print(f\"The median of the Array is : {np.median(array9)}\")\n",
    "print(f\"The std deviation of the Array is: {np.std(array9)}\")"
   ],
   "id": "c7382b6e482a55de",
   "outputs": [
    {
     "name": "stdout",
     "output_type": "stream",
     "text": [
      "The mean of the Array is: 17.0\n",
      "The median of the Array is : 9.0\n",
      "The std deviation of the Array is: 18.499249234015476\n"
     ]
    }
   ],
   "execution_count": 44
  },
  {
   "metadata": {
    "ExecuteTime": {
     "end_time": "2025-04-14T07:18:48.748323Z",
     "start_time": "2025-04-14T07:18:48.745250Z"
    }
   },
   "cell_type": "code",
   "source": [
    "# Write code to find the outlier in the array above.\n",
    "nums = [12, 4, 6, 7, 9, 19, 21, 67, 8]\n",
    "\n",
    "def find_outliers_iqr(data):\n",
    "    data = np.array(data)\n",
    "\n",
    "    # Calcular Q1 y Q3\n",
    "    q1 = np.percentile(data, 25)\n",
    "    q3 = np.percentile(data, 75)\n",
    "\n",
    "    # Calcular IQR\n",
    "    iqr = q3 - q1\n",
    "\n",
    "    # Calcular límites\n",
    "    lower_bound = q1 - 1.5 * iqr\n",
    "    upper_bound = q3 + 1.5 * iqr\n",
    "\n",
    "    # Encontrar outliers\n",
    "    outliers = data[(data < lower_bound) | (data > upper_bound)]\n",
    "\n",
    "    return {\n",
    "        'Q1': q1,\n",
    "        'Q3': q3,\n",
    "        'IQR': iqr,\n",
    "        'Lower Bound': lower_bound,\n",
    "        'Upper Bound': upper_bound,\n",
    "        'Outliers': outliers.tolist()\n",
    "    }\n",
    "\n",
    "\n",
    "result = find_outliers_iqr(nums)\n",
    "\n",
    "print(\"Resultados del análisis IQR:\")\n",
    "for key, value in result.items():\n",
    "    print(f\"{key}: {value}\")"
   ],
   "id": "56d5a113c7db8fa8",
   "outputs": [
    {
     "name": "stdout",
     "output_type": "stream",
     "text": [
      "Resultados del análisis IQR:\n",
      "Q1: 7.0\n",
      "Q3: 19.0\n",
      "IQR: 12.0\n",
      "Lower Bound: -11.0\n",
      "Upper Bound: 37.0\n",
      "Outliers: [67]\n"
     ]
    }
   ],
   "execution_count": 48
  },
  {
   "metadata": {},
   "cell_type": "code",
   "outputs": [],
   "execution_count": null,
   "source": "",
   "id": "aa039c6c7bf971eb"
  }
 ],
 "metadata": {
  "kernelspec": {
   "display_name": "Python 3",
   "language": "python",
   "name": "python3"
  },
  "language_info": {
   "codemirror_mode": {
    "name": "ipython",
    "version": 2
   },
   "file_extension": ".py",
   "mimetype": "text/x-python",
   "name": "python",
   "nbconvert_exporter": "python",
   "pygments_lexer": "ipython2",
   "version": "2.7.6"
  }
 },
 "nbformat": 4,
 "nbformat_minor": 5
}
