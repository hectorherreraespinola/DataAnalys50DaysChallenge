{
 "cells": [
  {
   "metadata": {
    "ExecuteTime": {
     "end_time": "2025-04-09T15:31:41.764797Z",
     "start_time": "2025-04-09T15:31:41.762729Z"
    }
   },
   "cell_type": "code",
   "source": [
    "import pandas as pd\n",
    "import numpy as np\n",
    "import pandas as pd\n",
    "import matplotlib.pyplot as plt\n",
    "import seaborn as sns\n"
   ],
   "id": "446b7e786c9dd872",
   "outputs": [],
   "execution_count": 114
  },
  {
   "metadata": {},
   "cell_type": "markdown",
   "source": [
    "### Day 1\n",
    "Essentials of NumPy, Pandas,\n",
    "and Matplotlib"
   ],
   "id": "40946faa01a9a54"
  },
  {
   "metadata": {},
   "cell_type": "markdown",
   "source": [
    "### Day 2\n",
    "Creating and Manipulating Arrays"
   ],
   "id": "ef8b2ac556a009be"
  },
  {
   "metadata": {
    "ExecuteTime": {
     "end_time": "2025-04-09T15:31:41.777200Z",
     "start_time": "2025-04-09T15:31:41.775375Z"
    }
   },
   "cell_type": "code",
   "source": [
    "#Write code to import NumPy into your script. Check the version of NumPy installed.\n",
    "print(\"The version of numpy is\" , np.__version__)"
   ],
   "id": "6c5b4230730863eb",
   "outputs": [
    {
     "name": "stdout",
     "output_type": "stream",
     "text": [
      "The version of numpy is 2.0.2\n"
     ]
    }
   ],
   "execution_count": 115
  },
  {
   "metadata": {
    "ExecuteTime": {
     "end_time": "2025-04-09T15:31:41.794847Z",
     "start_time": "2025-04-09T15:31:41.792555Z"
    }
   },
   "cell_type": "code",
   "source": [
    "#Here is a list below:\n",
    "list1 = [2, 3, 4, 6]\n",
    "#Create a one-dimensional array from the list above. Write another line of code to check the shape and size of your array.\n",
    "list1 = np.array(list1)\n",
    "list1.shape\n"
   ],
   "id": "19168a7848474281",
   "outputs": [
    {
     "data": {
      "text/plain": [
       "(4,)"
      ]
     },
     "execution_count": 116,
     "metadata": {},
     "output_type": "execute_result"
    }
   ],
   "execution_count": 116
  },
  {
   "metadata": {
    "ExecuteTime": {
     "end_time": "2025-04-09T15:31:41.806365Z",
     "start_time": "2025-04-09T15:31:41.804573Z"
    }
   },
   "cell_type": "code",
   "source": [
    "#Write a function that takes this array and returns a new array with all the values in the original array reversed.\n",
    "def reversed_array(list1):\n",
    "    new_array  = np.flip(list1)\n",
    "    print(new_array)\n",
    "\n",
    "reversed_array(list1)"
   ],
   "id": "c1a41eb3bc8dbe90",
   "outputs": [
    {
     "name": "stdout",
     "output_type": "stream",
     "text": [
      "[6 4 3 2]\n"
     ]
    }
   ],
   "execution_count": 117
  },
  {
   "metadata": {
    "ExecuteTime": {
     "end_time": "2025-04-09T15:31:41.823388Z",
     "start_time": "2025-04-09T15:31:41.821506Z"
    }
   },
   "cell_type": "code",
   "source": [
    "#Create an array from the two lists above. Then write code to check the shape, dimensions, and data type of the array.\n",
    "list1 = [2, 3, 4, 6]\n",
    "list2 = [8, 10, 12, 14]\n",
    "\n",
    "new_array = np.array([list1,list2])\n",
    "\n",
    "print(\"Shape of the array:\", new_array.shape)\n",
    "print(\"Number of dimensions:\", new_array.ndim)\n",
    "print(\"Data type of the array:\", new_array.dtype)"
   ],
   "id": "50bb6156fa3ac02",
   "outputs": [
    {
     "name": "stdout",
     "output_type": "stream",
     "text": [
      "Shape of the array: (2, 4)\n",
      "Number of dimensions: 2\n",
      "Data type of the array: int64\n"
     ]
    }
   ],
   "execution_count": 118
  },
  {
   "metadata": {
    "ExecuteTime": {
     "end_time": "2025-04-09T15:31:41.833048Z",
     "start_time": "2025-04-09T15:31:41.831154Z"
    }
   },
   "cell_type": "code",
   "source": [
    "#Create an array from the three (3) lists above. Take note that some of the lists contain floats. Create an array that will have an int64 data type.\n",
    "\n",
    "list1 = [2, 3, 4, 6]\n",
    "list2 = [8, 10.1, 12, 14]\n",
    "list3 = [16, 18, 20, 22.1]\n",
    "\n",
    "\n",
    "new_array = np.array([list1, list2, list3], dtype=np.int64)\n",
    "\n",
    "print(\"Array with int64 data type:\\n\", new_array)\n",
    "print(\"Data type of the array:\", new_array.dtype)"
   ],
   "id": "80c44ab72d3dcaec",
   "outputs": [
    {
     "name": "stdout",
     "output_type": "stream",
     "text": [
      "Array with int64 data type:\n",
      " [[ 2  3  4  6]\n",
      " [ 8 10 12 14]\n",
      " [16 18 20 22]]\n",
      "Data type of the array: int64\n"
     ]
    }
   ],
   "execution_count": 119
  },
  {
   "metadata": {},
   "cell_type": "markdown",
   "source": [
    "Is it possible to create an array of both floats and integers?\n",
    "\n",
    "No, numpy just can take one data type per array"
   ],
   "id": "ef6b1f45ad4443f2"
  },
  {
   "metadata": {},
   "cell_type": "markdown",
   "source": [
    "### Day 3\n",
    "Generating Random Arrays.\n",
    "\n",
    "In this challenge, you are going to generate an array with\n",
    "some random numbers using NumPy, and create some\n",
    "visualizations using Matplotlib."
   ],
   "id": "999916d301dc5a51"
  },
  {
   "metadata": {
    "ExecuteTime": {
     "end_time": "2025-04-09T15:31:41.846402Z",
     "start_time": "2025-04-09T15:31:41.844218Z"
    }
   },
   "cell_type": "code",
   "source": [
    "#Using NumPy create an array of random numbers between 0 and 1. The shape of the array must be (3, 4). Use seed to ensure that the results are reproducible.\n",
    "\n",
    "np.random.seed(10\n",
    "               )\n",
    "array = np.random.rand(3,4)\n",
    "array"
   ],
   "id": "b9699541431364fe",
   "outputs": [
    {
     "data": {
      "text/plain": [
       "array([[0.77132064, 0.02075195, 0.63364823, 0.74880388],\n",
       "       [0.49850701, 0.22479665, 0.19806286, 0.76053071],\n",
       "       [0.16911084, 0.08833981, 0.68535982, 0.95339335]])"
      ]
     },
     "execution_count": 120,
     "metadata": {},
     "output_type": "execute_result"
    }
   ],
   "execution_count": 120
  },
  {
   "metadata": {
    "ExecuteTime": {
     "end_time": "2025-04-09T15:31:41.867628Z",
     "start_time": "2025-04-09T15:31:41.865682Z"
    }
   },
   "cell_type": "code",
   "source": [
    "#Create an array of random integers between 0 and 10. The shape of the array must be (3, 4).\n",
    "np.random.seed(1)\n",
    "array = np.random.randint(1,10, size = (3,4))\n",
    "array"
   ],
   "id": "90fce8ced68cc2ca",
   "outputs": [
    {
     "data": {
      "text/plain": [
       "array([[6, 9, 6, 1],\n",
       "       [1, 2, 8, 7],\n",
       "       [3, 5, 6, 3]])"
      ]
     },
     "execution_count": 121,
     "metadata": {},
     "output_type": "execute_result"
    }
   ],
   "execution_count": 121
  },
  {
   "metadata": {
    "ExecuteTime": {
     "end_time": "2025-04-09T15:31:41.932373Z",
     "start_time": "2025-04-09T15:31:41.899379Z"
    }
   },
   "cell_type": "code",
   "source": [
    "# Using NumPy, generate an array of 1000 random numbers from a standard normal distribution with a mean of 0 and a variance of 1. Create a histogram with this array. Use the seed parameter to ensure the results are reproducible.\n",
    "\n",
    "np.random.seed(2)\n",
    "array = np.random.randn(1000)\n",
    "array\n",
    "\n",
    "plt.hist(array)\n",
    "plt.show()\n"
   ],
   "id": "a7623088acc8651e",
   "outputs": [
    {
     "data": {
      "text/plain": [
       "<Figure size 640x480 with 1 Axes>"
      ],
      "image/png": "[encoded data removed]"
     },
     "metadata": {},
     "output_type": "display_data"
    }
   ],
   "execution_count": 122
  },
  {
   "metadata": {
    "ExecuteTime": {
     "end_time": "2025-04-09T15:31:41.949575Z",
     "start_time": "2025-04-09T15:31:41.947453Z"
    }
   },
   "cell_type": "code",
   "source": [
    "# Using random.choice() from NumPy, generate an array fom the list above. The shape of the array must be (3, 4).\n",
    "arr = [ \"Orange\", \"Apple\", \"Pear\"]\n",
    "\n",
    "array = np.random.choice(arr, size=(3,4))\n",
    "array"
   ],
   "id": "5108b986b7c7b8f3",
   "outputs": [
    {
     "data": {
      "text/plain": [
       "array([['Apple', 'Orange', 'Orange', 'Apple'],\n",
       "       ['Orange', 'Apple', 'Orange', 'Pear'],\n",
       "       ['Apple', 'Pear', 'Pear', 'Pear']], dtype='<U6')"
      ]
     },
     "execution_count": 123,
     "metadata": {},
     "output_type": "execute_result"
    }
   ],
   "execution_count": 123
  },
  {
   "metadata": {},
   "cell_type": "markdown",
   "source": [
    "### Day 4\n",
    "\n",
    "NumPy Arrays and Vector Operations\n",
    "\n",
    "In this challenge, you will create arrays and perform vector operations with them. These operations are an important feature of NumPy that makes it popular for scientific and\n",
    "numerical computing."
   ],
   "id": "31697b2a23360d95"
  },
  {
   "metadata": {
    "ExecuteTime": {
     "end_time": "2025-04-09T15:31:41.967872Z",
     "start_time": "2025-04-09T15:31:41.965752Z"
    }
   },
   "cell_type": "code",
   "source": [
    "#Create two arrays of random integers between 10 and 20. The shape of the array must be (2, 3) for the first array and (1, 3) for the second array. Check the shape of the arrays. Ensure that the results are reproducible.\n",
    "np.random.seed(4)\n",
    "array1 = np.random.randint(10,20,size=(2,3))\n",
    "array2 = np.random.randint(10,20, size = (1,3))\n",
    "print(\"Shape Array1: \", array1.shape)\n",
    "print(\"Shape Array2: \",array2.shape)"
   ],
   "id": "1a6178ff02cc48dc",
   "outputs": [
    {
     "name": "stdout",
     "output_type": "stream",
     "text": [
      "Shape Array1:  (2, 3)\n",
      "Shape Array2:  (1, 3)\n"
     ]
    }
   ],
   "execution_count": 124
  },
  {
   "metadata": {
    "ExecuteTime": {
     "end_time": "2025-04-09T15:31:41.988905Z",
     "start_time": "2025-04-09T15:31:41.987405Z"
    }
   },
   "cell_type": "code",
   "source": [
    "#Write a code to add the two arrays you just created in question 1. Check the shape of the resulting array. Explain why the resulting shape is that of the bigger array from the two arrays created in question 1.\n",
    "array3 = np.add(array1,array2)\n",
    "print(array3.shape)\n",
    "\n",
    "print(\"The resulting shape is that of the bigger array (array1) because of NumPy's broadcasting rules. Under the broadcasting rule, the smaller array is expanded to match the shape of the larger array.\")"
   ],
   "id": "bed2e68e4df2b25c",
   "outputs": [
    {
     "name": "stdout",
     "output_type": "stream",
     "text": [
      "(2, 3)\n",
      "The resulting shape is that of the bigger array (array1) because of NumPy's broadcasting rules. Under the broadcasting rule, the smaller array is expanded to match the shape of the larger array.\n"
     ]
    }
   ],
   "execution_count": 125
  },
  {
   "metadata": {
    "ExecuteTime": {
     "end_time": "2025-04-09T15:31:42.012769Z",
     "start_time": "2025-04-09T15:31:42.010643Z"
    }
   },
   "cell_type": "code",
   "source": [
    "# Write another code to perform a dot operation on the arrays.\n",
    "dot_product = np.dot(array1,array2.T)\n",
    "dot_product\n"
   ],
   "id": "98f285c4350891d4",
   "outputs": [
    {
     "data": {
      "text/plain": [
       "array([[676],\n",
       "       [845]])"
      ]
     },
     "execution_count": 126,
     "metadata": {},
     "output_type": "execute_result"
    }
   ],
   "execution_count": 126
  },
  {
   "metadata": {},
   "cell_type": "markdown",
   "source": [
    "In the context of performing a dot product operation between array1 and array2, you need to transpose array2 to ensure that the inner dimensions match.  The dot product operation requires that the number of columns in the first array matches the number of rows in the second array. Given the shapes of array1 and array2:\n",
    "array1 has a shape of (2, 3)\n",
    "array2 has a shape of (1, 3)\n",
    "To perform the dot product, you need to transpose array2 so that its shape becomes (3, 1). This way, the inner dimensions (3) match, and the resulting array will have a shape of (2, 1)."
   ],
   "id": "1be2aa74837b5451"
  },
  {
   "metadata": {
    "ExecuteTime": {
     "end_time": "2025-04-09T15:31:42.107596Z",
     "start_time": "2025-04-09T15:31:42.076884Z"
    }
   },
   "cell_type": "code",
   "source": [
    "#Using NumPy, create a 1-dimensional array of 100 random integers from 0 to 10. Use the array to create a histogram of the data and calculate the median and mode. Ensure that the results are reproducible.\n",
    "\n",
    "from scipy import stats\n",
    "\n",
    "np.random.seed(4)\n",
    "array_4 = np.random.randint(0,10, 1000)\n",
    "\n",
    "print(f\"The median is: {np.median(array_4)}\")\n",
    "print(f\"The mode is: {stats.mode(array_4)}\")\n",
    "plt.hist(array_4)\n",
    "plt.show()\n"
   ],
   "id": "2e0261a570f9f173",
   "outputs": [
    {
     "name": "stdout",
     "output_type": "stream",
     "text": [
      "The median is: 5.0\n",
      "The mode is: ModeResult(mode=np.int64(7), count=np.int64(120))\n"
     ]
    },
    {
     "data": {
      "text/plain": [
       "<Figure size 640x480 with 1 Axes>"
      ],
      "image/png": "[encoded data removed]"
     },
     "metadata": {},
     "output_type": "display_data"
    }
   ],
   "execution_count": 127
  },
  {
   "metadata": {
    "ExecuteTime": {
     "end_time": "2025-04-09T15:31:42.160067Z",
     "start_time": "2025-04-09T15:31:42.121950Z"
    }
   },
   "cell_type": "code",
   "source": [
    "#Using NumPy, create a 3-dimensional array of 100 random floats between 0 and 1. Use the array to create a 3D scatter plot of the data. Ensure that your results are reproducible.\n",
    "from mpl_toolkits.mplot3d import Axes3D\n",
    "\n",
    "np.random.seed(4)\n",
    "array_5 = np.random.rand(100,3)\n",
    "array_5\n",
    "\n",
    "# Create a 3D scatter plot\n",
    "fig = plt.figure()\n",
    "ax = fig.add_subplot(111, projection='3d')\n",
    "ax.scatter(array_5[:, 0], array_5[:, 1], array_5[:, 2])\n",
    "\n",
    "plt.show()"
   ],
   "id": "7df8b12321b6205f",
   "outputs": [
    {
     "data": {
      "text/plain": [
       "<Figure size 640x480 with 1 Axes>"
      ],
      "image/png": "[encoded data removed]"
     },
     "metadata": {},
     "output_type": "display_data"
    }
   ],
   "execution_count": 128
  },
  {
   "metadata": {
    "ExecuteTime": {
     "end_time": "2025-04-09T15:31:42.168831Z",
     "start_time": "2025-04-09T15:31:42.167029Z"
    }
   },
   "cell_type": "code",
   "source": [
    "#Write code to flatten the list and return all non-zero numbers from the list.l\n",
    "lst = [[0, 1, 3, 0, 4], [8, 9, 0, 9, 6]]\n",
    "\n",
    "# Flatten the list and filter out non-zero numbers\n",
    "flattened_non_zero = [num for sublist in lst for num in sublist if num != 0]\n",
    "\n",
    "print(flattened_non_zero)"
   ],
   "id": "3f8f7f05aaa07953",
   "outputs": [
    {
     "name": "stdout",
     "output_type": "stream",
     "text": [
      "[1, 3, 4, 8, 9, 9, 6]\n"
     ]
    }
   ],
   "execution_count": 129
  },
  {
   "metadata": {},
   "cell_type": "markdown",
   "source": [
    "### Day 5\n",
    "Array Creation and Vector Operations\n",
    "\n",
    "In this challenge, you will create a 2-dimensional array, analyze and perform vector operations on the array, and slice numbers from the array."
   ],
   "id": "de9863bfc78af440"
  },
  {
   "metadata": {
    "ExecuteTime": {
     "end_time": "2025-04-09T15:31:42.177649Z",
     "start_time": "2025-04-09T15:31:42.175609Z"
    }
   },
   "cell_type": "code",
   "source": [
    "list_numbers = [[12, 23, -45], [18, -77, -44]]\n",
    "#Using NumPy, create an array from the list. Write a code to return all the negative numbers in the list.\n",
    "array5 = np.array(list_numbers)\n",
    "array5_negatives = array5[array5<0]\n",
    "array5_negatives\n"
   ],
   "id": "49feb823eb29b0a1",
   "outputs": [
    {
     "data": {
      "text/plain": [
       "array([-45, -77, -44])"
      ]
     },
     "execution_count": 130,
     "metadata": {},
     "output_type": "execute_result"
    }
   ],
   "execution_count": 130
  },
  {
   "metadata": {
    "ExecuteTime": {
     "end_time": "2025-04-09T15:31:42.182111Z",
     "start_time": "2025-04-09T15:31:42.180352Z"
    }
   },
   "cell_type": "code",
   "source": [
    "#Using NumPy, write code to multiply each element in the array you created in question 1 by 2. Create a new variable for this array.\n",
    "array5_negatives_x_2 = array5_negatives*2\n",
    "array5_negatives_x_2"
   ],
   "id": "b4613ffd6c2495f0",
   "outputs": [
    {
     "data": {
      "text/plain": [
       "array([ -90, -154,  -88])"
      ]
     },
     "execution_count": 131,
     "metadata": {},
     "output_type": "execute_result"
    }
   ],
   "execution_count": 131
  },
  {
   "metadata": {
    "ExecuteTime": {
     "end_time": "2025-04-09T15:31:42.191251Z",
     "start_time": "2025-04-09T15:31:42.189761Z"
    }
   },
   "cell_type": "code",
   "source": [
    "# Write code to calculate the sum of the numbers on axis-1 of the array you created in question 2.\n",
    "sum_axis_1 = np.sum(array5_negatives_x_2, axis=-1)\n",
    "print(sum_axis_1)"
   ],
   "id": "234daf3f62b71b95",
   "outputs": [
    {
     "name": "stdout",
     "output_type": "stream",
     "text": [
      "-332\n"
     ]
    }
   ],
   "execution_count": 132
  },
  {
   "metadata": {
    "ExecuteTime": {
     "end_time": "2025-04-09T15:31:42.200439Z",
     "start_time": "2025-04-09T15:31:42.198948Z"
    }
   },
   "cell_type": "code",
   "source": [
    "#Write code to calculate the sum of numbers on axis-0 of the array you created in question 2.\n",
    "sum_axis_0 = np.sum(array5_negatives_x_2,axis = 0)\n",
    "print(sum_axis_0)"
   ],
   "id": "cba07d5d13b4643",
   "outputs": [
    {
     "name": "stdout",
     "output_type": "stream",
     "text": [
      "-332\n"
     ]
    }
   ],
   "execution_count": 133
  },
  {
   "metadata": {
    "ExecuteTime": {
     "end_time": "2025-04-09T15:31:42.211428Z",
     "start_time": "2025-04-09T15:31:42.209499Z"
    }
   },
   "cell_type": "code",
   "source": [
    "#Using the NumPy arange() function, create a NumPy array of numbers from 0 to 99. The shape of the array must be (2, 5, 10).\n",
    "array_5 = np.arange(100)\n",
    "reshaped_array = array_5.reshape(2,5,10)\n",
    "\n",
    "reshaped_array"
   ],
   "id": "26762801b7a9b248",
   "outputs": [
    {
     "data": {
      "text/plain": [
       "array([[[ 0,  1,  2,  3,  4,  5,  6,  7,  8,  9],\n",
       "        [10, 11, 12, 13, 14, 15, 16, 17, 18, 19],\n",
       "        [20, 21, 22, 23, 24, 25, 26, 27, 28, 29],\n",
       "        [30, 31, 32, 33, 34, 35, 36, 37, 38, 39],\n",
       "        [40, 41, 42, 43, 44, 45, 46, 47, 48, 49]],\n",
       "\n",
       "       [[50, 51, 52, 53, 54, 55, 56, 57, 58, 59],\n",
       "        [60, 61, 62, 63, 64, 65, 66, 67, 68, 69],\n",
       "        [70, 71, 72, 73, 74, 75, 76, 77, 78, 79],\n",
       "        [80, 81, 82, 83, 84, 85, 86, 87, 88, 89],\n",
       "        [90, 91, 92, 93, 94, 95, 96, 97, 98, 99]]])"
      ]
     },
     "execution_count": 134,
     "metadata": {},
     "output_type": "execute_result"
    }
   ],
   "execution_count": 134
  },
  {
   "metadata": {
    "ExecuteTime": {
     "end_time": "2025-04-09T15:31:42.222787Z",
     "start_time": "2025-04-09T15:31:42.221040Z"
    }
   },
   "cell_type": "code",
   "source": [
    "#Write code to slice row [50, 51, 52, 53, 54, 55, 56, 57, 58, 59] from the array above (question 5).\n",
    "reshaped_array[1,0,:]"
   ],
   "id": "14b16e73e1cffbf3",
   "outputs": [
    {
     "data": {
      "text/plain": [
       "array([50, 51, 52, 53, 54, 55, 56, 57, 58, 59])"
      ]
     },
     "execution_count": 135,
     "metadata": {},
     "output_type": "execute_result"
    }
   ],
   "execution_count": 135
  },
  {
   "metadata": {
    "ExecuteTime": {
     "end_time": "2025-04-09T15:31:42.236575Z",
     "start_time": "2025-04-09T15:31:42.234832Z"
    }
   },
   "cell_type": "code",
   "source": [
    "#Let’s analyze the array you created in question 1 further. How many numbers in row 1 are greater than the numbers in row 2?\n",
    "# Compare elements in row 1 with elements in row 2\n",
    "comparison = array5[0] > array5[1]\n",
    "\n",
    "# Count how many elements in row 1 are greater than in row 2\n",
    "count_greater = np.sum(comparison)\n",
    "print(count_greater)"
   ],
   "id": "1c2b7c4bed9442f7",
   "outputs": [
    {
     "name": "stdout",
     "output_type": "stream",
     "text": [
      "1\n"
     ]
    }
   ],
   "execution_count": 136
  },
  {
   "metadata": {},
   "cell_type": "markdown",
   "source": [
    "### Day 6\n",
    "Array Manipulation and Vector Operations\n",
    "\n",
    "In this challenge, your task is to create a NumPy array from\n",
    "a list of strings. This particular challenge aims to assess\n",
    "your proficiency in generating arrays and manipulating\n",
    "array data types as a means of enhancing data processing\n",
    "flexibility."
   ],
   "id": "5e26f39598870c54"
  },
  {
   "metadata": {
    "ExecuteTime": {
     "end_time": "2025-04-09T15:31:42.253712Z",
     "start_time": "2025-04-09T15:31:42.250539Z"
    }
   },
   "cell_type": "code",
   "source": "list_str = [\"23\", \"12\", \"90\", \"28\", \"30\"]",
   "id": "19067b81719e8230",
   "outputs": [],
   "execution_count": 137
  },
  {
   "metadata": {
    "ExecuteTime": {
     "end_time": "2025-04-09T15:31:42.270235Z",
     "start_time": "2025-04-09T15:31:42.268598Z"
    }
   },
   "cell_type": "code",
   "source": [
    "#Create a NumPy array with the list above. Calculate the standard deviation of the array. Write a code to change the data type of the array .\n",
    "array6 = np.array(list_str, dtype=int)\n",
    "\n",
    "print(np.std(array6))"
   ],
   "id": "5b3523e104c24525",
   "outputs": [
    {
     "name": "stdout",
     "output_type": "stream",
     "text": [
      "27.419700946582186\n"
     ]
    }
   ],
   "execution_count": 138
  },
  {
   "metadata": {
    "ExecuteTime": {
     "end_time": "2025-04-09T15:31:42.281730Z",
     "start_time": "2025-04-09T15:31:42.279702Z"
    }
   },
   "cell_type": "code",
   "source": [
    "#Write a code to return the sum of values [90.0, 28.0, 30.0] from the array you just created in question (3).\n",
    "array6_filtered = array6[2:]\n",
    "array6_filtered"
   ],
   "id": "3b5b1a930fb8c528",
   "outputs": [
    {
     "data": {
      "text/plain": [
       "array([90, 28, 30])"
      ]
     },
     "execution_count": 139,
     "metadata": {},
     "output_type": "execute_result"
    }
   ],
   "execution_count": 139
  },
  {
   "metadata": {
    "ExecuteTime": {
     "end_time": "2025-04-09T15:31:42.292650Z",
     "start_time": "2025-04-09T15:31:42.290654Z"
    }
   },
   "cell_type": "code",
   "source": [
    "#Create a 2-dimensional array of random integers from 0 to 100 with the shape (5, 5). Use the array to find the minimum and maximum values, as well as the mean and standard deviation. Ensure that the results are reproducible.\n",
    "np.random.seed(6)\n",
    "array6_random = np.random.randint(0,100, size=(5,5))\n",
    "print(f\"Minimum:  {np.min(array6_random)}\")\n",
    "print(f\"Maximum: {np.max(array6_random)}\")"
   ],
   "id": "21f9abbb7e666f65",
   "outputs": [
    {
     "name": "stdout",
     "output_type": "stream",
     "text": [
      "Minimum:  1\n",
      "Maximum: 99\n"
     ]
    }
   ],
   "execution_count": 140
  },
  {
   "metadata": {
    "ExecuteTime": {
     "end_time": "2025-04-09T15:31:42.306727Z",
     "start_time": "2025-04-09T15:31:42.304810Z"
    }
   },
   "cell_type": "code",
   "source": [
    "#Using NumPy’s char.join() function, create two arrays by joining the first name with the last name. Your first array should be: array(['John', 'Smith'], dtype='U6'). Your second array should be: array(['Kenny', 'Sakula'], dtype='U6').\n",
    "first_names = [\"John\", \" Kenny\"]\n",
    "last_names = [\"Smith\", \" Sakula\"]\n",
    "\n",
    "joined_names = np.char.add(first_names, \" \")  # Add a space between first and last names\n",
    "joined_names = np.char.add(joined_names, last_names)\n",
    "\n",
    "print(joined_names)"
   ],
   "id": "619a5953a9de56d0",
   "outputs": [
    {
     "name": "stdout",
     "output_type": "stream",
     "text": [
      "['John Smith' ' Kenny  Sakula']\n"
     ]
    }
   ],
   "execution_count": 141
  },
  {
   "metadata": {},
   "cell_type": "markdown",
   "source": [
    "### Day 7\n",
    "Transpose and Swap Arrays\n",
    "\n",
    "The ability to transpose and swap arrays is important for\n",
    "manipulating and analyzing data, performing matrix\n",
    "operations, cleaning and sorting data, and visualizing data.\n",
    "By mastering these skills, you can improve your data\n",
    "manipulation and analysis capabilities and work more\n",
    "efficiently with arrays.\n"
   ],
   "id": "ad814aa4b43ea8a7"
  },
  {
   "metadata": {
    "ExecuteTime": {
     "end_time": "2025-04-09T15:31:42.323079Z",
     "start_time": "2025-04-09T15:31:42.320779Z"
    }
   },
   "cell_type": "code",
   "source": [
    "#Using the arange() function, create an array of numbers from 0 and 10. The shape of the array must be (2, 5).\n",
    "array7 = np.arange(0,10)\n",
    "array7.reshape(2,5)"
   ],
   "id": "642c6d5170508ffe",
   "outputs": [
    {
     "data": {
      "text/plain": [
       "array([[0, 1, 2, 3, 4],\n",
       "       [5, 6, 7, 8, 9]])"
      ]
     },
     "execution_count": 142,
     "metadata": {},
     "output_type": "execute_result"
    }
   ],
   "execution_count": 142
  },
  {
   "metadata": {
    "ExecuteTime": {
     "end_time": "2025-04-09T15:31:42.346748Z",
     "start_time": "2025-04-09T15:31:42.344602Z"
    }
   },
   "cell_type": "code",
   "source": [
    "#Write a code to change the shape of the array (question 1) to (5, 2). Create a new variable for this array. Now, add this array to the original array in question 1. The resulting array should have shapes (2, 5). Save this as a variable.\n",
    "new_array7 = array7.reshape(5,2)\n",
    "reshaped_back = new_array7.T\n",
    "resulting_array = array7.reshape(2, 5) + reshaped_back\n",
    "resulting_array"
   ],
   "id": "4f81503c9e2e15d3",
   "outputs": [
    {
     "data": {
      "text/plain": [
       "array([[ 0,  3,  6,  9, 12],\n",
       "       [ 6,  9, 12, 15, 18]])"
      ]
     },
     "execution_count": 143,
     "metadata": {},
     "output_type": "execute_result"
    }
   ],
   "execution_count": 143
  },
  {
   "metadata": {
    "ExecuteTime": {
     "end_time": "2025-04-09T15:31:42.378862Z",
     "start_time": "2025-04-09T15:31:42.377157Z"
    }
   },
   "cell_type": "code",
   "source": [
    "#Swap the indexes of the array (question 2) using the swapaxis() method. Create a new variable for the swapped array.\n",
    "\n",
    "swapped_array = resulting_array.swapaxes(0,1)\n",
    "swapped_array"
   ],
   "id": "50e04e9436d88915",
   "outputs": [
    {
     "data": {
      "text/plain": [
       "array([[ 0,  6],\n",
       "       [ 3,  9],\n",
       "       [ 6, 12],\n",
       "       [ 9, 15],\n",
       "       [12, 18]])"
      ]
     },
     "execution_count": 144,
     "metadata": {},
     "output_type": "execute_result"
    }
   ],
   "execution_count": 144
  },
  {
   "metadata": {
    "ExecuteTime": {
     "end_time": "2025-04-09T15:31:42.424896Z",
     "start_time": "2025-04-09T15:31:42.423217Z"
    }
   },
   "cell_type": "code",
   "source": [
    "#Write a code to slice row 1 from the swapped array in question 3.\n",
    "row_1 = swapped_array[1, :]\n",
    "print(row_1)"
   ],
   "id": "2382d6e5278ca84b",
   "outputs": [
    {
     "name": "stdout",
     "output_type": "stream",
     "text": [
      "[3 9]\n"
     ]
    }
   ],
   "execution_count": 145
  },
  {
   "metadata": {
    "ExecuteTime": {
     "end_time": "2025-04-09T15:32:55.740232Z",
     "start_time": "2025-04-09T15:32:55.678903Z"
    }
   },
   "cell_type": "code",
   "source": [
    "players = [\"Robin\", \"Leo\", \"Pogba\", \"Diego\", \"Ronaldo\"]\n",
    "teams = [\"Man UTD\", \"Barca\", \"Arsenal\", \"Liverpool\", \"Madrid\"]\n",
    "goals = np.array([\n",
    "    [12, 15, 16, 15, 13],  # Robin\n",
    "    [26, 30, 31, 25, 24],  # Leo\n",
    "    [8, 10, 12, 9, 11],    # Pogba\n",
    "    [14, 18, 20, 19, 17],  # Diego\n",
    "    [30, 28, 27, 29, 31]   # Ronaldo\n",
    "])\n",
    "\n",
    "plt.figure(figsize=(10, 6))\n",
    "sns.heatmap(goals, annot=True, fmt=\"d\", cmap=\"coolwarm\", xticklabels=players, yticklabels=teams)\n",
    "\n",
    "# Add labels and title\n",
    "plt.xlabel(\"Players\")\n",
    "plt.ylabel(\"Teams\")\n",
    "plt.title(\"Heatmap of Goals Scored by Players in the Last 5 Seasons\")\n",
    "\n",
    "# Show the plot\n",
    "plt.show()"
   ],
   "id": "58e2905054541462",
   "outputs": [
    {
     "data": {
      "text/plain": [
       "<Figure size 1000x600 with 2 Axes>"
      ],
      "image/png": "[encoded data removed]"
     },
     "metadata": {},
     "output_type": "display_data"
    }
   ],
   "execution_count": 147
  },
  {
   "metadata": {
    "ExecuteTime": {
     "end_time": "2025-04-09T15:31:42.518873Z",
     "start_time": "2025-04-09T15:31:42.517616Z"
    }
   },
   "cell_type": "code",
   "source": "",
   "id": "c523f242d0824eab",
   "outputs": [],
   "execution_count": null
  }
 ],
 "metadata": {
  "kernelspec": {
   "display_name": "Python 3",
   "language": "python",
   "name": "python3"
  },
  "language_info": {
   "codemirror_mode": {
    "name": "ipython",
    "version": 2
   },
   "file_extension": ".py",
   "mimetype": "text/x-python",
   "name": "python",
   "nbconvert_exporter": "python",
   "pygments_lexer": "ipython2",
   "version": "2.7.6"
  }
 },
 "nbformat": 4,
 "nbformat_minor": 5
}
