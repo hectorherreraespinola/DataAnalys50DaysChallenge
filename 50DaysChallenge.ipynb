{
 "cells": [
  {
   "metadata": {
    "ExecuteTime": {
     "end_time": "2025-04-28T07:49:04.694216Z",
     "start_time": "2025-04-28T07:49:04.690039Z"
    }
   },
   "cell_type": "code",
   "source": [
    "from datetime import datetime\n",
    "\n",
    "import pandas as pd\n",
    "import numpy as np\n",
    "import pandas as pd\n",
    "import matplotlib.pyplot as plt\n",
    "import seaborn as sns\n"
   ],
   "id": "446b7e786c9dd872",
   "outputs": [],
   "execution_count": 1112
  },
  {
   "metadata": {},
   "cell_type": "markdown",
   "source": [
    "### Day 1\n",
    "Essentials of NumPy, Pandas,\n",
    "and Matplotlib"
   ],
   "id": "40946faa01a9a54"
  },
  {
   "metadata": {},
   "cell_type": "markdown",
   "source": [
    "### Day 2\n",
    "Creating and Manipulating Arrays"
   ],
   "id": "ef8b2ac556a009be"
  },
  {
   "metadata": {
    "ExecuteTime": {
     "end_time": "2025-04-28T07:49:04.718070Z",
     "start_time": "2025-04-28T07:49:04.716282Z"
    }
   },
   "cell_type": "code",
   "source": [
    "#Write code to import NumPy into your script. Check the version of NumPy installed.\n",
    "print(\"The version of numpy is\" , np.__version__)"
   ],
   "id": "6c5b4230730863eb",
   "outputs": [
    {
     "name": "stdout",
     "output_type": "stream",
     "text": [
      "The version of numpy is 2.0.2\n"
     ]
    }
   ],
   "execution_count": 1113
  },
  {
   "metadata": {
    "ExecuteTime": {
     "end_time": "2025-04-28T07:49:04.738326Z",
     "start_time": "2025-04-28T07:49:04.736249Z"
    }
   },
   "cell_type": "code",
   "source": [
    "#Here is a list below:\n",
    "list1 = [2, 3, 4, 6]\n",
    "#Create a one-dimensional array from the list above. Write another line of code to check the shape and size of your array.\n",
    "list1 = np.array(list1)\n",
    "list1.shape\n"
   ],
   "id": "19168a7848474281",
   "outputs": [
    {
     "data": {
      "text/plain": [
       "(4,)"
      ]
     },
     "execution_count": 1114,
     "metadata": {},
     "output_type": "execute_result"
    }
   ],
   "execution_count": 1114
  },
  {
   "metadata": {
    "ExecuteTime": {
     "end_time": "2025-04-28T07:49:04.745707Z",
     "start_time": "2025-04-28T07:49:04.743950Z"
    }
   },
   "cell_type": "code",
   "source": [
    "#Write a function that takes this array and returns a new array with all the values in the original array reversed.\n",
    "def reversed_array(list1):\n",
    "    new_array  = np.flip(list1)\n",
    "    print(new_array)\n",
    "\n",
    "reversed_array(list1)"
   ],
   "id": "c1a41eb3bc8dbe90",
   "outputs": [
    {
     "name": "stdout",
     "output_type": "stream",
     "text": [
      "[6 4 3 2]\n"
     ]
    }
   ],
   "execution_count": 1115
  },
  {
   "metadata": {
    "ExecuteTime": {
     "end_time": "2025-04-28T07:49:04.759812Z",
     "start_time": "2025-04-28T07:49:04.757940Z"
    }
   },
   "cell_type": "code",
   "source": [
    "#Create an array from the two lists above. Then write code to check the shape, dimensions, and data type of the array.\n",
    "list1 = [2, 3, 4, 6]\n",
    "list2 = [8, 10, 12, 14]\n",
    "\n",
    "new_array = np.array([list1,list2])\n",
    "\n",
    "print(\"Shape of the array:\", new_array.shape)\n",
    "print(\"Number of dimensions:\", new_array.ndim)\n",
    "print(\"Data type of the array:\", new_array.dtype)"
   ],
   "id": "50bb6156fa3ac02",
   "outputs": [
    {
     "name": "stdout",
     "output_type": "stream",
     "text": [
      "Shape of the array: (2, 4)\n",
      "Number of dimensions: 2\n",
      "Data type of the array: int64\n"
     ]
    }
   ],
   "execution_count": 1116
  },
  {
   "metadata": {
    "ExecuteTime": {
     "end_time": "2025-04-28T07:49:04.787228Z",
     "start_time": "2025-04-28T07:49:04.785274Z"
    }
   },
   "cell_type": "code",
   "source": [
    "#Create an array from the three (3) lists above. Take note that some of the lists contain floats. Create an array that will have an int64 data type.\n",
    "\n",
    "list1 = [2, 3, 4, 6]\n",
    "list2 = [8, 10.1, 12, 14]\n",
    "list3 = [16, 18, 20, 22.1]\n",
    "\n",
    "\n",
    "new_array = np.array([list1, list2, list3], dtype=np.int64)\n",
    "\n",
    "print(\"Array with int64 data type:\\n\", new_array)\n",
    "print(\"Data type of the array:\", new_array.dtype)"
   ],
   "id": "80c44ab72d3dcaec",
   "outputs": [
    {
     "name": "stdout",
     "output_type": "stream",
     "text": [
      "Array with int64 data type:\n",
      " [[ 2  3  4  6]\n",
      " [ 8 10 12 14]\n",
      " [16 18 20 22]]\n",
      "Data type of the array: int64\n"
     ]
    }
   ],
   "execution_count": 1117
  },
  {
   "metadata": {},
   "cell_type": "markdown",
   "source": [
    "Is it possible to create an array of both floats and integers?\n",
    "\n",
    "No, numpy just can take one data type per array"
   ],
   "id": "ef6b1f45ad4443f2"
  },
  {
   "metadata": {},
   "cell_type": "markdown",
   "source": [
    "### Day 3\n",
    "Generating Random Arrays.\n",
    "\n",
    "In this challenge, you are going to generate an array with\n",
    "some random numbers using NumPy, and create some\n",
    "visualizations using Matplotlib."
   ],
   "id": "999916d301dc5a51"
  },
  {
   "metadata": {
    "ExecuteTime": {
     "end_time": "2025-04-28T07:49:04.808070Z",
     "start_time": "2025-04-28T07:49:04.804898Z"
    }
   },
   "cell_type": "code",
   "source": [
    "#Using NumPy create an array of random numbers between 0 and 1. The shape of the array must be (3, 4). Use seed to ensure that the results are reproducible.\n",
    "\n",
    "np.random.seed(10\n",
    "               )\n",
    "array = np.random.rand(3,4)\n",
    "array"
   ],
   "id": "b9699541431364fe",
   "outputs": [
    {
     "data": {
      "text/plain": [
       "array([[0.77132064, 0.02075195, 0.63364823, 0.74880388],\n",
       "       [0.49850701, 0.22479665, 0.19806286, 0.76053071],\n",
       "       [0.16911084, 0.08833981, 0.68535982, 0.95339335]])"
      ]
     },
     "execution_count": 1118,
     "metadata": {},
     "output_type": "execute_result"
    }
   ],
   "execution_count": 1118
  },
  {
   "metadata": {
    "ExecuteTime": {
     "end_time": "2025-04-28T07:49:04.837615Z",
     "start_time": "2025-04-28T07:49:04.834817Z"
    }
   },
   "cell_type": "code",
   "source": [
    "#Create an array of random integers between 0 and 10. The shape of the array must be (3, 4).\n",
    "np.random.seed(1)\n",
    "array = np.random.randint(1,10, size = (3,4))\n",
    "array"
   ],
   "id": "90fce8ced68cc2ca",
   "outputs": [
    {
     "data": {
      "text/plain": [
       "array([[6, 9, 6, 1],\n",
       "       [1, 2, 8, 7],\n",
       "       [3, 5, 6, 3]])"
      ]
     },
     "execution_count": 1119,
     "metadata": {},
     "output_type": "execute_result"
    }
   ],
   "execution_count": 1119
  },
  {
   "metadata": {
    "ExecuteTime": {
     "end_time": "2025-04-28T07:49:04.917400Z",
     "start_time": "2025-04-28T07:49:04.881653Z"
    }
   },
   "cell_type": "code",
   "source": [
    "# Using NumPy, generate an array of 1000 random numbers from a standard normal distribution with a mean of 0 and a variance of 1. Create a histogram with this array. Use the seed parameter to ensure the results are reproducible.\n",
    "\n",
    "np.random.seed(2)\n",
    "array = np.random.randn(1000)\n",
    "array\n",
    "\n",
    "plt.hist(array)\n",
    "plt.show()\n"
   ],
   "id": "a7623088acc8651e",
   "outputs": [
    {
     "data": {
      "text/plain": [
       "<Figure size 200x200 with 1 Axes>"
      ],
      "image/png": "[encoded data removed]"
     },
     "metadata": {},
     "output_type": "display_data"
    }
   ],
   "execution_count": 1120
  },
  {
   "metadata": {
    "ExecuteTime": {
     "end_time": "2025-04-28T07:49:04.954159Z",
     "start_time": "2025-04-28T07:49:04.951177Z"
    }
   },
   "cell_type": "code",
   "source": [
    "# Using random.choice() from NumPy, generate an array fom the list above. The shape of the array must be (3, 4).\n",
    "arr = [ \"Orange\", \"Apple\", \"Pear\"]\n",
    "\n",
    "array = np.random.choice(arr, size=(3,4))\n",
    "array"
   ],
   "id": "5108b986b7c7b8f3",
   "outputs": [
    {
     "data": {
      "text/plain": [
       "array([['Apple', 'Orange', 'Orange', 'Apple'],\n",
       "       ['Orange', 'Apple', 'Orange', 'Pear'],\n",
       "       ['Apple', 'Pear', 'Pear', 'Pear']], dtype='<U6')"
      ]
     },
     "execution_count": 1121,
     "metadata": {},
     "output_type": "execute_result"
    }
   ],
   "execution_count": 1121
  },
  {
   "metadata": {},
   "cell_type": "markdown",
   "source": [
    "### Day 4\n",
    "\n",
    "NumPy Arrays and Vector Operations\n",
    "\n",
    "In this challenge, you will create arrays and perform vector operations with them. These operations are an important feature of NumPy that makes it popular for scientific and\n",
    "numerical computing."
   ],
   "id": "31697b2a23360d95"
  },
  {
   "metadata": {
    "ExecuteTime": {
     "end_time": "2025-04-28T07:49:04.979108Z",
     "start_time": "2025-04-28T07:49:04.977320Z"
    }
   },
   "cell_type": "code",
   "source": [
    "#Create two arrays of random integers between 10 and 20. The shape of the array must be (2, 3) for the first array and (1, 3) for the second array. Check the shape of the arrays. Ensure that the results are reproducible.\n",
    "np.random.seed(4)\n",
    "array1 = np.random.randint(10,20,size=(2,3))\n",
    "array2 = np.random.randint(10,20, size = (1,3))\n",
    "print(\"Shape Array1: \", array1.shape)\n",
    "print(\"Shape Array2: \",array2.shape)"
   ],
   "id": "1a6178ff02cc48dc",
   "outputs": [
    {
     "name": "stdout",
     "output_type": "stream",
     "text": [
      "Shape Array1:  (2, 3)\n",
      "Shape Array2:  (1, 3)\n"
     ]
    }
   ],
   "execution_count": 1122
  },
  {
   "metadata": {
    "ExecuteTime": {
     "end_time": "2025-04-28T07:49:05.029122Z",
     "start_time": "2025-04-28T07:49:05.027328Z"
    }
   },
   "cell_type": "code",
   "source": [
    "#Write a code to add the two arrays you just created in question 1. Check the shape of the resulting array. Explain why the resulting shape is that of the bigger array from the two arrays created in question 1.\n",
    "array3 = np.add(array1,array2)\n",
    "print(array3.shape)\n",
    "\n",
    "print(\"The resulting shape is that of the bigger array (array1) because of NumPy's broadcasting rules. Under the broadcasting rule, the smaller array is expanded to match the shape of the larger array.\")"
   ],
   "id": "bed2e68e4df2b25c",
   "outputs": [
    {
     "name": "stdout",
     "output_type": "stream",
     "text": [
      "(2, 3)\n",
      "The resulting shape is that of the bigger array (array1) because of NumPy's broadcasting rules. Under the broadcasting rule, the smaller array is expanded to match the shape of the larger array.\n"
     ]
    }
   ],
   "execution_count": 1123
  },
  {
   "metadata": {
    "ExecuteTime": {
     "end_time": "2025-04-28T07:49:05.062292Z",
     "start_time": "2025-04-28T07:49:05.060129Z"
    }
   },
   "cell_type": "code",
   "source": [
    "# Write another code to perform a dot operation on the arrays.\n",
    "dot_product = np.dot(array1,array2.T)\n",
    "dot_product\n"
   ],
   "id": "98f285c4350891d4",
   "outputs": [
    {
     "data": {
      "text/plain": [
       "array([[676],\n",
       "       [845]])"
      ]
     },
     "execution_count": 1124,
     "metadata": {},
     "output_type": "execute_result"
    }
   ],
   "execution_count": 1124
  },
  {
   "metadata": {},
   "cell_type": "markdown",
   "source": [
    "In the context of performing a dot product operation between array1 and array2, you need to transpose array2 to ensure that the inner dimensions match.  The dot product operation requires that the number of columns in the first array matches the number of rows in the second array. Given the shapes of array1 and array2:\n",
    "array1 has a shape of (2, 3)\n",
    "array2 has a shape of (1, 3)\n",
    "To perform the dot product, you need to transpose array2 so that its shape becomes (3, 1). This way, the inner dimensions (3) match, and the resulting array will have a shape of (2, 1)."
   ],
   "id": "1be2aa74837b5451"
  },
  {
   "metadata": {
    "ExecuteTime": {
     "end_time": "2025-04-28T07:49:05.127818Z",
     "start_time": "2025-04-28T07:49:05.098406Z"
    }
   },
   "cell_type": "code",
   "source": [
    "#Using NumPy, create a 1-dimensional array of 100 random integers from 0 to 10. Use the array to create a histogram of the data and calculate the median and mode. Ensure that the results are reproducible.\n",
    "\n",
    "from scipy import stats\n",
    "\n",
    "np.random.seed(4)\n",
    "array_4 = np.random.randint(0,10, 1000)\n",
    "\n",
    "print(f\"The median is: {np.median(array_4)}\")\n",
    "print(f\"The mode is: {stats.mode(array_4)}\")\n",
    "plt.hist(array_4)\n",
    "plt.show()\n"
   ],
   "id": "2e0261a570f9f173",
   "outputs": [
    {
     "name": "stdout",
     "output_type": "stream",
     "text": [
      "The median is: 5.0\n",
      "The mode is: ModeResult(mode=np.int64(7), count=np.int64(120))\n"
     ]
    },
    {
     "data": {
      "text/plain": [
       "<Figure size 200x200 with 1 Axes>"
      ],
      "image/png": "[encoded data removed]"
     },
     "metadata": {},
     "output_type": "display_data"
    }
   ],
   "execution_count": 1125
  },
  {
   "metadata": {
    "ExecuteTime": {
     "end_time": "2025-04-28T07:49:05.181775Z",
     "start_time": "2025-04-28T07:49:05.154296Z"
    }
   },
   "cell_type": "code",
   "source": [
    "#Using NumPy, create a 3-dimensional array of 100 random floats between 0 and 1. Use the array to create a 3D scatter plot of the data. Ensure that your results are reproducible.\n",
    "from mpl_toolkits.mplot3d import Axes3D\n",
    "\n",
    "np.random.seed(4)\n",
    "array_5 = np.random.rand(100,3)\n",
    "array_5\n",
    "\n",
    "# Create a 3D scatter plot\n",
    "fig = plt.figure()\n",
    "ax = fig.add_subplot(111, projection='3d')\n",
    "ax.scatter(array_5[:, 0], array_5[:, 1], array_5[:, 2])\n",
    "\n",
    "plt.show()"
   ],
   "id": "7df8b12321b6205f",
   "outputs": [
    {
     "data": {
      "text/plain": [
       "<Figure size 200x200 with 1 Axes>"
      ],
      "image/png": "[encoded data removed]"
     },
     "metadata": {},
     "output_type": "display_data"
    }
   ],
   "execution_count": 1126
  },
  {
   "metadata": {
    "ExecuteTime": {
     "end_time": "2025-04-28T07:49:05.203009Z",
     "start_time": "2025-04-28T07:49:05.201273Z"
    }
   },
   "cell_type": "code",
   "source": [
    "#Write code to flatten the list and return all non-zero numbers from the list.l\n",
    "lst = [[0, 1, 3, 0, 4], [8, 9, 0, 9, 6]]\n",
    "\n",
    "# Flatten the list and filter out non-zero numbers\n",
    "flattened_non_zero = [num for sublist in lst for num in sublist if num != 0]\n",
    "\n",
    "print(flattened_non_zero)"
   ],
   "id": "3f8f7f05aaa07953",
   "outputs": [
    {
     "name": "stdout",
     "output_type": "stream",
     "text": [
      "[1, 3, 4, 8, 9, 9, 6]\n"
     ]
    }
   ],
   "execution_count": 1127
  },
  {
   "metadata": {},
   "cell_type": "markdown",
   "source": [
    "### Day 5\n",
    "Array Creation and Vector Operations\n",
    "\n",
    "In this challenge, you will create a 2-dimensional array, analyze and perform vector operations on the array, and slice numbers from the array."
   ],
   "id": "de9863bfc78af440"
  },
  {
   "metadata": {
    "ExecuteTime": {
     "end_time": "2025-04-28T07:49:05.224383Z",
     "start_time": "2025-04-28T07:49:05.221857Z"
    }
   },
   "cell_type": "code",
   "source": [
    "list_numbers = [[12, 23, -45], [18, -77, -44]]\n",
    "#Using NumPy, create an array from the list. Write a code to return all the negative numbers in the list.\n",
    "array5 = np.array(list_numbers)\n",
    "array5_negatives = array5[array5<0]\n",
    "array5_negatives\n"
   ],
   "id": "49feb823eb29b0a1",
   "outputs": [
    {
     "data": {
      "text/plain": [
       "array([-45, -77, -44])"
      ]
     },
     "execution_count": 1128,
     "metadata": {},
     "output_type": "execute_result"
    }
   ],
   "execution_count": 1128
  },
  {
   "metadata": {
    "ExecuteTime": {
     "end_time": "2025-04-28T07:49:05.243863Z",
     "start_time": "2025-04-28T07:49:05.241822Z"
    }
   },
   "cell_type": "code",
   "source": [
    "#Using NumPy, write code to multiply each element in the array you created in question 1 by 2. Create a new variable for this array.\n",
    "array5_negatives_x_2 = array5_negatives*2\n",
    "array5_negatives_x_2"
   ],
   "id": "b4613ffd6c2495f0",
   "outputs": [
    {
     "data": {
      "text/plain": [
       "array([ -90, -154,  -88])"
      ]
     },
     "execution_count": 1129,
     "metadata": {},
     "output_type": "execute_result"
    }
   ],
   "execution_count": 1129
  },
  {
   "metadata": {
    "ExecuteTime": {
     "end_time": "2025-04-28T07:49:05.269297Z",
     "start_time": "2025-04-28T07:49:05.267699Z"
    }
   },
   "cell_type": "code",
   "source": [
    "# Write code to calculate the sum of the numbers on axis-1 of the array you created in question 2.\n",
    "sum_axis_1 = np.sum(array5_negatives_x_2, axis=-1)\n",
    "print(sum_axis_1)"
   ],
   "id": "234daf3f62b71b95",
   "outputs": [
    {
     "name": "stdout",
     "output_type": "stream",
     "text": [
      "-332\n"
     ]
    }
   ],
   "execution_count": 1130
  },
  {
   "metadata": {
    "ExecuteTime": {
     "end_time": "2025-04-28T07:49:05.296821Z",
     "start_time": "2025-04-28T07:49:05.295299Z"
    }
   },
   "cell_type": "code",
   "source": [
    "#Write code to calculate the sum of numbers on axis-0 of the array you created in question 2.\n",
    "sum_axis_0 = np.sum(array5_negatives_x_2,axis = 0)\n",
    "print(sum_axis_0)"
   ],
   "id": "cba07d5d13b4643",
   "outputs": [
    {
     "name": "stdout",
     "output_type": "stream",
     "text": [
      "-332\n"
     ]
    }
   ],
   "execution_count": 1131
  },
  {
   "metadata": {
    "ExecuteTime": {
     "end_time": "2025-04-28T07:49:05.324472Z",
     "start_time": "2025-04-28T07:49:05.322442Z"
    }
   },
   "cell_type": "code",
   "source": [
    "#Using the NumPy arange() function, create a NumPy array of numbers from 0 to 99. The shape of the array must be (2, 5, 10).\n",
    "array_5 = np.arange(100)\n",
    "reshaped_array = array_5.reshape(2,5,10)\n",
    "\n",
    "reshaped_array"
   ],
   "id": "26762801b7a9b248",
   "outputs": [
    {
     "data": {
      "text/plain": [
       "array([[[ 0,  1,  2,  3,  4,  5,  6,  7,  8,  9],\n",
       "        [10, 11, 12, 13, 14, 15, 16, 17, 18, 19],\n",
       "        [20, 21, 22, 23, 24, 25, 26, 27, 28, 29],\n",
       "        [30, 31, 32, 33, 34, 35, 36, 37, 38, 39],\n",
       "        [40, 41, 42, 43, 44, 45, 46, 47, 48, 49]],\n",
       "\n",
       "       [[50, 51, 52, 53, 54, 55, 56, 57, 58, 59],\n",
       "        [60, 61, 62, 63, 64, 65, 66, 67, 68, 69],\n",
       "        [70, 71, 72, 73, 74, 75, 76, 77, 78, 79],\n",
       "        [80, 81, 82, 83, 84, 85, 86, 87, 88, 89],\n",
       "        [90, 91, 92, 93, 94, 95, 96, 97, 98, 99]]])"
      ]
     },
     "execution_count": 1132,
     "metadata": {},
     "output_type": "execute_result"
    }
   ],
   "execution_count": 1132
  },
  {
   "metadata": {
    "ExecuteTime": {
     "end_time": "2025-04-28T07:49:05.347141Z",
     "start_time": "2025-04-28T07:49:05.345028Z"
    }
   },
   "cell_type": "code",
   "source": [
    "#Write code to slice row [50, 51, 52, 53, 54, 55, 56, 57, 58, 59] from the array above (question 5).\n",
    "reshaped_array[1,0,:]"
   ],
   "id": "14b16e73e1cffbf3",
   "outputs": [
    {
     "data": {
      "text/plain": [
       "array([50, 51, 52, 53, 54, 55, 56, 57, 58, 59])"
      ]
     },
     "execution_count": 1133,
     "metadata": {},
     "output_type": "execute_result"
    }
   ],
   "execution_count": 1133
  },
  {
   "metadata": {
    "ExecuteTime": {
     "end_time": "2025-04-28T07:49:05.392919Z",
     "start_time": "2025-04-28T07:49:05.391265Z"
    }
   },
   "cell_type": "code",
   "source": [
    "#Let’s analyze the array you created in question 1 further. How many numbers in row 1 are greater than the numbers in row 2?\n",
    "# Compare elements in row 1 with elements in row 2\n",
    "comparison = array5[0] > array5[1]\n",
    "\n",
    "# Count how many elements in row 1 are greater than in row 2\n",
    "count_greater = np.sum(comparison)\n",
    "print(count_greater)"
   ],
   "id": "1c2b7c4bed9442f7",
   "outputs": [
    {
     "name": "stdout",
     "output_type": "stream",
     "text": [
      "1\n"
     ]
    }
   ],
   "execution_count": 1134
  },
  {
   "metadata": {},
   "cell_type": "markdown",
   "source": [
    "### Day 6\n",
    "Array Manipulation and Vector Operations\n",
    "\n",
    "In this challenge, your task is to create a NumPy array from\n",
    "a list of strings. This particular challenge aims to assess\n",
    "your proficiency in generating arrays and manipulating\n",
    "array data types as a means of enhancing data processing\n",
    "flexibility."
   ],
   "id": "5e26f39598870c54"
  },
  {
   "metadata": {
    "ExecuteTime": {
     "end_time": "2025-04-28T07:49:05.410423Z",
     "start_time": "2025-04-28T07:49:05.408888Z"
    }
   },
   "cell_type": "code",
   "source": "list_str = [\"23\", \"12\", \"90\", \"28\", \"30\"]",
   "id": "19067b81719e8230",
   "outputs": [],
   "execution_count": 1135
  },
  {
   "metadata": {
    "ExecuteTime": {
     "end_time": "2025-04-28T07:49:05.434081Z",
     "start_time": "2025-04-28T07:49:05.432310Z"
    }
   },
   "cell_type": "code",
   "source": [
    "#Create a NumPy array with the list above. Calculate the standard deviation of the array. Write a code to change the data type of the array .\n",
    "array6 = np.array(list_str, dtype=int)\n",
    "\n",
    "print(np.std(array6))"
   ],
   "id": "5b3523e104c24525",
   "outputs": [
    {
     "name": "stdout",
     "output_type": "stream",
     "text": [
      "27.419700946582186\n"
     ]
    }
   ],
   "execution_count": 1136
  },
  {
   "metadata": {
    "ExecuteTime": {
     "end_time": "2025-04-28T07:49:05.442805Z",
     "start_time": "2025-04-28T07:49:05.440889Z"
    }
   },
   "cell_type": "code",
   "source": [
    "#Write a code to return the sum of values [90.0, 28.0, 30.0] from the array you just created in question (3).\n",
    "array6_filtered = array6[2:]\n",
    "array6_filtered"
   ],
   "id": "3b5b1a930fb8c528",
   "outputs": [
    {
     "data": {
      "text/plain": [
       "array([90, 28, 30])"
      ]
     },
     "execution_count": 1137,
     "metadata": {},
     "output_type": "execute_result"
    }
   ],
   "execution_count": 1137
  },
  {
   "metadata": {
    "ExecuteTime": {
     "end_time": "2025-04-28T07:49:05.456858Z",
     "start_time": "2025-04-28T07:49:05.454859Z"
    }
   },
   "cell_type": "code",
   "source": [
    "#Create a 2-dimensional array of random integers from 0 to 100 with the shape (5, 5). Use the array to find the minimum and maximum values, as well as the mean and standard deviation. Ensure that the results are reproducible.\n",
    "np.random.seed(6)\n",
    "array6_random = np.random.randint(0,100, size=(5,5))\n",
    "print(f\"Minimum:  {np.min(array6_random)}\")\n",
    "print(f\"Maximum: {np.max(array6_random)}\")"
   ],
   "id": "21f9abbb7e666f65",
   "outputs": [
    {
     "name": "stdout",
     "output_type": "stream",
     "text": [
      "Minimum:  1\n",
      "Maximum: 99\n"
     ]
    }
   ],
   "execution_count": 1138
  },
  {
   "metadata": {
    "ExecuteTime": {
     "end_time": "2025-04-28T07:49:05.478516Z",
     "start_time": "2025-04-28T07:49:05.476772Z"
    }
   },
   "cell_type": "code",
   "source": [
    "#Using NumPy’s char.join() function, create two arrays by joining the first name with the last name. Your first array should be: array(['John', 'Smith'], dtype='U6'). Your second array should be: array(['Kenny', 'Sakula'], dtype='U6').\n",
    "first_names = [\"John\", \" Kenny\"]\n",
    "last_names = [\"Smith\", \" Sakula\"]\n",
    "\n",
    "joined_names = np.char.add(first_names, \" \")  # Add a space between first and last names\n",
    "joined_names = np.char.add(joined_names, last_names)\n",
    "\n",
    "print(joined_names)"
   ],
   "id": "619a5953a9de56d0",
   "outputs": [
    {
     "name": "stdout",
     "output_type": "stream",
     "text": [
      "['John Smith' ' Kenny  Sakula']\n"
     ]
    }
   ],
   "execution_count": 1139
  },
  {
   "metadata": {},
   "cell_type": "markdown",
   "source": [
    "### Day 7\n",
    "Transpose and Swap Arrays\n",
    "\n",
    "The ability to transpose and swap arrays is important for\n",
    "manipulating and analyzing data, performing matrix\n",
    "operations, cleaning and sorting data, and visualizing data.\n",
    "By mastering these skills, you can improve your data\n",
    "manipulation and analysis capabilities and work more\n",
    "efficiently with arrays.\n"
   ],
   "id": "ad814aa4b43ea8a7"
  },
  {
   "metadata": {
    "ExecuteTime": {
     "end_time": "2025-04-28T07:49:05.503686Z",
     "start_time": "2025-04-28T07:49:05.501621Z"
    }
   },
   "cell_type": "code",
   "source": [
    "#Using the arange() function, create an array of numbers from 0 and 10. The shape of the array must be (2, 5).\n",
    "array7 = np.arange(0,10)\n",
    "array7.reshape(2,5)"
   ],
   "id": "642c6d5170508ffe",
   "outputs": [
    {
     "data": {
      "text/plain": [
       "array([[0, 1, 2, 3, 4],\n",
       "       [5, 6, 7, 8, 9]])"
      ]
     },
     "execution_count": 1140,
     "metadata": {},
     "output_type": "execute_result"
    }
   ],
   "execution_count": 1140
  },
  {
   "metadata": {
    "ExecuteTime": {
     "end_time": "2025-04-28T07:49:05.534658Z",
     "start_time": "2025-04-28T07:49:05.532591Z"
    }
   },
   "cell_type": "code",
   "source": [
    "#Write a code to change the shape of the array (question 1) to (5, 2). Create a new variable for this array. Now, add this array to the original array in question 1. The resulting array should have shapes (2, 5). Save this as a variable.\n",
    "new_array7 = array7.reshape(5,2)\n",
    "reshaped_back = new_array7.T\n",
    "resulting_array = array7.reshape(2, 5) + reshaped_back\n",
    "resulting_array"
   ],
   "id": "4f81503c9e2e15d3",
   "outputs": [
    {
     "data": {
      "text/plain": [
       "array([[ 0,  3,  6,  9, 12],\n",
       "       [ 6,  9, 12, 15, 18]])"
      ]
     },
     "execution_count": 1141,
     "metadata": {},
     "output_type": "execute_result"
    }
   ],
   "execution_count": 1141
  },
  {
   "metadata": {
    "ExecuteTime": {
     "end_time": "2025-04-28T07:49:05.577366Z",
     "start_time": "2025-04-28T07:49:05.575468Z"
    }
   },
   "cell_type": "code",
   "source": [
    "#Swap the indexes of the array (question 2) using the swapaxis() method. Create a new variable for the swapped array.\n",
    "\n",
    "swapped_array = resulting_array.swapaxes(0,1)\n",
    "swapped_array"
   ],
   "id": "50e04e9436d88915",
   "outputs": [
    {
     "data": {
      "text/plain": [
       "array([[ 0,  6],\n",
       "       [ 3,  9],\n",
       "       [ 6, 12],\n",
       "       [ 9, 15],\n",
       "       [12, 18]])"
      ]
     },
     "execution_count": 1142,
     "metadata": {},
     "output_type": "execute_result"
    }
   ],
   "execution_count": 1142
  },
  {
   "metadata": {
    "ExecuteTime": {
     "end_time": "2025-04-28T07:49:05.624426Z",
     "start_time": "2025-04-28T07:49:05.622941Z"
    }
   },
   "cell_type": "code",
   "source": [
    "#Write a code to slice row 1 from the swapped array in question 3.\n",
    "row_1 = swapped_array[1, :]\n",
    "print(row_1)"
   ],
   "id": "2382d6e5278ca84b",
   "outputs": [
    {
     "name": "stdout",
     "output_type": "stream",
     "text": [
      "[3 9]\n"
     ]
    }
   ],
   "execution_count": 1143
  },
  {
   "metadata": {
    "ExecuteTime": {
     "end_time": "2025-04-28T07:49:05.814967Z",
     "start_time": "2025-04-28T07:49:05.672987Z"
    }
   },
   "cell_type": "code",
   "source": [
    "players = [\"Robin\", \"Leo\", \"Pogba\", \"Diego\", \"Ronaldo\"]\n",
    "teams = [\"Man UTD\", \"Barca\", \"Arsenal\", \"Liverpool\", \"Madrid\"]\n",
    "goals = np.array([\n",
    "    [12, 15, 16, 15, 13],  # Robin\n",
    "    [26, 30, 31, 25, 24],  # Leo\n",
    "    [8, 10, 12, 9, 11],    # Pogba\n",
    "    [14, 18, 20, 19, 17],  # Diego\n",
    "    [30, 28, 27, 29, 31]   # Ronaldo\n",
    "])\n",
    "\n",
    "plt.figure(figsize=(10, 6))\n",
    "sns.heatmap(goals, annot=True, fmt=\"d\", cmap=\"coolwarm\", xticklabels=players, yticklabels=teams)\n",
    "\n",
    "# Add labels and title\n",
    "plt.xlabel(\"Players\")\n",
    "plt.ylabel(\"Teams\")\n",
    "plt.title(\"Heatmap of Goals Scored by Players in the Last 5 Seasons\")\n",
    "\n",
    "# Show the plot\n",
    "plt.show()"
   ],
   "id": "58e2905054541462",
   "outputs": [
    {
     "data": {
      "text/plain": [
       "<Figure size 1000x600 with 2 Axes>"
      ],
      "image/png": "[encoded data removed]"
     },
     "metadata": {},
     "output_type": "display_data"
    }
   ],
   "execution_count": 1144
  },
  {
   "metadata": {},
   "cell_type": "markdown",
   "source": [
    "### Day 8\n",
    "Slicing NumPy Arrays\n",
    "\n",
    "This challenge will test your abilities to create and slice\n",
    "NumPy arrays. Learning to slice NumPy arrays is an\n",
    "important skill to have for anyone working with data\n",
    "because it allows you to extract and manipulate specific\n",
    "portions of an array. This is especially useful when working\n",
    "with large datasets, as it allows you to perform operations\n",
    "on a subset of the data rather than the entire array. This is\n",
    "what is called \"dimensionality reduction."
   ],
   "id": "ca1cf67f7a8057f0"
  },
  {
   "metadata": {
    "ExecuteTime": {
     "end_time": "2025-04-28T07:49:05.822478Z",
     "start_time": "2025-04-28T07:49:05.820339Z"
    }
   },
   "cell_type": "code",
   "source": [
    "#Create a one-dimensional array with random integers between 0 and 20. The size of the array is 10. Ensure that the results are reproducible.\n",
    "np.random.seed(8)\n",
    "array8 = np.random.randint(0,20,size=10)\n",
    "array8"
   ],
   "id": "c523f242d0824eab",
   "outputs": [
    {
     "data": {
      "text/plain": [
       "array([ 3, 17,  9,  5,  8, 19,  8, 16, 13, 17])"
      ]
     },
     "execution_count": 1145,
     "metadata": {},
     "output_type": "execute_result"
    }
   ],
   "execution_count": 1145
  },
  {
   "metadata": {
    "ExecuteTime": {
     "end_time": "2025-04-28T07:49:05.838707Z",
     "start_time": "2025-04-28T07:49:05.836066Z"
    }
   },
   "cell_type": "code",
   "source": [
    "# Using slicing, create a subset array of 3 integers from the array you created in question 1. The first integer is at index 2, the second integer is at index 4, and the third index is at index 7.\n",
    "#We pass slice instead of index like this: [start:end].\n",
    "array8_sliced = array8[[2,4,7]]\n",
    "array8_sliced\n",
    "#We can also define the step, like this: [start:end:step]."
   ],
   "id": "d8a381c44fac2ed5",
   "outputs": [
    {
     "data": {
      "text/plain": [
       "array([ 9,  8, 16])"
      ]
     },
     "execution_count": 1146,
     "metadata": {},
     "output_type": "execute_result"
    }
   ],
   "execution_count": 1146
  },
  {
   "metadata": {
    "ExecuteTime": {
     "end_time": "2025-04-28T07:49:05.856288Z",
     "start_time": "2025-04-28T07:49:05.854281Z"
    }
   },
   "cell_type": "code",
   "source": [
    "#Create a two-dimensional array from the list below. Check the dimensions and shape of your array.\n",
    "My_list = [[1, 2, 3, 4, 5], [6, 7, 8, 9, 10],[11, 12, 13, 14, 15]]\n",
    "new_array8 = np.array(My_list)\n",
    "\n",
    "print(new_array8.shape)\n",
    "print(new_array8.ndim)"
   ],
   "id": "aaa1d9422f4263aa",
   "outputs": [
    {
     "name": "stdout",
     "output_type": "stream",
     "text": [
      "(3, 5)\n",
      "2\n"
     ]
    }
   ],
   "execution_count": 1147
  },
  {
   "metadata": {
    "ExecuteTime": {
     "end_time": "2025-04-28T07:49:05.887510Z",
     "start_time": "2025-04-28T07:49:05.885388Z"
    }
   },
   "cell_type": "code",
   "source": [
    "#sing slicing, write a code to access the numbers 3, 8, and 13.Your code should return [3, 8, 13].\n",
    "new_array8_sliced =new_array8[:,2]\n",
    "new_array8_sliced"
   ],
   "id": "9f2fa9cf2795bf2a",
   "outputs": [
    {
     "data": {
      "text/plain": [
       "array([ 3,  8, 13])"
      ]
     },
     "execution_count": 1148,
     "metadata": {},
     "output_type": "execute_result"
    }
   ],
   "execution_count": 1148
  },
  {
   "metadata": {
    "ExecuteTime": {
     "end_time": "2025-04-28T07:49:05.916258Z",
     "start_time": "2025-04-28T07:49:05.914341Z"
    }
   },
   "cell_type": "code",
   "source": [
    "# Create a three-dimensional array from the nested list\n",
    "lis1 = [[[1, 2, 3, 4, 5], [6, 7, 8, 9, 10], [11, 12, 13, 14, 15]]]\n",
    "new_array8 = np.array(lis1)\n",
    "\n",
    "\n",
    "# Extract the numbers 4, 8, and 15\n",
    "sublist = [int(new_array8[0, 0, 3]), int(new_array8[0, 1, 2]), int(new_array8[0, 2, 4])]\n",
    "print(sublist)"
   ],
   "id": "463dddd2dc2461c6",
   "outputs": [
    {
     "name": "stdout",
     "output_type": "stream",
     "text": [
      "[4, 8, 15]\n"
     ]
    }
   ],
   "execution_count": 1149
  },
  {
   "metadata": {},
   "cell_type": "markdown",
   "source": [
    "### Day 9\n",
    "\n",
    "Analyze a One-Dimensional Array\n",
    "\n",
    "In this challenge, you are going to create an array from a\n",
    "list. Why should you use an array instead of a Python list?\n",
    "The NumPy Series provides better performance, easier\n",
    "manipulation and indexing, and better interoperability\n",
    "with other scientific libraries, making them a preferred\n",
    "choice for scientific and data analysis applications. They\n",
    "also have better memory management than Python lists"
   ],
   "id": "be28177367ded0e0"
  },
  {
   "metadata": {
    "ExecuteTime": {
     "end_time": "2025-04-28T07:49:05.944792Z",
     "start_time": "2025-04-28T07:49:05.943206Z"
    }
   },
   "cell_type": "code",
   "source": [
    "nums = [12,4,6,7,9,19,21,67,8]\n",
    "# Create a NumPy one-dimensional array with the list above\n",
    "\n",
    "array9 = np.array(nums)"
   ],
   "id": "8d5280999fc62309",
   "outputs": [],
   "execution_count": 1150
  },
  {
   "metadata": {
    "ExecuteTime": {
     "end_time": "2025-04-28T07:49:05.969134Z",
     "start_time": "2025-04-28T07:49:05.967676Z"
    }
   },
   "cell_type": "code",
   "source": [
    "#Using NumPy, write code that returns the minimum number in the array.\n",
    "print(np.min(array9))"
   ],
   "id": "c57f7fbb119bd299",
   "outputs": [
    {
     "name": "stdout",
     "output_type": "stream",
     "text": [
      "4\n"
     ]
    }
   ],
   "execution_count": 1151
  },
  {
   "metadata": {
    "ExecuteTime": {
     "end_time": "2025-04-28T07:49:05.982904Z",
     "start_time": "2025-04-28T07:49:05.981362Z"
    }
   },
   "cell_type": "code",
   "source": [
    "#Write a code that returns the index of the largest number in the array.\n",
    "print(np.argmax(array9))"
   ],
   "id": "bf3fb337e8ac8e17",
   "outputs": [
    {
     "name": "stdout",
     "output_type": "stream",
     "text": [
      "7\n"
     ]
    }
   ],
   "execution_count": 1152
  },
  {
   "metadata": {
    "ExecuteTime": {
     "end_time": "2025-04-28T07:49:05.997058Z",
     "start_time": "2025-04-28T07:49:05.995277Z"
    }
   },
   "cell_type": "code",
   "source": [
    "#Using NumPy, calculate the average of the biggest and smallest numbers in the array.\n",
    "largest = np.max(array9)\n",
    "smallest = np.min(array9)\n",
    "average = (largest + smallest) / 2\n",
    "\n",
    "print(\"Average of the biggest and smallest numbers:\", average)"
   ],
   "id": "2218e786ca827e31",
   "outputs": [
    {
     "name": "stdout",
     "output_type": "stream",
     "text": [
      "Average of the biggest and smallest numbers: 35.5\n"
     ]
    }
   ],
   "execution_count": 1153
  },
  {
   "metadata": {
    "ExecuteTime": {
     "end_time": "2025-04-28T07:49:06.033027Z",
     "start_time": "2025-04-28T07:49:06.031384Z"
    }
   },
   "cell_type": "code",
   "source": [
    "#Write a code to find the mean, median, and standard deviation of the array.\n",
    "print(f\"The mean of the Array is: {np.mean(array9)}\")\n",
    "print(f\"The median of the Array is : {np.median(array9)}\")\n",
    "print(f\"The std deviation of the Array is: {np.std(array9)}\")"
   ],
   "id": "c7382b6e482a55de",
   "outputs": [
    {
     "name": "stdout",
     "output_type": "stream",
     "text": [
      "The mean of the Array is: 17.0\n",
      "The median of the Array is : 9.0\n",
      "The std deviation of the Array is: 18.499249234015476\n"
     ]
    }
   ],
   "execution_count": 1154
  },
  {
   "metadata": {
    "ExecuteTime": {
     "end_time": "2025-04-28T07:49:06.054578Z",
     "start_time": "2025-04-28T07:49:06.052086Z"
    }
   },
   "cell_type": "code",
   "source": [
    "# Write code to find the outlier in the array above.\n",
    "nums = [12, 4, 6, 7, 9, 19, 21, 67, 8]\n",
    "\n",
    "def find_outliers_iqr(data):\n",
    "    data = np.array(data)\n",
    "\n",
    "    # Calcular Q1 y Q3\n",
    "    q1 = np.percentile(data, 25)\n",
    "    q3 = np.percentile(data, 75)\n",
    "\n",
    "    # Calcular IQR\n",
    "    iqr = q3 - q1\n",
    "\n",
    "    # Calcular límites\n",
    "    lower_bound = q1 - 1.5 * iqr\n",
    "    upper_bound = q3 + 1.5 * iqr\n",
    "\n",
    "    # Encontrar outliers\n",
    "    outliers = data[(data < lower_bound) | (data > upper_bound)]\n",
    "\n",
    "    return {\n",
    "        'Q1': q1,\n",
    "        'Q3': q3,\n",
    "        'IQR': iqr,\n",
    "        'Lower Bound': lower_bound,\n",
    "        'Upper Bound': upper_bound,\n",
    "        'Outliers': outliers.tolist()\n",
    "    }\n",
    "\n",
    "\n",
    "result = find_outliers_iqr(nums)\n",
    "\n",
    "print(\"Resultados del análisis IQR:\")\n",
    "for key, value in result.items():\n",
    "    print(f\"{key}: {value}\")"
   ],
   "id": "56d5a113c7db8fa8",
   "outputs": [
    {
     "name": "stdout",
     "output_type": "stream",
     "text": [
      "Resultados del análisis IQR:\n",
      "Q1: 7.0\n",
      "Q3: 19.0\n",
      "IQR: 12.0\n",
      "Lower Bound: -11.0\n",
      "Upper Bound: 37.0\n",
      "Outliers: [67]\n"
     ]
    }
   ],
   "execution_count": 1155
  },
  {
   "metadata": {},
   "cell_type": "markdown",
   "source": [
    "### Day 10\n",
    "The arange Function and Boolean Indexing\n",
    "\n",
    "In this challenge, you will use the NumPy arange() function.\n",
    "It is similar to the built-in range() function in Python, but\n",
    "it returns a NumPy array. Boolean indexing, on the other\n",
    "hand, is a way of indexing NumPy arrays based on a set of\n",
    "Boolean conditions. It allows you to select elements from\n",
    "an array that meet certain criteria."
   ],
   "id": "56a2ef60e399b029"
  },
  {
   "metadata": {
    "ExecuteTime": {
     "end_time": "2025-04-28T07:49:06.074072Z",
     "start_time": "2025-04-28T07:49:06.072553Z"
    }
   },
   "cell_type": "code",
   "source": "num = 50",
   "id": "aa039c6c7bf971eb",
   "outputs": [],
   "execution_count": 1156
  },
  {
   "metadata": {
    "ExecuteTime": {
     "end_time": "2025-04-28T07:49:06.087321Z",
     "start_time": "2025-04-28T07:49:06.085365Z"
    }
   },
   "cell_type": "code",
   "source": [
    "#Create an array from the number above using the arange() function of NumPy. Your array should start at 0 with a step of 5.\n",
    "\n",
    "array10 = np.arange(0,num,5)\n",
    "array10"
   ],
   "id": "4a9deafc6b19725e",
   "outputs": [
    {
     "data": {
      "text/plain": [
       "array([ 0,  5, 10, 15, 20, 25, 30, 35, 40, 45])"
      ]
     },
     "execution_count": 1157,
     "metadata": {},
     "output_type": "execute_result"
    }
   ],
   "execution_count": 1157
  },
  {
   "metadata": {
    "ExecuteTime": {
     "end_time": "2025-04-28T07:49:06.106313Z",
     "start_time": "2025-04-28T07:49:06.104434Z"
    }
   },
   "cell_type": "code",
   "source": [
    "#Using NumPy, write a code that returns all the numbers in the array that are greater than 25.\n",
    "array10_filtered = array10[array10 >25]\n",
    "array10_filtered"
   ],
   "id": "e1b79572c58b3554",
   "outputs": [
    {
     "data": {
      "text/plain": [
       "array([30, 35, 40, 45])"
      ]
     },
     "execution_count": 1158,
     "metadata": {},
     "output_type": "execute_result"
    }
   ],
   "execution_count": 1158
  },
  {
   "metadata": {
    "ExecuteTime": {
     "end_time": "2025-04-28T07:49:06.130795Z",
     "start_time": "2025-04-28T07:49:06.128613Z"
    }
   },
   "cell_type": "code",
   "source": [
    "days = [\"mon\", \"tue\", \"wed\", \"thu\", \"Fri\"]\n",
    "hours_worked = [ 8, 8, 10, 11, 7]\n",
    "# Using Boolean indexing of NumPy arrays, return the days of the week where hours worked were 8.\n",
    "\n",
    "days = np.array([\"mon\", \"tue\", \"wed\", \"thu\", \"Fri\"])\n",
    "hours_worked = np.array([8, 8, 10, 11, 7])\n",
    "\n",
    "# Boolean indexing to filter days where hours worked were 8\n",
    "days_with_8_hours = days[hours_worked == 8]\n",
    "\n",
    "days_with_8_hours"
   ],
   "id": "932e84bd22d46b75",
   "outputs": [
    {
     "data": {
      "text/plain": [
       "array(['mon', 'tue'], dtype='<U3')"
      ]
     },
     "execution_count": 1159,
     "metadata": {},
     "output_type": "execute_result"
    }
   ],
   "execution_count": 1159
  },
  {
   "metadata": {
    "ExecuteTime": {
     "end_time": "2025-04-28T07:49:06.155507Z",
     "start_time": "2025-04-28T07:49:06.153849Z"
    }
   },
   "cell_type": "code",
   "source": [
    "\n",
    "#Here is the code to find the day of the week with the highest number of hours worked using Boolean indexing:\n",
    "max_hours = np.max(hours_worked)\n",
    "day_with_max_hours = days[hours_worked == max_hours]\n",
    "\n",
    "print(\"Day with the highest number of hours worked:\", day_with_max_hours[0])"
   ],
   "id": "4f00d7bf46dfd1b6",
   "outputs": [
    {
     "name": "stdout",
     "output_type": "stream",
     "text": [
      "Day with the highest number of hours worked: thu\n"
     ]
    }
   ],
   "execution_count": 1160
  },
  {
   "metadata": {
    "ExecuteTime": {
     "end_time": "2025-04-28T07:49:06.175742Z",
     "start_time": "2025-04-28T07:49:06.174128Z"
    }
   },
   "cell_type": "code",
   "source": [
    "#Write another code to return all the days of the week where  over 9 hours of work were achieved.\n",
    "days_over_9_hours = days[hours_worked > 9]\n",
    "\n",
    "print(\"Days with over 9 hours worked:\", days_over_9_hours)"
   ],
   "id": "d1d620febb594c0a",
   "outputs": [
    {
     "name": "stdout",
     "output_type": "stream",
     "text": [
      "Days with over 9 hours worked: ['wed' 'thu']\n"
     ]
    }
   ],
   "execution_count": 1161
  },
  {
   "metadata": {},
   "cell_type": "markdown",
   "source": [
    "### Day 11\n",
    "Preprocessing, Analysis and Visualization\n",
    "\n",
    "As part of data preprocessing, you have to identify different\n",
    "types in the array. You may be required to create subarrays\n",
    "of a specific data type in order to carry out, for example,\n",
    "mathematical operations and visualization."
   ],
   "id": "a1ca3e9423d84cb4"
  },
  {
   "metadata": {
    "ExecuteTime": {
     "end_time": "2025-04-28T07:49:06.189977Z",
     "start_time": "2025-04-28T07:49:06.188451Z"
    }
   },
   "cell_type": "code",
   "source": "list1 = [\"34\", \"name\", \"45\", \"is\", \"100\"]",
   "id": "7a99d579d1388270",
   "outputs": [],
   "execution_count": 1162
  },
  {
   "metadata": {
    "ExecuteTime": {
     "end_time": "2025-04-28T07:49:06.203717Z",
     "start_time": "2025-04-28T07:49:06.201697Z"
    }
   },
   "cell_type": "code",
   "source": [
    "#Using NumPy, create an array using the list above. Write a code to check how many non-numeric elements are in the list.\n",
    "array11 = np.array(list1)\n",
    "\n",
    "non_numeric_count  = np.sum(~np.char.isnumeric(array11))\n",
    "non_numeric_count"
   ],
   "id": "a5c6704aa6145739",
   "outputs": [
    {
     "data": {
      "text/plain": [
       "np.int64(2)"
      ]
     },
     "execution_count": 1163,
     "metadata": {},
     "output_type": "execute_result"
    }
   ],
   "execution_count": 1163
  },
  {
   "metadata": {
    "ExecuteTime": {
     "end_time": "2025-04-28T07:49:06.227546Z",
     "start_time": "2025-04-28T07:49:06.225538Z"
    }
   },
   "cell_type": "code",
   "source": [
    "#Using NumPy, write code to sum all the numeric elements in the list.\n",
    "numeric_sum  = np.sum(array11[np.char.isnumeric(array11)].astype(int))\n",
    "numeric_sum"
   ],
   "id": "6fb7c5641996e071",
   "outputs": [
    {
     "data": {
      "text/plain": [
       "np.int64(179)"
      ]
     },
     "execution_count": 1164,
     "metadata": {},
     "output_type": "execute_result"
    }
   ],
   "execution_count": 1164
  },
  {
   "metadata": {
    "ExecuteTime": {
     "end_time": "2025-04-28T07:49:06.255534Z",
     "start_time": "2025-04-28T07:49:06.253364Z"
    }
   },
   "cell_type": "code",
   "source": [
    "#Using NumPy, write code to square all the numeric elements in the array you created in question 1. Return an array of squared elements.\n",
    "squared_elements = np.char.isnumeric(array11)\n",
    "squared_array = np.square(array11[squared_elements].astype(int))\n",
    "squared_array"
   ],
   "id": "d122e17df5173f75",
   "outputs": [
    {
     "data": {
      "text/plain": [
       "array([ 1156,  2025, 10000])"
      ]
     },
     "execution_count": 1165,
     "metadata": {},
     "output_type": "execute_result"
    }
   ],
   "execution_count": 1165
  },
  {
   "metadata": {
    "ExecuteTime": {
     "end_time": "2025-04-28T07:49:06.470377Z",
     "start_time": "2025-04-28T07:49:06.279829Z"
    }
   },
   "cell_type": "code",
   "source": [
    "#Using NumPy, create an array using the lists above. Each list must be a row in the array. Your array must have 3 rows and 10 columns. To visualize the correlation between attendance and the final_exam_score, create a scatter plot using Matplotlib. Set the final exam score the x-axis and attendance as the y-axis of your scatter plot. Use the NumPy array you just created as the source of your data for the plot.b. By visualizing your scatter plot (question 4a), what final score was the outlier of the data?\n",
    "\n",
    "attendance = [90, 85, 88, 92, 70, 95, 100, 85, 60, 80]\n",
    "final_exam_score = [85, 80, 78, 90, 50, 88, 95, 82, 40, 75]\n",
    "other_metric = [10, 20, 15, 25, 5, 30, 35, 20, 10, 15]\n",
    "\n",
    "data = np.array([attendance, final_exam_score, other_metric])\n",
    "\n",
    "# Scatter plot\n",
    "plt.scatter(data[1], data[0], color='blue', label='Attendance vs Final Exam Score')\n",
    "plt.xlabel(\"Final Exam Score\")\n",
    "plt.ylabel(\"Attendance\")\n",
    "plt.title(\"Scatter Plot: Attendance vs Final Exam Score\")\n",
    "plt.legend()\n",
    "plt.grid(True)\n",
    "plt.show()"
   ],
   "id": "98db328f4c23989",
   "outputs": [
    {
     "data": {
      "text/plain": [
       "<Figure size 200x200 with 1 Axes>"
      ],
      "image/png": "[encoded data removed]"
     },
     "metadata": {},
     "output_type": "display_data"
    }
   ],
   "execution_count": 1166
  },
  {
   "metadata": {},
   "cell_type": "markdown",
   "source": [
    "### Day 12\n",
    " Array Sorting and Filtering\n",
    "\n",
    "The skill to sort arrays in ascending or descending order\n",
    "and filter arrays to include only elements that meet certain\n",
    "criteria is a useful skill for organizing data or identifying\n",
    "patterns in the data. These skills will be tested with the\n",
    "challenges below:"
   ],
   "id": "a11d326de135ebe7"
  },
  {
   "metadata": {
    "ExecuteTime": {
     "end_time": "2025-04-28T07:49:06.484081Z",
     "start_time": "2025-04-28T07:49:06.482610Z"
    }
   },
   "cell_type": "code",
   "source": "list1 = [[12, 34, 56], [12, 13, 8,], [6, 5, 10]]",
   "id": "249f8929018f3b11",
   "outputs": [],
   "execution_count": 1167
  },
  {
   "metadata": {
    "ExecuteTime": {
     "end_time": "2025-04-28T07:49:06.497580Z",
     "start_time": "2025-04-28T07:49:06.495542Z"
    }
   },
   "cell_type": "code",
   "source": [
    "#Create an array using the list above. Write code to sort the array in ascending order: first sort by columns, then by rows. Create a new variable for each of the sorted arrays.\n",
    "\n",
    "array12 = np.array(list1)\n",
    "array12"
   ],
   "id": "2f92ba32f70d4a52",
   "outputs": [
    {
     "data": {
      "text/plain": [
       "array([[12, 34, 56],\n",
       "       [12, 13,  8],\n",
       "       [ 6,  5, 10]])"
      ]
     },
     "execution_count": 1168,
     "metadata": {},
     "output_type": "execute_result"
    }
   ],
   "execution_count": 1168
  },
  {
   "metadata": {
    "ExecuteTime": {
     "end_time": "2025-04-28T07:49:06.523843Z",
     "start_time": "2025-04-28T07:49:06.521670Z"
    }
   },
   "cell_type": "code",
   "source": [
    "sorted_array12_columns = np.sort(array12, axis=0) #By columns\n",
    "sorted_array12_columns\n"
   ],
   "id": "f5bf44a7b822ac57",
   "outputs": [
    {
     "data": {
      "text/plain": [
       "array([[ 6,  5,  8],\n",
       "       [12, 13, 10],\n",
       "       [12, 34, 56]])"
      ]
     },
     "execution_count": 1169,
     "metadata": {},
     "output_type": "execute_result"
    }
   ],
   "execution_count": 1169
  },
  {
   "metadata": {
    "ExecuteTime": {
     "end_time": "2025-04-28T07:49:06.562805Z",
     "start_time": "2025-04-28T07:49:06.560963Z"
    }
   },
   "cell_type": "code",
   "source": [
    "sorted_array12_rows = np.sort(array12, axis=1) #By columns\n",
    "sorted_array12_rows"
   ],
   "id": "43cf8df94e7502ca",
   "outputs": [
    {
     "data": {
      "text/plain": [
       "array([[12, 34, 56],\n",
       "       [ 8, 12, 13],\n",
       "       [ 5,  6, 10]])"
      ]
     },
     "execution_count": 1170,
     "metadata": {},
     "output_type": "execute_result"
    }
   ],
   "execution_count": 1170
  },
  {
   "metadata": {
    "ExecuteTime": {
     "end_time": "2025-04-28T07:49:06.615674Z",
     "start_time": "2025-04-28T07:49:06.613789Z"
    }
   },
   "cell_type": "code",
   "source": [
    "#Using NumPy slicing, write a code that slices these numbers in this order [8, 12, 56] from the array sorted by columns (question 1). Create a new variable.\n",
    "\n",
    "sliced_numbers = [sorted_array12_columns[0, 2], sorted_array12_columns[1, 0], sorted_array12_columns[2, 2]]\n",
    "sliced_numbers\n",
    "\n",
    "\n"
   ],
   "id": "bb53644397c9e560",
   "outputs": [
    {
     "data": {
      "text/plain": [
       "[np.int64(8), np.int64(12), np.int64(56)]"
      ]
     },
     "execution_count": 1171,
     "metadata": {},
     "output_type": "execute_result"
    }
   ],
   "execution_count": 1171
  },
  {
   "metadata": {
    "ExecuteTime": {
     "end_time": "2025-04-28T07:49:06.657467Z",
     "start_time": "2025-04-28T07:49:06.655370Z"
    }
   },
   "cell_type": "code",
   "source": [
    "\n",
    "#  Create a 2-dimensional array of random integers between 100 and -100 in the shape (3, 3). Use the np.where()function to replace all negative values in the array with 0. Use a seed to save the random numbers generated.\n",
    "\n",
    "np.random.seed(12)\n",
    "\n",
    "array12 = np.random.randint(-100, 100, size=(3, 3))\n",
    "\n",
    "array12 = np.where(array12 < 0, 0, array12)\n",
    "\n",
    "array12\n"
   ],
   "id": "d8ee3ca4b97a2116",
   "outputs": [
    {
     "data": {
      "text/plain": [
       "array([[ 0, 55, 34],\n",
       "       [30,  0, 95],\n",
       "       [ 0, 76,  0]])"
      ]
     },
     "execution_count": 1172,
     "metadata": {},
     "output_type": "execute_result"
    }
   ],
   "execution_count": 1172
  },
  {
   "metadata": {
    "ExecuteTime": {
     "end_time": "2025-04-28T07:49:06.688297Z",
     "start_time": "2025-04-28T07:49:06.686374Z"
    }
   },
   "cell_type": "code",
   "source": [
    "# Create an array from the list above. Using the np.unique() function, return the unique elements in the array and the counts of each unique element (how many times each element appears in the list).\n",
    "\n",
    "list1 = [[12, 23, 34, 34], [13, 13, 20, 21]]\n",
    "array = np.array(list1)\n",
    "\n",
    "# Get unique elements and their counts\n",
    "unique_elements, counts = np.unique(array, return_counts=True)\n",
    "unique_elements"
   ],
   "id": "158b6d6224d00127",
   "outputs": [
    {
     "data": {
      "text/plain": [
       "array([12, 13, 20, 21, 23, 34])"
      ]
     },
     "execution_count": 1173,
     "metadata": {},
     "output_type": "execute_result"
    }
   ],
   "execution_count": 1173
  },
  {
   "metadata": {
    "ExecuteTime": {
     "end_time": "2025-04-28T07:49:06.730783Z",
     "start_time": "2025-04-28T07:49:06.729222Z"
    }
   },
   "cell_type": "code",
   "source": [
    "#Using the np.flatten() function to flatten the nested array you created in question 4.\n",
    "\n",
    "flattened_array = new_array8.flatten()\n",
    "\n",
    "print(\"Flattened Array:\", flattened_array)"
   ],
   "id": "dd5ace6a86591983",
   "outputs": [
    {
     "name": "stdout",
     "output_type": "stream",
     "text": [
      "Flattened Array: [ 1  2  3  4  5  6  7  8  9 10 11 12 13 14 15]\n"
     ]
    }
   ],
   "execution_count": 1174
  },
  {
   "metadata": {},
   "cell_type": "markdown",
   "source": [
    "### Day 13 Slicing and Analyzing Arrays\n",
    "\n",
    "In this challenge, your objective is to demonstrate your\n",
    "proficiency in creating arrays from lists and extracting\n",
    "specific information from those arrays. You have the\n",
    "following data:\n",
    "\n"
   ],
   "id": "4af7f39aea1efaa3"
  },
  {
   "metadata": {
    "ExecuteTime": {
     "end_time": "2025-04-28T07:49:06.762614Z",
     "start_time": "2025-04-28T07:49:06.760214Z"
    }
   },
   "cell_type": "code",
   "source": [
    "#Using the data above, create an array and transpose it. Thecreation of an array and transposition should be combined  into one code. The code should return a transposed array.\n",
    "names = [\"John\",\"Kelly\",\"Jos\",\"Peter\",\"Robert\",\"Piper\"]\n",
    "age = [21,21,56,44,56,96]\n",
    "gender = [\"m\",\"f\",\"m\",\"m\",\"m\",\"f\"]\n",
    "\n",
    "array13 = np.array([names,age,gender]).T\n",
    "array13"
   ],
   "id": "ea269b95055cc6d0",
   "outputs": [
    {
     "data": {
      "text/plain": [
       "array([['John', '21', 'm'],\n",
       "       ['Kelly', '21', 'f'],\n",
       "       ['Jos', '56', 'm'],\n",
       "       ['Peter', '44', 'm'],\n",
       "       ['Robert', '56', 'm'],\n",
       "       ['Piper', '96', 'f']], dtype='<U21')"
      ]
     },
     "execution_count": 1175,
     "metadata": {},
     "output_type": "execute_result"
    }
   ],
   "execution_count": 1175
  },
  {
   "metadata": {
    "ExecuteTime": {
     "end_time": "2025-04-28T07:49:06.804868Z",
     "start_time": "2025-04-28T07:49:06.802981Z"
    }
   },
   "cell_type": "code",
   "source": [
    "#Using slicing or indexing, write code to return the last row of the transposed array\n",
    "array13[5]"
   ],
   "id": "92b7f897660e096b",
   "outputs": [
    {
     "data": {
      "text/plain": [
       "array(['Piper', '96', 'f'], dtype='<U21')"
      ]
     },
     "execution_count": 1176,
     "metadata": {},
     "output_type": "execute_result"
    }
   ],
   "execution_count": 1176
  },
  {
   "metadata": {
    "ExecuteTime": {
     "end_time": "2025-04-28T07:49:06.845683Z",
     "start_time": "2025-04-28T07:49:06.843781Z"
    }
   },
   "cell_type": "code",
   "source": [
    "#Using slicing or indexing, write code to return the first two rows of the transposed array\n",
    "int(array13[3,1]) # Row 3 (Peter), Column 1 (Age)"
   ],
   "id": "2f55cdf965bc2175",
   "outputs": [
    {
     "data": {
      "text/plain": [
       "44"
      ]
     },
     "execution_count": 1177,
     "metadata": {},
     "output_type": "execute_result"
    }
   ],
   "execution_count": 1177
  },
  {
   "metadata": {
    "ExecuteTime": {
     "end_time": "2025-04-28T07:49:06.878878Z",
     "start_time": "2025-04-28T07:49:06.876752Z"
    }
   },
   "cell_type": "code",
   "source": [
    "#Write code to return an array of Kelly's age and gender using slicing\n",
    "array13[1,1:]"
   ],
   "id": "1931beb00ba5c612",
   "outputs": [
    {
     "data": {
      "text/plain": [
       "array(['21', 'f'], dtype='<U21')"
      ]
     },
     "execution_count": 1178,
     "metadata": {},
     "output_type": "execute_result"
    }
   ],
   "execution_count": 1178
  },
  {
   "metadata": {
    "ExecuteTime": {
     "end_time": "2025-04-28T07:49:06.936590Z",
     "start_time": "2025-04-28T07:49:06.906434Z"
    }
   },
   "cell_type": "code",
   "source": [
    "#One of the uses of slicing is for data visualization. Slicing is often used in data visualization to extract specific portions of a dataset for plotting. Write code to create a subarray of the ages (only ages) in the transposed array using slicing. Using Matplotlib, plot a histogram of the age array. Your graph should have an xlabel, an ylabel, and a title.\n",
    "\n",
    "# Slice the ages (column 1)\n",
    "ages = array13[:, 1].astype(int)\n",
    "\n",
    "# Plot the histogram\n",
    "plt.hist(ages, bins=5, color='skyblue', edgecolor='black')\n",
    "plt.xlabel(\"Age\")\n",
    "plt.ylabel(\"Frequency\")\n",
    "plt.title(\"Histogram of Ages\")\n",
    "plt.show()"
   ],
   "id": "cfc1202859b997fe",
   "outputs": [
    {
     "data": {
      "text/plain": [
       "<Figure size 200x200 with 1 Axes>"
      ],
      "image/png": "[encoded data removed]"
     },
     "metadata": {},
     "output_type": "display_data"
    }
   ],
   "execution_count": 1179
  },
  {
   "metadata": {},
   "cell_type": "markdown",
   "source": [
    "### Day 14:\n",
    "\n",
    "Analyze Data with NumPy Part - 1\n",
    "\n",
    "You are given the following data, which is in list format:\n",
    "Your task is to analyze and obtain insights from this data\n",
    "using NumPy (do not use pandas). Your first task is to\n",
    "create one array from the three (3) lists. You will use this\n",
    "array to answer the questions that follow."
   ],
   "id": "46f40aede47178be"
  },
  {
   "metadata": {
    "ExecuteTime": {
     "end_time": "2025-04-28T07:49:06.949599Z",
     "start_time": "2025-04-28T07:49:06.948035Z"
    }
   },
   "cell_type": "code",
   "source": [
    "names = [\"Kelly\",\"Ben\",\"Jack\",\"Muhammad\",\"Jose\",\"Liz\"]\n",
    "grades = [45,65,75,35,85,40]\n",
    "clasess = [\"a\",\"c\",\"e\",\"g\",\"e\",\"f\"]"
   ],
   "id": "9cdafb5c500b82ca",
   "outputs": [],
   "execution_count": 1180
  },
  {
   "metadata": {
    "ExecuteTime": {
     "end_time": "2025-04-28T07:49:06.962989Z",
     "start_time": "2025-04-28T07:49:06.960759Z"
    }
   },
   "cell_type": "code",
   "source": [
    "#Using NumPy, write code that returns all the names and the number of students from class \"e\" who got over 50 marks.\n",
    "names = np.array([\"Kelly\", \"Ben\", \"Jack\", \"Muhammad\", \"Jose\", \"Liz\"])\n",
    "grades = np.array([45, 65, 75, 35, 85, 40])\n",
    "clasess = np.array([\"a\", \"c\", \"e\", \"g\", \"e\", \"f\"])\n",
    "\n",
    "# Boolean indexing to filter students from class \"e\" with grades > 50\n",
    "filter_condition = (clasess == \"e\") & (grades > 50)\n",
    "filtered_names = names[filter_condition]\n",
    "number_of_students = np.sum(filter_condition)\n",
    "\n",
    "print(\"Nombres de los estudiantes:\", filtered_names)\n",
    "print(\"Número de estudiantes:\", number_of_students)"
   ],
   "id": "8c6f22b87eaf211f",
   "outputs": [
    {
     "name": "stdout",
     "output_type": "stream",
     "text": [
      "Nombres de los estudiantes: ['Jack' 'Jose']\n",
      "Número de estudiantes: 2\n"
     ]
    }
   ],
   "execution_count": 1181
  },
  {
   "metadata": {
    "ExecuteTime": {
     "end_time": "2025-04-28T07:49:06.979520Z",
     "start_time": "2025-04-28T07:49:06.977360Z"
    }
   },
   "cell_type": "code",
   "source": [
    "#Your next task is to write a code that returns all the students who got less than 75 marks.\n",
    "filter_student = grades<75\n",
    "filter_names = names[filter_student]\n",
    "filter_names"
   ],
   "id": "24f6f8143ca1895e",
   "outputs": [
    {
     "data": {
      "text/plain": [
       "array(['Kelly', 'Ben', 'Muhammad', 'Liz'], dtype='<U8')"
      ]
     },
     "execution_count": 1182,
     "metadata": {},
     "output_type": "execute_result"
    }
   ],
   "execution_count": 1182
  },
  {
   "metadata": {
    "ExecuteTime": {
     "end_time": "2025-04-28T07:49:06.998527Z",
     "start_time": "2025-04-28T07:49:06.996776Z"
    }
   },
   "cell_type": "code",
   "source": [
    "#Write code that returns how many marks a student named Liz got\n",
    "# Find the index of the student named Liz\n",
    "liz_index = np.where(names == \"Liz\")[0][0]\n",
    "\n",
    "# Get the marks of Liz using the index\n",
    "liz_marks = grades[liz_index]\n",
    "\n",
    "print(\"Marks obtained by Liz:\", liz_marks)"
   ],
   "id": "cef5377e48a20941",
   "outputs": [
    {
     "name": "stdout",
     "output_type": "stream",
     "text": [
      "Marks obtained by Liz: 40\n"
     ]
    }
   ],
   "execution_count": 1183
  },
  {
   "metadata": {
    "ExecuteTime": {
     "end_time": "2025-04-28T07:49:07.021556Z",
     "start_time": "2025-04-28T07:49:07.019926Z"
    }
   },
   "cell_type": "code",
   "source": [
    "#Which student got the highest marks?\n",
    "highest_marks_index=np.argmax(grades)\n",
    "\n",
    "student_with_highest_marks = names[highest_marks_index]\n",
    "\n",
    "print(\"Student with the highest marks:\", student_with_highest_marks)"
   ],
   "id": "9caa99506101d4ec",
   "outputs": [
    {
     "name": "stdout",
     "output_type": "stream",
     "text": [
      "Student with the highest marks: Jose\n"
     ]
    }
   ],
   "execution_count": 1184
  },
  {
   "metadata": {
    "ExecuteTime": {
     "end_time": "2025-04-28T07:49:07.043144Z",
     "start_time": "2025-04-28T07:49:07.041477Z"
    }
   },
   "cell_type": "code",
   "source": [
    "#What is the longest name in the array, and what is its index?\n",
    "longest_name = max(names, key=len)\n",
    "longest_name_index = np.where(names == longest_name)[0][0]\n",
    "\n",
    "print(\"Longest name:\", longest_name)\n",
    "print(\"Index of the longest name:\", longest_name_index)"
   ],
   "id": "2933a13f7241c16e",
   "outputs": [
    {
     "name": "stdout",
     "output_type": "stream",
     "text": [
      "Longest name: Muhammad\n",
      "Index of the longest name: 3\n"
     ]
    }
   ],
   "execution_count": 1185
  },
  {
   "metadata": {},
   "cell_type": "markdown",
   "source": [
    "### Day 15\n",
    "Analyse Data with NumPy Part - 2\n",
    "\n",
    "For this challenge, you are going to work with the data\n",
    "below. You are going to use NumPy functionality to answer\n",
    "questions using this data. This challenge will test your\n",
    "ability to use slicing to extract specific columns or rows of\n",
    "the data and perform operations on them. You will import\n",
    "a CSV file called names_age_sex_data."
   ],
   "id": "bc624c1fa5e3a2e8"
  },
  {
   "metadata": {
    "ExecuteTime": {
     "end_time": "2025-04-28T07:49:07.076903Z",
     "start_time": "2025-04-28T07:49:07.075033Z"
    }
   },
   "cell_type": "code",
   "source": [
    "array15 = np.array([\n",
    "    ['Name', 'Sex', 'Age'],\n",
    "    ['Grace', 'Male', '18'],\n",
    "    ['Charlie', 'Female', '60'],\n",
    "    ['Olivia', 'Female', '27'],\n",
    "    ['Frank', 'Male', '55']\n",
    "])\n",
    "array15"
   ],
   "id": "7e63f244569367f8",
   "outputs": [
    {
     "data": {
      "text/plain": [
       "array([['Name', 'Sex', 'Age'],\n",
       "       ['Grace', 'Male', '18'],\n",
       "       ['Charlie', 'Female', '60'],\n",
       "       ['Olivia', 'Female', '27'],\n",
       "       ['Frank', 'Male', '55']], dtype='<U7')"
      ]
     },
     "execution_count": 1186,
     "metadata": {},
     "output_type": "execute_result"
    }
   ],
   "execution_count": 1186
  },
  {
   "metadata": {
    "ExecuteTime": {
     "end_time": "2025-04-28T07:49:07.099978Z",
     "start_time": "2025-04-28T07:49:07.098114Z"
    }
   },
   "cell_type": "code",
   "source": [
    "array15_transpose = array15.T\n",
    "array15_transpose"
   ],
   "id": "23d32bc87f71d2cd",
   "outputs": [
    {
     "data": {
      "text/plain": [
       "array([['Name', 'Grace', 'Charlie', 'Olivia', 'Frank'],\n",
       "       ['Sex', 'Male', 'Female', 'Female', 'Male'],\n",
       "       ['Age', '18', '60', '27', '55']], dtype='<U7')"
      ]
     },
     "execution_count": 1187,
     "metadata": {},
     "output_type": "execute_result"
    }
   ],
   "execution_count": 1187
  },
  {
   "metadata": {
    "ExecuteTime": {
     "end_time": "2025-04-28T07:49:07.145659Z",
     "start_time": "2025-04-28T07:49:07.143853Z"
    }
   },
   "cell_type": "code",
   "source": [
    "#Using slicing, create three arrays: an array of all the names in the column, an array of the age column,and an array of the gender (sex) column\n",
    "\n",
    "names = array15[1:, 0]  # All rows except the header, column 0\n",
    "ages = array15[1:, 2]   # All rows except the header, column 2\n",
    "genders = array15[1:, 1]  # All rows except the header, column 1\n",
    "\n",
    "print(\"Names:\", names)\n",
    "print(\"Ages:\", ages)\n",
    "print(\"Genders:\", genders)"
   ],
   "id": "a5e9497cb5959a3a",
   "outputs": [
    {
     "name": "stdout",
     "output_type": "stream",
     "text": [
      "Names: ['Grace' 'Charlie' 'Olivia' 'Frank']\n",
      "Ages: ['18' '60' '27' '55']\n",
      "Genders: ['Male' 'Female' 'Female' 'Male']\n"
     ]
    }
   ],
   "execution_count": 1188
  },
  {
   "metadata": {
    "ExecuteTime": {
     "end_time": "2025-04-28T07:49:07.190024Z",
     "start_time": "2025-04-28T07:49:07.188386Z"
    }
   },
   "cell_type": "code",
   "source": [
    "#Using NumPy, write code that returns all the names of people who are 56 years old.\n",
    "age_filter = array15[1:, 2] == '56'\n",
    "names_56_years_old = array15[1:, 0][age_filter]\n",
    "\n",
    "print(\"Names of people who are 56 years old:\", names_56_years_old)"
   ],
   "id": "1c34436c37585f1b",
   "outputs": [
    {
     "name": "stdout",
     "output_type": "stream",
     "text": [
      "Names of people who are 56 years old: []\n"
     ]
    }
   ],
   "execution_count": 1189
  },
  {
   "metadata": {
    "ExecuteTime": {
     "end_time": "2025-04-28T07:49:07.238967Z",
     "start_time": "2025-04-28T07:49:07.237296Z"
    }
   },
   "cell_type": "code",
   "source": [
    "# How many people are aged 44 or under?\n",
    "ages = array15[1:, 2].astype(int)\n",
    "\n",
    "# Filter ages 44 or under and count them\n",
    "count_44_or_under = np.sum(ages <= 44)\n",
    "\n",
    "print(\"Number of people aged 44 or under:\", count_44_or_under)"
   ],
   "id": "f9853ae93cd1bb10",
   "outputs": [
    {
     "name": "stdout",
     "output_type": "stream",
     "text": [
      "Number of people aged 44 or under: 2\n"
     ]
    }
   ],
   "execution_count": 1190
  },
  {
   "metadata": {
    "ExecuteTime": {
     "end_time": "2025-04-28T07:49:07.255684Z",
     "start_time": "2025-04-28T07:49:07.253909Z"
    }
   },
   "cell_type": "code",
   "source": [
    "# Write another code snippet to return an array of all the males in the dataset. How many males are in the dataset?\n",
    "male_filter = array15[1:, 1] == 'Male'\n",
    "males = array15[1:, 0][male_filter]\n",
    "\n",
    "# Count the number of males\n",
    "male_count = np.sum(male_filter)\n",
    "\n",
    "print(\"Array of all males:\", males)\n",
    "print(\"Number of males in the dataset:\", male_count)"
   ],
   "id": "d1b51949eff1b150",
   "outputs": [
    {
     "name": "stdout",
     "output_type": "stream",
     "text": [
      "Array of all males: ['Grace' 'Frank']\n",
      "Number of males in the dataset: 2\n"
     ]
    }
   ],
   "execution_count": 1191
  },
  {
   "metadata": {
    "ExecuteTime": {
     "end_time": "2025-04-28T07:49:07.281769Z",
     "start_time": "2025-04-28T07:49:07.279887Z"
    }
   },
   "cell_type": "code",
   "source": [
    "#Calculate the average age of all the females in the table.\n",
    "female_filter = array15[1:, 1] == 'Female'\n",
    "female_ages = array15[1:, 2][female_filter].astype(int)\n",
    "\n",
    "# Calculate the average age\n",
    "average_female_age = np.mean(female_ages)\n",
    "\n",
    "print(\"Average age of all females:\", average_female_age)"
   ],
   "id": "2286d21fc1e1f8fe",
   "outputs": [
    {
     "name": "stdout",
     "output_type": "stream",
     "text": [
      "Average age of all females: 43.5\n"
     ]
    }
   ],
   "execution_count": 1192
  },
  {
   "metadata": {
    "ExecuteTime": {
     "end_time": "2025-04-28T07:49:07.307372Z",
     "start_time": "2025-04-28T07:49:07.305475Z"
    }
   },
   "cell_type": "code",
   "source": [
    "# Calculate the average age of people named Olivia and Kate\n",
    "name_filter = np.isin(array15[1:, 0], ['Olivia', 'Kate'])\n",
    "filtered_ages = array15[1:, 2][name_filter].astype(int)\n",
    "\n",
    "# Calculate the average age\n",
    "if filtered_ages.size > 0:\n",
    "    average_age = np.mean(filtered_ages)\n",
    "    print(\"Average age of people named Olivia and Kate:\", average_age)\n",
    "else:\n",
    "    print(\"No data available for people named Olivia and Kate.\")"
   ],
   "id": "d185e434a9e0d9d1",
   "outputs": [
    {
     "name": "stdout",
     "output_type": "stream",
     "text": [
      "Average age of people named Olivia and Kate: 27.0\n"
     ]
    }
   ],
   "execution_count": 1193
  },
  {
   "metadata": {},
   "cell_type": "markdown",
   "source": [
    "### Day 16  Pandas Series Analysis\n",
    "\n",
    "In the challenges below, you will create and analyze a\n",
    "pandas Serie and create a DataFrame from a pandas Series.\n",
    "You will use the data below to answer the challenges."
   ],
   "id": "b9807d23c478cebd"
  },
  {
   "metadata": {
    "ExecuteTime": {
     "end_time": "2025-04-28T07:49:07.343347Z",
     "start_time": "2025-04-28T07:49:07.339060Z"
    }
   },
   "cell_type": "code",
   "source": [
    "list1 = [\"wood\",\"red\",\"red\",\"white\",\"blue\",\"red\"]\n",
    "\n",
    "#Using pandas, create a pandas Series from the list above. Write a code to find how many times each item appears in the list\n",
    "\n",
    "serie16 = pd.Series(list1,name=\"color\")\n",
    "serie16.value_counts()"
   ],
   "id": "fa9ad10471d081f8",
   "outputs": [
    {
     "data": {
      "text/plain": [
       "color\n",
       "red      3\n",
       "wood     1\n",
       "white    1\n",
       "blue     1\n",
       "Name: count, dtype: int64"
      ]
     },
     "execution_count": 1194,
     "metadata": {},
     "output_type": "execute_result"
    }
   ],
   "execution_count": 1194
  },
  {
   "metadata": {
    "ExecuteTime": {
     "end_time": "2025-04-28T07:49:07.367459Z",
     "start_time": "2025-04-28T07:49:07.365697Z"
    }
   },
   "cell_type": "code",
   "source": [
    "#Using pandas, write code to check if red, white, or black are in the Series\n",
    "presence = {color: color in  serie16.values for color in [\"red\",\"white\",\"black\"]}\n",
    "print(presence)"
   ],
   "id": "8029f3180ac07a81",
   "outputs": [
    {
     "name": "stdout",
     "output_type": "stream",
     "text": [
      "{'red': True, 'white': True, 'black': False}\n"
     ]
    }
   ],
   "execution_count": 1195
  },
  {
   "metadata": {
    "ExecuteTime": {
     "end_time": "2025-04-28T07:49:07.410077Z",
     "start_time": "2025-04-28T07:49:07.407896Z"
    }
   },
   "cell_type": "code",
   "source": [
    "#Using pandas, write code to return all unique values from the Series\n",
    "serie16.unique()"
   ],
   "id": "a9d52eaf9c2cdf97",
   "outputs": [
    {
     "data": {
      "text/plain": [
       "array(['wood', 'red', 'white', 'blue'], dtype=object)"
      ]
     },
     "execution_count": 1196,
     "metadata": {},
     "output_type": "execute_result"
    }
   ],
   "execution_count": 1196
  },
  {
   "metadata": {
    "ExecuteTime": {
     "end_time": "2025-04-28T07:49:07.469204Z",
     "start_time": "2025-04-28T07:49:07.465294Z"
    }
   },
   "cell_type": "code",
   "source": [
    "# Using the pandas update() method, write code to update the Series you created in question 1. Add green and orange to the series. The color green will be at index 0, and orange will be at index 2.\n",
    "serie16.update(pd.Series([\"green\",\"orange\"], index = [0,2]))\n",
    "serie16"
   ],
   "id": "404df356c5616065",
   "outputs": [
    {
     "data": {
      "text/plain": [
       "0     green\n",
       "1       red\n",
       "2    orange\n",
       "3     white\n",
       "4      blue\n",
       "5       red\n",
       "Name: color, dtype: object"
      ]
     },
     "execution_count": 1197,
     "metadata": {},
     "output_type": "execute_result"
    }
   ],
   "execution_count": 1197
  },
  {
   "metadata": {
    "ExecuteTime": {
     "end_time": "2025-04-28T07:49:07.495775Z",
     "start_time": "2025-04-28T07:49:07.493436Z"
    }
   },
   "cell_type": "code",
   "source": [
    "#Write code to check the number of dimensions of your updated Series (question 4).\n",
    "serie16.shape"
   ],
   "id": "4044f94fc9d76f97",
   "outputs": [
    {
     "data": {
      "text/plain": [
       "(6,)"
      ]
     },
     "execution_count": 1198,
     "metadata": {},
     "output_type": "execute_result"
    }
   ],
   "execution_count": 1198
  },
  {
   "metadata": {
    "ExecuteTime": {
     "end_time": "2025-04-28T07:49:07.536659Z",
     "start_time": "2025-04-28T07:49:07.534569Z"
    }
   },
   "cell_type": "code",
   "source": [
    "#Write another line of code to convert the Series into a DataFrame. Your DataFrame should have one column of colors. Check the shape and number of dimensions of your DataFrame. Your DataFrame must have a shape of (6, 1).\n",
    "color_df = serie16.to_frame()\n",
    "color_df.shape"
   ],
   "id": "52d7c68a3240f496",
   "outputs": [
    {
     "data": {
      "text/plain": [
       "(6, 1)"
      ]
     },
     "execution_count": 1199,
     "metadata": {},
     "output_type": "execute_result"
    }
   ],
   "execution_count": 1199
  },
  {
   "metadata": {},
   "cell_type": "markdown",
   "source": [
    "### Day 17 Creating and Modifying DataFrames\n",
    "\n",
    "Creating and modifying DataFrame is an essential skill for\n",
    "data analysts because it allows them to efficiently clean,\n",
    "transform, analyze, and report on data. It is a foundational\n",
    "skill that is used in many data-related tasks and workflows.\n",
    "In the challenges below, you will create and modify\n",
    "DataFrames."
   ],
   "id": "92825128f62c23e"
  },
  {
   "metadata": {
    "ExecuteTime": {
     "end_time": "2025-04-28T07:49:07.565802Z",
     "start_time": "2025-04-28T07:49:07.564227Z"
    }
   },
   "cell_type": "code",
   "source": "list1 = [[1, 2, 3], [4, 5, 6], [7, 8, 9]]",
   "id": "3370658a9828ab3",
   "outputs": [],
   "execution_count": 1200
  },
  {
   "metadata": {
    "ExecuteTime": {
     "end_time": "2025-04-28T07:49:07.589594Z",
     "start_time": "2025-04-28T07:49:07.586588Z"
    }
   },
   "cell_type": "code",
   "source": [
    "#Create a DataFrame from the list above with three columns [A, B, C].\n",
    "df17 = pd.DataFrame(list1, columns=[\"A\",\"B\",\"C\"])\n",
    "df17"
   ],
   "id": "33cb7c7d17dd43d",
   "outputs": [
    {
     "data": {
      "text/plain": [
       "   A  B  C\n",
       "0  1  2  3\n",
       "1  4  5  6\n",
       "2  7  8  9"
      ],
      "text/html": [
       "<div>\n",
       "<style scoped>\n",
       "    .dataframe tbody tr th:only-of-type {\n",
       "        vertical-align: middle;\n",
       "    }\n",
       "\n",
       "    .dataframe tbody tr th {\n",
       "        vertical-align: top;\n",
       "    }\n",
       "\n",
       "    .dataframe thead th {\n",
       "        text-align: right;\n",
       "    }\n",
       "</style>\n",
       "<table border=\"1\" class=\"dataframe\">\n",
       "  <thead>\n",
       "    <tr style=\"text-align: right;\">\n",
       "      <th></th>\n",
       "      <th>A</th>\n",
       "      <th>B</th>\n",
       "      <th>C</th>\n",
       "    </tr>\n",
       "  </thead>\n",
       "  <tbody>\n",
       "    <tr>\n",
       "      <th>0</th>\n",
       "      <td>1</td>\n",
       "      <td>2</td>\n",
       "      <td>3</td>\n",
       "    </tr>\n",
       "    <tr>\n",
       "      <th>1</th>\n",
       "      <td>4</td>\n",
       "      <td>5</td>\n",
       "      <td>6</td>\n",
       "    </tr>\n",
       "    <tr>\n",
       "      <th>2</th>\n",
       "      <td>7</td>\n",
       "      <td>8</td>\n",
       "      <td>9</td>\n",
       "    </tr>\n",
       "  </tbody>\n",
       "</table>\n",
       "</div>"
      ]
     },
     "execution_count": 1201,
     "metadata": {},
     "output_type": "execute_result"
    }
   ],
   "execution_count": 1201
  },
  {
   "metadata": {
    "ExecuteTime": {
     "end_time": "2025-04-28T07:49:07.625421Z",
     "start_time": "2025-04-28T07:49:07.623483Z"
    }
   },
   "cell_type": "code",
   "source": [
    "#Using the pandas .at attribute access the number 9 from your DataFrame.\n",
    "print(df17.at[2,\"C\"]) #Set value at specified row/column pair"
   ],
   "id": "f0f366c17bc38098",
   "outputs": [
    {
     "name": "stdout",
     "output_type": "stream",
     "text": [
      "9\n"
     ]
    }
   ],
   "execution_count": 1202
  },
  {
   "metadata": {
    "ExecuteTime": {
     "end_time": "2025-04-28T07:49:07.670357Z",
     "start_time": "2025-04-28T07:49:07.668094Z"
    }
   },
   "cell_type": "code",
   "source": [
    "\n",
    "##Write another code using the .at attribute to change the number 9 to 10.\n",
    "df17.at[2, 'C'] = 10\n",
    "df17.at[2,\"C\"]"
   ],
   "id": "8c6f25baa5032b62",
   "outputs": [
    {
     "data": {
      "text/plain": [
       "np.int64(10)"
      ]
     },
     "execution_count": 1203,
     "metadata": {},
     "output_type": "execute_result"
    }
   ],
   "execution_count": 1203
  },
  {
   "metadata": {
    "ExecuteTime": {
     "end_time": "2025-04-28T07:49:07.697867Z",
     "start_time": "2025-04-28T07:49:07.694222Z"
    }
   },
   "cell_type": "code",
   "source": [
    "# Create a DataFrame using the data below\n",
    "names = [\"John\",\"Mary\",\"Peter\"]\n",
    "age = [27,34,47]\n",
    "sex = [\"male\",\"female\",\"female\"]\n",
    "\n",
    "data = {\"Name\": names,\n",
    "        \"Age\":age,\n",
    "        \"Sex\": sex}\n",
    "#Creating the DF\n",
    "new_df17  = pd.DataFrame(data)\n",
    "new_df17\n",
    "\n",
    "\n"
   ],
   "id": "3eecbc504bd29c9d",
   "outputs": [
    {
     "data": {
      "text/plain": [
       "    Name  Age     Sex\n",
       "0   John   27    male\n",
       "1   Mary   34  female\n",
       "2  Peter   47  female"
      ],
      "text/html": [
       "<div>\n",
       "<style scoped>\n",
       "    .dataframe tbody tr th:only-of-type {\n",
       "        vertical-align: middle;\n",
       "    }\n",
       "\n",
       "    .dataframe tbody tr th {\n",
       "        vertical-align: top;\n",
       "    }\n",
       "\n",
       "    .dataframe thead th {\n",
       "        text-align: right;\n",
       "    }\n",
       "</style>\n",
       "<table border=\"1\" class=\"dataframe\">\n",
       "  <thead>\n",
       "    <tr style=\"text-align: right;\">\n",
       "      <th></th>\n",
       "      <th>Name</th>\n",
       "      <th>Age</th>\n",
       "      <th>Sex</th>\n",
       "    </tr>\n",
       "  </thead>\n",
       "  <tbody>\n",
       "    <tr>\n",
       "      <th>0</th>\n",
       "      <td>John</td>\n",
       "      <td>27</td>\n",
       "      <td>male</td>\n",
       "    </tr>\n",
       "    <tr>\n",
       "      <th>1</th>\n",
       "      <td>Mary</td>\n",
       "      <td>34</td>\n",
       "      <td>female</td>\n",
       "    </tr>\n",
       "    <tr>\n",
       "      <th>2</th>\n",
       "      <td>Peter</td>\n",
       "      <td>47</td>\n",
       "      <td>female</td>\n",
       "    </tr>\n",
       "  </tbody>\n",
       "</table>\n",
       "</div>"
      ]
     },
     "execution_count": 1204,
     "metadata": {},
     "output_type": "execute_result"
    }
   ],
   "execution_count": 1204
  },
  {
   "metadata": {
    "ExecuteTime": {
     "end_time": "2025-04-28T07:49:07.736662Z",
     "start_time": "2025-04-28T07:49:07.734586Z"
    }
   },
   "cell_type": "code",
   "source": [
    "# Using the .loc attribute, access the age of John from the DF (loc is based on a label) by row or column\n",
    "\n",
    "new_df17.loc[0,[\"Age\"]]"
   ],
   "id": "23dcc18a4ac120e5",
   "outputs": [
    {
     "data": {
      "text/plain": [
       "Age    27\n",
       "Name: 0, dtype: object"
      ]
     },
     "execution_count": 1205,
     "metadata": {},
     "output_type": "execute_result"
    }
   ],
   "execution_count": 1205
  },
  {
   "metadata": {
    "ExecuteTime": {
     "end_time": "2025-04-28T07:49:07.774220Z",
     "start_time": "2025-04-28T07:49:07.771703Z"
    }
   },
   "cell_type": "code",
   "source": [
    "#Using the .loc attribute change the gender of Peter from \"female\" to \"male.\n",
    "new_df17.loc[2,\"Sex\"] = \"male\"\n",
    "new_df17"
   ],
   "id": "e66151c1f091d975",
   "outputs": [
    {
     "data": {
      "text/plain": [
       "    Name  Age     Sex\n",
       "0   John   27    male\n",
       "1   Mary   34  female\n",
       "2  Peter   47    male"
      ],
      "text/html": [
       "<div>\n",
       "<style scoped>\n",
       "    .dataframe tbody tr th:only-of-type {\n",
       "        vertical-align: middle;\n",
       "    }\n",
       "\n",
       "    .dataframe tbody tr th {\n",
       "        vertical-align: top;\n",
       "    }\n",
       "\n",
       "    .dataframe thead th {\n",
       "        text-align: right;\n",
       "    }\n",
       "</style>\n",
       "<table border=\"1\" class=\"dataframe\">\n",
       "  <thead>\n",
       "    <tr style=\"text-align: right;\">\n",
       "      <th></th>\n",
       "      <th>Name</th>\n",
       "      <th>Age</th>\n",
       "      <th>Sex</th>\n",
       "    </tr>\n",
       "  </thead>\n",
       "  <tbody>\n",
       "    <tr>\n",
       "      <th>0</th>\n",
       "      <td>John</td>\n",
       "      <td>27</td>\n",
       "      <td>male</td>\n",
       "    </tr>\n",
       "    <tr>\n",
       "      <th>1</th>\n",
       "      <td>Mary</td>\n",
       "      <td>34</td>\n",
       "      <td>female</td>\n",
       "    </tr>\n",
       "    <tr>\n",
       "      <th>2</th>\n",
       "      <td>Peter</td>\n",
       "      <td>47</td>\n",
       "      <td>male</td>\n",
       "    </tr>\n",
       "  </tbody>\n",
       "</table>\n",
       "</div>"
      ]
     },
     "execution_count": 1206,
     "metadata": {},
     "output_type": "execute_result"
    }
   ],
   "execution_count": 1206
  },
  {
   "metadata": {
    "ExecuteTime": {
     "end_time": "2025-04-28T07:49:07.831282Z",
     "start_time": "2025-04-28T07:49:07.827915Z"
    }
   },
   "cell_type": "code",
   "source": [
    "#Write code to extract a subset of the DataFrame containing only male individuals. Write another code to retrieve the name and age of the oldest male from the modified DataFrame\n",
    "filtered_df17= new_df17[new_df17[\"Sex\"]==\"male\"]\n",
    "filtered_df17"
   ],
   "id": "63351cb6773378fc",
   "outputs": [
    {
     "data": {
      "text/plain": [
       "    Name  Age   Sex\n",
       "0   John   27  male\n",
       "2  Peter   47  male"
      ],
      "text/html": [
       "<div>\n",
       "<style scoped>\n",
       "    .dataframe tbody tr th:only-of-type {\n",
       "        vertical-align: middle;\n",
       "    }\n",
       "\n",
       "    .dataframe tbody tr th {\n",
       "        vertical-align: top;\n",
       "    }\n",
       "\n",
       "    .dataframe thead th {\n",
       "        text-align: right;\n",
       "    }\n",
       "</style>\n",
       "<table border=\"1\" class=\"dataframe\">\n",
       "  <thead>\n",
       "    <tr style=\"text-align: right;\">\n",
       "      <th></th>\n",
       "      <th>Name</th>\n",
       "      <th>Age</th>\n",
       "      <th>Sex</th>\n",
       "    </tr>\n",
       "  </thead>\n",
       "  <tbody>\n",
       "    <tr>\n",
       "      <th>0</th>\n",
       "      <td>John</td>\n",
       "      <td>27</td>\n",
       "      <td>male</td>\n",
       "    </tr>\n",
       "    <tr>\n",
       "      <th>2</th>\n",
       "      <td>Peter</td>\n",
       "      <td>47</td>\n",
       "      <td>male</td>\n",
       "    </tr>\n",
       "  </tbody>\n",
       "</table>\n",
       "</div>"
      ]
     },
     "execution_count": 1207,
     "metadata": {},
     "output_type": "execute_result"
    }
   ],
   "execution_count": 1207
  },
  {
   "metadata": {
    "ExecuteTime": {
     "end_time": "2025-04-28T07:49:07.883983Z",
     "start_time": "2025-04-28T07:49:07.881588Z"
    }
   },
   "cell_type": "code",
   "source": [
    "#Write another code to retrieve the name and age of the oldest male from the modified DataFrame\n",
    "oldest_male = filtered_df17.loc[filtered_df17['Age'].idxmax(), ['Name', 'Age']]\n",
    "\n",
    "oldest_male\n"
   ],
   "id": "c1be09dc9793b9bb",
   "outputs": [
    {
     "data": {
      "text/plain": [
       "Name    Peter\n",
       "Age        47\n",
       "Name: 2, dtype: object"
      ]
     },
     "execution_count": 1208,
     "metadata": {},
     "output_type": "execute_result"
    }
   ],
   "execution_count": 1208
  },
  {
   "metadata": {},
   "cell_type": "markdown",
   "source": [
    "### Day 18: Runners Data Analysis –Part 1\n",
    "\n",
    "In this challenge, you will import the \"running_data\" dataset, which is a CSV file."
   ],
   "id": "4409b95e4454db2a"
  },
  {
   "metadata": {
    "ExecuteTime": {
     "end_time": "2025-04-28T07:49:07.935345Z",
     "start_time": "2025-04-28T07:49:07.931080Z"
    }
   },
   "cell_type": "code",
   "source": [
    "# Import the running_data dataset above.\n",
    "running_data = pd.read_csv(\"Data/running_data.csv\")\n",
    "running_data.head()"
   ],
   "id": "8691bb6c41be4d0d",
   "outputs": [
    {
     "data": {
      "text/plain": [
       "    Name  Distance (km)  Time (hours)\n",
       "0  Wendy           9.10          4.24\n",
       "1   Yara           8.61          4.16\n",
       "2  Grace           7.17          2.94\n",
       "3  Grace           6.36          2.78\n",
       "4  David           7.96          3.46"
      ],
      "text/html": [
       "<div>\n",
       "<style scoped>\n",
       "    .dataframe tbody tr th:only-of-type {\n",
       "        vertical-align: middle;\n",
       "    }\n",
       "\n",
       "    .dataframe tbody tr th {\n",
       "        vertical-align: top;\n",
       "    }\n",
       "\n",
       "    .dataframe thead th {\n",
       "        text-align: right;\n",
       "    }\n",
       "</style>\n",
       "<table border=\"1\" class=\"dataframe\">\n",
       "  <thead>\n",
       "    <tr style=\"text-align: right;\">\n",
       "      <th></th>\n",
       "      <th>Name</th>\n",
       "      <th>Distance (km)</th>\n",
       "      <th>Time (hours)</th>\n",
       "    </tr>\n",
       "  </thead>\n",
       "  <tbody>\n",
       "    <tr>\n",
       "      <th>0</th>\n",
       "      <td>Wendy</td>\n",
       "      <td>9.10</td>\n",
       "      <td>4.24</td>\n",
       "    </tr>\n",
       "    <tr>\n",
       "      <th>1</th>\n",
       "      <td>Yara</td>\n",
       "      <td>8.61</td>\n",
       "      <td>4.16</td>\n",
       "    </tr>\n",
       "    <tr>\n",
       "      <th>2</th>\n",
       "      <td>Grace</td>\n",
       "      <td>7.17</td>\n",
       "      <td>2.94</td>\n",
       "    </tr>\n",
       "    <tr>\n",
       "      <th>3</th>\n",
       "      <td>Grace</td>\n",
       "      <td>6.36</td>\n",
       "      <td>2.78</td>\n",
       "    </tr>\n",
       "    <tr>\n",
       "      <th>4</th>\n",
       "      <td>David</td>\n",
       "      <td>7.96</td>\n",
       "      <td>3.46</td>\n",
       "    </tr>\n",
       "  </tbody>\n",
       "</table>\n",
       "</div>"
      ]
     },
     "execution_count": 1209,
     "metadata": {},
     "output_type": "execute_result"
    }
   ],
   "execution_count": 1209
  },
  {
   "metadata": {
    "ExecuteTime": {
     "end_time": "2025-04-28T07:49:07.991773Z",
     "start_time": "2025-04-28T07:49:07.988636Z"
    }
   },
   "cell_type": "code",
   "source": [
    "#Create a copy of the DataFrame. Add another column to the DataFrame that will convert the kilometers run into miles.\n",
    "copy_running_data = running_data\n",
    "copy_running_data[\"Distance (miles)\"] = copy_running_data[\"Distance (km)\"] /1.62\n",
    "copy_running_data.head()"
   ],
   "id": "571965d9b65aeddb",
   "outputs": [
    {
     "data": {
      "text/plain": [
       "    Name  Distance (km)  Time (hours)  Distance (miles)\n",
       "0  Wendy           9.10          4.24          5.617284\n",
       "1   Yara           8.61          4.16          5.314815\n",
       "2  Grace           7.17          2.94          4.425926\n",
       "3  Grace           6.36          2.78          3.925926\n",
       "4  David           7.96          3.46          4.913580"
      ],
      "text/html": [
       "<div>\n",
       "<style scoped>\n",
       "    .dataframe tbody tr th:only-of-type {\n",
       "        vertical-align: middle;\n",
       "    }\n",
       "\n",
       "    .dataframe tbody tr th {\n",
       "        vertical-align: top;\n",
       "    }\n",
       "\n",
       "    .dataframe thead th {\n",
       "        text-align: right;\n",
       "    }\n",
       "</style>\n",
       "<table border=\"1\" class=\"dataframe\">\n",
       "  <thead>\n",
       "    <tr style=\"text-align: right;\">\n",
       "      <th></th>\n",
       "      <th>Name</th>\n",
       "      <th>Distance (km)</th>\n",
       "      <th>Time (hours)</th>\n",
       "      <th>Distance (miles)</th>\n",
       "    </tr>\n",
       "  </thead>\n",
       "  <tbody>\n",
       "    <tr>\n",
       "      <th>0</th>\n",
       "      <td>Wendy</td>\n",
       "      <td>9.10</td>\n",
       "      <td>4.24</td>\n",
       "      <td>5.617284</td>\n",
       "    </tr>\n",
       "    <tr>\n",
       "      <th>1</th>\n",
       "      <td>Yara</td>\n",
       "      <td>8.61</td>\n",
       "      <td>4.16</td>\n",
       "      <td>5.314815</td>\n",
       "    </tr>\n",
       "    <tr>\n",
       "      <th>2</th>\n",
       "      <td>Grace</td>\n",
       "      <td>7.17</td>\n",
       "      <td>2.94</td>\n",
       "      <td>4.425926</td>\n",
       "    </tr>\n",
       "    <tr>\n",
       "      <th>3</th>\n",
       "      <td>Grace</td>\n",
       "      <td>6.36</td>\n",
       "      <td>2.78</td>\n",
       "      <td>3.925926</td>\n",
       "    </tr>\n",
       "    <tr>\n",
       "      <th>4</th>\n",
       "      <td>David</td>\n",
       "      <td>7.96</td>\n",
       "      <td>3.46</td>\n",
       "      <td>4.913580</td>\n",
       "    </tr>\n",
       "  </tbody>\n",
       "</table>\n",
       "</div>"
      ]
     },
     "execution_count": 1210,
     "metadata": {},
     "output_type": "execute_result"
    }
   ],
   "execution_count": 1210
  },
  {
   "metadata": {
    "ExecuteTime": {
     "end_time": "2025-04-28T07:49:08.042543Z",
     "start_time": "2025-04-28T07:49:08.039436Z"
    }
   },
   "cell_type": "code",
   "source": [
    "#Add another column to the DataFrame to calculate the speed per hour in kilometer\n",
    "copy_running_data[\"Speed (km/hour)\"] = copy_running_data[\"Distance (km)\"] / copy_running_data[\"Time (hours)\"]\n",
    "copy_running_data.head()"
   ],
   "id": "790c7425b9afe508",
   "outputs": [
    {
     "data": {
      "text/plain": [
       "    Name  Distance (km)  Time (hours)  Distance (miles)  Speed (km/hour)\n",
       "0  Wendy           9.10          4.24          5.617284         2.146226\n",
       "1   Yara           8.61          4.16          5.314815         2.069712\n",
       "2  Grace           7.17          2.94          4.425926         2.438776\n",
       "3  Grace           6.36          2.78          3.925926         2.287770\n",
       "4  David           7.96          3.46          4.913580         2.300578"
      ],
      "text/html": [
       "<div>\n",
       "<style scoped>\n",
       "    .dataframe tbody tr th:only-of-type {\n",
       "        vertical-align: middle;\n",
       "    }\n",
       "\n",
       "    .dataframe tbody tr th {\n",
       "        vertical-align: top;\n",
       "    }\n",
       "\n",
       "    .dataframe thead th {\n",
       "        text-align: right;\n",
       "    }\n",
       "</style>\n",
       "<table border=\"1\" class=\"dataframe\">\n",
       "  <thead>\n",
       "    <tr style=\"text-align: right;\">\n",
       "      <th></th>\n",
       "      <th>Name</th>\n",
       "      <th>Distance (km)</th>\n",
       "      <th>Time (hours)</th>\n",
       "      <th>Distance (miles)</th>\n",
       "      <th>Speed (km/hour)</th>\n",
       "    </tr>\n",
       "  </thead>\n",
       "  <tbody>\n",
       "    <tr>\n",
       "      <th>0</th>\n",
       "      <td>Wendy</td>\n",
       "      <td>9.10</td>\n",
       "      <td>4.24</td>\n",
       "      <td>5.617284</td>\n",
       "      <td>2.146226</td>\n",
       "    </tr>\n",
       "    <tr>\n",
       "      <th>1</th>\n",
       "      <td>Yara</td>\n",
       "      <td>8.61</td>\n",
       "      <td>4.16</td>\n",
       "      <td>5.314815</td>\n",
       "      <td>2.069712</td>\n",
       "    </tr>\n",
       "    <tr>\n",
       "      <th>2</th>\n",
       "      <td>Grace</td>\n",
       "      <td>7.17</td>\n",
       "      <td>2.94</td>\n",
       "      <td>4.425926</td>\n",
       "      <td>2.438776</td>\n",
       "    </tr>\n",
       "    <tr>\n",
       "      <th>3</th>\n",
       "      <td>Grace</td>\n",
       "      <td>6.36</td>\n",
       "      <td>2.78</td>\n",
       "      <td>3.925926</td>\n",
       "      <td>2.287770</td>\n",
       "    </tr>\n",
       "    <tr>\n",
       "      <th>4</th>\n",
       "      <td>David</td>\n",
       "      <td>7.96</td>\n",
       "      <td>3.46</td>\n",
       "      <td>4.913580</td>\n",
       "      <td>2.300578</td>\n",
       "    </tr>\n",
       "  </tbody>\n",
       "</table>\n",
       "</div>"
      ]
     },
     "execution_count": 1211,
     "metadata": {},
     "output_type": "execute_result"
    }
   ],
   "execution_count": 1211
  },
  {
   "metadata": {
    "ExecuteTime": {
     "end_time": "2025-04-28T07:49:08.092171Z",
     "start_time": "2025-04-28T07:49:08.088949Z"
    }
   },
   "cell_type": "code",
   "source": [
    "runner_test = pd.read_csv(\"Data/runner_rest.csv\")\n",
    "runner_test.head()\n"
   ],
   "id": "d36061ec0f584651",
   "outputs": [
    {
     "data": {
      "text/plain": [
       "  Runners  Rest Time (Mins)\n",
       "0   Grace                45\n",
       "1   Chris                25\n",
       "2   Frank                58\n",
       "3   Alice                47\n",
       "4    Noah               105"
      ],
      "text/html": [
       "<div>\n",
       "<style scoped>\n",
       "    .dataframe tbody tr th:only-of-type {\n",
       "        vertical-align: middle;\n",
       "    }\n",
       "\n",
       "    .dataframe tbody tr th {\n",
       "        vertical-align: top;\n",
       "    }\n",
       "\n",
       "    .dataframe thead th {\n",
       "        text-align: right;\n",
       "    }\n",
       "</style>\n",
       "<table border=\"1\" class=\"dataframe\">\n",
       "  <thead>\n",
       "    <tr style=\"text-align: right;\">\n",
       "      <th></th>\n",
       "      <th>Runners</th>\n",
       "      <th>Rest Time (Mins)</th>\n",
       "    </tr>\n",
       "  </thead>\n",
       "  <tbody>\n",
       "    <tr>\n",
       "      <th>0</th>\n",
       "      <td>Grace</td>\n",
       "      <td>45</td>\n",
       "    </tr>\n",
       "    <tr>\n",
       "      <th>1</th>\n",
       "      <td>Chris</td>\n",
       "      <td>25</td>\n",
       "    </tr>\n",
       "    <tr>\n",
       "      <th>2</th>\n",
       "      <td>Frank</td>\n",
       "      <td>58</td>\n",
       "    </tr>\n",
       "    <tr>\n",
       "      <th>3</th>\n",
       "      <td>Alice</td>\n",
       "      <td>47</td>\n",
       "    </tr>\n",
       "    <tr>\n",
       "      <th>4</th>\n",
       "      <td>Noah</td>\n",
       "      <td>105</td>\n",
       "    </tr>\n",
       "  </tbody>\n",
       "</table>\n",
       "</div>"
      ]
     },
     "execution_count": 1212,
     "metadata": {},
     "output_type": "execute_result"
    }
   ],
   "execution_count": 1212
  },
  {
   "metadata": {
    "ExecuteTime": {
     "end_time": "2025-04-28T07:49:08.153423Z",
     "start_time": "2025-04-28T07:49:08.147493Z"
    }
   },
   "cell_type": "code",
   "source": [
    "#Merge this dataset into your DataFrame above. Use the pandas merge() method. Ensure to drop the \"Runners\" column since you already have the \"Names\" column.\n",
    "copy_running_data =copy_running_data.merge(runner_test,left_on=\"Name\", right_on=\"Runners\", how=\"left\")\n",
    "copy_running_data.drop(columns=[\"Runners\"])\n",
    "copy_running_data.head()"
   ],
   "id": "9997aee921ec665c",
   "outputs": [
    {
     "data": {
      "text/plain": [
       "    Name  Distance (km)  Time (hours)  Distance (miles)  Speed (km/hour)  \\\n",
       "0  Wendy           9.10          4.24          5.617284         2.146226   \n",
       "1   Yara           8.61          4.16          5.314815         2.069712   \n",
       "2  Grace           7.17          2.94          4.425926         2.438776   \n",
       "3  Grace           6.36          2.78          3.925926         2.287770   \n",
       "4  David           7.96          3.46          4.913580         2.300578   \n",
       "\n",
       "  Runners  Rest Time (Mins)  \n",
       "0     NaN               NaN  \n",
       "1     NaN               NaN  \n",
       "2   Grace              45.0  \n",
       "3   Grace              45.0  \n",
       "4     NaN               NaN  "
      ],
      "text/html": [
       "<div>\n",
       "<style scoped>\n",
       "    .dataframe tbody tr th:only-of-type {\n",
       "        vertical-align: middle;\n",
       "    }\n",
       "\n",
       "    .dataframe tbody tr th {\n",
       "        vertical-align: top;\n",
       "    }\n",
       "\n",
       "    .dataframe thead th {\n",
       "        text-align: right;\n",
       "    }\n",
       "</style>\n",
       "<table border=\"1\" class=\"dataframe\">\n",
       "  <thead>\n",
       "    <tr style=\"text-align: right;\">\n",
       "      <th></th>\n",
       "      <th>Name</th>\n",
       "      <th>Distance (km)</th>\n",
       "      <th>Time (hours)</th>\n",
       "      <th>Distance (miles)</th>\n",
       "      <th>Speed (km/hour)</th>\n",
       "      <th>Runners</th>\n",
       "      <th>Rest Time (Mins)</th>\n",
       "    </tr>\n",
       "  </thead>\n",
       "  <tbody>\n",
       "    <tr>\n",
       "      <th>0</th>\n",
       "      <td>Wendy</td>\n",
       "      <td>9.10</td>\n",
       "      <td>4.24</td>\n",
       "      <td>5.617284</td>\n",
       "      <td>2.146226</td>\n",
       "      <td>NaN</td>\n",
       "      <td>NaN</td>\n",
       "    </tr>\n",
       "    <tr>\n",
       "      <th>1</th>\n",
       "      <td>Yara</td>\n",
       "      <td>8.61</td>\n",
       "      <td>4.16</td>\n",
       "      <td>5.314815</td>\n",
       "      <td>2.069712</td>\n",
       "      <td>NaN</td>\n",
       "      <td>NaN</td>\n",
       "    </tr>\n",
       "    <tr>\n",
       "      <th>2</th>\n",
       "      <td>Grace</td>\n",
       "      <td>7.17</td>\n",
       "      <td>2.94</td>\n",
       "      <td>4.425926</td>\n",
       "      <td>2.438776</td>\n",
       "      <td>Grace</td>\n",
       "      <td>45.0</td>\n",
       "    </tr>\n",
       "    <tr>\n",
       "      <th>3</th>\n",
       "      <td>Grace</td>\n",
       "      <td>6.36</td>\n",
       "      <td>2.78</td>\n",
       "      <td>3.925926</td>\n",
       "      <td>2.287770</td>\n",
       "      <td>Grace</td>\n",
       "      <td>45.0</td>\n",
       "    </tr>\n",
       "    <tr>\n",
       "      <th>4</th>\n",
       "      <td>David</td>\n",
       "      <td>7.96</td>\n",
       "      <td>3.46</td>\n",
       "      <td>4.913580</td>\n",
       "      <td>2.300578</td>\n",
       "      <td>NaN</td>\n",
       "      <td>NaN</td>\n",
       "    </tr>\n",
       "  </tbody>\n",
       "</table>\n",
       "</div>"
      ]
     },
     "execution_count": 1213,
     "metadata": {},
     "output_type": "execute_result"
    }
   ],
   "execution_count": 1213
  },
  {
   "metadata": {
    "ExecuteTime": {
     "end_time": "2025-04-28T07:49:08.204685Z",
     "start_time": "2025-04-28T07:49:08.201270Z"
    }
   },
   "cell_type": "code",
   "source": [
    "#Now we are going to use the pandas apply() method to convert the \"Rest Time (Mins)\" column into hours.\n",
    "\n",
    "copy_running_data [\"Rest Time (Mins)\"] = copy_running_data[\"Rest Time (Mins)\"].apply(lambda  x: x/60 if x is not None else None)\n",
    "copy_running_data"
   ],
   "id": "4898edd50fcf84a3",
   "outputs": [
    {
     "data": {
      "text/plain": [
       "    Name  Distance (km)  Time (hours)  Distance (miles)  Speed (km/hour)  \\\n",
       "0  Wendy           9.10          4.24          5.617284         2.146226   \n",
       "1   Yara           8.61          4.16          5.314815         2.069712   \n",
       "2  Grace           7.17          2.94          4.425926         2.438776   \n",
       "3  Grace           6.36          2.78          3.925926         2.287770   \n",
       "4  David           7.96          3.46          4.913580         2.300578   \n",
       "\n",
       "  Runners  Rest Time (Mins)  \n",
       "0     NaN               NaN  \n",
       "1     NaN               NaN  \n",
       "2   Grace              0.75  \n",
       "3   Grace              0.75  \n",
       "4     NaN               NaN  "
      ],
      "text/html": [
       "<div>\n",
       "<style scoped>\n",
       "    .dataframe tbody tr th:only-of-type {\n",
       "        vertical-align: middle;\n",
       "    }\n",
       "\n",
       "    .dataframe tbody tr th {\n",
       "        vertical-align: top;\n",
       "    }\n",
       "\n",
       "    .dataframe thead th {\n",
       "        text-align: right;\n",
       "    }\n",
       "</style>\n",
       "<table border=\"1\" class=\"dataframe\">\n",
       "  <thead>\n",
       "    <tr style=\"text-align: right;\">\n",
       "      <th></th>\n",
       "      <th>Name</th>\n",
       "      <th>Distance (km)</th>\n",
       "      <th>Time (hours)</th>\n",
       "      <th>Distance (miles)</th>\n",
       "      <th>Speed (km/hour)</th>\n",
       "      <th>Runners</th>\n",
       "      <th>Rest Time (Mins)</th>\n",
       "    </tr>\n",
       "  </thead>\n",
       "  <tbody>\n",
       "    <tr>\n",
       "      <th>0</th>\n",
       "      <td>Wendy</td>\n",
       "      <td>9.10</td>\n",
       "      <td>4.24</td>\n",
       "      <td>5.617284</td>\n",
       "      <td>2.146226</td>\n",
       "      <td>NaN</td>\n",
       "      <td>NaN</td>\n",
       "    </tr>\n",
       "    <tr>\n",
       "      <th>1</th>\n",
       "      <td>Yara</td>\n",
       "      <td>8.61</td>\n",
       "      <td>4.16</td>\n",
       "      <td>5.314815</td>\n",
       "      <td>2.069712</td>\n",
       "      <td>NaN</td>\n",
       "      <td>NaN</td>\n",
       "    </tr>\n",
       "    <tr>\n",
       "      <th>2</th>\n",
       "      <td>Grace</td>\n",
       "      <td>7.17</td>\n",
       "      <td>2.94</td>\n",
       "      <td>4.425926</td>\n",
       "      <td>2.438776</td>\n",
       "      <td>Grace</td>\n",
       "      <td>0.75</td>\n",
       "    </tr>\n",
       "    <tr>\n",
       "      <th>3</th>\n",
       "      <td>Grace</td>\n",
       "      <td>6.36</td>\n",
       "      <td>2.78</td>\n",
       "      <td>3.925926</td>\n",
       "      <td>2.287770</td>\n",
       "      <td>Grace</td>\n",
       "      <td>0.75</td>\n",
       "    </tr>\n",
       "    <tr>\n",
       "      <th>4</th>\n",
       "      <td>David</td>\n",
       "      <td>7.96</td>\n",
       "      <td>3.46</td>\n",
       "      <td>4.913580</td>\n",
       "      <td>2.300578</td>\n",
       "      <td>NaN</td>\n",
       "      <td>NaN</td>\n",
       "    </tr>\n",
       "  </tbody>\n",
       "</table>\n",
       "</div>"
      ]
     },
     "execution_count": 1214,
     "metadata": {},
     "output_type": "execute_result"
    }
   ],
   "execution_count": 1214
  },
  {
   "metadata": {
    "ExecuteTime": {
     "end_time": "2025-04-28T07:49:08.261891Z",
     "start_time": "2025-04-28T07:49:08.258454Z"
    }
   },
   "cell_type": "code",
   "source": [
    "# extract a subset of the DataFrame containing runners who covered over 5 miles, we can utilize the map() method.\n",
    "over_5_miles_run = copy_running_data[copy_running_data[\"Distance (miles)\"].map(lambda x:x) >5 ].reset_index(drop=True)\n",
    "over_5_miles_run.head()"
   ],
   "id": "8a9757e3d3d04fe",
   "outputs": [
    {
     "data": {
      "text/plain": [
       "    Name  Distance (km)  Time (hours)  Distance (miles)  Speed (km/hour)  \\\n",
       "0  Wendy           9.10          4.24          5.617284         2.146226   \n",
       "1   Yara           8.61          4.16          5.314815         2.069712   \n",
       "\n",
       "  Runners  Rest Time (Mins)  \n",
       "0     NaN               NaN  \n",
       "1     NaN               NaN  "
      ],
      "text/html": [
       "<div>\n",
       "<style scoped>\n",
       "    .dataframe tbody tr th:only-of-type {\n",
       "        vertical-align: middle;\n",
       "    }\n",
       "\n",
       "    .dataframe tbody tr th {\n",
       "        vertical-align: top;\n",
       "    }\n",
       "\n",
       "    .dataframe thead th {\n",
       "        text-align: right;\n",
       "    }\n",
       "</style>\n",
       "<table border=\"1\" class=\"dataframe\">\n",
       "  <thead>\n",
       "    <tr style=\"text-align: right;\">\n",
       "      <th></th>\n",
       "      <th>Name</th>\n",
       "      <th>Distance (km)</th>\n",
       "      <th>Time (hours)</th>\n",
       "      <th>Distance (miles)</th>\n",
       "      <th>Speed (km/hour)</th>\n",
       "      <th>Runners</th>\n",
       "      <th>Rest Time (Mins)</th>\n",
       "    </tr>\n",
       "  </thead>\n",
       "  <tbody>\n",
       "    <tr>\n",
       "      <th>0</th>\n",
       "      <td>Wendy</td>\n",
       "      <td>9.10</td>\n",
       "      <td>4.24</td>\n",
       "      <td>5.617284</td>\n",
       "      <td>2.146226</td>\n",
       "      <td>NaN</td>\n",
       "      <td>NaN</td>\n",
       "    </tr>\n",
       "    <tr>\n",
       "      <th>1</th>\n",
       "      <td>Yara</td>\n",
       "      <td>8.61</td>\n",
       "      <td>4.16</td>\n",
       "      <td>5.314815</td>\n",
       "      <td>2.069712</td>\n",
       "      <td>NaN</td>\n",
       "      <td>NaN</td>\n",
       "    </tr>\n",
       "  </tbody>\n",
       "</table>\n",
       "</div>"
      ]
     },
     "execution_count": 1215,
     "metadata": {},
     "output_type": "execute_result"
    }
   ],
   "execution_count": 1215
  },
  {
   "metadata": {},
   "cell_type": "markdown",
   "source": [
    "### Day 19 Runners Data Analysis – Part 2\n",
    "\n",
    "Shuffling and merging DataFrames are essential skills for\n",
    "data analysts because they enable them to combine and\n",
    "explore data, build predictive models, and communicate\n",
    "insights through data visualization.\n",
    "\n"
   ],
   "id": "39230c4fe32bcbc8"
  },
  {
   "metadata": {
    "ExecuteTime": {
     "end_time": "2025-04-28T07:49:08.319508Z",
     "start_time": "2025-04-28T07:49:08.318175Z"
    }
   },
   "cell_type": "code",
   "source": [
    "names = [\"Joe\",\"Phil\",\"Ken\",\"Jos\",\"Luke\"]\n",
    "miles_run = [120,80,100,90,85]\n",
    "time_in_hrs = [40,38,45,50,50]\n"
   ],
   "id": "cb2b41a8f3524324",
   "outputs": [],
   "execution_count": 1216
  },
  {
   "metadata": {
    "ExecuteTime": {
     "end_time": "2025-04-28T07:49:08.377053Z",
     "start_time": "2025-04-28T07:49:08.374388Z"
    }
   },
   "cell_type": "code",
   "source": [
    "df19 = pd.DataFrame({\"Names\":names,\n",
    "                     \"Miles\":miles_run,\n",
    "                     \"TIme (hrs)\": time_in_hrs})\n",
    "\n",
    "df19"
   ],
   "id": "3d684edcbc0e5f8e",
   "outputs": [
    {
     "data": {
      "text/plain": [
       "  Names  Miles  TIme (hrs)\n",
       "0   Joe    120          40\n",
       "1  Phil     80          38\n",
       "2   Ken    100          45\n",
       "3   Jos     90          50\n",
       "4  Luke     85          50"
      ],
      "text/html": [
       "<div>\n",
       "<style scoped>\n",
       "    .dataframe tbody tr th:only-of-type {\n",
       "        vertical-align: middle;\n",
       "    }\n",
       "\n",
       "    .dataframe tbody tr th {\n",
       "        vertical-align: top;\n",
       "    }\n",
       "\n",
       "    .dataframe thead th {\n",
       "        text-align: right;\n",
       "    }\n",
       "</style>\n",
       "<table border=\"1\" class=\"dataframe\">\n",
       "  <thead>\n",
       "    <tr style=\"text-align: right;\">\n",
       "      <th></th>\n",
       "      <th>Names</th>\n",
       "      <th>Miles</th>\n",
       "      <th>TIme (hrs)</th>\n",
       "    </tr>\n",
       "  </thead>\n",
       "  <tbody>\n",
       "    <tr>\n",
       "      <th>0</th>\n",
       "      <td>Joe</td>\n",
       "      <td>120</td>\n",
       "      <td>40</td>\n",
       "    </tr>\n",
       "    <tr>\n",
       "      <th>1</th>\n",
       "      <td>Phil</td>\n",
       "      <td>80</td>\n",
       "      <td>38</td>\n",
       "    </tr>\n",
       "    <tr>\n",
       "      <th>2</th>\n",
       "      <td>Ken</td>\n",
       "      <td>100</td>\n",
       "      <td>45</td>\n",
       "    </tr>\n",
       "    <tr>\n",
       "      <th>3</th>\n",
       "      <td>Jos</td>\n",
       "      <td>90</td>\n",
       "      <td>50</td>\n",
       "    </tr>\n",
       "    <tr>\n",
       "      <th>4</th>\n",
       "      <td>Luke</td>\n",
       "      <td>85</td>\n",
       "      <td>50</td>\n",
       "    </tr>\n",
       "  </tbody>\n",
       "</table>\n",
       "</div>"
      ]
     },
     "execution_count": 1217,
     "metadata": {},
     "output_type": "execute_result"
    }
   ],
   "execution_count": 1217
  },
  {
   "metadata": {
    "ExecuteTime": {
     "end_time": "2025-04-28T07:49:08.422666Z",
     "start_time": "2025-04-28T07:49:08.419179Z"
    }
   },
   "cell_type": "code",
   "source": [
    "names = [\"Joe\",\"Phil\",\"Ken\",\"Jos\",\"Luke\"]\n",
    "age = [45,28,21,55,62]\n",
    "gender = [\"M\",\"M\",\"F\",\"F\",\"M\"]\n",
    "\n",
    "new_df19 = pd.DataFrame({\"Names\":names,\n",
    "                     \"Age\":age,\n",
    "                     \"Gender\": gender})\n",
    "\n",
    "new_df19.head()\n",
    "\n"
   ],
   "id": "c3382818c2f65a2c",
   "outputs": [
    {
     "data": {
      "text/plain": [
       "  Names  Age Gender\n",
       "0   Joe   45      M\n",
       "1  Phil   28      M\n",
       "2   Ken   21      F\n",
       "3   Jos   55      F\n",
       "4  Luke   62      M"
      ],
      "text/html": [
       "<div>\n",
       "<style scoped>\n",
       "    .dataframe tbody tr th:only-of-type {\n",
       "        vertical-align: middle;\n",
       "    }\n",
       "\n",
       "    .dataframe tbody tr th {\n",
       "        vertical-align: top;\n",
       "    }\n",
       "\n",
       "    .dataframe thead th {\n",
       "        text-align: right;\n",
       "    }\n",
       "</style>\n",
       "<table border=\"1\" class=\"dataframe\">\n",
       "  <thead>\n",
       "    <tr style=\"text-align: right;\">\n",
       "      <th></th>\n",
       "      <th>Names</th>\n",
       "      <th>Age</th>\n",
       "      <th>Gender</th>\n",
       "    </tr>\n",
       "  </thead>\n",
       "  <tbody>\n",
       "    <tr>\n",
       "      <th>0</th>\n",
       "      <td>Joe</td>\n",
       "      <td>45</td>\n",
       "      <td>M</td>\n",
       "    </tr>\n",
       "    <tr>\n",
       "      <th>1</th>\n",
       "      <td>Phil</td>\n",
       "      <td>28</td>\n",
       "      <td>M</td>\n",
       "    </tr>\n",
       "    <tr>\n",
       "      <th>2</th>\n",
       "      <td>Ken</td>\n",
       "      <td>21</td>\n",
       "      <td>F</td>\n",
       "    </tr>\n",
       "    <tr>\n",
       "      <th>3</th>\n",
       "      <td>Jos</td>\n",
       "      <td>55</td>\n",
       "      <td>F</td>\n",
       "    </tr>\n",
       "    <tr>\n",
       "      <th>4</th>\n",
       "      <td>Luke</td>\n",
       "      <td>62</td>\n",
       "      <td>M</td>\n",
       "    </tr>\n",
       "  </tbody>\n",
       "</table>\n",
       "</div>"
      ]
     },
     "execution_count": 1218,
     "metadata": {},
     "output_type": "execute_result"
    }
   ],
   "execution_count": 1218
  },
  {
   "metadata": {
    "ExecuteTime": {
     "end_time": "2025-04-28T07:49:08.477352Z",
     "start_time": "2025-04-28T07:49:08.474385Z"
    }
   },
   "cell_type": "code",
   "source": [
    "merge_df19 = pd.concat([df19,new_df19.drop(columns=\"Names\")], axis=1)\n",
    "merge_df19"
   ],
   "id": "244a59fd96e0dd0a",
   "outputs": [
    {
     "data": {
      "text/plain": [
       "  Names  Miles  TIme (hrs)  Age Gender\n",
       "0   Joe    120          40   45      M\n",
       "1  Phil     80          38   28      M\n",
       "2   Ken    100          45   21      F\n",
       "3   Jos     90          50   55      F\n",
       "4  Luke     85          50   62      M"
      ],
      "text/html": [
       "<div>\n",
       "<style scoped>\n",
       "    .dataframe tbody tr th:only-of-type {\n",
       "        vertical-align: middle;\n",
       "    }\n",
       "\n",
       "    .dataframe tbody tr th {\n",
       "        vertical-align: top;\n",
       "    }\n",
       "\n",
       "    .dataframe thead th {\n",
       "        text-align: right;\n",
       "    }\n",
       "</style>\n",
       "<table border=\"1\" class=\"dataframe\">\n",
       "  <thead>\n",
       "    <tr style=\"text-align: right;\">\n",
       "      <th></th>\n",
       "      <th>Names</th>\n",
       "      <th>Miles</th>\n",
       "      <th>TIme (hrs)</th>\n",
       "      <th>Age</th>\n",
       "      <th>Gender</th>\n",
       "    </tr>\n",
       "  </thead>\n",
       "  <tbody>\n",
       "    <tr>\n",
       "      <th>0</th>\n",
       "      <td>Joe</td>\n",
       "      <td>120</td>\n",
       "      <td>40</td>\n",
       "      <td>45</td>\n",
       "      <td>M</td>\n",
       "    </tr>\n",
       "    <tr>\n",
       "      <th>1</th>\n",
       "      <td>Phil</td>\n",
       "      <td>80</td>\n",
       "      <td>38</td>\n",
       "      <td>28</td>\n",
       "      <td>M</td>\n",
       "    </tr>\n",
       "    <tr>\n",
       "      <th>2</th>\n",
       "      <td>Ken</td>\n",
       "      <td>100</td>\n",
       "      <td>45</td>\n",
       "      <td>21</td>\n",
       "      <td>F</td>\n",
       "    </tr>\n",
       "    <tr>\n",
       "      <th>3</th>\n",
       "      <td>Jos</td>\n",
       "      <td>90</td>\n",
       "      <td>50</td>\n",
       "      <td>55</td>\n",
       "      <td>F</td>\n",
       "    </tr>\n",
       "    <tr>\n",
       "      <th>4</th>\n",
       "      <td>Luke</td>\n",
       "      <td>85</td>\n",
       "      <td>50</td>\n",
       "      <td>62</td>\n",
       "      <td>M</td>\n",
       "    </tr>\n",
       "  </tbody>\n",
       "</table>\n",
       "</div>"
      ]
     },
     "execution_count": 1219,
     "metadata": {},
     "output_type": "execute_result"
    }
   ],
   "execution_count": 1219
  },
  {
   "metadata": {
    "ExecuteTime": {
     "end_time": "2025-04-28T07:49:08.537394Z",
     "start_time": "2025-04-28T07:49:08.534229Z"
    }
   },
   "cell_type": "code",
   "source": [
    "\n",
    "#Shuffling DataFrames can randomize the data. Write codeto reshuffle the index of the DataFrame.\n",
    "\n",
    "shuffled_df = merge_df19.sample(frac=1).reset_index(drop=True)\n",
    "shuffled_df.head()"
   ],
   "id": "a57041bfde41f40f",
   "outputs": [
    {
     "data": {
      "text/plain": [
       "  Names  Miles  TIme (hrs)  Age Gender\n",
       "0   Jos     90          50   55      F\n",
       "1   Ken    100          45   21      F\n",
       "2  Luke     85          50   62      M\n",
       "3   Joe    120          40   45      M\n",
       "4  Phil     80          38   28      M"
      ],
      "text/html": [
       "<div>\n",
       "<style scoped>\n",
       "    .dataframe tbody tr th:only-of-type {\n",
       "        vertical-align: middle;\n",
       "    }\n",
       "\n",
       "    .dataframe tbody tr th {\n",
       "        vertical-align: top;\n",
       "    }\n",
       "\n",
       "    .dataframe thead th {\n",
       "        text-align: right;\n",
       "    }\n",
       "</style>\n",
       "<table border=\"1\" class=\"dataframe\">\n",
       "  <thead>\n",
       "    <tr style=\"text-align: right;\">\n",
       "      <th></th>\n",
       "      <th>Names</th>\n",
       "      <th>Miles</th>\n",
       "      <th>TIme (hrs)</th>\n",
       "      <th>Age</th>\n",
       "      <th>Gender</th>\n",
       "    </tr>\n",
       "  </thead>\n",
       "  <tbody>\n",
       "    <tr>\n",
       "      <th>0</th>\n",
       "      <td>Jos</td>\n",
       "      <td>90</td>\n",
       "      <td>50</td>\n",
       "      <td>55</td>\n",
       "      <td>F</td>\n",
       "    </tr>\n",
       "    <tr>\n",
       "      <th>1</th>\n",
       "      <td>Ken</td>\n",
       "      <td>100</td>\n",
       "      <td>45</td>\n",
       "      <td>21</td>\n",
       "      <td>F</td>\n",
       "    </tr>\n",
       "    <tr>\n",
       "      <th>2</th>\n",
       "      <td>Luke</td>\n",
       "      <td>85</td>\n",
       "      <td>50</td>\n",
       "      <td>62</td>\n",
       "      <td>M</td>\n",
       "    </tr>\n",
       "    <tr>\n",
       "      <th>3</th>\n",
       "      <td>Joe</td>\n",
       "      <td>120</td>\n",
       "      <td>40</td>\n",
       "      <td>45</td>\n",
       "      <td>M</td>\n",
       "    </tr>\n",
       "    <tr>\n",
       "      <th>4</th>\n",
       "      <td>Phil</td>\n",
       "      <td>80</td>\n",
       "      <td>38</td>\n",
       "      <td>28</td>\n",
       "      <td>M</td>\n",
       "    </tr>\n",
       "  </tbody>\n",
       "</table>\n",
       "</div>"
      ]
     },
     "execution_count": 1220,
     "metadata": {},
     "output_type": "execute_result"
    }
   ],
   "execution_count": 1220
  },
  {
   "metadata": {
    "ExecuteTime": {
     "end_time": "2025-04-28T07:49:08.587716Z",
     "start_time": "2025-04-28T07:49:08.586292Z"
    }
   },
   "cell_type": "code",
   "source": "# Explain why it may be important to reshuffle the index of the data for machine learning",
   "id": "50faa42a593e2ded",
   "outputs": [],
   "execution_count": 1221
  },
  {
   "metadata": {},
   "cell_type": "markdown",
   "source": [
    "In machine learning, reshuffling (randomizing) the data — including resetting the index — is very important because:\n",
    "\n",
    "Prevents learning patterns based on order:\n",
    "If your data is sorted (e.g., by date, customer ID, or label), a model might accidentally learn patterns that are not real. Shuffling breaks that order and forces the model to learn from the features, not the sequence.\n",
    "\n",
    "Improves generalization:\n",
    "By training on a randomly ordered dataset, the model becomes better at generalizing to new, unseen data — which is the goal of machine learning.\n",
    "\n",
    "Fairness when splitting data:\n",
    "When you split your data into training and test sets (or cross-validation folds), randomizing ensures that each set is representative of the overall data, not just a particular group.\n",
    "\n",
    "Avoids overfitting to sequence-specific artifacts:\n",
    "Without shuffling, a model might overfit to patterns that only exist because of how the data is ordered, not because of true underlying relationships."
   ],
   "id": "a9970094286939cc"
  },
  {
   "metadata": {
    "ExecuteTime": {
     "end_time": "2025-04-28T07:49:08.633614Z",
     "start_time": "2025-04-28T07:49:08.630088Z"
    }
   },
   "cell_type": "code",
   "source": [
    "#To reshape a DataFrame from a wide format to a long format, we can use the melt() function in pandas.\n",
    "df_set_long = shuffled_df.melt(id_vars=[\"Names\"],\n",
    "                              var_name=\"Variable\",\n",
    "                              value_name=\"Values\")\n",
    "\n",
    "df_set_long"
   ],
   "id": "d4571aecaffc563a",
   "outputs": [
    {
     "data": {
      "text/plain": [
       "   Names    Variable Values\n",
       "0    Jos       Miles     90\n",
       "1    Ken       Miles    100\n",
       "2   Luke       Miles     85\n",
       "3    Joe       Miles    120\n",
       "4   Phil       Miles     80\n",
       "5    Jos  TIme (hrs)     50\n",
       "6    Ken  TIme (hrs)     45\n",
       "7   Luke  TIme (hrs)     50\n",
       "8    Joe  TIme (hrs)     40\n",
       "9   Phil  TIme (hrs)     38\n",
       "10   Jos         Age     55\n",
       "11   Ken         Age     21\n",
       "12  Luke         Age     62\n",
       "13   Joe         Age     45\n",
       "14  Phil         Age     28\n",
       "15   Jos      Gender      F\n",
       "16   Ken      Gender      F\n",
       "17  Luke      Gender      M\n",
       "18   Joe      Gender      M\n",
       "19  Phil      Gender      M"
      ],
      "text/html": [
       "<div>\n",
       "<style scoped>\n",
       "    .dataframe tbody tr th:only-of-type {\n",
       "        vertical-align: middle;\n",
       "    }\n",
       "\n",
       "    .dataframe tbody tr th {\n",
       "        vertical-align: top;\n",
       "    }\n",
       "\n",
       "    .dataframe thead th {\n",
       "        text-align: right;\n",
       "    }\n",
       "</style>\n",
       "<table border=\"1\" class=\"dataframe\">\n",
       "  <thead>\n",
       "    <tr style=\"text-align: right;\">\n",
       "      <th></th>\n",
       "      <th>Names</th>\n",
       "      <th>Variable</th>\n",
       "      <th>Values</th>\n",
       "    </tr>\n",
       "  </thead>\n",
       "  <tbody>\n",
       "    <tr>\n",
       "      <th>0</th>\n",
       "      <td>Jos</td>\n",
       "      <td>Miles</td>\n",
       "      <td>90</td>\n",
       "    </tr>\n",
       "    <tr>\n",
       "      <th>1</th>\n",
       "      <td>Ken</td>\n",
       "      <td>Miles</td>\n",
       "      <td>100</td>\n",
       "    </tr>\n",
       "    <tr>\n",
       "      <th>2</th>\n",
       "      <td>Luke</td>\n",
       "      <td>Miles</td>\n",
       "      <td>85</td>\n",
       "    </tr>\n",
       "    <tr>\n",
       "      <th>3</th>\n",
       "      <td>Joe</td>\n",
       "      <td>Miles</td>\n",
       "      <td>120</td>\n",
       "    </tr>\n",
       "    <tr>\n",
       "      <th>4</th>\n",
       "      <td>Phil</td>\n",
       "      <td>Miles</td>\n",
       "      <td>80</td>\n",
       "    </tr>\n",
       "    <tr>\n",
       "      <th>5</th>\n",
       "      <td>Jos</td>\n",
       "      <td>TIme (hrs)</td>\n",
       "      <td>50</td>\n",
       "    </tr>\n",
       "    <tr>\n",
       "      <th>6</th>\n",
       "      <td>Ken</td>\n",
       "      <td>TIme (hrs)</td>\n",
       "      <td>45</td>\n",
       "    </tr>\n",
       "    <tr>\n",
       "      <th>7</th>\n",
       "      <td>Luke</td>\n",
       "      <td>TIme (hrs)</td>\n",
       "      <td>50</td>\n",
       "    </tr>\n",
       "    <tr>\n",
       "      <th>8</th>\n",
       "      <td>Joe</td>\n",
       "      <td>TIme (hrs)</td>\n",
       "      <td>40</td>\n",
       "    </tr>\n",
       "    <tr>\n",
       "      <th>9</th>\n",
       "      <td>Phil</td>\n",
       "      <td>TIme (hrs)</td>\n",
       "      <td>38</td>\n",
       "    </tr>\n",
       "    <tr>\n",
       "      <th>10</th>\n",
       "      <td>Jos</td>\n",
       "      <td>Age</td>\n",
       "      <td>55</td>\n",
       "    </tr>\n",
       "    <tr>\n",
       "      <th>11</th>\n",
       "      <td>Ken</td>\n",
       "      <td>Age</td>\n",
       "      <td>21</td>\n",
       "    </tr>\n",
       "    <tr>\n",
       "      <th>12</th>\n",
       "      <td>Luke</td>\n",
       "      <td>Age</td>\n",
       "      <td>62</td>\n",
       "    </tr>\n",
       "    <tr>\n",
       "      <th>13</th>\n",
       "      <td>Joe</td>\n",
       "      <td>Age</td>\n",
       "      <td>45</td>\n",
       "    </tr>\n",
       "    <tr>\n",
       "      <th>14</th>\n",
       "      <td>Phil</td>\n",
       "      <td>Age</td>\n",
       "      <td>28</td>\n",
       "    </tr>\n",
       "    <tr>\n",
       "      <th>15</th>\n",
       "      <td>Jos</td>\n",
       "      <td>Gender</td>\n",
       "      <td>F</td>\n",
       "    </tr>\n",
       "    <tr>\n",
       "      <th>16</th>\n",
       "      <td>Ken</td>\n",
       "      <td>Gender</td>\n",
       "      <td>F</td>\n",
       "    </tr>\n",
       "    <tr>\n",
       "      <th>17</th>\n",
       "      <td>Luke</td>\n",
       "      <td>Gender</td>\n",
       "      <td>M</td>\n",
       "    </tr>\n",
       "    <tr>\n",
       "      <th>18</th>\n",
       "      <td>Joe</td>\n",
       "      <td>Gender</td>\n",
       "      <td>M</td>\n",
       "    </tr>\n",
       "    <tr>\n",
       "      <th>19</th>\n",
       "      <td>Phil</td>\n",
       "      <td>Gender</td>\n",
       "      <td>M</td>\n",
       "    </tr>\n",
       "  </tbody>\n",
       "</table>\n",
       "</div>"
      ]
     },
     "execution_count": 1222,
     "metadata": {},
     "output_type": "execute_result"
    }
   ],
   "execution_count": 1222
  },
  {
   "metadata": {},
   "cell_type": "markdown",
   "source": [
    "### Day 20 Explore Data with Pandas and Matplotlib\n",
    "\n",
    "In this challenge, you are going to create a DataFrame that\n",
    "you will analyze with pandas, and generate visualizations\n",
    "using Matplotlib."
   ],
   "id": "41df3fdfbdbc14d5"
  },
  {
   "metadata": {
    "ExecuteTime": {
     "end_time": "2025-04-28T07:49:08.665132Z",
     "start_time": "2025-04-28T07:49:08.663250Z"
    }
   },
   "cell_type": "code",
   "source": [
    "products = [\"Sugar\",\"Salt\",\"Oil\",\"Diapers\",\"Rice\"]\n",
    "costs = [2450,1989,6745,9807,8743]\n",
    "sales = [27908,4508,6734,9976,9000]"
   ],
   "id": "dac8a21ba4e8238b",
   "outputs": [],
   "execution_count": 1223
  },
  {
   "metadata": {
    "ExecuteTime": {
     "end_time": "2025-04-28T07:49:08.695449Z",
     "start_time": "2025-04-28T07:49:08.692190Z"
    }
   },
   "cell_type": "code",
   "source": [
    "#Create a pandas DataFrame from the lists above. Find the most profitable product. Using Matplotlib, create a bar plot to visualize product profitability.\n",
    "df20 = pd.DataFrame({\"Products\":products,\n",
    "                     \"Costs\":costs,\n",
    "                     \"Sales\":sales})\n",
    "\n",
    "df20[\"Profit\"] = df20[\"Sales\"]-df20[\"Costs\"]\n",
    "df20.head()"
   ],
   "id": "12729102c0d880e7",
   "outputs": [
    {
     "data": {
      "text/plain": [
       "  Products  Costs  Sales  Profit\n",
       "0    Sugar   2450  27908   25458\n",
       "1     Salt   1989   4508    2519\n",
       "2      Oil   6745   6734     -11\n",
       "3  Diapers   9807   9976     169\n",
       "4     Rice   8743   9000     257"
      ],
      "text/html": [
       "<div>\n",
       "<style scoped>\n",
       "    .dataframe tbody tr th:only-of-type {\n",
       "        vertical-align: middle;\n",
       "    }\n",
       "\n",
       "    .dataframe tbody tr th {\n",
       "        vertical-align: top;\n",
       "    }\n",
       "\n",
       "    .dataframe thead th {\n",
       "        text-align: right;\n",
       "    }\n",
       "</style>\n",
       "<table border=\"1\" class=\"dataframe\">\n",
       "  <thead>\n",
       "    <tr style=\"text-align: right;\">\n",
       "      <th></th>\n",
       "      <th>Products</th>\n",
       "      <th>Costs</th>\n",
       "      <th>Sales</th>\n",
       "      <th>Profit</th>\n",
       "    </tr>\n",
       "  </thead>\n",
       "  <tbody>\n",
       "    <tr>\n",
       "      <th>0</th>\n",
       "      <td>Sugar</td>\n",
       "      <td>2450</td>\n",
       "      <td>27908</td>\n",
       "      <td>25458</td>\n",
       "    </tr>\n",
       "    <tr>\n",
       "      <th>1</th>\n",
       "      <td>Salt</td>\n",
       "      <td>1989</td>\n",
       "      <td>4508</td>\n",
       "      <td>2519</td>\n",
       "    </tr>\n",
       "    <tr>\n",
       "      <th>2</th>\n",
       "      <td>Oil</td>\n",
       "      <td>6745</td>\n",
       "      <td>6734</td>\n",
       "      <td>-11</td>\n",
       "    </tr>\n",
       "    <tr>\n",
       "      <th>3</th>\n",
       "      <td>Diapers</td>\n",
       "      <td>9807</td>\n",
       "      <td>9976</td>\n",
       "      <td>169</td>\n",
       "    </tr>\n",
       "    <tr>\n",
       "      <th>4</th>\n",
       "      <td>Rice</td>\n",
       "      <td>8743</td>\n",
       "      <td>9000</td>\n",
       "      <td>257</td>\n",
       "    </tr>\n",
       "  </tbody>\n",
       "</table>\n",
       "</div>"
      ]
     },
     "execution_count": 1224,
     "metadata": {},
     "output_type": "execute_result"
    }
   ],
   "execution_count": 1224
  },
  {
   "metadata": {
    "ExecuteTime": {
     "end_time": "2025-04-28T07:49:08.742574Z",
     "start_time": "2025-04-28T07:49:08.740683Z"
    }
   },
   "cell_type": "code",
   "source": [
    "#ifnd the most profitable product\n",
    "df20.loc[df20[\"Profit\"].idxmax(),\"Products\"]\n"
   ],
   "id": "2f776fb3a4f0c511",
   "outputs": [
    {
     "data": {
      "text/plain": [
       "'Sugar'"
      ]
     },
     "execution_count": 1225,
     "metadata": {},
     "output_type": "execute_result"
    }
   ],
   "execution_count": 1225
  },
  {
   "metadata": {
    "ExecuteTime": {
     "end_time": "2025-04-28T07:49:08.793463Z",
     "start_time": "2025-04-28T07:49:08.768416Z"
    }
   },
   "cell_type": "code",
   "source": [
    "#Using Matplotlib, create a bar plot to visualize product profitability\n",
    "plt.bar(df20[\"Products\"],df20[\"Profit\"])\n",
    "plt.show()"
   ],
   "id": "966a27ce530a48f6",
   "outputs": [
    {
     "data": {
      "text/plain": [
       "<Figure size 200x200 with 1 Axes>"
      ],
      "image/png": "[encoded data removed]"
     },
     "metadata": {},
     "output_type": "display_data"
    }
   ],
   "execution_count": 1226
  },
  {
   "metadata": {
    "ExecuteTime": {
     "end_time": "2025-04-28T07:49:08.803790Z",
     "start_time": "2025-04-28T07:49:08.801788Z"
    }
   },
   "cell_type": "code",
   "source": [
    "#Using just pandas, find the least profitable product\n",
    "df20.loc[df20[\"Profit\"].idxmin(),\"Products\"]"
   ],
   "id": "8c1588ad78c16e31",
   "outputs": [
    {
     "data": {
      "text/plain": [
       "'Oil'"
      ]
     },
     "execution_count": 1227,
     "metadata": {},
     "output_type": "execute_result"
    }
   ],
   "execution_count": 1227
  },
  {
   "metadata": {
    "ExecuteTime": {
     "end_time": "2025-04-28T07:49:08.830570Z",
     "start_time": "2025-04-28T07:49:08.828826Z"
    }
   },
   "cell_type": "code",
   "source": [
    "#What is the difference in profit between the most profitable item and the least profitable item?\n",
    "print(df20.loc[df20[\"Profit\"].idxmax(),\"Profit\"] - df20.loc[df20[\"Profit\"].idxmin(),\"Profit\"])\n"
   ],
   "id": "81081a03f5c401e0",
   "outputs": [
    {
     "name": "stdout",
     "output_type": "stream",
     "text": [
      "25469\n"
     ]
    }
   ],
   "execution_count": 1228
  },
  {
   "metadata": {
    "ExecuteTime": {
     "end_time": "2025-04-28T07:49:08.883752Z",
     "start_time": "2025-04-28T07:49:08.848414Z"
    }
   },
   "cell_type": "code",
   "source": [
    "#Using pandas, and Matplotlib, create a line plot of the costs and profits of all products.\n",
    "\n",
    "plt.plot(df20[\"Products\"], df20[\"Profit\"], label=\"Profit\", color=\"Yellow\")\n",
    "\n",
    "plt.plot(df20[\"Products\"], df20[\"Costs\"], label=\"Costs\")\n",
    "\n",
    "plt.legend()"
   ],
   "id": "9921137b2fdc2346",
   "outputs": [
    {
     "data": {
      "text/plain": [
       "<matplotlib.legend.Legend at 0x13aee1c40>"
      ]
     },
     "execution_count": 1229,
     "metadata": {},
     "output_type": "execute_result"
    },
    {
     "data": {
      "text/plain": [
       "<Figure size 200x200 with 1 Axes>"
      ],
      "image/png": "[encoded data removed]"
     },
     "metadata": {},
     "output_type": "display_data"
    }
   ],
   "execution_count": 1229
  },
  {
   "metadata": {
    "ExecuteTime": {
     "end_time": "2025-04-28T07:49:08.898918Z",
     "start_time": "2025-04-28T07:49:08.897271Z"
    }
   },
   "cell_type": "code",
   "source": [
    "# Average cost\n",
    "print(df20[\"Costs\"].mean())"
   ],
   "id": "37b2fa95653970b1",
   "outputs": [
    {
     "name": "stdout",
     "output_type": "stream",
     "text": [
      "5946.8\n"
     ]
    }
   ],
   "execution_count": 1230
  },
  {
   "metadata": {
    "ExecuteTime": {
     "end_time": "2025-04-28T07:49:08.919816Z",
     "start_time": "2025-04-28T07:49:08.918084Z"
    }
   },
   "cell_type": "code",
   "source": [
    "# Average Profit\n",
    "print(df20[\"Profit\"].mean())"
   ],
   "id": "71dfee9058b9306d",
   "outputs": [
    {
     "name": "stdout",
     "output_type": "stream",
     "text": [
      "5678.4\n"
     ]
    }
   ],
   "execution_count": 1231
  },
  {
   "metadata": {},
   "cell_type": "markdown",
   "source": [
    "### Day 21 Processing Data with Pandas\n",
    "For this challenge, you will import the asset_data_analysis\n",
    "file.\n"
   ],
   "id": "365472101657773e"
  },
  {
   "metadata": {
    "ExecuteTime": {
     "end_time": "2025-04-28T07:49:09.048986Z",
     "start_time": "2025-04-28T07:49:09.043310Z"
    }
   },
   "cell_type": "code",
   "source": [
    "#Import the JSON file using pandas. View the last 5 rows of the DataFrame.\n",
    "df21= pd.read_json(\"Data/asset_data_analysis.json\",lines=True)\n",
    "df21.tail(5)"
   ],
   "id": "2387baf8c22e7790",
   "outputs": [
    {
     "data": {
      "text/plain": [
       "        date products  sales  costs\n",
       "0 2021-11-07     cars  15900  10910\n",
       "1 2021-12-06    boats  12087   7087\n",
       "2 2021-12-09     cars  56897  40447\n",
       "3 2021-11-10     cars  11879   5879\n",
       "4 2021-12-06   houses  19345  13451"
      ],
      "text/html": [
       "<div>\n",
       "<style scoped>\n",
       "    .dataframe tbody tr th:only-of-type {\n",
       "        vertical-align: middle;\n",
       "    }\n",
       "\n",
       "    .dataframe tbody tr th {\n",
       "        vertical-align: top;\n",
       "    }\n",
       "\n",
       "    .dataframe thead th {\n",
       "        text-align: right;\n",
       "    }\n",
       "</style>\n",
       "<table border=\"1\" class=\"dataframe\">\n",
       "  <thead>\n",
       "    <tr style=\"text-align: right;\">\n",
       "      <th></th>\n",
       "      <th>date</th>\n",
       "      <th>products</th>\n",
       "      <th>sales</th>\n",
       "      <th>costs</th>\n",
       "    </tr>\n",
       "  </thead>\n",
       "  <tbody>\n",
       "    <tr>\n",
       "      <th>0</th>\n",
       "      <td>2021-11-07</td>\n",
       "      <td>cars</td>\n",
       "      <td>15900</td>\n",
       "      <td>10910</td>\n",
       "    </tr>\n",
       "    <tr>\n",
       "      <th>1</th>\n",
       "      <td>2021-12-06</td>\n",
       "      <td>boats</td>\n",
       "      <td>12087</td>\n",
       "      <td>7087</td>\n",
       "    </tr>\n",
       "    <tr>\n",
       "      <th>2</th>\n",
       "      <td>2021-12-09</td>\n",
       "      <td>cars</td>\n",
       "      <td>56897</td>\n",
       "      <td>40447</td>\n",
       "    </tr>\n",
       "    <tr>\n",
       "      <th>3</th>\n",
       "      <td>2021-11-10</td>\n",
       "      <td>cars</td>\n",
       "      <td>11879</td>\n",
       "      <td>5879</td>\n",
       "    </tr>\n",
       "    <tr>\n",
       "      <th>4</th>\n",
       "      <td>2021-12-06</td>\n",
       "      <td>houses</td>\n",
       "      <td>19345</td>\n",
       "      <td>13451</td>\n",
       "    </tr>\n",
       "  </tbody>\n",
       "</table>\n",
       "</div>"
      ]
     },
     "execution_count": 1232,
     "metadata": {},
     "output_type": "execute_result"
    }
   ],
   "execution_count": 1232
  },
  {
   "metadata": {
    "ExecuteTime": {
     "end_time": "2025-04-28T07:56:01.502488Z",
     "start_time": "2025-04-28T07:56:01.499211Z"
    }
   },
   "cell_type": "code",
   "source": [
    "#Using pandas, create a copy of the DataFrame and convert the \"date\" column into a pandas datetime format. Set the date as the index of the DataFrame. The \"date\" column should not be deleted when it is set as an index.\n",
    "\n",
    "df21_copy = df21\n",
    "df21_copy[\"date\"] = pd.to_datetime(df21_copy[\"date\"])\n",
    "df21_copy = df21.set_index(\"date\",drop=False)\n",
    "print(df21_copy['date'].dtype)"
   ],
   "id": "e1c28b47ee5f6f09",
   "outputs": [
    {
     "name": "stdout",
     "output_type": "stream",
     "text": [
      "datetime64[ns]\n"
     ]
    }
   ],
   "execution_count": 1243
  },
  {
   "metadata": {
    "ExecuteTime": {
     "end_time": "2025-04-28T07:57:25.878160Z",
     "start_time": "2025-04-28T07:57:25.767253Z"
    }
   },
   "cell_type": "code",
   "source": [
    "#Using Matplotlib, create a line trend plot of sales and date.\n",
    "\n",
    "df21_grouped= df21_copy.groupby(df21_copy.index).sum(numeric_only=True)\n",
    "plt.figure(figsize=(12,8))\n",
    "plt.plot(df21_grouped.index,df21_grouped.sales,color=\"Green\")\n",
    "plt.xlabel(\"date\")\n",
    "plt.ylabel(\"sales\")\n",
    "plt.title(\"Sales Trend\")\n",
    "plt.xticks(rotation=60)\n",
    "\n",
    "plt.show()"
   ],
   "id": "234b8c14483eefa5",
   "outputs": [
    {
     "data": {
      "text/plain": [
       "<Figure size 1200x800 with 1 Axes>"
      ],
      "image/png": "[encoded data removed]"
     },
     "metadata": {},
     "output_type": "display_data"
    }
   ],
   "execution_count": 1246
  },
  {
   "metadata": {
    "ExecuteTime": {
     "end_time": "2025-04-28T07:58:48.179010Z",
     "start_time": "2025-04-28T07:58:48.171348Z"
    }
   },
   "cell_type": "code",
   "source": [
    "#setting a hierarchical index of the \"date\" and \"product\" columns.\n",
    "df21_copy_2 = df21.set_index([\"date\",\"products\"])\n",
    "df21_copy_2"
   ],
   "id": "57c45513189baa68",
   "outputs": [
    {
     "data": {
      "text/plain": [
       "                     sales  costs\n",
       "date       products              \n",
       "2021-11-07 cars      15900  10910\n",
       "2021-12-06 boats     12087   7087\n",
       "2021-12-09 cars      56897  40447\n",
       "2021-11-10 cars      11879   5879\n",
       "2021-12-06 houses    19345  13451"
      ],
      "text/html": [
       "<div>\n",
       "<style scoped>\n",
       "    .dataframe tbody tr th:only-of-type {\n",
       "        vertical-align: middle;\n",
       "    }\n",
       "\n",
       "    .dataframe tbody tr th {\n",
       "        vertical-align: top;\n",
       "    }\n",
       "\n",
       "    .dataframe thead th {\n",
       "        text-align: right;\n",
       "    }\n",
       "</style>\n",
       "<table border=\"1\" class=\"dataframe\">\n",
       "  <thead>\n",
       "    <tr style=\"text-align: right;\">\n",
       "      <th></th>\n",
       "      <th></th>\n",
       "      <th>sales</th>\n",
       "      <th>costs</th>\n",
       "    </tr>\n",
       "    <tr>\n",
       "      <th>date</th>\n",
       "      <th>products</th>\n",
       "      <th></th>\n",
       "      <th></th>\n",
       "    </tr>\n",
       "  </thead>\n",
       "  <tbody>\n",
       "    <tr>\n",
       "      <th>2021-11-07</th>\n",
       "      <th>cars</th>\n",
       "      <td>15900</td>\n",
       "      <td>10910</td>\n",
       "    </tr>\n",
       "    <tr>\n",
       "      <th>2021-12-06</th>\n",
       "      <th>boats</th>\n",
       "      <td>12087</td>\n",
       "      <td>7087</td>\n",
       "    </tr>\n",
       "    <tr>\n",
       "      <th>2021-12-09</th>\n",
       "      <th>cars</th>\n",
       "      <td>56897</td>\n",
       "      <td>40447</td>\n",
       "    </tr>\n",
       "    <tr>\n",
       "      <th>2021-11-10</th>\n",
       "      <th>cars</th>\n",
       "      <td>11879</td>\n",
       "      <td>5879</td>\n",
       "    </tr>\n",
       "    <tr>\n",
       "      <th>2021-12-06</th>\n",
       "      <th>houses</th>\n",
       "      <td>19345</td>\n",
       "      <td>13451</td>\n",
       "    </tr>\n",
       "  </tbody>\n",
       "</table>\n",
       "</div>"
      ]
     },
     "execution_count": 1247,
     "metadata": {},
     "output_type": "execute_result"
    }
   ],
   "execution_count": 1247
  },
  {
   "metadata": {
    "ExecuteTime": {
     "end_time": "2025-04-28T08:02:02.404320Z",
     "start_time": "2025-04-28T08:02:02.399227Z"
    }
   },
   "cell_type": "code",
   "source": [
    "#sing the hierarchical index you set in question 4, calculate the profit of \"Houses\" on December 12, 2021\n",
    "sales_on_12=df21_copy_2.loc[([\"12-06-2021\"],\"houses\"),\"sales\"].sum()\n",
    "\n",
    "costs_on_12 = df21_copy_2.loc[([\"12-06-2021\"],\"houses\"),\"costs\"].sum()\n",
    "\n",
    "profit_on_12 = sales_on_12 - costs_on_12\n",
    "\n",
    "print(profit_on_12)"
   ],
   "id": "c0ef45ec4b1a1bb4",
   "outputs": [
    {
     "name": "stdout",
     "output_type": "stream",
     "text": [
      "5894\n"
     ]
    }
   ],
   "execution_count": 1248
  },
  {
   "metadata": {
    "ExecuteTime": {
     "end_time": "2025-04-28T08:05:00.576124Z",
     "start_time": "2025-04-28T08:05:00.571923Z"
    }
   },
   "cell_type": "code",
   "source": [
    "#Use the apply() method to apply a thousand separators to the \"sales\" and \"cost\" columns (DataFrame from question4)\n",
    "df21[['sales', 'costs']] = df21[['sales', 'costs']].apply(lambda x: x.apply(lambda y: \"{:,}\".format(y)))\n",
    "df21"
   ],
   "id": "9da577b55c897a96",
   "outputs": [
    {
     "data": {
      "text/plain": [
       "        date products   sales   costs\n",
       "0 2021-11-07     cars  15,900  10,910\n",
       "1 2021-12-06    boats  12,087   7,087\n",
       "2 2021-12-09     cars  56,897  40,447\n",
       "3 2021-11-10     cars  11,879   5,879\n",
       "4 2021-12-06   houses  19,345  13,451"
      ],
      "text/html": [
       "<div>\n",
       "<style scoped>\n",
       "    .dataframe tbody tr th:only-of-type {\n",
       "        vertical-align: middle;\n",
       "    }\n",
       "\n",
       "    .dataframe tbody tr th {\n",
       "        vertical-align: top;\n",
       "    }\n",
       "\n",
       "    .dataframe thead th {\n",
       "        text-align: right;\n",
       "    }\n",
       "</style>\n",
       "<table border=\"1\" class=\"dataframe\">\n",
       "  <thead>\n",
       "    <tr style=\"text-align: right;\">\n",
       "      <th></th>\n",
       "      <th>date</th>\n",
       "      <th>products</th>\n",
       "      <th>sales</th>\n",
       "      <th>costs</th>\n",
       "    </tr>\n",
       "  </thead>\n",
       "  <tbody>\n",
       "    <tr>\n",
       "      <th>0</th>\n",
       "      <td>2021-11-07</td>\n",
       "      <td>cars</td>\n",
       "      <td>15,900</td>\n",
       "      <td>10,910</td>\n",
       "    </tr>\n",
       "    <tr>\n",
       "      <th>1</th>\n",
       "      <td>2021-12-06</td>\n",
       "      <td>boats</td>\n",
       "      <td>12,087</td>\n",
       "      <td>7,087</td>\n",
       "    </tr>\n",
       "    <tr>\n",
       "      <th>2</th>\n",
       "      <td>2021-12-09</td>\n",
       "      <td>cars</td>\n",
       "      <td>56,897</td>\n",
       "      <td>40,447</td>\n",
       "    </tr>\n",
       "    <tr>\n",
       "      <th>3</th>\n",
       "      <td>2021-11-10</td>\n",
       "      <td>cars</td>\n",
       "      <td>11,879</td>\n",
       "      <td>5,879</td>\n",
       "    </tr>\n",
       "    <tr>\n",
       "      <th>4</th>\n",
       "      <td>2021-12-06</td>\n",
       "      <td>houses</td>\n",
       "      <td>19,345</td>\n",
       "      <td>13,451</td>\n",
       "    </tr>\n",
       "  </tbody>\n",
       "</table>\n",
       "</div>"
      ]
     },
     "execution_count": 1250,
     "metadata": {},
     "output_type": "execute_result"
    }
   ],
   "execution_count": 1250
  },
  {
   "metadata": {
    "ExecuteTime": {
     "end_time": "2025-04-28T08:05:43.544003Z",
     "start_time": "2025-04-28T08:05:43.540032Z"
    }
   },
   "cell_type": "code",
   "source": "df21[\"products\"].value_counts()",
   "id": "7676810cc0b3fd18",
   "outputs": [
    {
     "data": {
      "text/plain": [
       "products\n",
       "cars      3\n",
       "boats     1\n",
       "houses    1\n",
       "Name: count, dtype: int64"
      ]
     },
     "execution_count": 1251,
     "metadata": {},
     "output_type": "execute_result"
    }
   ],
   "execution_count": 1251
  },
  {
   "metadata": {},
   "cell_type": "code",
   "outputs": [],
   "execution_count": null,
   "source": "",
   "id": "ccabe6e723e62197"
  }
 ],
 "metadata": {
  "kernelspec": {
   "display_name": "Python 3",
   "language": "python",
   "name": "python3"
  },
  "language_info": {
   "codemirror_mode": {
    "name": "ipython",
    "version": 2
   },
   "file_extension": ".py",
   "mimetype": "text/x-python",
   "name": "python",
   "nbconvert_exporter": "python",
   "pygments_lexer": "ipython2",
   "version": "2.7.6"
  }
 },
 "nbformat": 4,
 "nbformat_minor": 5
}
