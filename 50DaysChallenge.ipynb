{
 "cells": [
  {
   "metadata": {
    "ExecuteTime": {
     "end_time": "2025-04-16T10:30:30.394232Z",
     "start_time": "2025-04-16T10:30:30.391757Z"
    }
   },
   "cell_type": "code",
   "source": [
    "import pandas as pd\n",
    "import numpy as np\n",
    "import pandas as pd\n",
    "import matplotlib.pyplot as plt\n",
    "import seaborn as sns\n"
   ],
   "id": "446b7e786c9dd872",
   "outputs": [],
   "execution_count": 80
  },
  {
   "metadata": {},
   "cell_type": "markdown",
   "source": [
    "### Day 1\n",
    "Essentials of NumPy, Pandas,\n",
    "and Matplotlib"
   ],
   "id": "40946faa01a9a54"
  },
  {
   "metadata": {},
   "cell_type": "markdown",
   "source": [
    "### Day 2\n",
    "Creating and Manipulating Arrays"
   ],
   "id": "ef8b2ac556a009be"
  },
  {
   "metadata": {
    "ExecuteTime": {
     "end_time": "2025-04-16T10:30:30.406075Z",
     "start_time": "2025-04-16T10:30:30.404165Z"
    }
   },
   "cell_type": "code",
   "source": [
    "#Write code to import NumPy into your script. Check the version of NumPy installed.\n",
    "print(\"The version of numpy is\" , np.__version__)"
   ],
   "id": "6c5b4230730863eb",
   "outputs": [
    {
     "name": "stdout",
     "output_type": "stream",
     "text": [
      "The version of numpy is 2.0.2\n"
     ]
    }
   ],
   "execution_count": 81
  },
  {
   "metadata": {
    "ExecuteTime": {
     "end_time": "2025-04-16T10:30:30.429871Z",
     "start_time": "2025-04-16T10:30:30.427767Z"
    }
   },
   "cell_type": "code",
   "source": [
    "#Here is a list below:\n",
    "list1 = [2, 3, 4, 6]\n",
    "#Create a one-dimensional array from the list above. Write another line of code to check the shape and size of your array.\n",
    "list1 = np.array(list1)\n",
    "list1.shape\n"
   ],
   "id": "19168a7848474281",
   "outputs": [
    {
     "data": {
      "text/plain": [
       "(4,)"
      ]
     },
     "execution_count": 82,
     "metadata": {},
     "output_type": "execute_result"
    }
   ],
   "execution_count": 82
  },
  {
   "metadata": {
    "ExecuteTime": {
     "end_time": "2025-04-16T10:30:30.452070Z",
     "start_time": "2025-04-16T10:30:30.450251Z"
    }
   },
   "cell_type": "code",
   "source": [
    "#Write a function that takes this array and returns a new array with all the values in the original array reversed.\n",
    "def reversed_array(list1):\n",
    "    new_array  = np.flip(list1)\n",
    "    print(new_array)\n",
    "\n",
    "reversed_array(list1)"
   ],
   "id": "c1a41eb3bc8dbe90",
   "outputs": [
    {
     "name": "stdout",
     "output_type": "stream",
     "text": [
      "[6 4 3 2]\n"
     ]
    }
   ],
   "execution_count": 83
  },
  {
   "metadata": {
    "ExecuteTime": {
     "end_time": "2025-04-16T10:30:30.468267Z",
     "start_time": "2025-04-16T10:30:30.466437Z"
    }
   },
   "cell_type": "code",
   "source": [
    "#Create an array from the two lists above. Then write code to check the shape, dimensions, and data type of the array.\n",
    "list1 = [2, 3, 4, 6]\n",
    "list2 = [8, 10, 12, 14]\n",
    "\n",
    "new_array = np.array([list1,list2])\n",
    "\n",
    "print(\"Shape of the array:\", new_array.shape)\n",
    "print(\"Number of dimensions:\", new_array.ndim)\n",
    "print(\"Data type of the array:\", new_array.dtype)"
   ],
   "id": "50bb6156fa3ac02",
   "outputs": [
    {
     "name": "stdout",
     "output_type": "stream",
     "text": [
      "Shape of the array: (2, 4)\n",
      "Number of dimensions: 2\n",
      "Data type of the array: int64\n"
     ]
    }
   ],
   "execution_count": 84
  },
  {
   "metadata": {
    "ExecuteTime": {
     "end_time": "2025-04-16T10:30:30.487889Z",
     "start_time": "2025-04-16T10:30:30.485937Z"
    }
   },
   "cell_type": "code",
   "source": [
    "#Create an array from the three (3) lists above. Take note that some of the lists contain floats. Create an array that will have an int64 data type.\n",
    "\n",
    "list1 = [2, 3, 4, 6]\n",
    "list2 = [8, 10.1, 12, 14]\n",
    "list3 = [16, 18, 20, 22.1]\n",
    "\n",
    "\n",
    "new_array = np.array([list1, list2, list3], dtype=np.int64)\n",
    "\n",
    "print(\"Array with int64 data type:\\n\", new_array)\n",
    "print(\"Data type of the array:\", new_array.dtype)"
   ],
   "id": "80c44ab72d3dcaec",
   "outputs": [
    {
     "name": "stdout",
     "output_type": "stream",
     "text": [
      "Array with int64 data type:\n",
      " [[ 2  3  4  6]\n",
      " [ 8 10 12 14]\n",
      " [16 18 20 22]]\n",
      "Data type of the array: int64\n"
     ]
    }
   ],
   "execution_count": 85
  },
  {
   "metadata": {},
   "cell_type": "markdown",
   "source": [
    "Is it possible to create an array of both floats and integers?\n",
    "\n",
    "No, numpy just can take one data type per array"
   ],
   "id": "ef6b1f45ad4443f2"
  },
  {
   "metadata": {},
   "cell_type": "markdown",
   "source": [
    "### Day 3\n",
    "Generating Random Arrays.\n",
    "\n",
    "In this challenge, you are going to generate an array with\n",
    "some random numbers using NumPy, and create some\n",
    "visualizations using Matplotlib."
   ],
   "id": "999916d301dc5a51"
  },
  {
   "metadata": {
    "ExecuteTime": {
     "end_time": "2025-04-16T10:30:30.509644Z",
     "start_time": "2025-04-16T10:30:30.507251Z"
    }
   },
   "cell_type": "code",
   "source": [
    "#Using NumPy create an array of random numbers between 0 and 1. The shape of the array must be (3, 4). Use seed to ensure that the results are reproducible.\n",
    "\n",
    "np.random.seed(10\n",
    "               )\n",
    "array = np.random.rand(3,4)\n",
    "array"
   ],
   "id": "b9699541431364fe",
   "outputs": [
    {
     "data": {
      "text/plain": [
       "array([[0.77132064, 0.02075195, 0.63364823, 0.74880388],\n",
       "       [0.49850701, 0.22479665, 0.19806286, 0.76053071],\n",
       "       [0.16911084, 0.08833981, 0.68535982, 0.95339335]])"
      ]
     },
     "execution_count": 86,
     "metadata": {},
     "output_type": "execute_result"
    }
   ],
   "execution_count": 86
  },
  {
   "metadata": {
    "ExecuteTime": {
     "end_time": "2025-04-16T10:30:30.536146Z",
     "start_time": "2025-04-16T10:30:30.533986Z"
    }
   },
   "cell_type": "code",
   "source": [
    "#Create an array of random integers between 0 and 10. The shape of the array must be (3, 4).\n",
    "np.random.seed(1)\n",
    "array = np.random.randint(1,10, size = (3,4))\n",
    "array"
   ],
   "id": "90fce8ced68cc2ca",
   "outputs": [
    {
     "data": {
      "text/plain": [
       "array([[6, 9, 6, 1],\n",
       "       [1, 2, 8, 7],\n",
       "       [3, 5, 6, 3]])"
      ]
     },
     "execution_count": 87,
     "metadata": {},
     "output_type": "execute_result"
    }
   ],
   "execution_count": 87
  },
  {
   "metadata": {
    "ExecuteTime": {
     "end_time": "2025-04-16T10:30:30.614259Z",
     "start_time": "2025-04-16T10:30:30.570870Z"
    }
   },
   "cell_type": "code",
   "source": [
    "# Using NumPy, generate an array of 1000 random numbers from a standard normal distribution with a mean of 0 and a variance of 1. Create a histogram with this array. Use the seed parameter to ensure the results are reproducible.\n",
    "\n",
    "np.random.seed(2)\n",
    "array = np.random.randn(1000)\n",
    "array\n",
    "\n",
    "plt.hist(array)\n",
    "plt.show()\n"
   ],
   "id": "a7623088acc8651e",
   "outputs": [
    {
     "data": {
      "text/plain": [
       "<Figure size 640x480 with 1 Axes>"
      ],
      "image/png": "[encoded data removed]"
     },
     "metadata": {},
     "output_type": "display_data"
    }
   ],
   "execution_count": 88
  },
  {
   "metadata": {
    "ExecuteTime": {
     "end_time": "2025-04-16T10:30:30.630544Z",
     "start_time": "2025-04-16T10:30:30.628326Z"
    }
   },
   "cell_type": "code",
   "source": [
    "# Using random.choice() from NumPy, generate an array fom the list above. The shape of the array must be (3, 4).\n",
    "arr = [ \"Orange\", \"Apple\", \"Pear\"]\n",
    "\n",
    "array = np.random.choice(arr, size=(3,4))\n",
    "array"
   ],
   "id": "5108b986b7c7b8f3",
   "outputs": [
    {
     "data": {
      "text/plain": [
       "array([['Apple', 'Orange', 'Orange', 'Apple'],\n",
       "       ['Orange', 'Apple', 'Orange', 'Pear'],\n",
       "       ['Apple', 'Pear', 'Pear', 'Pear']], dtype='<U6')"
      ]
     },
     "execution_count": 89,
     "metadata": {},
     "output_type": "execute_result"
    }
   ],
   "execution_count": 89
  },
  {
   "metadata": {},
   "cell_type": "markdown",
   "source": [
    "### Day 4\n",
    "\n",
    "NumPy Arrays and Vector Operations\n",
    "\n",
    "In this challenge, you will create arrays and perform vector operations with them. These operations are an important feature of NumPy that makes it popular for scientific and\n",
    "numerical computing."
   ],
   "id": "31697b2a23360d95"
  },
  {
   "metadata": {
    "ExecuteTime": {
     "end_time": "2025-04-16T10:30:30.649862Z",
     "start_time": "2025-04-16T10:30:30.648086Z"
    }
   },
   "cell_type": "code",
   "source": [
    "#Create two arrays of random integers between 10 and 20. The shape of the array must be (2, 3) for the first array and (1, 3) for the second array. Check the shape of the arrays. Ensure that the results are reproducible.\n",
    "np.random.seed(4)\n",
    "array1 = np.random.randint(10,20,size=(2,3))\n",
    "array2 = np.random.randint(10,20, size = (1,3))\n",
    "print(\"Shape Array1: \", array1.shape)\n",
    "print(\"Shape Array2: \",array2.shape)"
   ],
   "id": "1a6178ff02cc48dc",
   "outputs": [
    {
     "name": "stdout",
     "output_type": "stream",
     "text": [
      "Shape Array1:  (2, 3)\n",
      "Shape Array2:  (1, 3)\n"
     ]
    }
   ],
   "execution_count": 90
  },
  {
   "metadata": {
    "ExecuteTime": {
     "end_time": "2025-04-16T10:30:30.689720Z",
     "start_time": "2025-04-16T10:30:30.687992Z"
    }
   },
   "cell_type": "code",
   "source": [
    "#Write a code to add the two arrays you just created in question 1. Check the shape of the resulting array. Explain why the resulting shape is that of the bigger array from the two arrays created in question 1.\n",
    "array3 = np.add(array1,array2)\n",
    "print(array3.shape)\n",
    "\n",
    "print(\"The resulting shape is that of the bigger array (array1) because of NumPy's broadcasting rules. Under the broadcasting rule, the smaller array is expanded to match the shape of the larger array.\")"
   ],
   "id": "bed2e68e4df2b25c",
   "outputs": [
    {
     "name": "stdout",
     "output_type": "stream",
     "text": [
      "(2, 3)\n",
      "The resulting shape is that of the bigger array (array1) because of NumPy's broadcasting rules. Under the broadcasting rule, the smaller array is expanded to match the shape of the larger array.\n"
     ]
    }
   ],
   "execution_count": 91
  },
  {
   "metadata": {
    "ExecuteTime": {
     "end_time": "2025-04-16T10:30:30.716858Z",
     "start_time": "2025-04-16T10:30:30.714786Z"
    }
   },
   "cell_type": "code",
   "source": [
    "# Write another code to perform a dot operation on the arrays.\n",
    "dot_product = np.dot(array1,array2.T)\n",
    "dot_product\n"
   ],
   "id": "98f285c4350891d4",
   "outputs": [
    {
     "data": {
      "text/plain": [
       "array([[676],\n",
       "       [845]])"
      ]
     },
     "execution_count": 92,
     "metadata": {},
     "output_type": "execute_result"
    }
   ],
   "execution_count": 92
  },
  {
   "metadata": {},
   "cell_type": "markdown",
   "source": [
    "In the context of performing a dot product operation between array1 and array2, you need to transpose array2 to ensure that the inner dimensions match.  The dot product operation requires that the number of columns in the first array matches the number of rows in the second array. Given the shapes of array1 and array2:\n",
    "array1 has a shape of (2, 3)\n",
    "array2 has a shape of (1, 3)\n",
    "To perform the dot product, you need to transpose array2 so that its shape becomes (3, 1). This way, the inner dimensions (3) match, and the resulting array will have a shape of (2, 1)."
   ],
   "id": "1be2aa74837b5451"
  },
  {
   "metadata": {
    "ExecuteTime": {
     "end_time": "2025-04-16T10:30:30.823402Z",
     "start_time": "2025-04-16T10:30:30.785511Z"
    }
   },
   "cell_type": "code",
   "source": [
    "#Using NumPy, create a 1-dimensional array of 100 random integers from 0 to 10. Use the array to create a histogram of the data and calculate the median and mode. Ensure that the results are reproducible.\n",
    "\n",
    "from scipy import stats\n",
    "\n",
    "np.random.seed(4)\n",
    "array_4 = np.random.randint(0,10, 1000)\n",
    "\n",
    "print(f\"The median is: {np.median(array_4)}\")\n",
    "print(f\"The mode is: {stats.mode(array_4)}\")\n",
    "plt.hist(array_4)\n",
    "plt.show()\n"
   ],
   "id": "2e0261a570f9f173",
   "outputs": [
    {
     "name": "stdout",
     "output_type": "stream",
     "text": [
      "The median is: 5.0\n",
      "The mode is: ModeResult(mode=np.int64(7), count=np.int64(120))\n"
     ]
    },
    {
     "data": {
      "text/plain": [
       "<Figure size 640x480 with 1 Axes>"
      ],
      "image/png": "[encoded data removed]"
     },
     "metadata": {},
     "output_type": "display_data"
    }
   ],
   "execution_count": 93
  },
  {
   "metadata": {
    "ExecuteTime": {
     "end_time": "2025-04-16T10:30:30.877799Z",
     "start_time": "2025-04-16T10:30:30.837278Z"
    }
   },
   "cell_type": "code",
   "source": [
    "#Using NumPy, create a 3-dimensional array of 100 random floats between 0 and 1. Use the array to create a 3D scatter plot of the data. Ensure that your results are reproducible.\n",
    "from mpl_toolkits.mplot3d import Axes3D\n",
    "\n",
    "np.random.seed(4)\n",
    "array_5 = np.random.rand(100,3)\n",
    "array_5\n",
    "\n",
    "# Create a 3D scatter plot\n",
    "fig = plt.figure()\n",
    "ax = fig.add_subplot(111, projection='3d')\n",
    "ax.scatter(array_5[:, 0], array_5[:, 1], array_5[:, 2])\n",
    "\n",
    "plt.show()"
   ],
   "id": "7df8b12321b6205f",
   "outputs": [
    {
     "data": {
      "text/plain": [
       "<Figure size 640x480 with 1 Axes>"
      ],
      "image/png": "[encoded data removed]"
     },
     "metadata": {},
     "output_type": "display_data"
    }
   ],
   "execution_count": 94
  },
  {
   "metadata": {
    "ExecuteTime": {
     "end_time": "2025-04-16T10:30:30.888264Z",
     "start_time": "2025-04-16T10:30:30.886338Z"
    }
   },
   "cell_type": "code",
   "source": [
    "#Write code to flatten the list and return all non-zero numbers from the list.l\n",
    "lst = [[0, 1, 3, 0, 4], [8, 9, 0, 9, 6]]\n",
    "\n",
    "# Flatten the list and filter out non-zero numbers\n",
    "flattened_non_zero = [num for sublist in lst for num in sublist if num != 0]\n",
    "\n",
    "print(flattened_non_zero)"
   ],
   "id": "3f8f7f05aaa07953",
   "outputs": [
    {
     "name": "stdout",
     "output_type": "stream",
     "text": [
      "[1, 3, 4, 8, 9, 9, 6]\n"
     ]
    }
   ],
   "execution_count": 95
  },
  {
   "metadata": {},
   "cell_type": "markdown",
   "source": [
    "### Day 5\n",
    "Array Creation and Vector Operations\n",
    "\n",
    "In this challenge, you will create a 2-dimensional array, analyze and perform vector operations on the array, and slice numbers from the array."
   ],
   "id": "de9863bfc78af440"
  },
  {
   "metadata": {
    "ExecuteTime": {
     "end_time": "2025-04-16T10:30:30.909453Z",
     "start_time": "2025-04-16T10:30:30.907393Z"
    }
   },
   "cell_type": "code",
   "source": [
    "list_numbers = [[12, 23, -45], [18, -77, -44]]\n",
    "#Using NumPy, create an array from the list. Write a code to return all the negative numbers in the list.\n",
    "array5 = np.array(list_numbers)\n",
    "array5_negatives = array5[array5<0]\n",
    "array5_negatives\n"
   ],
   "id": "49feb823eb29b0a1",
   "outputs": [
    {
     "data": {
      "text/plain": [
       "array([-45, -77, -44])"
      ]
     },
     "execution_count": 96,
     "metadata": {},
     "output_type": "execute_result"
    }
   ],
   "execution_count": 96
  },
  {
   "metadata": {
    "ExecuteTime": {
     "end_time": "2025-04-16T10:30:30.927059Z",
     "start_time": "2025-04-16T10:30:30.925098Z"
    }
   },
   "cell_type": "code",
   "source": [
    "#Using NumPy, write code to multiply each element in the array you created in question 1 by 2. Create a new variable for this array.\n",
    "array5_negatives_x_2 = array5_negatives*2\n",
    "array5_negatives_x_2"
   ],
   "id": "b4613ffd6c2495f0",
   "outputs": [
    {
     "data": {
      "text/plain": [
       "array([ -90, -154,  -88])"
      ]
     },
     "execution_count": 97,
     "metadata": {},
     "output_type": "execute_result"
    }
   ],
   "execution_count": 97
  },
  {
   "metadata": {
    "ExecuteTime": {
     "end_time": "2025-04-16T10:30:30.938982Z",
     "start_time": "2025-04-16T10:30:30.937359Z"
    }
   },
   "cell_type": "code",
   "source": [
    "# Write code to calculate the sum of the numbers on axis-1 of the array you created in question 2.\n",
    "sum_axis_1 = np.sum(array5_negatives_x_2, axis=-1)\n",
    "print(sum_axis_1)"
   ],
   "id": "234daf3f62b71b95",
   "outputs": [
    {
     "name": "stdout",
     "output_type": "stream",
     "text": [
      "-332\n"
     ]
    }
   ],
   "execution_count": 98
  },
  {
   "metadata": {
    "ExecuteTime": {
     "end_time": "2025-04-16T10:30:30.953982Z",
     "start_time": "2025-04-16T10:30:30.952359Z"
    }
   },
   "cell_type": "code",
   "source": [
    "#Write code to calculate the sum of numbers on axis-0 of the array you created in question 2.\n",
    "sum_axis_0 = np.sum(array5_negatives_x_2,axis = 0)\n",
    "print(sum_axis_0)"
   ],
   "id": "cba07d5d13b4643",
   "outputs": [
    {
     "name": "stdout",
     "output_type": "stream",
     "text": [
      "-332\n"
     ]
    }
   ],
   "execution_count": 99
  },
  {
   "metadata": {
    "ExecuteTime": {
     "end_time": "2025-04-16T10:30:30.970776Z",
     "start_time": "2025-04-16T10:30:30.968707Z"
    }
   },
   "cell_type": "code",
   "source": [
    "#Using the NumPy arange() function, create a NumPy array of numbers from 0 to 99. The shape of the array must be (2, 5, 10).\n",
    "array_5 = np.arange(100)\n",
    "reshaped_array = array_5.reshape(2,5,10)\n",
    "\n",
    "reshaped_array"
   ],
   "id": "26762801b7a9b248",
   "outputs": [
    {
     "data": {
      "text/plain": [
       "array([[[ 0,  1,  2,  3,  4,  5,  6,  7,  8,  9],\n",
       "        [10, 11, 12, 13, 14, 15, 16, 17, 18, 19],\n",
       "        [20, 21, 22, 23, 24, 25, 26, 27, 28, 29],\n",
       "        [30, 31, 32, 33, 34, 35, 36, 37, 38, 39],\n",
       "        [40, 41, 42, 43, 44, 45, 46, 47, 48, 49]],\n",
       "\n",
       "       [[50, 51, 52, 53, 54, 55, 56, 57, 58, 59],\n",
       "        [60, 61, 62, 63, 64, 65, 66, 67, 68, 69],\n",
       "        [70, 71, 72, 73, 74, 75, 76, 77, 78, 79],\n",
       "        [80, 81, 82, 83, 84, 85, 86, 87, 88, 89],\n",
       "        [90, 91, 92, 93, 94, 95, 96, 97, 98, 99]]])"
      ]
     },
     "execution_count": 100,
     "metadata": {},
     "output_type": "execute_result"
    }
   ],
   "execution_count": 100
  },
  {
   "metadata": {
    "ExecuteTime": {
     "end_time": "2025-04-16T10:30:30.986599Z",
     "start_time": "2025-04-16T10:30:30.984715Z"
    }
   },
   "cell_type": "code",
   "source": [
    "#Write code to slice row [50, 51, 52, 53, 54, 55, 56, 57, 58, 59] from the array above (question 5).\n",
    "reshaped_array[1,0,:]"
   ],
   "id": "14b16e73e1cffbf3",
   "outputs": [
    {
     "data": {
      "text/plain": [
       "array([50, 51, 52, 53, 54, 55, 56, 57, 58, 59])"
      ]
     },
     "execution_count": 101,
     "metadata": {},
     "output_type": "execute_result"
    }
   ],
   "execution_count": 101
  },
  {
   "metadata": {
    "ExecuteTime": {
     "end_time": "2025-04-16T10:30:31.009405Z",
     "start_time": "2025-04-16T10:30:31.007661Z"
    }
   },
   "cell_type": "code",
   "source": [
    "#Let’s analyze the array you created in question 1 further. How many numbers in row 1 are greater than the numbers in row 2?\n",
    "# Compare elements in row 1 with elements in row 2\n",
    "comparison = array5[0] > array5[1]\n",
    "\n",
    "# Count how many elements in row 1 are greater than in row 2\n",
    "count_greater = np.sum(comparison)\n",
    "print(count_greater)"
   ],
   "id": "1c2b7c4bed9442f7",
   "outputs": [
    {
     "name": "stdout",
     "output_type": "stream",
     "text": [
      "1\n"
     ]
    }
   ],
   "execution_count": 102
  },
  {
   "metadata": {},
   "cell_type": "markdown",
   "source": [
    "### Day 6\n",
    "Array Manipulation and Vector Operations\n",
    "\n",
    "In this challenge, your task is to create a NumPy array from\n",
    "a list of strings. This particular challenge aims to assess\n",
    "your proficiency in generating arrays and manipulating\n",
    "array data types as a means of enhancing data processing\n",
    "flexibility."
   ],
   "id": "5e26f39598870c54"
  },
  {
   "metadata": {
    "ExecuteTime": {
     "end_time": "2025-04-16T10:30:31.026277Z",
     "start_time": "2025-04-16T10:30:31.024890Z"
    }
   },
   "cell_type": "code",
   "source": "list_str = [\"23\", \"12\", \"90\", \"28\", \"30\"]",
   "id": "19067b81719e8230",
   "outputs": [],
   "execution_count": 103
  },
  {
   "metadata": {
    "ExecuteTime": {
     "end_time": "2025-04-16T10:30:31.036554Z",
     "start_time": "2025-04-16T10:30:31.034820Z"
    }
   },
   "cell_type": "code",
   "source": [
    "#Create a NumPy array with the list above. Calculate the standard deviation of the array. Write a code to change the data type of the array .\n",
    "array6 = np.array(list_str, dtype=int)\n",
    "\n",
    "print(np.std(array6))"
   ],
   "id": "5b3523e104c24525",
   "outputs": [
    {
     "name": "stdout",
     "output_type": "stream",
     "text": [
      "27.419700946582186\n"
     ]
    }
   ],
   "execution_count": 104
  },
  {
   "metadata": {
    "ExecuteTime": {
     "end_time": "2025-04-16T10:30:31.050184Z",
     "start_time": "2025-04-16T10:30:31.048287Z"
    }
   },
   "cell_type": "code",
   "source": [
    "#Write a code to return the sum of values [90.0, 28.0, 30.0] from the array you just created in question (3).\n",
    "array6_filtered = array6[2:]\n",
    "array6_filtered"
   ],
   "id": "3b5b1a930fb8c528",
   "outputs": [
    {
     "data": {
      "text/plain": [
       "array([90, 28, 30])"
      ]
     },
     "execution_count": 105,
     "metadata": {},
     "output_type": "execute_result"
    }
   ],
   "execution_count": 105
  },
  {
   "metadata": {
    "ExecuteTime": {
     "end_time": "2025-04-16T10:30:31.068538Z",
     "start_time": "2025-04-16T10:30:31.066827Z"
    }
   },
   "cell_type": "code",
   "source": [
    "#Create a 2-dimensional array of random integers from 0 to 100 with the shape (5, 5). Use the array to find the minimum and maximum values, as well as the mean and standard deviation. Ensure that the results are reproducible.\n",
    "np.random.seed(6)\n",
    "array6_random = np.random.randint(0,100, size=(5,5))\n",
    "print(f\"Minimum:  {np.min(array6_random)}\")\n",
    "print(f\"Maximum: {np.max(array6_random)}\")"
   ],
   "id": "21f9abbb7e666f65",
   "outputs": [
    {
     "name": "stdout",
     "output_type": "stream",
     "text": [
      "Minimum:  1\n",
      "Maximum: 99\n"
     ]
    }
   ],
   "execution_count": 106
  },
  {
   "metadata": {
    "ExecuteTime": {
     "end_time": "2025-04-16T10:30:31.082642Z",
     "start_time": "2025-04-16T10:30:31.080850Z"
    }
   },
   "cell_type": "code",
   "source": [
    "#Using NumPy’s char.join() function, create two arrays by joining the first name with the last name. Your first array should be: array(['John', 'Smith'], dtype='U6'). Your second array should be: array(['Kenny', 'Sakula'], dtype='U6').\n",
    "first_names = [\"John\", \" Kenny\"]\n",
    "last_names = [\"Smith\", \" Sakula\"]\n",
    "\n",
    "joined_names = np.char.add(first_names, \" \")  # Add a space between first and last names\n",
    "joined_names = np.char.add(joined_names, last_names)\n",
    "\n",
    "print(joined_names)"
   ],
   "id": "619a5953a9de56d0",
   "outputs": [
    {
     "name": "stdout",
     "output_type": "stream",
     "text": [
      "['John Smith' ' Kenny  Sakula']\n"
     ]
    }
   ],
   "execution_count": 107
  },
  {
   "metadata": {},
   "cell_type": "markdown",
   "source": [
    "### Day 7\n",
    "Transpose and Swap Arrays\n",
    "\n",
    "The ability to transpose and swap arrays is important for\n",
    "manipulating and analyzing data, performing matrix\n",
    "operations, cleaning and sorting data, and visualizing data.\n",
    "By mastering these skills, you can improve your data\n",
    "manipulation and analysis capabilities and work more\n",
    "efficiently with arrays.\n"
   ],
   "id": "ad814aa4b43ea8a7"
  },
  {
   "metadata": {
    "ExecuteTime": {
     "end_time": "2025-04-16T10:30:31.102716Z",
     "start_time": "2025-04-16T10:30:31.100741Z"
    }
   },
   "cell_type": "code",
   "source": [
    "#Using the arange() function, create an array of numbers from 0 and 10. The shape of the array must be (2, 5).\n",
    "array7 = np.arange(0,10)\n",
    "array7.reshape(2,5)"
   ],
   "id": "642c6d5170508ffe",
   "outputs": [
    {
     "data": {
      "text/plain": [
       "array([[0, 1, 2, 3, 4],\n",
       "       [5, 6, 7, 8, 9]])"
      ]
     },
     "execution_count": 108,
     "metadata": {},
     "output_type": "execute_result"
    }
   ],
   "execution_count": 108
  },
  {
   "metadata": {
    "ExecuteTime": {
     "end_time": "2025-04-16T10:30:31.130229Z",
     "start_time": "2025-04-16T10:30:31.127989Z"
    }
   },
   "cell_type": "code",
   "source": [
    "#Write a code to change the shape of the array (question 1) to (5, 2). Create a new variable for this array. Now, add this array to the original array in question 1. The resulting array should have shapes (2, 5). Save this as a variable.\n",
    "new_array7 = array7.reshape(5,2)\n",
    "reshaped_back = new_array7.T\n",
    "resulting_array = array7.reshape(2, 5) + reshaped_back\n",
    "resulting_array"
   ],
   "id": "4f81503c9e2e15d3",
   "outputs": [
    {
     "data": {
      "text/plain": [
       "array([[ 0,  3,  6,  9, 12],\n",
       "       [ 6,  9, 12, 15, 18]])"
      ]
     },
     "execution_count": 109,
     "metadata": {},
     "output_type": "execute_result"
    }
   ],
   "execution_count": 109
  },
  {
   "metadata": {
    "ExecuteTime": {
     "end_time": "2025-04-16T10:30:31.163579Z",
     "start_time": "2025-04-16T10:30:31.161425Z"
    }
   },
   "cell_type": "code",
   "source": [
    "#Swap the indexes of the array (question 2) using the swapaxis() method. Create a new variable for the swapped array.\n",
    "\n",
    "swapped_array = resulting_array.swapaxes(0,1)\n",
    "swapped_array"
   ],
   "id": "50e04e9436d88915",
   "outputs": [
    {
     "data": {
      "text/plain": [
       "array([[ 0,  6],\n",
       "       [ 3,  9],\n",
       "       [ 6, 12],\n",
       "       [ 9, 15],\n",
       "       [12, 18]])"
      ]
     },
     "execution_count": 110,
     "metadata": {},
     "output_type": "execute_result"
    }
   ],
   "execution_count": 110
  },
  {
   "metadata": {
    "ExecuteTime": {
     "end_time": "2025-04-16T10:30:31.200032Z",
     "start_time": "2025-04-16T10:30:31.198673Z"
    }
   },
   "cell_type": "code",
   "source": [
    "#Write a code to slice row 1 from the swapped array in question 3.\n",
    "row_1 = swapped_array[1, :]\n",
    "print(row_1)"
   ],
   "id": "2382d6e5278ca84b",
   "outputs": [
    {
     "name": "stdout",
     "output_type": "stream",
     "text": [
      "[3 9]\n"
     ]
    }
   ],
   "execution_count": 111
  },
  {
   "metadata": {
    "ExecuteTime": {
     "end_time": "2025-04-16T10:30:31.317379Z",
     "start_time": "2025-04-16T10:30:31.244740Z"
    }
   },
   "cell_type": "code",
   "source": [
    "players = [\"Robin\", \"Leo\", \"Pogba\", \"Diego\", \"Ronaldo\"]\n",
    "teams = [\"Man UTD\", \"Barca\", \"Arsenal\", \"Liverpool\", \"Madrid\"]\n",
    "goals = np.array([\n",
    "    [12, 15, 16, 15, 13],  # Robin\n",
    "    [26, 30, 31, 25, 24],  # Leo\n",
    "    [8, 10, 12, 9, 11],    # Pogba\n",
    "    [14, 18, 20, 19, 17],  # Diego\n",
    "    [30, 28, 27, 29, 31]   # Ronaldo\n",
    "])\n",
    "\n",
    "plt.figure(figsize=(10, 6))\n",
    "sns.heatmap(goals, annot=True, fmt=\"d\", cmap=\"coolwarm\", xticklabels=players, yticklabels=teams)\n",
    "\n",
    "# Add labels and title\n",
    "plt.xlabel(\"Players\")\n",
    "plt.ylabel(\"Teams\")\n",
    "plt.title(\"Heatmap of Goals Scored by Players in the Last 5 Seasons\")\n",
    "\n",
    "# Show the plot\n",
    "plt.show()"
   ],
   "id": "58e2905054541462",
   "outputs": [
    {
     "data": {
      "text/plain": [
       "<Figure size 1000x600 with 2 Axes>"
      ],
      "image/png": "[encoded data removed]"
     },
     "metadata": {},
     "output_type": "display_data"
    }
   ],
   "execution_count": 112
  },
  {
   "metadata": {},
   "cell_type": "markdown",
   "source": [
    "### Day 8\n",
    "Slicing NumPy Arrays\n",
    "\n",
    "This challenge will test your abilities to create and slice\n",
    "NumPy arrays. Learning to slice NumPy arrays is an\n",
    "important skill to have for anyone working with data\n",
    "because it allows you to extract and manipulate specific\n",
    "portions of an array. This is especially useful when working\n",
    "with large datasets, as it allows you to perform operations\n",
    "on a subset of the data rather than the entire array. This is\n",
    "what is called \"dimensionality reduction."
   ],
   "id": "ca1cf67f7a8057f0"
  },
  {
   "metadata": {
    "ExecuteTime": {
     "end_time": "2025-04-16T10:30:31.327038Z",
     "start_time": "2025-04-16T10:30:31.324897Z"
    }
   },
   "cell_type": "code",
   "source": [
    "#Create a one-dimensional array with random integers between 0 and 20. The size of the array is 10. Ensure that the results are reproducible.\n",
    "np.random.seed(8)\n",
    "array8 = np.random.randint(0,20,size=10)\n",
    "array8"
   ],
   "id": "c523f242d0824eab",
   "outputs": [
    {
     "data": {
      "text/plain": [
       "array([ 3, 17,  9,  5,  8, 19,  8, 16, 13, 17])"
      ]
     },
     "execution_count": 113,
     "metadata": {},
     "output_type": "execute_result"
    }
   ],
   "execution_count": 113
  },
  {
   "metadata": {
    "ExecuteTime": {
     "end_time": "2025-04-16T10:30:31.342746Z",
     "start_time": "2025-04-16T10:30:31.340802Z"
    }
   },
   "cell_type": "code",
   "source": [
    "# Using slicing, create a subset array of 3 integers from the array you created in question 1. The first integer is at index 2, the second integer is at index 4, and the third index is at index 7.\n",
    "#We pass slice instead of index like this: [start:end].\n",
    "array8_sliced = array8[[2,4,7]]\n",
    "array8_sliced\n",
    "#We can also define the step, like this: [start:end:step]."
   ],
   "id": "d8a381c44fac2ed5",
   "outputs": [
    {
     "data": {
      "text/plain": [
       "array([ 9,  8, 16])"
      ]
     },
     "execution_count": 114,
     "metadata": {},
     "output_type": "execute_result"
    }
   ],
   "execution_count": 114
  },
  {
   "metadata": {
    "ExecuteTime": {
     "end_time": "2025-04-16T10:30:31.359310Z",
     "start_time": "2025-04-16T10:30:31.357678Z"
    }
   },
   "cell_type": "code",
   "source": [
    "#Create a two-dimensional array from the list below. Check the dimensions and shape of your array.\n",
    "My_list = [[1, 2, 3, 4, 5], [6, 7, 8, 9, 10],[11, 12, 13, 14, 15]]\n",
    "new_array8 = np.array(My_list)\n",
    "\n",
    "print(new_array8.shape)\n",
    "print(new_array8.ndim)"
   ],
   "id": "aaa1d9422f4263aa",
   "outputs": [
    {
     "name": "stdout",
     "output_type": "stream",
     "text": [
      "(3, 5)\n",
      "2\n"
     ]
    }
   ],
   "execution_count": 115
  },
  {
   "metadata": {
    "ExecuteTime": {
     "end_time": "2025-04-16T10:30:31.375840Z",
     "start_time": "2025-04-16T10:30:31.374016Z"
    }
   },
   "cell_type": "code",
   "source": [
    "#sing slicing, write a code to access the numbers 3, 8, and 13.Your code should return [3, 8, 13].\n",
    "new_array8_sliced =new_array8[:,2]\n",
    "new_array8_sliced"
   ],
   "id": "9f2fa9cf2795bf2a",
   "outputs": [
    {
     "data": {
      "text/plain": [
       "array([ 3,  8, 13])"
      ]
     },
     "execution_count": 116,
     "metadata": {},
     "output_type": "execute_result"
    }
   ],
   "execution_count": 116
  },
  {
   "metadata": {
    "ExecuteTime": {
     "end_time": "2025-04-16T10:30:31.389120Z",
     "start_time": "2025-04-16T10:30:31.387458Z"
    }
   },
   "cell_type": "code",
   "source": [
    "# Create a three-dimensional array from the nested list\n",
    "lis1 = [[[1, 2, 3, 4, 5], [6, 7, 8, 9, 10], [11, 12, 13, 14, 15]]]\n",
    "new_array8 = np.array(lis1)\n",
    "\n",
    "\n",
    "# Extract the numbers 4, 8, and 15\n",
    "sublist = [int(new_array8[0, 0, 3]), int(new_array8[0, 1, 2]), int(new_array8[0, 2, 4])]\n",
    "print(sublist)"
   ],
   "id": "463dddd2dc2461c6",
   "outputs": [
    {
     "name": "stdout",
     "output_type": "stream",
     "text": [
      "[4, 8, 15]\n"
     ]
    }
   ],
   "execution_count": 117
  },
  {
   "metadata": {},
   "cell_type": "markdown",
   "source": [
    "### Day 9\n",
    "\n",
    "Analyze a One-Dimensional Array\n",
    "\n",
    "In this challenge, you are going to create an array from a\n",
    "list. Why should you use an array instead of a Python list?\n",
    "The NumPy Series provides better performance, easier\n",
    "manipulation and indexing, and better interoperability\n",
    "with other scientific libraries, making them a preferred\n",
    "choice for scientific and data analysis applications. They\n",
    "also have better memory management than Python lists"
   ],
   "id": "be28177367ded0e0"
  },
  {
   "metadata": {
    "ExecuteTime": {
     "end_time": "2025-04-16T10:30:31.404804Z",
     "start_time": "2025-04-16T10:30:31.403330Z"
    }
   },
   "cell_type": "code",
   "source": [
    "nums = [12,4,6,7,9,19,21,67,8]\n",
    "# Create a NumPy one-dimensional array with the list above\n",
    "\n",
    "array9 = np.array(nums)"
   ],
   "id": "8d5280999fc62309",
   "outputs": [],
   "execution_count": 118
  },
  {
   "metadata": {
    "ExecuteTime": {
     "end_time": "2025-04-16T10:30:31.414101Z",
     "start_time": "2025-04-16T10:30:31.412563Z"
    }
   },
   "cell_type": "code",
   "source": [
    "#Using NumPy, write code that returns the minimum number in the array.\n",
    "print(np.min(array9))"
   ],
   "id": "c57f7fbb119bd299",
   "outputs": [
    {
     "name": "stdout",
     "output_type": "stream",
     "text": [
      "4\n"
     ]
    }
   ],
   "execution_count": 119
  },
  {
   "metadata": {
    "ExecuteTime": {
     "end_time": "2025-04-16T10:30:31.427116Z",
     "start_time": "2025-04-16T10:30:31.425412Z"
    }
   },
   "cell_type": "code",
   "source": [
    "#Write a code that returns the index of the largest number in the array.\n",
    "print(np.argmax(array9))"
   ],
   "id": "bf3fb337e8ac8e17",
   "outputs": [
    {
     "name": "stdout",
     "output_type": "stream",
     "text": [
      "7\n"
     ]
    }
   ],
   "execution_count": 120
  },
  {
   "metadata": {
    "ExecuteTime": {
     "end_time": "2025-04-16T10:30:31.444076Z",
     "start_time": "2025-04-16T10:30:31.442348Z"
    }
   },
   "cell_type": "code",
   "source": [
    "#Using NumPy, calculate the average of the biggest and smallest numbers in the array.\n",
    "largest = np.max(array9)\n",
    "smallest = np.min(array9)\n",
    "average = (largest + smallest) / 2\n",
    "\n",
    "print(\"Average of the biggest and smallest numbers:\", average)"
   ],
   "id": "2218e786ca827e31",
   "outputs": [
    {
     "name": "stdout",
     "output_type": "stream",
     "text": [
      "Average of the biggest and smallest numbers: 35.5\n"
     ]
    }
   ],
   "execution_count": 121
  },
  {
   "metadata": {
    "ExecuteTime": {
     "end_time": "2025-04-16T10:30:31.459274Z",
     "start_time": "2025-04-16T10:30:31.457488Z"
    }
   },
   "cell_type": "code",
   "source": [
    "#Write a code to find the mean, median, and standard deviation of the array.\n",
    "print(f\"The mean of the Array is: {np.mean(array9)}\")\n",
    "print(f\"The median of the Array is : {np.median(array9)}\")\n",
    "print(f\"The std deviation of the Array is: {np.std(array9)}\")"
   ],
   "id": "c7382b6e482a55de",
   "outputs": [
    {
     "name": "stdout",
     "output_type": "stream",
     "text": [
      "The mean of the Array is: 17.0\n",
      "The median of the Array is : 9.0\n",
      "The std deviation of the Array is: 18.499249234015476\n"
     ]
    }
   ],
   "execution_count": 122
  },
  {
   "metadata": {
    "ExecuteTime": {
     "end_time": "2025-04-16T10:30:31.479168Z",
     "start_time": "2025-04-16T10:30:31.476709Z"
    }
   },
   "cell_type": "code",
   "source": [
    "# Write code to find the outlier in the array above.\n",
    "nums = [12, 4, 6, 7, 9, 19, 21, 67, 8]\n",
    "\n",
    "def find_outliers_iqr(data):\n",
    "    data = np.array(data)\n",
    "\n",
    "    # Calcular Q1 y Q3\n",
    "    q1 = np.percentile(data, 25)\n",
    "    q3 = np.percentile(data, 75)\n",
    "\n",
    "    # Calcular IQR\n",
    "    iqr = q3 - q1\n",
    "\n",
    "    # Calcular límites\n",
    "    lower_bound = q1 - 1.5 * iqr\n",
    "    upper_bound = q3 + 1.5 * iqr\n",
    "\n",
    "    # Encontrar outliers\n",
    "    outliers = data[(data < lower_bound) | (data > upper_bound)]\n",
    "\n",
    "    return {\n",
    "        'Q1': q1,\n",
    "        'Q3': q3,\n",
    "        'IQR': iqr,\n",
    "        'Lower Bound': lower_bound,\n",
    "        'Upper Bound': upper_bound,\n",
    "        'Outliers': outliers.tolist()\n",
    "    }\n",
    "\n",
    "\n",
    "result = find_outliers_iqr(nums)\n",
    "\n",
    "print(\"Resultados del análisis IQR:\")\n",
    "for key, value in result.items():\n",
    "    print(f\"{key}: {value}\")"
   ],
   "id": "56d5a113c7db8fa8",
   "outputs": [
    {
     "name": "stdout",
     "output_type": "stream",
     "text": [
      "Resultados del análisis IQR:\n",
      "Q1: 7.0\n",
      "Q3: 19.0\n",
      "IQR: 12.0\n",
      "Lower Bound: -11.0\n",
      "Upper Bound: 37.0\n",
      "Outliers: [67]\n"
     ]
    }
   ],
   "execution_count": 123
  },
  {
   "metadata": {},
   "cell_type": "markdown",
   "source": [
    "### Day 10\n",
    "The arange Function and Boolean Indexing\n",
    "\n",
    "In this challenge, you will use the NumPy arange() function.\n",
    "It is similar to the built-in range() function in Python, but\n",
    "it returns a NumPy array. Boolean indexing, on the other\n",
    "hand, is a way of indexing NumPy arrays based on a set of\n",
    "Boolean conditions. It allows you to select elements from\n",
    "an array that meet certain criteria."
   ],
   "id": "56a2ef60e399b029"
  },
  {
   "metadata": {
    "ExecuteTime": {
     "end_time": "2025-04-16T10:30:31.496907Z",
     "start_time": "2025-04-16T10:30:31.495556Z"
    }
   },
   "cell_type": "code",
   "source": "num = 50",
   "id": "aa039c6c7bf971eb",
   "outputs": [],
   "execution_count": 124
  },
  {
   "metadata": {
    "ExecuteTime": {
     "end_time": "2025-04-16T10:30:31.508421Z",
     "start_time": "2025-04-16T10:30:31.506448Z"
    }
   },
   "cell_type": "code",
   "source": [
    "#Create an array from the number above using the arange() function of NumPy. Your array should start at 0 with a step of 5.\n",
    "\n",
    "array10 = np.arange(0,num,5)\n",
    "array10"
   ],
   "id": "4a9deafc6b19725e",
   "outputs": [
    {
     "data": {
      "text/plain": [
       "array([ 0,  5, 10, 15, 20, 25, 30, 35, 40, 45])"
      ]
     },
     "execution_count": 125,
     "metadata": {},
     "output_type": "execute_result"
    }
   ],
   "execution_count": 125
  },
  {
   "metadata": {
    "ExecuteTime": {
     "end_time": "2025-04-16T10:30:31.526767Z",
     "start_time": "2025-04-16T10:30:31.524770Z"
    }
   },
   "cell_type": "code",
   "source": [
    "#Using NumPy, write a code that returns all the numbers in the array that are greater than 25.\n",
    "array10_filtered = array10[array10 >25]\n",
    "array10_filtered"
   ],
   "id": "e1b79572c58b3554",
   "outputs": [
    {
     "data": {
      "text/plain": [
       "array([30, 35, 40, 45])"
      ]
     },
     "execution_count": 126,
     "metadata": {},
     "output_type": "execute_result"
    }
   ],
   "execution_count": 126
  },
  {
   "metadata": {
    "ExecuteTime": {
     "end_time": "2025-04-16T10:30:31.538856Z",
     "start_time": "2025-04-16T10:30:31.536741Z"
    }
   },
   "cell_type": "code",
   "source": [
    "days = [\"mon\", \"tue\", \"wed\", \"thu\", \"Fri\"]\n",
    "hours_worked = [ 8, 8, 10, 11, 7]\n",
    "# Using Boolean indexing of NumPy arrays, return the days of the week where hours worked were 8.\n",
    "\n",
    "days = np.array([\"mon\", \"tue\", \"wed\", \"thu\", \"Fri\"])\n",
    "hours_worked = np.array([8, 8, 10, 11, 7])\n",
    "\n",
    "# Boolean indexing to filter days where hours worked were 8\n",
    "days_with_8_hours = days[hours_worked == 8]\n",
    "\n",
    "days_with_8_hours"
   ],
   "id": "932e84bd22d46b75",
   "outputs": [
    {
     "data": {
      "text/plain": [
       "array(['mon', 'tue'], dtype='<U3')"
      ]
     },
     "execution_count": 127,
     "metadata": {},
     "output_type": "execute_result"
    }
   ],
   "execution_count": 127
  },
  {
   "metadata": {
    "ExecuteTime": {
     "end_time": "2025-04-16T10:30:31.554658Z",
     "start_time": "2025-04-16T10:30:31.553047Z"
    }
   },
   "cell_type": "code",
   "source": [
    "\n",
    "#Here is the code to find the day of the week with the highest number of hours worked using Boolean indexing:\n",
    "max_hours = np.max(hours_worked)\n",
    "day_with_max_hours = days[hours_worked == max_hours]\n",
    "\n",
    "print(\"Day with the highest number of hours worked:\", day_with_max_hours[0])"
   ],
   "id": "4f00d7bf46dfd1b6",
   "outputs": [
    {
     "name": "stdout",
     "output_type": "stream",
     "text": [
      "Day with the highest number of hours worked: thu\n"
     ]
    }
   ],
   "execution_count": 128
  },
  {
   "metadata": {
    "ExecuteTime": {
     "end_time": "2025-04-16T10:30:31.566876Z",
     "start_time": "2025-04-16T10:30:31.565229Z"
    }
   },
   "cell_type": "code",
   "source": [
    "#Write another code to return all the days of the week where  over 9 hours of work were achieved.\n",
    "days_over_9_hours = days[hours_worked > 9]\n",
    "\n",
    "print(\"Days with over 9 hours worked:\", days_over_9_hours)"
   ],
   "id": "d1d620febb594c0a",
   "outputs": [
    {
     "name": "stdout",
     "output_type": "stream",
     "text": [
      "Days with over 9 hours worked: ['wed' 'thu']\n"
     ]
    }
   ],
   "execution_count": 129
  },
  {
   "metadata": {},
   "cell_type": "markdown",
   "source": [
    "### Day 11\n",
    "Preprocessing, Analysis and Visualization\n",
    "\n",
    "As part of data preprocessing, you have to identify different\n",
    "types in the array. You may be required to create subarrays\n",
    "of a specific data type in order to carry out, for example,\n",
    "mathematical operations and visualization."
   ],
   "id": "a1ca3e9423d84cb4"
  },
  {
   "metadata": {
    "ExecuteTime": {
     "end_time": "2025-04-16T10:30:31.579905Z",
     "start_time": "2025-04-16T10:30:31.578489Z"
    }
   },
   "cell_type": "code",
   "source": "list1 = [\"34\", \"name\", \"45\", \"is\", \"100\"]",
   "id": "7a99d579d1388270",
   "outputs": [],
   "execution_count": 130
  },
  {
   "metadata": {
    "ExecuteTime": {
     "end_time": "2025-04-16T10:30:31.593171Z",
     "start_time": "2025-04-16T10:30:31.591149Z"
    }
   },
   "cell_type": "code",
   "source": [
    "#Using NumPy, create an array using the list above. Write a code to check how many non-numeric elements are in the list.\n",
    "array11 = np.array(list1)\n",
    "\n",
    "non_numeric_count  = np.sum(~np.char.isnumeric(array11))\n",
    "non_numeric_count"
   ],
   "id": "a5c6704aa6145739",
   "outputs": [
    {
     "data": {
      "text/plain": [
       "np.int64(2)"
      ]
     },
     "execution_count": 131,
     "metadata": {},
     "output_type": "execute_result"
    }
   ],
   "execution_count": 131
  },
  {
   "metadata": {
    "ExecuteTime": {
     "end_time": "2025-04-16T10:30:31.611486Z",
     "start_time": "2025-04-16T10:30:31.609636Z"
    }
   },
   "cell_type": "code",
   "source": [
    "#Using NumPy, write code to sum all the numeric elements in the list.\n",
    "numeric_sum  = np.sum(array11[np.char.isnumeric(array11)].astype(int))\n",
    "numeric_sum"
   ],
   "id": "6fb7c5641996e071",
   "outputs": [
    {
     "data": {
      "text/plain": [
       "np.int64(179)"
      ]
     },
     "execution_count": 132,
     "metadata": {},
     "output_type": "execute_result"
    }
   ],
   "execution_count": 132
  },
  {
   "metadata": {
    "ExecuteTime": {
     "end_time": "2025-04-16T10:30:31.623535Z",
     "start_time": "2025-04-16T10:30:31.621701Z"
    }
   },
   "cell_type": "code",
   "source": [
    "#Using NumPy, write code to square all the numeric elements in the array you created in question 1. Return an array of squared elements.\n",
    "squared_elements = np.char.isnumeric(array11)\n",
    "squared_array = np.square(array11[squared_elements].astype(int))\n",
    "squared_array"
   ],
   "id": "d122e17df5173f75",
   "outputs": [
    {
     "data": {
      "text/plain": [
       "array([ 1156,  2025, 10000])"
      ]
     },
     "execution_count": 133,
     "metadata": {},
     "output_type": "execute_result"
    }
   ],
   "execution_count": 133
  },
  {
   "metadata": {
    "ExecuteTime": {
     "end_time": "2025-04-16T10:30:31.688898Z",
     "start_time": "2025-04-16T10:30:31.631547Z"
    }
   },
   "cell_type": "code",
   "source": [
    "#Using NumPy, create an array using the lists above. Each list must be a row in the array. Your array must have 3 rows and 10 columns. To visualize the correlation between attendance and the final_exam_score, create a scatter plot using Matplotlib. Set the final exam score the x-axis and attendance as the y-axis of your scatter plot. Use the NumPy array you just created as the source of your data for the plot.b. By visualizing your scatter plot (question 4a), what final score was the outlier of the data?\n",
    "\n",
    "attendance = [90, 85, 88, 92, 70, 95, 100, 85, 60, 80]\n",
    "final_exam_score = [85, 80, 78, 90, 50, 88, 95, 82, 40, 75]\n",
    "other_metric = [10, 20, 15, 25, 5, 30, 35, 20, 10, 15]\n",
    "\n",
    "data = np.array([attendance, final_exam_score, other_metric])\n",
    "\n",
    "# Scatter plot\n",
    "plt.scatter(data[1], data[0], color='blue', label='Attendance vs Final Exam Score')\n",
    "plt.xlabel(\"Final Exam Score\")\n",
    "plt.ylabel(\"Attendance\")\n",
    "plt.title(\"Scatter Plot: Attendance vs Final Exam Score\")\n",
    "plt.legend()\n",
    "plt.grid(True)\n",
    "plt.show()"
   ],
   "id": "98db328f4c23989",
   "outputs": [
    {
     "data": {
      "text/plain": [
       "<Figure size 640x480 with 1 Axes>"
      ],
      "image/png": "[encoded data removed]"
     },
     "metadata": {},
     "output_type": "display_data"
    }
   ],
   "execution_count": 134
  },
  {
   "metadata": {},
   "cell_type": "markdown",
   "source": [
    "### Day 12\n",
    " Array Sorting and Filtering\n",
    "\n",
    "The skill to sort arrays in ascending or descending order\n",
    "and filter arrays to include only elements that meet certain\n",
    "criteria is a useful skill for organizing data or identifying\n",
    "patterns in the data. These skills will be tested with the\n",
    "challenges below:"
   ],
   "id": "a11d326de135ebe7"
  },
  {
   "metadata": {
    "ExecuteTime": {
     "end_time": "2025-04-16T10:30:31.695633Z",
     "start_time": "2025-04-16T10:30:31.694119Z"
    }
   },
   "cell_type": "code",
   "source": "list1 = [[12, 34, 56], [12, 13, 8,], [6, 5, 10]]",
   "id": "249f8929018f3b11",
   "outputs": [],
   "execution_count": 135
  },
  {
   "metadata": {
    "ExecuteTime": {
     "end_time": "2025-04-16T10:30:31.706518Z",
     "start_time": "2025-04-16T10:30:31.704752Z"
    }
   },
   "cell_type": "code",
   "source": [
    "#Create an array using the list above. Write code to sort the array in ascending order: first sort by columns, then by rows. Create a new variable for each of the sorted arrays.\n",
    "\n",
    "array12 = np.array(list1)\n",
    "array12"
   ],
   "id": "2f92ba32f70d4a52",
   "outputs": [
    {
     "data": {
      "text/plain": [
       "array([[12, 34, 56],\n",
       "       [12, 13,  8],\n",
       "       [ 6,  5, 10]])"
      ]
     },
     "execution_count": 136,
     "metadata": {},
     "output_type": "execute_result"
    }
   ],
   "execution_count": 136
  },
  {
   "metadata": {
    "ExecuteTime": {
     "end_time": "2025-04-16T10:30:31.731283Z",
     "start_time": "2025-04-16T10:30:31.728899Z"
    }
   },
   "cell_type": "code",
   "source": [
    "sorted_array12_columns = np.sort(array12, axis=0) #By columns\n",
    "sorted_array12_columns\n"
   ],
   "id": "f5bf44a7b822ac57",
   "outputs": [
    {
     "data": {
      "text/plain": [
       "array([[ 6,  5,  8],\n",
       "       [12, 13, 10],\n",
       "       [12, 34, 56]])"
      ]
     },
     "execution_count": 137,
     "metadata": {},
     "output_type": "execute_result"
    }
   ],
   "execution_count": 137
  },
  {
   "metadata": {
    "ExecuteTime": {
     "end_time": "2025-04-16T10:30:31.805979Z",
     "start_time": "2025-04-16T10:30:31.804013Z"
    }
   },
   "cell_type": "code",
   "source": [
    "sorted_array12_rows = np.sort(array12, axis=1) #By columns\n",
    "sorted_array12_rows"
   ],
   "id": "43cf8df94e7502ca",
   "outputs": [
    {
     "data": {
      "text/plain": [
       "array([[12, 34, 56],\n",
       "       [ 8, 12, 13],\n",
       "       [ 5,  6, 10]])"
      ]
     },
     "execution_count": 138,
     "metadata": {},
     "output_type": "execute_result"
    }
   ],
   "execution_count": 138
  },
  {
   "metadata": {},
   "cell_type": "code",
   "outputs": [],
   "execution_count": null,
   "source": [
    "#Using NumPy slicing, write a code that slices these numbers in this order [8, 12, 56] from the array sorted by columns (question 1). Create a new variable.\n",
    "\n",
    "sliced_numbers = [sorted_array12_columns[0, 2], sorted_array12_columns[1, 0], sorted_array12_columns[2, 2]]\n",
    "sliced_numbers\n",
    "\n",
    "\n"
   ],
   "id": "bb53644397c9e560"
  },
  {
   "metadata": {
    "ExecuteTime": {
     "end_time": "2025-04-16T10:45:14.848467Z",
     "start_time": "2025-04-16T10:45:14.846031Z"
    }
   },
   "cell_type": "code",
   "source": [
    "\n",
    "#  Create a 2-dimensional array of random integers between 100 and -100 in the shape (3, 3). Use the np.where()function to replace all negative values in the array with 0. Use a seed to save the random numbers generated.\n",
    "\n",
    "np.random.seed(12)\n",
    "\n",
    "array12 = np.random.randint(-100, 100, size=(3, 3))\n",
    "\n",
    "array12 = np.where(array12 < 0, 0, array12)\n",
    "\n",
    "array12\n"
   ],
   "id": "d8ee3ca4b97a2116",
   "outputs": [
    {
     "data": {
      "text/plain": [
       "array([[ 0, 55, 34],\n",
       "       [30,  0, 95],\n",
       "       [ 0, 76,  0]])"
      ]
     },
     "execution_count": 143,
     "metadata": {},
     "output_type": "execute_result"
    }
   ],
   "execution_count": 143
  },
  {
   "metadata": {
    "ExecuteTime": {
     "end_time": "2025-04-16T10:49:35.150038Z",
     "start_time": "2025-04-16T10:49:35.147727Z"
    }
   },
   "cell_type": "code",
   "source": [
    "# Create an array from the list above. Using the np.unique() function, return the unique elements in the array and the counts of each unique element (how many times each element appears in the list).\n",
    "\n",
    "list1 = [[12, 23, 34, 34], [13, 13, 20, 21]]\n",
    "array = np.array(list1)\n",
    "\n",
    "# Get unique elements and their counts\n",
    "unique_elements, counts = np.unique(array, return_counts=True)\n",
    "unique_elements"
   ],
   "id": "158b6d6224d00127",
   "outputs": [
    {
     "data": {
      "text/plain": [
       "array([12, 13, 20, 21, 23, 34])"
      ]
     },
     "execution_count": 144,
     "metadata": {},
     "output_type": "execute_result"
    }
   ],
   "execution_count": 144
  },
  {
   "metadata": {
    "ExecuteTime": {
     "end_time": "2025-04-18T14:19:51.146798Z",
     "start_time": "2025-04-18T14:19:51.135486Z"
    }
   },
   "cell_type": "code",
   "source": [
    "#Using the np.flatten() function to flatten the nested array you created in question 4.\n",
    "\n",
    "flattened_array = new_array8.flatten()\n",
    "\n",
    "print(\"Flattened Array:\", flattened_array)"
   ],
   "id": "dd5ace6a86591983",
   "outputs": [
    {
     "name": "stdout",
     "output_type": "stream",
     "text": [
      "Flattened Array: [ 1  2  3  4  5  6  7  8  9 10 11 12 13 14 15]\n"
     ]
    }
   ],
   "execution_count": 145
  },
  {
   "metadata": {},
   "cell_type": "markdown",
   "source": [
    "### Day 13 Slicing and Analyzing Arrays\n",
    "\n",
    "In this challenge, your objective is to demonstrate your\n",
    "proficiency in creating arrays from lists and extracting\n",
    "specific information from those arrays. You have the\n",
    "following data:\n",
    "\n"
   ],
   "id": "4af7f39aea1efaa3"
  },
  {
   "metadata": {
    "ExecuteTime": {
     "end_time": "2025-04-18T14:43:20.411089Z",
     "start_time": "2025-04-18T14:43:20.408367Z"
    }
   },
   "cell_type": "code",
   "source": [
    "#Using the data above, create an array and transpose it. Thecreation of an array and transposition should be combined  into one code. The code should return a transposed array.\n",
    "names = [\"John\",\"Kelly\",\"Jos\",\"Peter\",\"Robert\",\"Piper\"]\n",
    "age = [21,21,56,44,56,96]\n",
    "gender = [\"m\",\"f\",\"m\",\"m\",\"m\",\"f\"]\n",
    "\n",
    "array13 = np.array([names,age,gender]).T\n",
    "array13"
   ],
   "id": "ea269b95055cc6d0",
   "outputs": [
    {
     "data": {
      "text/plain": [
       "array([['John', '21', 'm'],\n",
       "       ['Kelly', '21', 'f'],\n",
       "       ['Jos', '56', 'm'],\n",
       "       ['Peter', '44', 'm'],\n",
       "       ['Robert', '56', 'm'],\n",
       "       ['Piper', '96', 'f']], dtype='<U21')"
      ]
     },
     "execution_count": 147,
     "metadata": {},
     "output_type": "execute_result"
    }
   ],
   "execution_count": 147
  },
  {
   "metadata": {
    "ExecuteTime": {
     "end_time": "2025-04-18T14:46:29.937308Z",
     "start_time": "2025-04-18T14:46:29.934808Z"
    }
   },
   "cell_type": "code",
   "source": [
    "#Using slicing or indexing, write code to return the last row of the transposed array\n",
    "array13[5]"
   ],
   "id": "92b7f897660e096b",
   "outputs": [
    {
     "data": {
      "text/plain": [
       "array(['Piper', '96', 'f'], dtype='<U21')"
      ]
     },
     "execution_count": 151,
     "metadata": {},
     "output_type": "execute_result"
    }
   ],
   "execution_count": 151
  },
  {
   "metadata": {
    "ExecuteTime": {
     "end_time": "2025-04-18T14:49:06.173915Z",
     "start_time": "2025-04-18T14:49:06.171673Z"
    }
   },
   "cell_type": "code",
   "source": [
    "#Using slicing or indexing, write code to return the first two rows of the transposed array\n",
    "int(array13[3,1]) # Row 3 (Peter), Column 1 (Age)"
   ],
   "id": "2f55cdf965bc2175",
   "outputs": [
    {
     "data": {
      "text/plain": [
       "44"
      ]
     },
     "execution_count": 157,
     "metadata": {},
     "output_type": "execute_result"
    }
   ],
   "execution_count": 157
  },
  {
   "metadata": {
    "ExecuteTime": {
     "end_time": "2025-04-18T14:50:44.679239Z",
     "start_time": "2025-04-18T14:50:44.676924Z"
    }
   },
   "cell_type": "code",
   "source": [
    "#Write code to return an array of Kelly's age and gender using slicing\n",
    "array13[1,1:]"
   ],
   "id": "1931beb00ba5c612",
   "outputs": [
    {
     "data": {
      "text/plain": [
       "array(['21', 'f'], dtype='<U21')"
      ]
     },
     "execution_count": 159,
     "metadata": {},
     "output_type": "execute_result"
    }
   ],
   "execution_count": 159
  },
  {
   "metadata": {
    "ExecuteTime": {
     "end_time": "2025-04-18T14:51:23.643296Z",
     "start_time": "2025-04-18T14:51:23.575178Z"
    }
   },
   "cell_type": "code",
   "source": [
    "#One of the uses of slicing is for data visualization. Slicing is often used in data visualization to extract specific portions of a dataset for plotting. Write code to create a subarray of the ages (only ages) in the transposed array using slicing. Using Matplotlib, plot a histogram of the age array. Your graph should have an xlabel, an ylabel, and a title.\n",
    "\n",
    "# Slice the ages (column 1)\n",
    "ages = array13[:, 1].astype(int)\n",
    "\n",
    "# Plot the histogram\n",
    "plt.hist(ages, bins=5, color='skyblue', edgecolor='black')\n",
    "plt.xlabel(\"Age\")\n",
    "plt.ylabel(\"Frequency\")\n",
    "plt.title(\"Histogram of Ages\")\n",
    "plt.show()"
   ],
   "id": "cfc1202859b997fe",
   "outputs": [
    {
     "data": {
      "text/plain": [
       "<Figure size 640x480 with 1 Axes>"
      ],
      "image/png": "[encoded data removed]"
     },
     "metadata": {},
     "output_type": "display_data"
    }
   ],
   "execution_count": 160
  },
  {
   "metadata": {},
   "cell_type": "markdown",
   "source": [
    "### Day 14:\n",
    "\n",
    "Analyze Data with NumPy Part - 1\n",
    "\n",
    "You are given the following data, which is in list format:\n",
    "Your task is to analyze and obtain insights from this data\n",
    "using NumPy (do not use pandas). Your first task is to\n",
    "create one array from the three (3) lists. You will use this\n",
    "array to answer the questions that follow."
   ],
   "id": "46f40aede47178be"
  },
  {
   "metadata": {
    "ExecuteTime": {
     "end_time": "2025-04-22T15:16:06.045482Z",
     "start_time": "2025-04-22T15:16:06.037733Z"
    }
   },
   "cell_type": "code",
   "source": [
    "names = [\"Kelly\",\"Ben\",\"Jack\",\"Muhammad\",\"Jose\",\"Liz\"]\n",
    "grades = [45,65,75,35,85,40]\n",
    "clasess = [\"a\",\"c\",\"e\",\"g\",\"e\",\"f\"]"
   ],
   "id": "9cdafb5c500b82ca",
   "outputs": [],
   "execution_count": 161
  },
  {
   "metadata": {
    "ExecuteTime": {
     "end_time": "2025-04-22T15:28:02.515392Z",
     "start_time": "2025-04-22T15:28:02.513066Z"
    }
   },
   "cell_type": "code",
   "source": [
    "#Using NumPy, write code that returns all the names and the number of students from class \"e\" who got over 50 marks.\n",
    "names = np.array([\"Kelly\", \"Ben\", \"Jack\", \"Muhammad\", \"Jose\", \"Liz\"])\n",
    "grades = np.array([45, 65, 75, 35, 85, 40])\n",
    "clasess = np.array([\"a\", \"c\", \"e\", \"g\", \"e\", \"f\"])\n",
    "\n",
    "# Boolean indexing to filter students from class \"e\" with grades > 50\n",
    "filter_condition = (clasess == \"e\") & (grades > 50)\n",
    "filtered_names = names[filter_condition]\n",
    "number_of_students = np.sum(filter_condition)\n",
    "\n",
    "print(\"Nombres de los estudiantes:\", filtered_names)\n",
    "print(\"Número de estudiantes:\", number_of_students)"
   ],
   "id": "8c6f22b87eaf211f",
   "outputs": [
    {
     "name": "stdout",
     "output_type": "stream",
     "text": [
      "Nombres de los estudiantes: ['Jack' 'Jose']\n",
      "Número de estudiantes: 2\n"
     ]
    }
   ],
   "execution_count": 170
  },
  {
   "metadata": {
    "ExecuteTime": {
     "end_time": "2025-04-22T15:29:09.727829Z",
     "start_time": "2025-04-22T15:29:09.718670Z"
    }
   },
   "cell_type": "code",
   "source": [
    "#Your next task is to write a code that returns all the students who got less than 75 marks.\n",
    "filter_student = grades<75\n",
    "filter_names = names[filter_student]\n",
    "filter_names"
   ],
   "id": "24f6f8143ca1895e",
   "outputs": [
    {
     "data": {
      "text/plain": [
       "array(['Kelly', 'Ben', 'Muhammad', 'Liz'], dtype='<U8')"
      ]
     },
     "execution_count": 171,
     "metadata": {},
     "output_type": "execute_result"
    }
   ],
   "execution_count": 171
  },
  {
   "metadata": {
    "ExecuteTime": {
     "end_time": "2025-04-22T15:39:20.845216Z",
     "start_time": "2025-04-22T15:39:20.840344Z"
    }
   },
   "cell_type": "code",
   "source": [
    "#Write code that returns how many marks a student named Liz got\n",
    "# Find the index of the student named Liz\n",
    "liz_index = np.where(names == \"Liz\")[0][0]\n",
    "\n",
    "# Get the marks of Liz using the index\n",
    "liz_marks = grades[liz_index]\n",
    "\n",
    "print(\"Marks obtained by Liz:\", liz_marks)"
   ],
   "id": "cef5377e48a20941",
   "outputs": [
    {
     "name": "stdout",
     "output_type": "stream",
     "text": [
      "Marks obtained by Liz: 40\n"
     ]
    }
   ],
   "execution_count": 172
  },
  {
   "metadata": {
    "ExecuteTime": {
     "end_time": "2025-04-22T15:40:23.001992Z",
     "start_time": "2025-04-22T15:40:22.999740Z"
    }
   },
   "cell_type": "code",
   "source": [
    "#Which student got the highest marks?\n",
    "highest_marks_index=np.argmax(grades)\n",
    "\n",
    "student_with_highest_marks = names[highest_marks_index]\n",
    "\n",
    "print(\"Student with the highest marks:\", student_with_highest_marks)"
   ],
   "id": "9caa99506101d4ec",
   "outputs": [
    {
     "name": "stdout",
     "output_type": "stream",
     "text": [
      "Student with the highest marks: Jose\n"
     ]
    }
   ],
   "execution_count": 174
  },
  {
   "metadata": {
    "ExecuteTime": {
     "end_time": "2025-04-22T15:41:29.574579Z",
     "start_time": "2025-04-22T15:41:29.572218Z"
    }
   },
   "cell_type": "code",
   "source": [
    "#What is the longest name in the array, and what is its index?\n",
    "longest_name = max(names, key=len)\n",
    "longest_name_index = np.where(names == longest_name)[0][0]\n",
    "\n",
    "print(\"Longest name:\", longest_name)\n",
    "print(\"Index of the longest name:\", longest_name_index)"
   ],
   "id": "2933a13f7241c16e",
   "outputs": [
    {
     "name": "stdout",
     "output_type": "stream",
     "text": [
      "Longest name: Muhammad\n",
      "Index of the longest name: 3\n"
     ]
    }
   ],
   "execution_count": 175
  },
  {
   "metadata": {},
   "cell_type": "markdown",
   "source": [
    "### Day 15\n",
    "Analyse Data with NumPy Part - 2\n",
    "\n",
    "For this challenge, you are going to work with the data\n",
    "below. You are going to use NumPy functionality to answer\n",
    "questions using this data. This challenge will test your\n",
    "ability to use slicing to extract specific columns or rows of\n",
    "the data and perform operations on them. You will import\n",
    "a CSV file called names_age_sex_data."
   ],
   "id": "bc624c1fa5e3a2e8"
  },
  {
   "metadata": {
    "ExecuteTime": {
     "end_time": "2025-04-22T17:49:39.581520Z",
     "start_time": "2025-04-22T17:49:39.578772Z"
    }
   },
   "cell_type": "code",
   "source": [
    "array15 = np.array([\n",
    "    ['Name', 'Sex', 'Age'],\n",
    "    ['Grace', 'Male', '18'],\n",
    "    ['Charlie', 'Female', '60'],\n",
    "    ['Olivia', 'Female', '27'],\n",
    "    ['Frank', 'Male', '55']\n",
    "])\n",
    "array15"
   ],
   "id": "7e63f244569367f8",
   "outputs": [
    {
     "data": {
      "text/plain": [
       "array([['Name', 'Sex', 'Age'],\n",
       "       ['Grace', 'Male', '18'],\n",
       "       ['Charlie', 'Female', '60'],\n",
       "       ['Olivia', 'Female', '27'],\n",
       "       ['Frank', 'Male', '55']], dtype='<U7')"
      ]
     },
     "execution_count": 182,
     "metadata": {},
     "output_type": "execute_result"
    }
   ],
   "execution_count": 182
  },
  {
   "metadata": {
    "ExecuteTime": {
     "end_time": "2025-04-22T17:50:16.085090Z",
     "start_time": "2025-04-22T17:50:16.083064Z"
    }
   },
   "cell_type": "code",
   "source": [
    "array15_transpose = array15.T\n",
    "array15_transpose"
   ],
   "id": "23d32bc87f71d2cd",
   "outputs": [
    {
     "data": {
      "text/plain": [
       "array([['Name', 'Grace', 'Charlie', 'Olivia', 'Frank'],\n",
       "       ['Sex', 'Male', 'Female', 'Female', 'Male'],\n",
       "       ['Age', '18', '60', '27', '55']], dtype='<U7')"
      ]
     },
     "execution_count": 185,
     "metadata": {},
     "output_type": "execute_result"
    }
   ],
   "execution_count": 185
  },
  {
   "metadata": {
    "ExecuteTime": {
     "end_time": "2025-04-22T17:51:05.618970Z",
     "start_time": "2025-04-22T17:51:05.616806Z"
    }
   },
   "cell_type": "code",
   "source": [
    "#Using slicing, create three arrays: an array of all the names in the column, an array of the age column,and an array of the gender (sex) column\n",
    "\n",
    "names = array15[1:, 0]  # All rows except the header, column 0\n",
    "ages = array15[1:, 2]   # All rows except the header, column 2\n",
    "genders = array15[1:, 1]  # All rows except the header, column 1\n",
    "\n",
    "print(\"Names:\", names)\n",
    "print(\"Ages:\", ages)\n",
    "print(\"Genders:\", genders)"
   ],
   "id": "a5e9497cb5959a3a",
   "outputs": [
    {
     "name": "stdout",
     "output_type": "stream",
     "text": [
      "Names: ['Grace' 'Charlie' 'Olivia' 'Frank']\n",
      "Ages: ['18' '60' '27' '55']\n",
      "Genders: ['Male' 'Female' 'Female' 'Male']\n"
     ]
    }
   ],
   "execution_count": 187
  },
  {
   "metadata": {
    "ExecuteTime": {
     "end_time": "2025-04-22T17:51:32.530536Z",
     "start_time": "2025-04-22T17:51:32.528661Z"
    }
   },
   "cell_type": "code",
   "source": [
    "#Using NumPy, write code that returns all the names of people who are 56 years old.\n",
    "age_filter = array15[1:, 2] == '56'\n",
    "names_56_years_old = array15[1:, 0][age_filter]\n",
    "\n",
    "print(\"Names of people who are 56 years old:\", names_56_years_old)"
   ],
   "id": "1c34436c37585f1b",
   "outputs": [
    {
     "name": "stdout",
     "output_type": "stream",
     "text": [
      "Names of people who are 56 years old: []\n"
     ]
    }
   ],
   "execution_count": 188
  },
  {
   "metadata": {
    "ExecuteTime": {
     "end_time": "2025-04-22T17:52:09.065709Z",
     "start_time": "2025-04-22T17:52:09.063677Z"
    }
   },
   "cell_type": "code",
   "source": [
    "# How many people are aged 44 or under?\n",
    "ages = array15[1:, 2].astype(int)\n",
    "\n",
    "# Filter ages 44 or under and count them\n",
    "count_44_or_under = np.sum(ages <= 44)\n",
    "\n",
    "print(\"Number of people aged 44 or under:\", count_44_or_under)"
   ],
   "id": "f9853ae93cd1bb10",
   "outputs": [
    {
     "name": "stdout",
     "output_type": "stream",
     "text": [
      "Number of people aged 44 or under: 2\n"
     ]
    }
   ],
   "execution_count": 189
  },
  {
   "metadata": {
    "ExecuteTime": {
     "end_time": "2025-04-22T17:52:42.070581Z",
     "start_time": "2025-04-22T17:52:42.068673Z"
    }
   },
   "cell_type": "code",
   "source": [
    "# Write another code snippet to return an array of all the males in the dataset. How many males are in the dataset?\n",
    "male_filter = array15[1:, 1] == 'Male'\n",
    "males = array15[1:, 0][male_filter]\n",
    "\n",
    "# Count the number of males\n",
    "male_count = np.sum(male_filter)\n",
    "\n",
    "print(\"Array of all males:\", males)\n",
    "print(\"Number of males in the dataset:\", male_count)"
   ],
   "id": "d1b51949eff1b150",
   "outputs": [
    {
     "name": "stdout",
     "output_type": "stream",
     "text": [
      "Array of all males: ['Grace' 'Frank']\n",
      "Number of males in the dataset: 2\n"
     ]
    }
   ],
   "execution_count": 191
  },
  {
   "metadata": {
    "ExecuteTime": {
     "end_time": "2025-04-22T17:53:02.337703Z",
     "start_time": "2025-04-22T17:53:02.335029Z"
    }
   },
   "cell_type": "code",
   "source": [
    "#Calculate the average age of all the females in the table.\n",
    "female_filter = array15[1:, 1] == 'Female'\n",
    "female_ages = array15[1:, 2][female_filter].astype(int)\n",
    "\n",
    "# Calculate the average age\n",
    "average_female_age = np.mean(female_ages)\n",
    "\n",
    "print(\"Average age of all females:\", average_female_age)"
   ],
   "id": "2286d21fc1e1f8fe",
   "outputs": [
    {
     "name": "stdout",
     "output_type": "stream",
     "text": [
      "Average age of all females: 43.5\n"
     ]
    }
   ],
   "execution_count": 192
  },
  {
   "metadata": {
    "ExecuteTime": {
     "end_time": "2025-04-22T17:53:25.053609Z",
     "start_time": "2025-04-22T17:53:25.050965Z"
    }
   },
   "cell_type": "code",
   "source": [
    "# Calculate the average age of people named Olivia and Kate\n",
    "name_filter = np.isin(array15[1:, 0], ['Olivia', 'Kate'])\n",
    "filtered_ages = array15[1:, 2][name_filter].astype(int)\n",
    "\n",
    "# Calculate the average age\n",
    "if filtered_ages.size > 0:\n",
    "    average_age = np.mean(filtered_ages)\n",
    "    print(\"Average age of people named Olivia and Kate:\", average_age)\n",
    "else:\n",
    "    print(\"No data available for people named Olivia and Kate.\")"
   ],
   "id": "d185e434a9e0d9d1",
   "outputs": [
    {
     "name": "stdout",
     "output_type": "stream",
     "text": [
      "Average age of people named Olivia and Kate: 27.0\n"
     ]
    }
   ],
   "execution_count": 193
  },
  {
   "metadata": {},
   "cell_type": "code",
   "outputs": [],
   "execution_count": null,
   "source": "",
   "id": "fa9ad10471d081f8"
  }
 ],
 "metadata": {
  "kernelspec": {
   "display_name": "Python 3",
   "language": "python",
   "name": "python3"
  },
  "language_info": {
   "codemirror_mode": {
    "name": "ipython",
    "version": 2
   },
   "file_extension": ".py",
   "mimetype": "text/x-python",
   "name": "python",
   "nbconvert_exporter": "python",
   "pygments_lexer": "ipython2",
   "version": "2.7.6"
  }
 },
 "nbformat": 4,
 "nbformat_minor": 5
}
